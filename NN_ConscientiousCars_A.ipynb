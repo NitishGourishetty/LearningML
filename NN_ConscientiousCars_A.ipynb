{
  "nbformat": 4,
  "nbformat_minor": 0,
  "metadata": {
    "colab": {
      "provenance": []
    },
    "kernelspec": {
      "name": "python3",
      "display_name": "Python 3"
    },
    "accelerator": "GPU"
  },
  "cells": [
    {
      "cell_type": "markdown",
      "metadata": {
        "id": "TiM6gYg0nhkY"
      },
      "source": [
        "<font color=\"#de3023\"><h1><b>MAKE A COPY OF THIS NOTEBOOK SO YOUR EDITS ARE SAVED</b></h1></font>"
      ]
    },
    {
      "cell_type": "markdown",
      "metadata": {
        "id": "Sq-JhCcLpBwS"
      },
      "source": [
        "\n",
        "We work for CC: ConscientiousCars, where we help self-driving vehicles be more conscientious of their surroundings. Our cars have been very good at recognizing and avoiding humans. They haven't, however, been capable of recognizing dogs. Since dogs are man's best friend and will always be where we humans are, we want our cars to know if a dog is on the road in front of them and avoid the dog!\n",
        "\n",
        "The first step to avoiding these cute puppies is **knowing if a puppy is in front of the car**. So today we will **build a detector that can tell when our car sees a dog or not**!\n",
        "\n"
      ]
    },
    {
      "cell_type": "code",
      "metadata": {
        "id": "uhNVum16scIW"
      },
      "source": [
        "#@title Run this to load some packages and data! { display-mode: \"form\" }\n",
        "from sklearn.neural_network import MLPClassifier\n",
        "from sklearn.neighbors import KNeighborsClassifier\n",
        "from sklearn import model_selection\n",
        "from sklearn.metrics import accuracy_score\n",
        "from collections import Counter\n",
        "import tensorflow.keras as keras\n",
        "from keras.models import Sequential\n",
        "from keras.layers import Dense, Conv2D\n",
        "from keras.layers import Activation, MaxPooling2D, Dropout, Flatten, Reshape\n",
        "from keras.wrappers.scikit_learn import KerasClassifier\n",
        "from sklearn.model_selection import StratifiedKFold\n",
        "from sklearn.model_selection import cross_val_score\n",
        "import numpy as np\n",
        "import pandas as pd\n",
        "import seaborn as sns\n",
        "import matplotlib.pyplot as plt\n",
        "\n",
        "import warnings\n",
        "warnings.filterwarnings(\"ignore\", category=UserWarning)\n",
        "\n",
        "\n",
        "def categorical_to_numpy(labels_in):\n",
        "  labels = []\n",
        "  for label in labels_in:\n",
        "    if label == 'dog':\n",
        "      labels.append(np.array([1, 0]))\n",
        "    else:\n",
        "      labels.append(np.array([0, 1]))\n",
        "  return np.array(labels)\n",
        "\n",
        "def one_hot_encoding(input):\n",
        "  output = np.array(input)\n",
        "  output = np.zeros((input.size, input.max()+1))\n",
        "  output[np.arange(input.size),input] = 1\n",
        "  \n",
        "  return output\n",
        "\n",
        "\n",
        "def load_data():\n",
        "  # Run this cell to download our data into a file called 'cifar_data'\n",
        "  !wget -O cifar_data https://storage.googleapis.com/inspirit-ai-data-bucket-1/Data/AI%20Scholars/Sessions%201%20-%205/Session%204%20_%205%20-%20Neural%20Networks%20_%20CNN/dogs_v_roads\n",
        "\n",
        "  # now load the data from our cloud computer\n",
        "  import pickle\n",
        "  data_dict = pickle.load(open( \"cifar_data\", \"rb\" ));\n",
        "  \n",
        "  data   = data_dict['data']\n",
        "  labels = data_dict['labels']\n",
        "  \n",
        "  return data, labels\n",
        "\n",
        "def plot_one_image(data, labels, img_idx):\n",
        "  from google.colab.patches import cv2_imshow\n",
        "  import cv2\n",
        "  import matplotlib.pyplot as plt\n",
        "  my_img   = data[img_idx, :].squeeze().reshape([32,32,3]).copy()\n",
        "  my_label = labels[img_idx]\n",
        "  print('label: %s'%my_label)\n",
        "  fig, ax = plt.subplots(1,1)\n",
        "\n",
        "  img = ax.imshow(my_img, extent=[-1,1,-1,1])\n",
        "\n",
        "  x_label_list = [0, 8, 16, 24, 32]\n",
        "  y_label_list = [0, 8, 16, 24, 32]\n",
        "\n",
        "  ax.set_xticks([-1, -0.5, 0, 0.5, 1])\n",
        "  ax.set_yticks([-1, -0.5, 0, 0.5, 1])\n",
        "\n",
        "  ax.set_xticklabels(x_label_list)\n",
        "  ax.set_yticklabels(y_label_list)\n",
        "\n",
        "  fig.show(img)\n",
        "  \n",
        "def CNNClassifier(num_epochs=30, layers=4, dropout=0.5):\n",
        "  def create_model():\n",
        "    model = Sequential()\n",
        "    model.add(Reshape((32, 32, 3)))\n",
        "    \n",
        "    for i in range(layers):\n",
        "      model.add(Conv2D(32, (3, 3), padding='same'))\n",
        "      model.add(Activation('relu'))\n",
        "    \n",
        "    model.add(Conv2D(32, (3, 3)))\n",
        "    model.add(Activation('relu'))\n",
        "    model.add(MaxPooling2D(pool_size=(2, 2)))\n",
        "    model.add(Dropout(dropout))\n",
        "\n",
        "    model.add(Conv2D(64, (3, 3), padding='same'))\n",
        "    model.add(Activation('relu'))\n",
        "    model.add(Conv2D(64, (3, 3)))\n",
        "    model.add(Activation('relu'))\n",
        "    model.add(MaxPooling2D(pool_size=(2, 2)))\n",
        "    model.add(Dropout(dropout))\n",
        "\n",
        "    model.add(Flatten())\n",
        "    model.add(Dense(512))\n",
        "    model.add(Activation('relu'))\n",
        "    model.add(Dropout(dropout))\n",
        "    model.add(Dense(2))\n",
        "    model.add(Activation('softmax'))\n",
        "\n",
        "    # initiate RMSprop optimizer\n",
        "    opt = keras.optimizers.RMSprop(learning_rate=0.0001, decay=1e-6)\n",
        "\n",
        "    # Let's train the model using RMSprop\n",
        "    model.compile(loss='categorical_crossentropy',\n",
        "                  optimizer=opt,\n",
        "                  metrics=['accuracy'])\n",
        "    return model\n",
        "  return KerasClassifier(build_fn=create_model, epochs=num_epochs, batch_size=10, verbose=2)\n",
        "\n",
        "def plot_acc(history, ax = None, xlabel = 'Epoch #'):\n",
        "    history = history.history\n",
        "    history.update({'epoch':list(range(len(history['val_accuracy'])))})\n",
        "    history = pd.DataFrame.from_dict(history)\n",
        "\n",
        "    best_epoch = history.sort_values(by = 'val_accuracy', ascending = False).iloc[0]['epoch']\n",
        "\n",
        "    if not ax:\n",
        "      f, ax = plt.subplots(1,1)\n",
        "    sns.lineplot(x = 'epoch', y = 'val_accuracy', data = history, label = 'Validation', ax = ax)\n",
        "    sns.lineplot(x = 'epoch', y = 'accuracy', data = history, label = 'Training', ax = ax)\n",
        "    ax.axhline(0.5, linestyle = '--',color='red', label = 'Chance')\n",
        "    ax.axvline(x = best_epoch, linestyle = '--', color = 'green', label = 'Best Epoch')  \n",
        "    ax.legend(loc = 7)    \n",
        "    ax.set_ylim([0.4, 1])\n",
        "\n",
        "    ax.set_xlabel(xlabel)\n",
        "    ax.set_ylabel('Accuracy (Fraction)')\n",
        "    \n",
        "    plt.show()"
      ],
      "execution_count": null,
      "outputs": []
    },
    {
      "cell_type": "markdown",
      "metadata": {
        "id": "EsGDD5lvQoBZ"
      },
      "source": [
        "In this notebook, you'll:\n",
        "- Explore the cars vs. roads dataset\n",
        "- Train a simple K-neighbors classifier for computer vision\n",
        "- Train neural nets to tell dogs from roads\n",
        "- Improve your model with convolutional neural networks!\n",
        "- (Optional challenge) Use a saliency map to implement explainable AI"
      ]
    },
    {
      "cell_type": "markdown",
      "metadata": {
        "id": "1QxGsnvhnn8R"
      },
      "source": [
        "# Understanding our data"
      ]
    },
    {
      "cell_type": "markdown",
      "metadata": {
        "id": "btr24O6Hqgo6"
      },
      "source": [
        "Our cars are very attentive and always have their eyes on the road.\n",
        "\n",
        "Every second, they're streaming in data about the street, including video.\n",
        "\n",
        "From this video data, we want our car to tell: is there 'road' or 'dog' in front of it?\n",
        "\n",
        "Lucky for us, we have a dataset of dog and road images already prepared! Let's start by reading that *labeled* data in. \n"
      ]
    },
    {
      "cell_type": "code",
      "metadata": {
        "id": "MmZbrZoKnthN",
        "colab": {
          "base_uri": "https://localhost:8080/"
        },
        "outputId": "addf06b2-0e25-4d39-c30b-f06590ea2785"
      },
      "source": [
        "# load our data \n",
        "data, labels = load_data()"
      ],
      "execution_count": null,
      "outputs": [
        {
          "output_type": "stream",
          "name": "stdout",
          "text": [
            "--2022-06-09 21:43:10--  https://storage.googleapis.com/inspirit-ai-data-bucket-1/Data/AI%20Scholars/Sessions%201%20-%205/Session%204%20_%205%20-%20Neural%20Networks%20_%20CNN/dogs_v_roads\n",
            "Resolving storage.googleapis.com (storage.googleapis.com)... 172.217.204.128, 172.217.203.128, 172.253.123.128, ...\n",
            "Connecting to storage.googleapis.com (storage.googleapis.com)|172.217.204.128|:443... connected.\n",
            "HTTP request sent, awaiting response... 200 OK\n",
            "Length: 3689015 (3.5M) [application/octet-stream]\n",
            "Saving to: ‘cifar_data’\n",
            "\n",
            "\rcifar_data            0%[                    ]       0  --.-KB/s               \rcifar_data          100%[===================>]   3.52M  --.-KB/s    in 0.01s   \n",
            "\n",
            "2022-06-09 21:43:10 (240 MB/s) - ‘cifar_data’ saved [3689015/3689015]\n",
            "\n"
          ]
        }
      ]
    },
    {
      "cell_type": "markdown",
      "metadata": {
        "id": "AGO0FFnqdFne"
      },
      "source": [
        "Let's look at an image of a dog!\n",
        "\n",
        "Try changing the number below. What does it do?\n",
        "\n"
      ]
    },
    {
      "cell_type": "code",
      "metadata": {
        "id": "csXB_FPMrx1D",
        "colab": {
          "base_uri": "https://localhost:8080/",
          "height": 286
        },
        "outputId": "50ef8345-d6ad-4a90-ca44-74d43208a370"
      },
      "source": [
        "plot_one_image(data, labels, 0) #change this number"
      ],
      "execution_count": null,
      "outputs": [
        {
          "output_type": "stream",
          "name": "stdout",
          "text": [
            "label: dog\n"
          ]
        },
        {
          "output_type": "display_data",
          "data": {
            "text/plain": [
              "<Figure size 432x288 with 1 Axes>"
            ],
            "image/png": "[encoded data removed]"
          },
          "metadata": {
            "needs_background": "light"
          }
        }
      ]
    },
    {
      "cell_type": "markdown",
      "metadata": {
        "id": "ZYRzHTxVdSTG"
      },
      "source": [
        "**Discuss:** Why might we be using such blurry images?\n",
        "\n",
        "Next, let's try a road image. Again, try changing the number:"
      ]
    },
    {
      "cell_type": "code",
      "metadata": {
        "id": "CsRj6BAqs25Y",
        "colab": {
          "base_uri": "https://localhost:8080/",
          "height": 286
        },
        "outputId": "95c41cce-5aff-492e-c238-fd2090b5c8f1"
      },
      "source": [
        "plot_one_image(data, labels, 700) #change this number"
      ],
      "execution_count": null,
      "outputs": [
        {
          "output_type": "stream",
          "name": "stdout",
          "text": [
            "label: road\n"
          ]
        },
        {
          "output_type": "display_data",
          "data": {
            "text/plain": [
              "<Figure size 432x288 with 1 Axes>"
            ],
            "image/png": "[encoded data removed]"
          },
          "metadata": {
            "needs_background": "light"
          }
        }
      ]
    },
    {
      "cell_type": "markdown",
      "metadata": {
        "id": "r0Qx4UYxdbTK"
      },
      "source": [
        "How many images do we have?"
      ]
    },
    {
      "cell_type": "code",
      "metadata": {
        "id": "6LQXCiGmAmz-",
        "colab": {
          "base_uri": "https://localhost:8080/"
        },
        "outputId": "3198def2-f1dc-4179-fef8-6c2cc1f70286"
      },
      "source": [
        "print (len(data))\n",
        "print(Counter(labels))"
      ],
      "execution_count": null,
      "outputs": [
        {
          "output_type": "stream",
          "name": "stdout",
          "text": [
            "1200\n",
            "Counter({'dog': 600, 'road': 600})\n"
          ]
        }
      ]
    },
    {
      "cell_type": "markdown",
      "metadata": {
        "id": "OojOPMbLAl2B"
      },
      "source": [
        "The dataset is organized such that there are 600 images of dogs and 600 images of roads."
      ]
    },
    {
      "cell_type": "markdown",
      "metadata": {
        "id": "9Sz2c5LlU7Sj"
      },
      "source": [
        "#### Optional Exercise: Examining More Images\n",
        "\n",
        "**Look at a few more images of both classes.** \n",
        "\n",
        "Try using a `for` loop to look at 5 images!"
      ]
    },
    {
      "cell_type": "code",
      "metadata": {
        "id": "DkcqdB2ZVoNc",
        "colab": {
          "base_uri": "https://localhost:8080/",
          "height": 1000
        },
        "outputId": "a5a0d0df-4a85-4013-c21d-00a28a84d380"
      },
      "source": [
        "### YOUR CODE HERE\n",
        "for i in range(5):\n",
        "  plot_one_image(data, labels, i)\n",
        "### END CODE"
      ],
      "execution_count": null,
      "outputs": [
        {
          "output_type": "stream",
          "name": "stdout",
          "text": [
            "label: dog\n",
            "label: dog\n",
            "label: dog\n",
            "label: dog\n",
            "label: dog\n"
          ]
        },
        {
          "output_type": "display_data",
          "data": {
            "text/plain": [
              "<Figure size 432x288 with 1 Axes>"
            ],
            "image/png": "[encoded data removed]"
          },
          "metadata": {
            "needs_background": "light"
          }
        },
        {
          "output_type": "display_data",
          "data": {
            "text/plain": [
              "<Figure size 432x288 with 1 Axes>"
            ],
            "image/png": "[encoded data removed]"
          },
          "metadata": {
            "needs_background": "light"
          }
        },
        {
          "output_type": "display_data",
          "data": {
            "text/plain": [
              "<Figure size 432x288 with 1 Axes>"
            ],
            "image/png": "[encoded data removed]"
          },
          "metadata": {
            "needs_background": "light"
          }
        },
        {
          "output_type": "display_data",
          "data": {
            "text/plain": [
              "<Figure size 432x288 with 1 Axes>"
            ],
            "image/png": "[encoded data removed]"
          },
          "metadata": {
            "needs_background": "light"
          }
        },
        {
          "output_type": "display_data",
          "data": {
            "text/plain": [
              "<Figure size 432x288 with 1 Axes>"
            ],
            "image/png": "[encoded data removed]"
          },
          "metadata": {
            "needs_background": "light"
          }
        }
      ]
    },
    {
      "cell_type": "markdown",
      "metadata": {
        "id": "PHS0E_3wt0RS"
      },
      "source": [
        "##Understanding our Data Representation\n",
        "\n",
        "In an image each pixel is denoted by 3 numbers that represent the intensity value of that pixel (0 - 255) for each color channel (R, G, and B). Below we \n",
        "see a list of numbers for each image that represent the intensity values. \n"
      ]
    },
    {
      "cell_type": "code",
      "metadata": {
        "id": "DlgF6jWit9jz",
        "colab": {
          "base_uri": "https://localhost:8080/"
        },
        "outputId": "60fbf3a0-4489-4f1e-8906-54e57ce51067"
      },
      "source": [
        "print('One image looks like: ')\n",
        "print(data[0])\n",
        "print(\"Length of list: \", len(data[0]))"
      ],
      "execution_count": null,
      "outputs": [
        {
          "output_type": "stream",
          "name": "stdout",
          "text": [
            "One image looks like: \n",
            "[45 20 19 ... 83 99 31]\n",
            "Length of list:  3072\n"
          ]
        }
      ]
    },
    {
      "cell_type": "markdown",
      "metadata": {
        "id": "gPu7IDsZU_On"
      },
      "source": [
        "**Discuss:** What does each number mean? Can you explain the length of the list?"
      ]
    },
    {
      "cell_type": "code",
      "metadata": {
        "id": "YWBX6fWUui4R",
        "cellView": "form",
        "colab": {
          "base_uri": "https://localhost:8080/"
        },
        "outputId": "5902bed4-12a7-44d4-df27-c8137b899942"
      },
      "source": [
        "#@title Exercise: Fill in the correct values for each image's height, width, and number of color channels:\n",
        "\n",
        "img_height =  32#@param {type:\"integer\"}\n",
        "img_width =  32#@param {type:\"integer\"}\n",
        "color_channels =  3#@param {type:\"integer\"}\n",
        "\n",
        "if img_height == 32 and img_width == 32 and color_channels == 3:\n",
        "  print(\"Correct!\")\n",
        "  print (\"Each image is\", img_height, 'x', img_width, 'pixels.')\n",
        "  print (\"Each pixel has\", color_channels, \"channels for red, green, blue.\")\n",
        "  print (\"This gives a total of\", img_height * img_width * color_channels, \"intensity values per image.\")\n",
        "else:\n",
        "  print(\"Those aren't quite the values.\")\n",
        "  print(\"Your values give a total of\", img_height * img_width * color_channels, \"intensity values per image.\") \n",
        "  print(\"Discuss with your group and try again!\")\n",
        "\n"
      ],
      "execution_count": null,
      "outputs": [
        {
          "output_type": "stream",
          "name": "stdout",
          "text": [
            "Correct!\n",
            "Each image is 32 x 32 pixels.\n",
            "Each pixel has 3 channels for red, green, blue.\n",
            "This gives a total of 3072 intensity values per image.\n"
          ]
        }
      ]
    },
    {
      "cell_type": "markdown",
      "metadata": {
        "id": "-haNvnOwt-YE"
      },
      "source": [
        "We use these values as **inputs** to predict an **output** label: 'dog' or 'road'!\n",
        "\n",
        "Here's what our entire dataset looks like:"
      ]
    },
    {
      "cell_type": "code",
      "metadata": {
        "id": "JZIiCuBrvS6z",
        "colab": {
          "base_uri": "https://localhost:8080/"
        },
        "outputId": "ab4b34d1-c2bf-4aaa-ba02-b61d6d20273a"
      },
      "source": [
        "print ('Data shape:', data.shape)\n",
        "print ('Data:', data)"
      ],
      "execution_count": null,
      "outputs": [
        {
          "output_type": "stream",
          "name": "stdout",
          "text": [
            "Data shape: (1200, 3072)\n",
            "Data: [[ 45  20  19 ...  83  99  31]\n",
            " [101 114  35 ... 155 134  91]\n",
            " [213 221 221 ... 139  58  47]\n",
            " ...\n",
            " [126 174 202 ... 124 128 129]\n",
            " [191 232 240 ...  74  93  81]\n",
            " [237 248 254 ...  45  56  10]]\n"
          ]
        }
      ]
    },
    {
      "cell_type": "markdown",
      "metadata": {
        "id": "tUjr5CKnhvtg"
      },
      "source": [
        "#A Simple Machine Learner"
      ]
    },
    {
      "cell_type": "markdown",
      "metadata": {
        "id": "hPskDCqlzOEE"
      },
      "source": [
        "We want to create a machine learning model that can tell us whether a new image is either a dog or a road.\n",
        "\n",
        "We will give our model a training manual of data and labels that it will study or train on.\n",
        "\n",
        "We then check how well our model is doing on a test, where it is given data and told to predict their labels.\n"
      ]
    },
    {
      "cell_type": "markdown",
      "metadata": {
        "id": "S0tDoNWFVVYB"
      },
      "source": [
        "##Building a KNN##"
      ]
    },
    {
      "cell_type": "markdown",
      "metadata": {
        "id": "Q8_JZ9PVzKzr"
      },
      "source": [
        "Let's start by using the `KNeighborsClassifier` model.\n",
        "\n",
        "**Playground:** Explore [this demo](http://vision.stanford.edu/teaching/cs231n-demos/knn/) to understand what the KNN model is doing! \n",
        "\n",
        "**Exercise:** Below, please build, train, and measure the accuracy of your own KNN model. Experiment with changing the number of neighbors!\n"
      ]
    },
    {
      "cell_type": "code",
      "metadata": {
        "id": "ZFOgS2VEyTkH",
        "colab": {
          "base_uri": "https://localhost:8080/"
        },
        "outputId": "cbf59afc-253c-4714-eb2f-302c5f22385d"
      },
      "source": [
        "X_train, X_test, y_train, y_test = model_selection.train_test_split(data, labels, test_size=0.2, random_state=1)\n",
        "### YOUR CODE HERE\n",
        "\n",
        "# Initialize our model\n",
        "knn_model = KNeighborsClassifier(n_neighbors=3) # Change this!\n",
        "\n",
        "# Train our model\n",
        "knn_model.fit(X_train, y_train)\n",
        "# Test our model\n",
        "y_pred = knn_model.predict(X_test)\n",
        "# Print the score on the testing data\n",
        "print(accuracy_score(y_test, y_pred))\n",
        "### END CODE"
      ],
      "execution_count": null,
      "outputs": [
        {
          "output_type": "stream",
          "name": "stdout",
          "text": [
            "0.8\n"
          ]
        }
      ]
    },
    {
      "cell_type": "markdown",
      "metadata": {
        "id": "x1ZgBtyIHYr7"
      },
      "source": [
        "**(Optional):** After you've built your KNN model, remove ```random_state=1``` and re-run the cells above. How does removing ```random_state=1``` affect your accuracy? Why?"
      ]
    },
    {
      "cell_type": "markdown",
      "metadata": {
        "id": "uU48O9l18_-C"
      },
      "source": [
        "##Predicting on images\n",
        "\n",
        "We can use our trained model to predict whether our car is seeing a `dog` or `road`. Let's try this out - experiment with different images!\n"
      ]
    },
    {
      "cell_type": "code",
      "metadata": {
        "id": "Az1_moLl9E0B",
        "colab": {
          "base_uri": "https://localhost:8080/",
          "height": 304
        },
        "outputId": "68194c13-7350-4262-b618-c01627d89a5b"
      },
      "source": [
        "# Specify which image you want to show\n",
        "image_id = 100 #Change this!\n",
        "\n",
        "# Visualize the image\n",
        "plot_one_image(X_test, y_test, image_id)\n",
        "\n",
        "# Use the model to predict what this might be and print it\n",
        "print('prediction:', knn_model.predict([X_test[image_id]])[0])"
      ],
      "execution_count": null,
      "outputs": [
        {
          "output_type": "stream",
          "name": "stdout",
          "text": [
            "label: road\n",
            "prediction: road\n"
          ]
        },
        {
          "output_type": "display_data",
          "data": {
            "text/plain": [
              "<Figure size 432x288 with 1 Axes>"
            ],
            "image/png": "[encoded data removed]"
          },
          "metadata": {
            "needs_background": "light"
          }
        }
      ]
    },
    {
      "cell_type": "markdown",
      "metadata": {
        "id": "4oW_Wb-1CTfB"
      },
      "source": [
        "## Choosing a value of k\n",
        "\n",
        "**Exercise** Determine the optimal value of \"K\" for our data. Use a for-loop to loop through different values of \"K\". In particular, *at the very least* try K = 1, 3, 5, 10, 20, and 30. For each of these values of \"K\", define a new KNN model, train it, and evaluate the accuracy."
      ]
    },
    {
      "cell_type": "code",
      "metadata": {
        "id": "OrZK_qoAZOAd",
        "colab": {
          "base_uri": "https://localhost:8080/"
        },
        "outputId": "00b19c1b-7424-4f97-c8ff-952ba87a87e1"
      },
      "source": [
        "### YOUR CODE HERE\n",
        "for i in [1, 3, 5, 10, 20, 30]:\n",
        "  knn_model = KNeighborsClassifier(n_neighbors=i) # Change this!\n",
        "  knn_model.fit(X_train, y_train)\n",
        "  y_pred = knn_model.predict(X_test)\n",
        "  print(i, 'accuracy score: ', accuracy_score(y_test, y_pred))\n",
        "### END CODE"
      ],
      "execution_count": null,
      "outputs": [
        {
          "output_type": "stream",
          "name": "stdout",
          "text": [
            "1 accuracy score:  0.8\n",
            "3 accuracy score:  0.8\n",
            "5 accuracy score:  0.7916666666666666\n",
            "10 accuracy score:  0.8291666666666667\n",
            "20 accuracy score:  0.825\n",
            "30 accuracy score:  0.8166666666666667\n"
          ]
        }
      ]
    },
    {
      "cell_type": "markdown",
      "metadata": {
        "id": "AZ9uYgKMCX-z"
      },
      "source": [
        "**Discuss:** What are the advantages and disadvantages of using a bigger vs. smaller **k**? What is the optimal value?"
      ]
    },
    {
      "cell_type": "markdown",
      "metadata": {
        "id": "j09evSD_YfJ4"
      },
      "source": [
        "## (Optional) Understanding our mistakes\n",
        "\n",
        "Our classifications are OK, but are they good enough for our conscientious cars?\n",
        "\n",
        "Let's put on our detective hats to determine the root causes of the incorrect classifications!\n",
        "\n",
        "**Exercise:** Below, please print out 4 images of true positives, 4 images of true negatives, 4 images of false positives, and 4 images of false negatives. What are the reasons for failure (both for false positives and false negatives)? "
      ]
    },
    {
      "cell_type": "code",
      "metadata": {
        "id": "xWy1S_gyGoJT",
        "colab": {
          "base_uri": "https://localhost:8080/",
          "height": 1000
        },
        "outputId": "39ca053c-52bc-4e9f-ba82-07bf211f9a68"
      },
      "source": [
        "#True Positives (code provided)\n",
        "tp_count = 0\n",
        "print (\"TRUE POSITIVES\")\n",
        "i = 0\n",
        "while tp_count < 4 and i < len(X_test):\n",
        "  prediction = knn_model.predict([X_test[i]])[0] \n",
        "  if prediction == y_test[i] and prediction == 'dog':\n",
        "    plot_one_image(X_test, y_test, i)\n",
        "    tp_count += 1\n",
        "  i += 1\n",
        "\n",
        "#False Positives\n",
        "#YOUR CODE HERE\n",
        "fp_count = 0\n",
        "print (\"FALSE POSITIVES\")\n",
        "i = 0\n",
        "while fp_count < 4 and i < len(X_test):\n",
        "  prediction = knn_model.predict([X_test[i]])[0] \n",
        "  if prediction != y_test[i] and prediction == 'dog':\n",
        "    plot_one_image(X_test, y_test, i)\n",
        "    fp_count += 1\n",
        "  i += 1\n",
        "#True Negatives\n",
        "#YOUR CODE HERE\n",
        "tn_count = 0\n",
        "print (\"TRUE NEGATIVES\")\n",
        "i = 0\n",
        "while tn_count < 4 and i < len(X_test):\n",
        "  prediction = knn_model.predict([X_test[i]])[0] \n",
        "  if prediction == y_test[i] and prediction == 'road':\n",
        "    plot_one_image(X_test, y_test, i)\n",
        "    tn_count += 1\n",
        "  i += 1\n",
        "#False Negatives\n",
        "#YOUR CODE HERE\n",
        "fn_count = 0\n",
        "print (\"FALSE NEGATIVES\")\n",
        "i = 0\n",
        "while fn_count < 4 and i < len(X_test):\n",
        "  prediction = knn_model.predict([X_test[i]])[0] \n",
        "  if prediction != y_test[i] and prediction == 'road':\n",
        "    plot_one_image(X_test, y_test, i)\n",
        "    fn_count += 1\n",
        "  i += 1"
      ],
      "execution_count": null,
      "outputs": [
        {
          "output_type": "stream",
          "name": "stdout",
          "text": [
            "TRUE POSITIVES\n",
            "label: dog\n",
            "label: dog\n",
            "label: dog\n",
            "label: dog\n",
            "FALSE POSITIVES\n",
            "label: road\n",
            "TRUE NEGATIVES\n",
            "label: road\n",
            "label: road\n",
            "label: road\n",
            "label: road\n",
            "FALSE NEGATIVES\n",
            "label: dog\n",
            "label: dog\n",
            "label: dog\n",
            "label: dog\n"
          ]
        },
        {
          "output_type": "display_data",
          "data": {
            "text/plain": [
              "<Figure size 432x288 with 1 Axes>"
            ],
            "image/png": "[encoded data removed]"
          },
          "metadata": {
            "needs_background": "light"
          }
        },
        {
          "output_type": "display_data",
          "data": {
            "text/plain": [
              "<Figure size 432x288 with 1 Axes>"
            ],
            "image/png": "[encoded data removed]"
          },
          "metadata": {
            "needs_background": "light"
          }
        },
        {
          "output_type": "display_data",
          "data": {
            "text/plain": [
              "<Figure size 432x288 with 1 Axes>"
            ],
            "image/png": "[encoded data removed]"
          },
          "metadata": {
            "needs_background": "light"
          }
        },
        {
          "output_type": "display_data",
          "data": {
            "text/plain": [
              "<Figure size 432x288 with 1 Axes>"
            ],
            "image/png": "[encoded data removed]"
          },
          "metadata": {
            "needs_background": "light"
          }
        },
        {
          "output_type": "display_data",
          "data": {
            "text/plain": [
              "<Figure size 432x288 with 1 Axes>"
            ],
            "image/png": "[encoded data removed]"
          },
          "metadata": {
            "needs_background": "light"
          }
        },
        {
          "output_type": "display_data",
          "data": {
            "text/plain": [
              "<Figure size 432x288 with 1 Axes>"
            ],
            "image/png": "[encoded data removed]"
          },
          "metadata": {
            "needs_background": "light"
          }
        },
        {
          "output_type": "display_data",
          "data": {
            "text/plain": [
              "<Figure size 432x288 with 1 Axes>"
            ],
            "image/png": "[encoded data removed]"
          },
          "metadata": {
            "needs_background": "light"
          }
        },
        {
          "output_type": "display_data",
          "data": {
            "text/plain": [
              "<Figure size 432x288 with 1 Axes>"
            ],
            "image/png": "[encoded data removed]"
          },
          "metadata": {
            "needs_background": "light"
          }
        },
        {
          "output_type": "display_data",
          "data": {
            "text/plain": [
              "<Figure size 432x288 with 1 Axes>"
            ],
            "image/png": "[encoded data removed]"
          },
          "metadata": {
            "needs_background": "light"
          }
        },
        {
          "output_type": "display_data",
          "data": {
            "text/plain": [
              "<Figure size 432x288 with 1 Axes>"
            ],
            "image/png": "[encoded data removed]"
          },
          "metadata": {
            "needs_background": "light"
          }
        },
        {
          "output_type": "display_data",
          "data": {
            "text/plain": [
              "<Figure size 432x288 with 1 Axes>"
            ],
            "image/png": "[encoded data removed]"
          },
          "metadata": {
            "needs_background": "light"
          }
        },
        {
          "output_type": "display_data",
          "data": {
            "text/plain": [
              "<Figure size 432x288 with 1 Axes>"
            ],
            "image/png": "[encoded data removed]"
          },
          "metadata": {
            "needs_background": "light"
          }
        },
        {
          "output_type": "display_data",
          "data": {
            "text/plain": [
              "<Figure size 432x288 with 1 Axes>"
            ],
            "image/png": "[encoded data removed]"
          },
          "metadata": {
            "needs_background": "light"
          }
        }
      ]
    },
    {
      "cell_type": "markdown",
      "metadata": {
        "id": "nSx8HEhHKxFd"
      },
      "source": [
        "**Discuss:** What patterns did you notice? What are some reasons that the model makes mistakes?"
      ]
    },
    {
      "cell_type": "markdown",
      "metadata": {
        "id": "doLXp1Ot8D2C"
      },
      "source": [
        "#Neural Networks\n",
        "Now, let's create some new models using neural networks!\n",
        "\n",
        "You can play around with [TensorFlow Playground](https://playground.tensorflow.org/#activation=tanh&batchSize=10&dataset=circle&regDataset=reg-plane&learningRate=0.03&regularizationRate=0&noise=0&networkShape=4,2&seed=0.62283&showTestData=false&discretize=false&percTrainData=50&x=true&y=true&xTimesY=false&xSquared=false&ySquared=false&cosX=false&sinX=false&cosY=false&sinY=false&collectStats=false&problem=classification&initZero=false&hideText=false&regularization_hide=true&regularizationRate_hide=true&learningRate_hide=true&batchSize_hide=true&stepButton_hide=true&activation_hide=true) to get a feel for how neural nets work."
      ]
    },
    {
      "cell_type": "markdown",
      "metadata": {
        "id": "u9iFe-B4zqQA"
      },
      "source": [
        "To build a simple neural network, we use `MLPClassifier` from scikit-learn. We will play with the **number of neurons** and the **number of hidden layers** to adjust the complexity of our model, just like we did in Playground!\n",
        "\n",
        "**Example 1:**\n",
        "Here's how we create a neural network with 1 hidden layer of 3 neurons.\n",
        "\n",
        "`nnet = MLPClassifier(hidden_layer_sizes=(3)) `\n",
        "\n",
        "**Example 2:**\n",
        "\n",
        "Here's how we create a neural network with 2 hidden layers: one of 3 neurons and one of 4 neurons.\n",
        "\n",
        "`nnet = MLPClassifier(hidden_layer_sizes=(3, 4)) `"
      ]
    },
    {
      "cell_type": "code",
      "metadata": {
        "id": "x4XblMWBzm96",
        "colab": {
          "base_uri": "https://localhost:8080/"
        },
        "outputId": "8fd95277-082a-4287-d41d-be3636b9e6c6"
      },
      "source": [
        "# Create and train our multi layer perceptron model\n",
        "nnet = MLPClassifier(hidden_layer_sizes=(10, 10, 10, 10), random_state=1, max_iter=100)  ## How many hidden layers? How many neurons does this have? #What are the nueron's doing here and what's the weight?\n",
        "nnet.fit(X_train, y_train)\n",
        "\n",
        "# Predict what the classes are based on the testing data\n",
        "predictions = nnet.predict(X_test)\n",
        "\n",
        "# Print the score on the testing data\n",
        "print(\"MLP Testing Accuracy:\")\n",
        "print(accuracy_score(y_test, predictions)*100)"
      ],
      "execution_count": null,
      "outputs": [
        {
          "output_type": "stream",
          "name": "stdout",
          "text": [
            "MLP Testing Accuracy:\n",
            "89.16666666666667\n"
          ]
        }
      ]
    },
    {
      "cell_type": "markdown",
      "metadata": {
        "id": "J1QYZTxq0RCV"
      },
      "source": [
        "**How well did your neural network perform?** \n",
        "\n",
        "Multilayer perceptrons are more complex models and it can be difficult to find the right \"settings\" for them. It takes some trial and error!"
      ]
    },
    {
      "cell_type": "markdown",
      "metadata": {
        "id": "nX27P2eY0yqQ"
      },
      "source": [
        "**Exercise: try the following out and see how well you can get your network to do!**\n",
        "* Train a 1 layer, 10 neuron network for practice\n",
        "* Change the number of neurons and/or add layers to see how well you can do\n",
        "* Increase or decrease the number of iterations"
      ]
    },
    {
      "cell_type": "code",
      "metadata": {
        "id": "_nPOrTN-JMYk"
      },
      "source": [
        "#YOUR CODE HERE"
      ],
      "execution_count": null,
      "outputs": []
    },
    {
      "cell_type": "markdown",
      "metadata": {
        "id": "hXud5MuBXqzo"
      },
      "source": [
        "###Automating our Experiments \n",
        "\n",
        "**Exercise:** Similar to what you did for KNNs, use a for loop to automate your investigation. Explore different numbers of hidden layers, the size of the hidden layers, and the number of iterations! How well can you get your network performing?"
      ]
    },
    {
      "cell_type": "code",
      "metadata": {
        "id": "owrF6cDvX0HX",
        "colab": {
          "base_uri": "https://localhost:8080/"
        },
        "outputId": "90d17082-97a4-4826-a9bf-00e33dd9ba09"
      },
      "source": [
        "### YOUR CODE HERE\n",
        "for i in [(15, 5), (120, 130, 100, 100), (6, 8, 10, 12)]:\n",
        "  for maxIT in [599, 150000, 1000000]:\n",
        "    nnet = MLPClassifier(hidden_layer_sizes=i, random_state=1, max_iter=maxIT)  ## How many hidden layers? How many neurons does this have? #What are the nueron's doing here and what's the weight?\n",
        "    nnet.fit(X_train, y_train)\n",
        "    predictions = nnet.predict(X_test)\n",
        "    print(\"MLP Testing Accuracy:\")\n",
        "    print(i, \"iterations\", maxIT, 'Iterations', accuracy_score(y_test, predictions)*100)\n",
        "### END CODE"
      ],
      "execution_count": null,
      "outputs": [
        {
          "output_type": "stream",
          "name": "stdout",
          "text": [
            "MLP Testing Accuracy:\n",
            "(15, 5) iterations 599 Iterations 52.916666666666664\n",
            "MLP Testing Accuracy:\n",
            "(15, 5) iterations 150000 Iterations 52.916666666666664\n",
            "MLP Testing Accuracy:\n",
            "(15, 5) iterations 1000000 Iterations 52.916666666666664\n",
            "MLP Testing Accuracy:\n",
            "(120, 130, 100, 100) iterations 599 Iterations 90.41666666666667\n",
            "MLP Testing Accuracy:\n",
            "(120, 130, 100, 100) iterations 150000 Iterations 90.41666666666667\n",
            "MLP Testing Accuracy:\n",
            "(120, 130, 100, 100) iterations 1000000 Iterations 90.41666666666667\n",
            "MLP Testing Accuracy:\n",
            "(6, 8, 10, 12) iterations 599 Iterations 85.41666666666666\n",
            "MLP Testing Accuracy:\n",
            "(6, 8, 10, 12) iterations 150000 Iterations 85.41666666666666\n",
            "MLP Testing Accuracy:\n",
            "(6, 8, 10, 12) iterations 1000000 Iterations 85.41666666666666\n"
          ]
        }
      ]
    },
    {
      "cell_type": "markdown",
      "metadata": {
        "id": "37O_VE_D1Bdy"
      },
      "source": [
        "# Models for Vision: Convolutional Neural Networks\n",
        "There is a famous type of neural network known as convolutional neural networks (CNNs). These types of neural networks work particularly well on problems to do with computer vision. Let's try one out!"
      ]
    },
    {
      "cell_type": "markdown",
      "metadata": {
        "id": "GqrfI4JiVeFr"
      },
      "source": [
        "###Training Your CNN\n",
        "To load up a simple CNN on scikit-learn, just run:\n",
        "\n",
        "`cnn = CNNClassifier(num_epochs=N)`\n",
        "\n",
        "The `num_epochs` represents how many times the neural network passes through the training dataset. \n",
        "\n",
        "We'll need to change our data to floats (decimal numbers).\n",
        "\n",
        "**Exercise:** Please train and test your CNN below!"
      ]
    },
    {
      "cell_type": "code",
      "metadata": {
        "id": "dSwghlVU4WTy",
        "colab": {
          "base_uri": "https://localhost:8080/"
        },
        "outputId": "3561f885-2a1d-4e4c-9032-b45be4a95498"
      },
      "source": [
        "# convert our data to floats for our CNN\n",
        "X_train = X_train.astype(float) #multiple epochs uses a thing to improve internal variables, needs multiple iterations to become more and more accurate\n",
        "X_test = X_test.astype(float)\n",
        "\n",
        "### YOUR CODE HERE\n",
        "# Create and train our cnn\n",
        "cnn = CNNClassifier(num_epochs=40) #how many times we go through the dataset\n",
        "# Predict what the classes are based on the testing data\n",
        "cnn.fit(X_train, y_train)\n",
        "y_pred = cnn.predict(X_test)\n",
        "# Print the score on the testing data\n",
        "print(accuracy_score(y_test, y_pred))\n",
        "\n",
        "### END CODE"
      ],
      "execution_count": null,
      "outputs": [
        {
          "output_type": "stream",
          "name": "stderr",
          "text": [
            "/usr/local/lib/python3.7/dist-packages/ipykernel_launcher.py:111: DeprecationWarning: KerasClassifier is deprecated, use Sci-Keras (https://github.com/adriangb/scikeras) instead. See https://www.adriangb.com/scikeras/stable/migration.html for help migrating.\n"
          ]
        },
        {
          "output_type": "stream",
          "name": "stdout",
          "text": [
            "Epoch 1/40\n",
            "96/96 - 4s - loss: 1.5329 - accuracy: 0.5948 - 4s/epoch - 41ms/step\n",
            "Epoch 2/40\n",
            "96/96 - 0s - loss: 0.4470 - accuracy: 0.7937 - 480ms/epoch - 5ms/step\n",
            "Epoch 3/40\n",
            "96/96 - 0s - loss: 0.2947 - accuracy: 0.8896 - 483ms/epoch - 5ms/step\n",
            "Epoch 4/40\n",
            "96/96 - 0s - loss: 0.2543 - accuracy: 0.9021 - 472ms/epoch - 5ms/step\n",
            "Epoch 5/40\n",
            "96/96 - 0s - loss: 0.2093 - accuracy: 0.9271 - 481ms/epoch - 5ms/step\n",
            "Epoch 6/40\n",
            "96/96 - 0s - loss: 0.2052 - accuracy: 0.9292 - 489ms/epoch - 5ms/step\n",
            "Epoch 7/40\n",
            "96/96 - 0s - loss: 0.1899 - accuracy: 0.9323 - 497ms/epoch - 5ms/step\n",
            "Epoch 8/40\n",
            "96/96 - 0s - loss: 0.1673 - accuracy: 0.9396 - 478ms/epoch - 5ms/step\n",
            "Epoch 9/40\n",
            "96/96 - 0s - loss: 0.1583 - accuracy: 0.9406 - 486ms/epoch - 5ms/step\n",
            "Epoch 10/40\n",
            "96/96 - 0s - loss: 0.1565 - accuracy: 0.9406 - 481ms/epoch - 5ms/step\n",
            "Epoch 11/40\n",
            "96/96 - 0s - loss: 0.1458 - accuracy: 0.9510 - 480ms/epoch - 5ms/step\n",
            "Epoch 12/40\n",
            "96/96 - 0s - loss: 0.1520 - accuracy: 0.9458 - 472ms/epoch - 5ms/step\n",
            "Epoch 13/40\n",
            "96/96 - 0s - loss: 0.1086 - accuracy: 0.9510 - 472ms/epoch - 5ms/step\n",
            "Epoch 14/40\n",
            "96/96 - 0s - loss: 0.1093 - accuracy: 0.9563 - 481ms/epoch - 5ms/step\n",
            "Epoch 15/40\n",
            "96/96 - 0s - loss: 0.1162 - accuracy: 0.9646 - 475ms/epoch - 5ms/step\n",
            "Epoch 16/40\n",
            "96/96 - 0s - loss: 0.1250 - accuracy: 0.9563 - 479ms/epoch - 5ms/step\n",
            "Epoch 17/40\n",
            "96/96 - 0s - loss: 0.0972 - accuracy: 0.9677 - 483ms/epoch - 5ms/step\n",
            "Epoch 18/40\n",
            "96/96 - 0s - loss: 0.0966 - accuracy: 0.9635 - 490ms/epoch - 5ms/step\n",
            "Epoch 19/40\n",
            "96/96 - 0s - loss: 0.0863 - accuracy: 0.9740 - 467ms/epoch - 5ms/step\n",
            "Epoch 20/40\n",
            "96/96 - 0s - loss: 0.0763 - accuracy: 0.9719 - 484ms/epoch - 5ms/step\n",
            "Epoch 21/40\n",
            "96/96 - 0s - loss: 0.0911 - accuracy: 0.9698 - 462ms/epoch - 5ms/step\n",
            "Epoch 22/40\n",
            "96/96 - 0s - loss: 0.1048 - accuracy: 0.9677 - 467ms/epoch - 5ms/step\n",
            "Epoch 23/40\n",
            "96/96 - 0s - loss: 0.0737 - accuracy: 0.9781 - 462ms/epoch - 5ms/step\n",
            "Epoch 24/40\n",
            "96/96 - 0s - loss: 0.0742 - accuracy: 0.9802 - 473ms/epoch - 5ms/step\n",
            "Epoch 25/40\n",
            "96/96 - 0s - loss: 0.0779 - accuracy: 0.9719 - 468ms/epoch - 5ms/step\n",
            "Epoch 26/40\n",
            "96/96 - 0s - loss: 0.0807 - accuracy: 0.9750 - 477ms/epoch - 5ms/step\n",
            "Epoch 27/40\n",
            "96/96 - 0s - loss: 0.0754 - accuracy: 0.9729 - 467ms/epoch - 5ms/step\n",
            "Epoch 28/40\n",
            "96/96 - 0s - loss: 0.0720 - accuracy: 0.9750 - 477ms/epoch - 5ms/step\n",
            "Epoch 29/40\n",
            "96/96 - 0s - loss: 0.0695 - accuracy: 0.9802 - 481ms/epoch - 5ms/step\n",
            "Epoch 30/40\n",
            "96/96 - 0s - loss: 0.0564 - accuracy: 0.9833 - 476ms/epoch - 5ms/step\n",
            "Epoch 31/40\n",
            "96/96 - 0s - loss: 0.0612 - accuracy: 0.9833 - 467ms/epoch - 5ms/step\n",
            "Epoch 32/40\n",
            "96/96 - 0s - loss: 0.0680 - accuracy: 0.9812 - 491ms/epoch - 5ms/step\n",
            "Epoch 33/40\n",
            "96/96 - 0s - loss: 0.0533 - accuracy: 0.9833 - 483ms/epoch - 5ms/step\n",
            "Epoch 34/40\n",
            "96/96 - 0s - loss: 0.0544 - accuracy: 0.9833 - 485ms/epoch - 5ms/step\n",
            "Epoch 35/40\n",
            "96/96 - 0s - loss: 0.0764 - accuracy: 0.9844 - 477ms/epoch - 5ms/step\n",
            "Epoch 36/40\n",
            "96/96 - 0s - loss: 0.0288 - accuracy: 0.9896 - 484ms/epoch - 5ms/step\n",
            "Epoch 37/40\n",
            "96/96 - 0s - loss: 0.0424 - accuracy: 0.9875 - 482ms/epoch - 5ms/step\n",
            "Epoch 38/40\n",
            "96/96 - 0s - loss: 0.0585 - accuracy: 0.9833 - 481ms/epoch - 5ms/step\n",
            "Epoch 39/40\n",
            "96/96 - 0s - loss: 0.0482 - accuracy: 0.9875 - 496ms/epoch - 5ms/step\n",
            "Epoch 40/40\n",
            "96/96 - 0s - loss: 0.0692 - accuracy: 0.9812 - 471ms/epoch - 5ms/step\n",
            "0.975\n"
          ]
        }
      ]
    },
    {
      "cell_type": "markdown",
      "metadata": {
        "id": "KGWpgsVXP1ut"
      },
      "source": [
        "**Discuss: Is this CNN good enough to use in practice?** \n",
        "\n",
        "CNNs typically perform better than basic Neural Networks on vision problems - but like basic Neural Networks, they aren't always consistent in their results and are sensitive to a number of factors. \n",
        "\n",
        "If you're interested in learning more about CNNs, spend some time exploring the [CNN Explainer](https://poloclub.github.io/cnn-explainer/)!\n",
        "\n",
        "**Report to the class your highest model accuracy.**\n",
        "\n",
        "**Bonus Question:** Each of you might see a different max accuracy. Can you think of why that might be?\n"
      ]
    },
    {
      "cell_type": "markdown",
      "metadata": {
        "id": "c-XRh5Y5P_CL"
      },
      "source": [
        "## Training and Validation Curves\n",
        "\n",
        "An important aspect of training neural networks is to prevent overfitting. **How do you know when your model is overfitting?**\n",
        "\n",
        "To plot our model's history, we can train it with\n",
        "```\n",
        "history = model.fit(X_train, categorical_to_numpy(y_train), validation_data=(X_test, categorical_to_numpy(y_test)))\n",
        "```\n",
        "\n",
        "and then use\n",
        "```\n",
        "plot_acc(history)\n",
        "```\n",
        "Don't forget to change ```model``` to be the name of your model!"
      ]
    },
    {
      "cell_type": "markdown",
      "metadata": {
        "id": "8eaFvE2PQEFe"
      },
      "source": [
        "**Exercise:** Train a CNN model and plot a train vs. test curve.\n",
        "\n",
        "**After how many epochs does the model begin to overfit?** Overfitting occurs when the validation accuracy starts to drop below the training accuracy."
      ]
    },
    {
      "cell_type": "code",
      "metadata": {
        "id": "OsVAasDbjARJ",
        "colab": {
          "base_uri": "https://localhost:8080/",
          "height": 1000
        },
        "outputId": "f888b332-808c-44d3-87cb-e4593e32f275"
      },
      "source": [
        "### YOUR CODE HERE\n",
        "# Create and train our cnn\n",
        "cnn = CNNClassifier(num_epochs=100) #how many times we go through the dataset\n",
        "# Predict what the classes are based on the testing data\n",
        "history = cnn.fit(X_train, categorical_to_numpy(y_train))\n",
        "plot_acc(history)\n",
        "### END CODE"
      ],
      "execution_count": null,
      "outputs": [
        {
          "output_type": "stream",
          "name": "stdout",
          "text": [
            "Epoch 1/100\n"
          ]
        },
        {
          "output_type": "stream",
          "name": "stderr",
          "text": [
            "/usr/local/lib/python3.7/dist-packages/ipykernel_launcher.py:111: DeprecationWarning: KerasClassifier is deprecated, use Sci-Keras (https://github.com/adriangb/scikeras) instead. See https://www.adriangb.com/scikeras/stable/migration.html for help migrating.\n"
          ]
        },
        {
          "output_type": "stream",
          "name": "stdout",
          "text": [
            "96/96 - 2s - loss: 1.8529 - accuracy: 0.6083 - 2s/epoch - 22ms/step\n",
            "Epoch 2/100\n",
            "96/96 - 0s - loss: 0.5073 - accuracy: 0.7667 - 477ms/epoch - 5ms/step\n",
            "Epoch 3/100\n",
            "96/96 - 0s - loss: 0.3427 - accuracy: 0.8604 - 459ms/epoch - 5ms/step\n",
            "Epoch 4/100\n",
            "96/96 - 0s - loss: 0.2845 - accuracy: 0.8802 - 467ms/epoch - 5ms/step\n",
            "Epoch 5/100\n",
            "96/96 - 0s - loss: 0.2444 - accuracy: 0.9073 - 467ms/epoch - 5ms/step\n",
            "Epoch 6/100\n",
            "96/96 - 0s - loss: 0.2103 - accuracy: 0.9250 - 470ms/epoch - 5ms/step\n",
            "Epoch 7/100\n",
            "96/96 - 0s - loss: 0.1891 - accuracy: 0.9344 - 461ms/epoch - 5ms/step\n",
            "Epoch 8/100\n",
            "96/96 - 0s - loss: 0.1706 - accuracy: 0.9365 - 456ms/epoch - 5ms/step\n",
            "Epoch 9/100\n",
            "96/96 - 0s - loss: 0.1734 - accuracy: 0.9396 - 461ms/epoch - 5ms/step\n",
            "Epoch 10/100\n",
            "96/96 - 0s - loss: 0.1430 - accuracy: 0.9438 - 463ms/epoch - 5ms/step\n",
            "Epoch 11/100\n",
            "96/96 - 0s - loss: 0.1436 - accuracy: 0.9458 - 474ms/epoch - 5ms/step\n",
            "Epoch 12/100\n",
            "96/96 - 0s - loss: 0.1702 - accuracy: 0.9458 - 462ms/epoch - 5ms/step\n",
            "Epoch 13/100\n",
            "96/96 - 0s - loss: 0.1263 - accuracy: 0.9573 - 466ms/epoch - 5ms/step\n",
            "Epoch 14/100\n",
            "96/96 - 0s - loss: 0.1111 - accuracy: 0.9573 - 457ms/epoch - 5ms/step\n",
            "Epoch 15/100\n",
            "96/96 - 0s - loss: 0.1221 - accuracy: 0.9625 - 465ms/epoch - 5ms/step\n",
            "Epoch 16/100\n",
            "96/96 - 0s - loss: 0.1200 - accuracy: 0.9583 - 460ms/epoch - 5ms/step\n",
            "Epoch 17/100\n",
            "96/96 - 0s - loss: 0.1201 - accuracy: 0.9500 - 474ms/epoch - 5ms/step\n",
            "Epoch 18/100\n",
            "96/96 - 0s - loss: 0.1306 - accuracy: 0.9573 - 459ms/epoch - 5ms/step\n",
            "Epoch 19/100\n",
            "96/96 - 0s - loss: 0.1035 - accuracy: 0.9656 - 468ms/epoch - 5ms/step\n",
            "Epoch 20/100\n",
            "96/96 - 0s - loss: 0.0869 - accuracy: 0.9625 - 456ms/epoch - 5ms/step\n",
            "Epoch 21/100\n",
            "96/96 - 0s - loss: 0.0835 - accuracy: 0.9719 - 471ms/epoch - 5ms/step\n",
            "Epoch 22/100\n",
            "96/96 - 0s - loss: 0.1098 - accuracy: 0.9604 - 477ms/epoch - 5ms/step\n",
            "Epoch 23/100\n",
            "96/96 - 0s - loss: 0.0864 - accuracy: 0.9719 - 463ms/epoch - 5ms/step\n",
            "Epoch 24/100\n",
            "96/96 - 0s - loss: 0.0731 - accuracy: 0.9740 - 482ms/epoch - 5ms/step\n",
            "Epoch 25/100\n",
            "96/96 - 0s - loss: 0.0915 - accuracy: 0.9667 - 460ms/epoch - 5ms/step\n",
            "Epoch 26/100\n",
            "96/96 - 0s - loss: 0.0871 - accuracy: 0.9667 - 477ms/epoch - 5ms/step\n",
            "Epoch 27/100\n",
            "96/96 - 0s - loss: 0.0796 - accuracy: 0.9708 - 466ms/epoch - 5ms/step\n",
            "Epoch 28/100\n",
            "96/96 - 0s - loss: 0.0947 - accuracy: 0.9688 - 481ms/epoch - 5ms/step\n",
            "Epoch 29/100\n",
            "96/96 - 0s - loss: 0.0695 - accuracy: 0.9698 - 462ms/epoch - 5ms/step\n",
            "Epoch 30/100\n",
            "96/96 - 0s - loss: 0.0593 - accuracy: 0.9792 - 463ms/epoch - 5ms/step\n",
            "Epoch 31/100\n",
            "96/96 - 0s - loss: 0.0886 - accuracy: 0.9760 - 462ms/epoch - 5ms/step\n",
            "Epoch 32/100\n",
            "96/96 - 0s - loss: 0.0611 - accuracy: 0.9792 - 472ms/epoch - 5ms/step\n",
            "Epoch 33/100\n",
            "96/96 - 0s - loss: 0.0764 - accuracy: 0.9802 - 458ms/epoch - 5ms/step\n",
            "Epoch 34/100\n",
            "96/96 - 0s - loss: 0.0739 - accuracy: 0.9771 - 473ms/epoch - 5ms/step\n",
            "Epoch 35/100\n",
            "96/96 - 0s - loss: 0.0641 - accuracy: 0.9750 - 462ms/epoch - 5ms/step\n",
            "Epoch 36/100\n",
            "96/96 - 0s - loss: 0.0740 - accuracy: 0.9667 - 462ms/epoch - 5ms/step\n",
            "Epoch 37/100\n",
            "96/96 - 0s - loss: 0.0517 - accuracy: 0.9823 - 467ms/epoch - 5ms/step\n",
            "Epoch 38/100\n",
            "96/96 - 0s - loss: 0.0560 - accuracy: 0.9812 - 455ms/epoch - 5ms/step\n",
            "Epoch 39/100\n",
            "96/96 - 0s - loss: 0.0438 - accuracy: 0.9802 - 460ms/epoch - 5ms/step\n",
            "Epoch 40/100\n",
            "96/96 - 0s - loss: 0.0738 - accuracy: 0.9802 - 457ms/epoch - 5ms/step\n",
            "Epoch 41/100\n",
            "96/96 - 0s - loss: 0.0817 - accuracy: 0.9708 - 460ms/epoch - 5ms/step\n",
            "Epoch 42/100\n",
            "96/96 - 0s - loss: 0.0683 - accuracy: 0.9802 - 461ms/epoch - 5ms/step\n",
            "Epoch 43/100\n",
            "96/96 - 0s - loss: 0.0549 - accuracy: 0.9844 - 467ms/epoch - 5ms/step\n",
            "Epoch 44/100\n",
            "96/96 - 0s - loss: 0.0562 - accuracy: 0.9812 - 481ms/epoch - 5ms/step\n",
            "Epoch 45/100\n",
            "96/96 - 0s - loss: 0.0324 - accuracy: 0.9854 - 484ms/epoch - 5ms/step\n",
            "Epoch 46/100\n",
            "96/96 - 0s - loss: 0.0808 - accuracy: 0.9812 - 464ms/epoch - 5ms/step\n",
            "Epoch 47/100\n",
            "96/96 - 0s - loss: 0.0346 - accuracy: 0.9823 - 470ms/epoch - 5ms/step\n",
            "Epoch 48/100\n",
            "96/96 - 0s - loss: 0.0517 - accuracy: 0.9865 - 474ms/epoch - 5ms/step\n",
            "Epoch 49/100\n",
            "96/96 - 0s - loss: 0.0459 - accuracy: 0.9865 - 467ms/epoch - 5ms/step\n",
            "Epoch 50/100\n",
            "96/96 - 0s - loss: 0.0425 - accuracy: 0.9896 - 472ms/epoch - 5ms/step\n",
            "Epoch 51/100\n",
            "96/96 - 0s - loss: 0.0436 - accuracy: 0.9854 - 465ms/epoch - 5ms/step\n",
            "Epoch 52/100\n",
            "96/96 - 0s - loss: 0.0548 - accuracy: 0.9823 - 474ms/epoch - 5ms/step\n",
            "Epoch 53/100\n",
            "96/96 - 0s - loss: 0.0224 - accuracy: 0.9917 - 468ms/epoch - 5ms/step\n",
            "Epoch 54/100\n",
            "96/96 - 0s - loss: 0.0466 - accuracy: 0.9854 - 472ms/epoch - 5ms/step\n",
            "Epoch 55/100\n",
            "96/96 - 0s - loss: 0.0666 - accuracy: 0.9865 - 455ms/epoch - 5ms/step\n",
            "Epoch 56/100\n",
            "96/96 - 0s - loss: 0.0761 - accuracy: 0.9792 - 465ms/epoch - 5ms/step\n",
            "Epoch 57/100\n",
            "96/96 - 0s - loss: 0.0434 - accuracy: 0.9875 - 458ms/epoch - 5ms/step\n",
            "Epoch 58/100\n",
            "96/96 - 0s - loss: 0.0449 - accuracy: 0.9854 - 468ms/epoch - 5ms/step\n",
            "Epoch 59/100\n",
            "96/96 - 0s - loss: 0.0332 - accuracy: 0.9927 - 468ms/epoch - 5ms/step\n",
            "Epoch 60/100\n",
            "96/96 - 0s - loss: 0.0366 - accuracy: 0.9885 - 464ms/epoch - 5ms/step\n",
            "Epoch 61/100\n",
            "96/96 - 0s - loss: 0.0514 - accuracy: 0.9875 - 461ms/epoch - 5ms/step\n",
            "Epoch 62/100\n",
            "96/96 - 0s - loss: 0.0383 - accuracy: 0.9917 - 462ms/epoch - 5ms/step\n",
            "Epoch 63/100\n",
            "96/96 - 0s - loss: 0.0440 - accuracy: 0.9917 - 461ms/epoch - 5ms/step\n",
            "Epoch 64/100\n",
            "96/96 - 0s - loss: 0.0424 - accuracy: 0.9885 - 457ms/epoch - 5ms/step\n",
            "Epoch 65/100\n",
            "96/96 - 0s - loss: 0.0642 - accuracy: 0.9865 - 468ms/epoch - 5ms/step\n",
            "Epoch 66/100\n",
            "96/96 - 0s - loss: 0.0348 - accuracy: 0.9927 - 460ms/epoch - 5ms/step\n",
            "Epoch 67/100\n",
            "96/96 - 0s - loss: 0.0550 - accuracy: 0.9844 - 475ms/epoch - 5ms/step\n",
            "Epoch 68/100\n",
            "96/96 - 0s - loss: 0.0580 - accuracy: 0.9865 - 462ms/epoch - 5ms/step\n",
            "Epoch 69/100\n",
            "96/96 - 0s - loss: 0.0548 - accuracy: 0.9917 - 465ms/epoch - 5ms/step\n",
            "Epoch 70/100\n",
            "96/96 - 0s - loss: 0.0742 - accuracy: 0.9823 - 461ms/epoch - 5ms/step\n",
            "Epoch 71/100\n",
            "96/96 - 0s - loss: 0.0205 - accuracy: 0.9896 - 455ms/epoch - 5ms/step\n",
            "Epoch 72/100\n",
            "96/96 - 0s - loss: 0.0579 - accuracy: 0.9917 - 467ms/epoch - 5ms/step\n",
            "Epoch 73/100\n",
            "96/96 - 0s - loss: 0.0327 - accuracy: 0.9906 - 472ms/epoch - 5ms/step\n",
            "Epoch 74/100\n",
            "96/96 - 0s - loss: 0.0349 - accuracy: 0.9906 - 463ms/epoch - 5ms/step\n",
            "Epoch 75/100\n",
            "96/96 - 0s - loss: 0.0797 - accuracy: 0.9865 - 468ms/epoch - 5ms/step\n",
            "Epoch 76/100\n",
            "96/96 - 0s - loss: 0.0448 - accuracy: 0.9885 - 467ms/epoch - 5ms/step\n",
            "Epoch 77/100\n",
            "96/96 - 0s - loss: 0.0479 - accuracy: 0.9865 - 451ms/epoch - 5ms/step\n",
            "Epoch 78/100\n",
            "96/96 - 0s - loss: 0.0387 - accuracy: 0.9865 - 465ms/epoch - 5ms/step\n",
            "Epoch 79/100\n",
            "96/96 - 0s - loss: 0.0249 - accuracy: 0.9937 - 458ms/epoch - 5ms/step\n",
            "Epoch 80/100\n",
            "96/96 - 1s - loss: 0.0524 - accuracy: 0.9844 - 503ms/epoch - 5ms/step\n",
            "Epoch 81/100\n",
            "96/96 - 0s - loss: 0.0260 - accuracy: 0.9927 - 459ms/epoch - 5ms/step\n",
            "Epoch 82/100\n",
            "96/96 - 0s - loss: 0.0357 - accuracy: 0.9885 - 470ms/epoch - 5ms/step\n",
            "Epoch 83/100\n",
            "96/96 - 0s - loss: 0.0422 - accuracy: 0.9896 - 456ms/epoch - 5ms/step\n",
            "Epoch 84/100\n",
            "96/96 - 0s - loss: 0.0276 - accuracy: 0.9927 - 465ms/epoch - 5ms/step\n",
            "Epoch 85/100\n",
            "96/96 - 0s - loss: 0.0854 - accuracy: 0.9917 - 468ms/epoch - 5ms/step\n",
            "Epoch 86/100\n",
            "96/96 - 0s - loss: 0.0227 - accuracy: 0.9948 - 476ms/epoch - 5ms/step\n",
            "Epoch 87/100\n",
            "96/96 - 0s - loss: 0.0559 - accuracy: 0.9885 - 472ms/epoch - 5ms/step\n",
            "Epoch 88/100\n",
            "96/96 - 0s - loss: 0.0716 - accuracy: 0.9906 - 464ms/epoch - 5ms/step\n",
            "Epoch 89/100\n",
            "96/96 - 0s - loss: 0.0511 - accuracy: 0.9896 - 462ms/epoch - 5ms/step\n",
            "Epoch 90/100\n",
            "96/96 - 0s - loss: 0.0218 - accuracy: 0.9927 - 451ms/epoch - 5ms/step\n",
            "Epoch 91/100\n",
            "96/96 - 0s - loss: 0.0329 - accuracy: 0.9937 - 470ms/epoch - 5ms/step\n",
            "Epoch 92/100\n",
            "96/96 - 0s - loss: 0.0225 - accuracy: 0.9948 - 457ms/epoch - 5ms/step\n",
            "Epoch 93/100\n",
            "96/96 - 0s - loss: 0.0311 - accuracy: 0.9948 - 473ms/epoch - 5ms/step\n",
            "Epoch 94/100\n",
            "96/96 - 0s - loss: 0.0577 - accuracy: 0.9875 - 462ms/epoch - 5ms/step\n",
            "Epoch 95/100\n",
            "96/96 - 0s - loss: 0.0367 - accuracy: 0.9885 - 475ms/epoch - 5ms/step\n",
            "Epoch 96/100\n",
            "96/96 - 0s - loss: 0.0146 - accuracy: 0.9948 - 478ms/epoch - 5ms/step\n",
            "Epoch 97/100\n",
            "96/96 - 0s - loss: 0.0527 - accuracy: 0.9896 - 475ms/epoch - 5ms/step\n",
            "Epoch 98/100\n",
            "96/96 - 0s - loss: 0.0234 - accuracy: 0.9927 - 461ms/epoch - 5ms/step\n",
            "Epoch 99/100\n",
            "96/96 - 0s - loss: 0.0281 - accuracy: 0.9927 - 474ms/epoch - 5ms/step\n",
            "Epoch 100/100\n",
            "96/96 - 0s - loss: 0.0319 - accuracy: 0.9896 - 473ms/epoch - 5ms/step\n"
          ]
        },
        {
          "output_type": "error",
          "ename": "KeyError",
          "evalue": "ignored",
          "traceback": [
            "\u001b[0;31m---------------------------------------------------------------------------\u001b[0m",
            "\u001b[0;31mKeyError\u001b[0m                                  Traceback (most recent call last)",
            "\u001b[0;32m<ipython-input-19-cc09ce551d40>\u001b[0m in \u001b[0;36m<module>\u001b[0;34m()\u001b[0m\n\u001b[1;32m      4\u001b[0m \u001b[0;31m# Predict what the classes are based on the testing data\u001b[0m\u001b[0;34m\u001b[0m\u001b[0;34m\u001b[0m\u001b[0;34m\u001b[0m\u001b[0m\n\u001b[1;32m      5\u001b[0m \u001b[0mhistory\u001b[0m \u001b[0;34m=\u001b[0m \u001b[0mcnn\u001b[0m\u001b[0;34m.\u001b[0m\u001b[0mfit\u001b[0m\u001b[0;34m(\u001b[0m\u001b[0mX_train\u001b[0m\u001b[0;34m,\u001b[0m \u001b[0mcategorical_to_numpy\u001b[0m\u001b[0;34m(\u001b[0m\u001b[0my_train\u001b[0m\u001b[0;34m)\u001b[0m\u001b[0;34m)\u001b[0m\u001b[0;34m\u001b[0m\u001b[0;34m\u001b[0m\u001b[0m\n\u001b[0;32m----> 6\u001b[0;31m \u001b[0mplot_acc\u001b[0m\u001b[0;34m(\u001b[0m\u001b[0mhistory\u001b[0m\u001b[0;34m)\u001b[0m\u001b[0;34m\u001b[0m\u001b[0;34m\u001b[0m\u001b[0m\n\u001b[0m\u001b[1;32m      7\u001b[0m \u001b[0;31m### END CODE\u001b[0m\u001b[0;34m\u001b[0m\u001b[0;34m\u001b[0m\u001b[0;34m\u001b[0m\u001b[0m\n",
            "\u001b[0;32m<ipython-input-3-d55d273fb14b>\u001b[0m in \u001b[0;36mplot_acc\u001b[0;34m(history, ax, xlabel)\u001b[0m\n\u001b[1;32m    113\u001b[0m \u001b[0;32mdef\u001b[0m \u001b[0mplot_acc\u001b[0m\u001b[0;34m(\u001b[0m\u001b[0mhistory\u001b[0m\u001b[0;34m,\u001b[0m \u001b[0max\u001b[0m \u001b[0;34m=\u001b[0m \u001b[0;32mNone\u001b[0m\u001b[0;34m,\u001b[0m \u001b[0mxlabel\u001b[0m \u001b[0;34m=\u001b[0m \u001b[0;34m'Epoch #'\u001b[0m\u001b[0;34m)\u001b[0m\u001b[0;34m:\u001b[0m\u001b[0;34m\u001b[0m\u001b[0;34m\u001b[0m\u001b[0m\n\u001b[1;32m    114\u001b[0m     \u001b[0mhistory\u001b[0m \u001b[0;34m=\u001b[0m \u001b[0mhistory\u001b[0m\u001b[0;34m.\u001b[0m\u001b[0mhistory\u001b[0m\u001b[0;34m\u001b[0m\u001b[0;34m\u001b[0m\u001b[0m\n\u001b[0;32m--> 115\u001b[0;31m     \u001b[0mhistory\u001b[0m\u001b[0;34m.\u001b[0m\u001b[0mupdate\u001b[0m\u001b[0;34m(\u001b[0m\u001b[0;34m{\u001b[0m\u001b[0;34m'epoch'\u001b[0m\u001b[0;34m:\u001b[0m\u001b[0mlist\u001b[0m\u001b[0;34m(\u001b[0m\u001b[0mrange\u001b[0m\u001b[0;34m(\u001b[0m\u001b[0mlen\u001b[0m\u001b[0;34m(\u001b[0m\u001b[0mhistory\u001b[0m\u001b[0;34m[\u001b[0m\u001b[0;34m'val_accuracy'\u001b[0m\u001b[0;34m]\u001b[0m\u001b[0;34m)\u001b[0m\u001b[0;34m)\u001b[0m\u001b[0;34m)\u001b[0m\u001b[0;34m}\u001b[0m\u001b[0;34m)\u001b[0m\u001b[0;34m\u001b[0m\u001b[0;34m\u001b[0m\u001b[0m\n\u001b[0m\u001b[1;32m    116\u001b[0m     \u001b[0mhistory\u001b[0m \u001b[0;34m=\u001b[0m \u001b[0mpd\u001b[0m\u001b[0;34m.\u001b[0m\u001b[0mDataFrame\u001b[0m\u001b[0;34m.\u001b[0m\u001b[0mfrom_dict\u001b[0m\u001b[0;34m(\u001b[0m\u001b[0mhistory\u001b[0m\u001b[0;34m)\u001b[0m\u001b[0;34m\u001b[0m\u001b[0;34m\u001b[0m\u001b[0m\n\u001b[1;32m    117\u001b[0m \u001b[0;34m\u001b[0m\u001b[0m\n",
            "\u001b[0;31mKeyError\u001b[0m: 'val_accuracy'"
          ]
        }
      ]
    },
    {
      "cell_type": "markdown",
      "metadata": {
        "id": "RVzEpI_xWpE5"
      },
      "source": [
        "### Hopefully your CNN worked *very* well! We want to keep the doggos as safe as they can be.\n",
        "\n",
        "![](https://images.pexels.com/photos/316/black-and-white-animal-dog-pet.jpg?auto=compress&cs=tinysrgb&dpr=2&h=650&w=940)"
      ]
    },
    {
      "cell_type": "markdown",
      "metadata": {
        "id": "7Y1wGoQPm2Ko"
      },
      "source": [
        "# Challenge Exercise: Explainability through Saliency Maps"
      ]
    },
    {
      "cell_type": "markdown",
      "metadata": {
        "id": "UnGTR2Vdb08i"
      },
      "source": [
        "Neural networks have achieved incredible results in many fields. But they have a big problem: it’s very difficult to explain exactly why a neural network makes the decisions it does. This makes it difficult to trust them in high-stakes applications like medicine, self-driving cars, and criminal justice - would you trust an AI that diagnosed you with a disease, but couldn’t explain why?\n",
        "\n",
        "Other classifiers are much more explainable:\n",
        "\n",
        "*   With logistic regression, we can see the coefficient (importance) attached to each input feature.\n",
        "*   With a decision tree, we can trace a particular decision down the tree.\n",
        "*   With KNN, we can examine the nearby neighbors.\n",
        "\n",
        "Our CNN, above, works well. For example, let's try choosing an image from our dataset and classifying it."
      ]
    },
    {
      "cell_type": "code",
      "metadata": {
        "id": "HmU6Peb7m67F",
        "colab": {
          "base_uri": "https://localhost:8080/",
          "height": 335
        },
        "outputId": "5bce3720-7327-492e-eeb3-098f72ab21c3"
      },
      "source": [
        "image_index = 70 #pick any image you'd like\n",
        "input_image = X_test[image_index] \n",
        "print (input_image.shape) \n",
        "print (input_image) #How many numbers are there? What does each represent?\n",
        "\n",
        "plt.imshow(input_image.reshape(32,32,3).astype(int))\n",
        "plt.show()\n",
        "\n",
        "print ('Classification:')\n",
        "print(cnn.predict(np.array([input_image]))) #Our predict function expects a 2D array.\n",
        "#0 means dog, 1 means road"
      ],
      "execution_count": null,
      "outputs": [
        {
          "output_type": "stream",
          "name": "stdout",
          "text": [
            "(3072,)\n",
            "[144. 144. 148. ... 207. 173. 142.]\n"
          ]
        },
        {
          "output_type": "display_data",
          "data": {
            "text/plain": [
              "<Figure size 432x288 with 1 Axes>"
            ],
            "image/png": "[encoded data removed]"
          },
          "metadata": {
            "needs_background": "light"
          }
        },
        {
          "output_type": "stream",
          "name": "stdout",
          "text": [
            "Classification:\n",
            "[0]\n"
          ]
        }
      ]
    },
    {
      "cell_type": "markdown",
      "metadata": {
        "id": "c6P7DX_WcfOU"
      },
      "source": [
        "But why did the CNN reach that decision? It’s really hard to give a clear answer! The CNN relies on multiplying input features by the weights it has set. You can print out and look at the hundreds of weights:\n"
      ]
    },
    {
      "cell_type": "code",
      "metadata": {
        "id": "w8M8UZCgcpqO",
        "colab": {
          "base_uri": "https://localhost:8080/"
        },
        "outputId": "f3ed0837-4723-4633-ab6b-d7de305079b5"
      },
      "source": [
        "#Warning: expect a large output!\n",
        "for layer_weights in history.model.weights:\n",
        "  print (layer_weights)"
      ],
      "execution_count": null,
      "outputs": [
        {
          "output_type": "stream",
          "name": "stdout",
          "text": [
            "<tf.Variable 'conv2d_14/kernel:0' shape=(3, 3, 3, 32) dtype=float32, numpy=\n",
            "array([[[[-0.02122844, -0.07241315,  0.06322252, -0.09808537,\n",
            "          -0.08416864, -0.04593081,  0.05212758, -0.00394554,\n",
            "           0.02490607, -0.0540846 ,  0.1387326 ,  0.09515156,\n",
            "          -0.01612623, -0.01030413,  0.1203579 , -0.02988909,\n",
            "           0.02125358,  0.08537142,  0.12486305, -0.06918596,\n",
            "          -0.0658479 ,  0.05075455, -0.01994616, -0.046778  ,\n",
            "           0.1253952 , -0.12507859,  0.05056224, -0.11555288,\n",
            "          -0.11910336,  0.12381228,  0.04809252,  0.01522821],\n",
            "         [ 0.10484032, -0.05869837,  0.07803651,  0.06926429,\n",
            "          -0.11074935,  0.03754957,  0.13897896,  0.02906071,\n",
            "           0.09503809, -0.12929808,  0.09175979,  0.00133669,\n",
            "           0.05753528, -0.04186879, -0.116272  ,  0.09577914,\n",
            "          -0.12696628, -0.00656427,  0.01946018, -0.09557756,\n",
            "          -0.052007  ,  0.12603562,  0.10465378,  0.10645422,\n",
            "          -0.13264066,  0.04247542, -0.08973627, -0.02922527,\n",
            "           0.11301644, -0.07229006,  0.04000242,  0.06607118],\n",
            "         [-0.05189841, -0.08910812,  0.10592215, -0.1096359 ,\n",
            "          -0.08950516, -0.06438371,  0.00897568, -0.02432198,\n",
            "          -0.00161489,  0.1127116 , -0.09428004, -0.00283833,\n",
            "           0.0316739 , -0.14282525,  0.06993196,  0.00347143,\n",
            "          -0.09400065,  0.01663256, -0.11217541, -0.02003707,\n",
            "          -0.05327321,  0.12875465,  0.08136941, -0.13152131,\n",
            "          -0.04547432,  0.1327575 , -0.06381185, -0.13791566,\n",
            "           0.13155906, -0.04302842,  0.01773279, -0.11319245]],\n",
            "\n",
            "        [[-0.02975359, -0.08269473, -0.12486013,  0.09620078,\n",
            "           0.11265581, -0.07617357, -0.0471884 , -0.02511053,\n",
            "           0.05578087, -0.09906834, -0.08256132,  0.07683553,\n",
            "          -0.05319041,  0.03304657,  0.11175464, -0.03757297,\n",
            "          -0.10068575,  0.1220705 ,  0.10290352, -0.08962045,\n",
            "          -0.03915825, -0.06672807, -0.09911702,  0.09421432,\n",
            "          -0.01172463, -0.11039127, -0.05049578,  0.04231282,\n",
            "           0.0074097 , -0.04263733,  0.04315583, -0.06819864],\n",
            "         [-0.08512446, -0.06832614, -0.031203  ,  0.06364663,\n",
            "          -0.0952848 , -0.10665394,  0.05609162, -0.07938797,\n",
            "          -0.03191604,  0.05137189, -0.08017851, -0.1474362 ,\n",
            "           0.05819388,  0.02768693,  0.01303952, -0.1318149 ,\n",
            "          -0.07503773,  0.03994506,  0.01510481, -0.04913686,\n",
            "           0.00274211, -0.04715279, -0.03794383,  0.01591815,\n",
            "           0.09518224,  0.1375259 , -0.00277586,  0.03148677,\n",
            "          -0.02515418, -0.03011585, -0.03808981, -0.04292261],\n",
            "         [-0.0887552 ,  0.11370284, -0.08571476, -0.03621336,\n",
            "           0.07005427, -0.05540121,  0.05412154,  0.00687321,\n",
            "           0.01161503,  0.06725806,  0.13108493,  0.11941366,\n",
            "          -0.04534242,  0.08674512, -0.06965863, -0.02138711,\n",
            "           0.04181503, -0.07661285,  0.03559212,  0.05398405,\n",
            "           0.02151538,  0.00751887, -0.02284373,  0.0980129 ,\n",
            "          -0.06685303, -0.04884255,  0.01886591,  0.01663062,\n",
            "          -0.02689389, -0.0592305 , -0.05321395, -0.07590233]],\n",
            "\n",
            "        [[ 0.09542027,  0.05706049, -0.14548807,  0.05787534,\n",
            "          -0.10348271, -0.06809959, -0.10515594,  0.06750647,\n",
            "          -0.11770473, -0.02867046, -0.09860405,  0.03593612,\n",
            "           0.13150029, -0.1369488 , -0.10657923, -0.0705667 ,\n",
            "           0.10757774, -0.04465475, -0.08091584,  0.11632074,\n",
            "           0.11920647,  0.14452459, -0.07143374, -0.14280517,\n",
            "          -0.04396473, -0.122917  , -0.11688937, -0.0880606 ,\n",
            "          -0.0941374 , -0.08648325,  0.11087326, -0.06939627],\n",
            "         [-0.06223595, -0.11115147, -0.09740977, -0.05451255,\n",
            "           0.03980292, -0.00442426, -0.12006259,  0.01626976,\n",
            "          -0.04215422, -0.03239332,  0.13565193,  0.05638845,\n",
            "          -0.00790156,  0.0247981 , -0.00213495, -0.0989164 ,\n",
            "           0.13829067, -0.01098513, -0.01374583, -0.1101625 ,\n",
            "           0.0986353 , -0.02573635, -0.04980215,  0.09750595,\n",
            "           0.01455366, -0.09913202, -0.02700806, -0.03849723,\n",
            "           0.07762102,  0.08204868,  0.12561464,  0.11643561],\n",
            "         [ 0.04588309,  0.08615716, -0.08030248,  0.09174692,\n",
            "           0.05063437,  0.05387298,  0.0058464 ,  0.07582826,\n",
            "          -0.03224871,  0.03935525,  0.05638934,  0.09565113,\n",
            "           0.02923962,  0.03463437, -0.12351702,  0.05972669,\n",
            "           0.08058722,  0.01807624, -0.04994229, -0.00219066,\n",
            "          -0.04878268,  0.00755536, -0.09817954,  0.10893063,\n",
            "           0.07007908, -0.06266855,  0.03629341,  0.11710177,\n",
            "           0.13209377,  0.04460064, -0.09418138,  0.02871202]]],\n",
            "\n",
            "\n",
            "       [[[-0.12709889, -0.02132674, -0.11190464,  0.03508184,\n",
            "           0.12192541, -0.12690416, -0.10053766, -0.08090034,\n",
            "          -0.09571443,  0.06837543, -0.04734306, -0.08563528,\n",
            "           0.03856175, -0.07598704,  0.07357427,  0.13916208,\n",
            "           0.0563935 ,  0.01328914,  0.1282027 , -0.06593557,\n",
            "          -0.07420052, -0.10757328, -0.02903192,  0.01473177,\n",
            "           0.11830501, -0.07386811,  0.11157066, -0.10960948,\n",
            "           0.01492737,  0.06834988, -0.12222392, -0.00032212],\n",
            "         [ 0.08339176, -0.08750591,  0.13369751, -0.01583803,\n",
            "          -0.01851297,  0.09065425, -0.00808933,  0.12069464,\n",
            "           0.04059555,  0.0006927 ,  0.07979018, -0.10823864,\n",
            "          -0.09430916,  0.07405715,  0.08708423, -0.10777988,\n",
            "          -0.07016654,  0.05526518, -0.0093677 ,  0.01052005,\n",
            "           0.03646683, -0.07531821,  0.12129234,  0.13012195,\n",
            "           0.04363362, -0.11817026, -0.08962384, -0.06832673,\n",
            "          -0.0115758 , -0.10931519, -0.06629758, -0.13250992],\n",
            "         [ 0.09725606,  0.11018923, -0.10699414,  0.1063438 ,\n",
            "           0.06911769, -0.01094306, -0.01039742,  0.01221321,\n",
            "           0.01125017,  0.12287015,  0.07006482,  0.02874245,\n",
            "           0.05497035,  0.00911691,  0.01580511, -0.0630374 ,\n",
            "           0.08608322, -0.12809116, -0.10114705,  0.03044644,\n",
            "           0.10588486, -0.11030146, -0.1072708 ,  0.02518063,\n",
            "           0.07649525,  0.02289538, -0.09066098,  0.07602601,\n",
            "           0.04199263,  0.09941593, -0.07741166,  0.02159584]],\n",
            "\n",
            "        [[ 0.02694907, -0.11978709,  0.00401919,  0.03681599,\n",
            "           0.11365861, -0.08147059, -0.0395881 , -0.13180457,\n",
            "           0.07471729,  0.09052122,  0.02094587, -0.15045889,\n",
            "          -0.11956495,  0.04934345,  0.02666162,  0.05015433,\n",
            "          -0.06333677,  0.09541925,  0.03914481, -0.10711985,\n",
            "          -0.06543439,  0.06901632,  0.11340206,  0.05941629,\n",
            "          -0.12072536,  0.07144072,  0.00500482,  0.12687165,\n",
            "           0.11083007,  0.02661863,  0.08722762, -0.13781151],\n",
            "         [ 0.07838001, -0.09449413,  0.09902692,  0.03305339,\n",
            "          -0.11968477, -0.10868514, -0.01566352, -0.12440537,\n",
            "          -0.11950738, -0.03517871, -0.01670164,  0.10725993,\n",
            "          -0.05588654, -0.00510167,  0.09307575, -0.01945683,\n",
            "          -0.04834647, -0.01723845, -0.12195905, -0.04620286,\n",
            "           0.04161028,  0.08820006, -0.07419976, -0.01311675,\n",
            "          -0.10901726,  0.10908644,  0.07486431,  0.12706989,\n",
            "          -0.10573199,  0.05277376,  0.00722358, -0.04990214],\n",
            "         [ 0.03686246,  0.0867749 , -0.07341995, -0.14703389,\n",
            "           0.13004176, -0.00256996,  0.09042186,  0.07749998,\n",
            "           0.07127781, -0.05075348,  0.04967364,  0.1006119 ,\n",
            "           0.01908707,  0.07606751,  0.02402993, -0.05599466,\n",
            "           0.02932354,  0.09186038,  0.09614506,  0.01231629,\n",
            "          -0.03542284, -0.12219812, -0.13472204, -0.05267137,\n",
            "           0.10093974, -0.11494747, -0.10202383,  0.08654357,\n",
            "           0.1092594 ,  0.12827446, -0.11136743,  0.0924094 ]],\n",
            "\n",
            "        [[-0.05492054, -0.13311957,  0.10222682, -0.12444101,\n",
            "           0.01001543,  0.06956977, -0.05137925, -0.05896633,\n",
            "           0.13585205,  0.07871544,  0.07875411,  0.02571776,\n",
            "           0.08655465, -0.0902454 , -0.11130729, -0.05760554,\n",
            "           0.00946563,  0.09888118, -0.04864914,  0.10657377,\n",
            "           0.07785545, -0.00840392, -0.08985315,  0.03056677,\n",
            "          -0.0804662 ,  0.05647166, -0.1167179 ,  0.01692124,\n",
            "          -0.01421306,  0.00375454,  0.07550877, -0.04475021],\n",
            "         [ 0.04283859,  0.0213092 ,  0.1036872 , -0.14753968,\n",
            "          -0.13827857,  0.0049798 , -0.11143325, -0.07788208,\n",
            "           0.11547172, -0.03269627, -0.03133567, -0.00867651,\n",
            "          -0.08702347,  0.03153418, -0.0071364 ,  0.00788174,\n",
            "           0.00417648, -0.020658  ,  0.0772926 ,  0.03469268,\n",
            "           0.11558703,  0.13956423,  0.05391405,  0.10704859,\n",
            "           0.12605612,  0.11243726, -0.10986383, -0.04093396,\n",
            "          -0.0745512 , -0.0728491 , -0.12935607,  0.06089951],\n",
            "         [-0.05580792, -0.09391605, -0.0523624 , -0.07389147,\n",
            "          -0.0238076 , -0.01378282, -0.0968458 ,  0.09981809,\n",
            "           0.0147682 ,  0.12954408, -0.06481422, -0.06940012,\n",
            "          -0.00457773,  0.04498307, -0.08581217,  0.05247055,\n",
            "          -0.02501689, -0.0680508 , -0.02329279,  0.11934193,\n",
            "           0.01525016, -0.09192678,  0.08884653, -0.02611983,\n",
            "           0.14325479, -0.0725599 , -0.05658506,  0.12049209,\n",
            "           0.02786842, -0.03541863,  0.02979044,  0.08241631]]],\n",
            "\n",
            "\n",
            "       [[[-0.11080176,  0.08228234,  0.00177428,  0.05325754,\n",
            "          -0.03800362,  0.03202832, -0.08635124,  0.12732887,\n",
            "          -0.10484277,  0.04967461, -0.04273509, -0.00107837,\n",
            "          -0.13285404,  0.06589672, -0.11194561, -0.10914344,\n",
            "           0.08209696, -0.08008021,  0.00585243,  0.00485328,\n",
            "          -0.03213486, -0.12439568, -0.01148427,  0.01375846,\n",
            "          -0.09160498,  0.12421959,  0.00616828, -0.08571016,\n",
            "          -0.01858599, -0.05654335,  0.02634535,  0.03796697],\n",
            "         [-0.04328022, -0.04172811, -0.06178698,  0.05109298,\n",
            "           0.13418613, -0.01822873, -0.13007748,  0.0515247 ,\n",
            "          -0.0613334 ,  0.00284297,  0.0041458 ,  0.10845444,\n",
            "           0.03857027, -0.05361608, -0.02604111, -0.1212358 ,\n",
            "          -0.10385232, -0.07193322,  0.09690021,  0.05909361,\n",
            "           0.09023082,  0.13703215, -0.0213099 ,  0.0669078 ,\n",
            "          -0.05562503, -0.08670832, -0.11819258, -0.06572967,\n",
            "          -0.0876332 ,  0.13723356, -0.08274006, -0.10005406],\n",
            "         [ 0.01160384,  0.06636706,  0.10074902, -0.13477255,\n",
            "           0.13413325,  0.02433768,  0.05390264,  0.00258648,\n",
            "          -0.08511673, -0.06809437,  0.03744859,  0.08535553,\n",
            "           0.00204734, -0.00834674,  0.04689949,  0.08552971,\n",
            "           0.02243177,  0.0605872 ,  0.0502026 ,  0.0901915 ,\n",
            "          -0.04972248, -0.11801165, -0.10920631, -0.09576576,\n",
            "          -0.12429339,  0.10524046, -0.12594378,  0.10019293,\n",
            "           0.10525957,  0.13055526, -0.01608236, -0.04210604]],\n",
            "\n",
            "        [[-0.08678363,  0.10072014, -0.13445495,  0.08816449,\n",
            "          -0.08120757, -0.01184323, -0.0229169 ,  0.1149616 ,\n",
            "          -0.10011334,  0.08326528, -0.02015798,  0.04870584,\n",
            "           0.11651207, -0.04393166, -0.07446055, -0.08189565,\n",
            "          -0.05759481,  0.0478127 , -0.12386356,  0.05518172,\n",
            "           0.02831168, -0.04472293, -0.02898322, -0.05966483,\n",
            "          -0.09445684,  0.05493915, -0.11646052, -0.0030254 ,\n",
            "          -0.01243234, -0.11496347, -0.03554077,  0.02386951],\n",
            "         [ 0.10597101,  0.133652  , -0.05736677, -0.09054565,\n",
            "          -0.13320856, -0.03707469,  0.04397163,  0.03087773,\n",
            "          -0.03842186,  0.04060913,  0.01811661,  0.08951364,\n",
            "          -0.03743774, -0.04050497,  0.10983316, -0.12751237,\n",
            "          -0.04245169,  0.03355261, -0.08800384,  0.00797329,\n",
            "          -0.11915039,  0.10741435,  0.07621474, -0.11402894,\n",
            "          -0.0958563 ,  0.03162569, -0.0204689 , -0.06441207,\n",
            "           0.0350979 , -0.09581456, -0.00250421, -0.0189839 ],\n",
            "         [ 0.10248259, -0.01019023, -0.02273243,  0.12985842,\n",
            "          -0.05975408,  0.03831146, -0.02989399, -0.00035266,\n",
            "           0.11481985,  0.03239392,  0.10363608,  0.00252385,\n",
            "          -0.09653506, -0.0493726 ,  0.050752  , -0.09173188,\n",
            "          -0.07032806,  0.01334193,  0.07632792, -0.12921041,\n",
            "           0.10060658, -0.06169528, -0.07811102, -0.09889884,\n",
            "          -0.10291972, -0.04174944,  0.03413443, -0.05403082,\n",
            "           0.04102562, -0.13024284,  0.06033318, -0.02019191]],\n",
            "\n",
            "        [[-0.12522529,  0.01801487, -0.03563621,  0.02834874,\n",
            "           0.0335197 ,  0.02787346,  0.11533797, -0.11312608,\n",
            "           0.11927084, -0.02325368, -0.12356911, -0.09791274,\n",
            "          -0.09261766,  0.0390217 ,  0.10376734, -0.02129314,\n",
            "           0.12353099, -0.00385726,  0.00669444,  0.12076163,\n",
            "          -0.05288526, -0.01774421,  0.04886452,  0.03216435,\n",
            "          -0.00551674, -0.03143556,  0.12273571, -0.13536043,\n",
            "           0.09205491, -0.11320934,  0.07220794,  0.04282524],\n",
            "         [-0.00532602,  0.03259807,  0.07830055,  0.00335308,\n",
            "          -0.02372337, -0.03044047, -0.07465201, -0.11788917,\n",
            "          -0.03791947, -0.13075355, -0.12697308, -0.09689908,\n",
            "          -0.12486844, -0.00792837,  0.12666202,  0.10626236,\n",
            "          -0.02904278, -0.13314323, -0.09926965,  0.03195588,\n",
            "           0.02935286, -0.0733368 ,  0.10328117,  0.07545753,\n",
            "           0.00304841, -0.08770777, -0.04632038,  0.01060285,\n",
            "          -0.01421155,  0.11072252,  0.12121123, -0.09769588],\n",
            "         [-0.12916583,  0.01726081,  0.13549554,  0.01165121,\n",
            "          -0.10492565,  0.01126752,  0.07479586, -0.04443625,\n",
            "          -0.06923833,  0.01662086, -0.09803328, -0.00308981,\n",
            "          -0.09749646, -0.0955369 , -0.0583901 ,  0.02267284,\n",
            "           0.04468747,  0.06074614,  0.12450671,  0.01564381,\n",
            "           0.11314412,  0.0647978 , -0.13923466,  0.00069131,\n",
            "           0.06538081, -0.04635298, -0.04872834, -0.06148551,\n",
            "           0.00409508, -0.11089388, -0.07542292, -0.05985809]]]],\n",
            "      dtype=float32)>\n",
            "<tf.Variable 'conv2d_14/bias:0' shape=(32,) dtype=float32, numpy=\n",
            "array([ 0.00725244,  0.00109699, -0.00414789, -0.00054564, -0.00451031,\n",
            "        0.0094127 , -0.001452  ,  0.00104431,  0.002747  , -0.0185757 ,\n",
            "        0.01803591, -0.01377672, -0.00052459, -0.01087871,  0.00904515,\n",
            "        0.00259574,  0.0088239 , -0.01829047, -0.0027465 , -0.0020421 ,\n",
            "        0.00748067,  0.02459176,  0.00395682,  0.01358418,  0.00683239,\n",
            "        0.01352949, -0.00061226, -0.00155743, -0.0079182 , -0.00430945,\n",
            "       -0.00573355,  0.01222165], dtype=float32)>\n",
            "<tf.Variable 'conv2d_15/kernel:0' shape=(3, 3, 32, 32) dtype=float32, numpy=\n",
            "array([[[[ 0.07146823, -0.02211519,  0.0919698 , ..., -0.07144969,\n",
            "           0.0538903 , -0.03865287],\n",
            "         [ 0.01681854, -0.03941491, -0.03780886, ..., -0.0939763 ,\n",
            "          -0.08204316,  0.01347117],\n",
            "         [-0.07376448, -0.09045206, -0.01211704, ...,  0.09960838,\n",
            "          -0.01907341, -0.01596311],\n",
            "         ...,\n",
            "         [-0.07148902,  0.00883582,  0.05238581, ...,  0.07424702,\n",
            "          -0.01691834,  0.06003162],\n",
            "         [ 0.08150901, -0.10865582, -0.08859509, ...,  0.10403421,\n",
            "           0.01331204,  0.08659767],\n",
            "         [ 0.03841557, -0.05052719, -0.04704096, ...,  0.04660122,\n",
            "           0.06385226,  0.00042679]],\n",
            "\n",
            "        [[ 0.05969745,  0.06718121,  0.014625  , ...,  0.01798278,\n",
            "          -0.06402677, -0.04488255],\n",
            "         [-0.02042338,  0.0667083 , -0.01924973, ..., -0.06712389,\n",
            "          -0.08503412, -0.01568339],\n",
            "         [-0.09202288,  0.06746335, -0.05512425, ..., -0.0838957 ,\n",
            "           0.1057215 , -0.05023639],\n",
            "         ...,\n",
            "         [ 0.06747146, -0.11061814,  0.04282739, ..., -0.0582212 ,\n",
            "          -0.02527651, -0.01056324],\n",
            "         [ 0.07348787, -0.04373581, -0.01482644, ...,  0.0073764 ,\n",
            "           0.04189941, -0.03495221],\n",
            "         [-0.05892229,  0.06543345,  0.00259145, ...,  0.00465059,\n",
            "          -0.06183089, -0.01865715]],\n",
            "\n",
            "        [[ 0.10007436, -0.0384085 , -0.06050706, ...,  0.04114271,\n",
            "          -0.0265772 , -0.04408469],\n",
            "         [ 0.00150761, -0.05313452, -0.01582128, ..., -0.04599233,\n",
            "           0.02648171, -0.00827166],\n",
            "         [-0.04177242, -0.03178032,  0.0942036 , ..., -0.02355689,\n",
            "           0.05257078, -0.07152377],\n",
            "         ...,\n",
            "         [ 0.09630296,  0.10473095, -0.07462016, ..., -0.08406394,\n",
            "           0.10030905,  0.06984667],\n",
            "         [-0.06522498,  0.04753991, -0.07112162, ..., -0.01408768,\n",
            "           0.08119888,  0.04339031],\n",
            "         [-0.06834845,  0.09468982,  0.05514682, ..., -0.02878509,\n",
            "           0.09187698, -0.09814244]]],\n",
            "\n",
            "\n",
            "       [[[ 0.0399362 , -0.00395188, -0.03511716, ...,  0.02029112,\n",
            "           0.0706359 , -0.0063551 ],\n",
            "         [ 0.04438575, -0.00460469,  0.09954521, ...,  0.0715111 ,\n",
            "          -0.03588526, -0.09168265],\n",
            "         [-0.03819958, -0.01493669, -0.01650642, ...,  0.07638107,\n",
            "          -0.0473612 ,  0.04978574],\n",
            "         ...,\n",
            "         [ 0.08021072,  0.07239874, -0.01417038, ...,  0.08223003,\n",
            "           0.05574936, -0.00832512],\n",
            "         [ 0.04845825, -0.07176695, -0.08355745, ...,  0.11164293,\n",
            "           0.01094454,  0.04156017],\n",
            "         [-0.00228114, -0.09421749, -0.08893126, ...,  0.06437845,\n",
            "           0.02971836, -0.09040508]],\n",
            "\n",
            "        [[-0.04431865, -0.00395483, -0.03663776, ..., -0.10310961,\n",
            "           0.01704097,  0.00438881],\n",
            "         [ 0.05487167,  0.05145492,  0.01987141, ...,  0.07493073,\n",
            "          -0.05581   , -0.00951503],\n",
            "         [ 0.09372657, -0.00671339, -0.04101642, ...,  0.04913874,\n",
            "           0.06659288,  0.08357411],\n",
            "         ...,\n",
            "         [-0.06885976,  0.01061505, -0.03415377, ..., -0.0428693 ,\n",
            "          -0.1028225 , -0.01321397],\n",
            "         [-0.01963436, -0.01937835,  0.07903394, ..., -0.06739869,\n",
            "           0.08423716, -0.01357888],\n",
            "         [ 0.10644965, -0.04632348,  0.06331044, ..., -0.03316748,\n",
            "          -0.08338338, -0.00054581]],\n",
            "\n",
            "        [[-0.06571403, -0.04677737,  0.06147593, ..., -0.05698419,\n",
            "          -0.08150688,  0.06263573],\n",
            "         [-0.01137298,  0.00189537, -0.06982655, ...,  0.01308276,\n",
            "          -0.02946287, -0.00293087],\n",
            "         [-0.03719225,  0.03685308, -0.0884534 , ...,  0.1102052 ,\n",
            "           0.09760621,  0.03369055],\n",
            "         ...,\n",
            "         [-0.0051806 ,  0.04597449, -0.08033399, ...,  0.00146056,\n",
            "           0.06883518, -0.06839389],\n",
            "         [ 0.05022094,  0.04159986, -0.06045659, ...,  0.05717785,\n",
            "           0.02906704, -0.11284851],\n",
            "         [-0.00117529,  0.04236387, -0.09529826, ..., -0.07538891,\n",
            "           0.04385152, -0.0288931 ]]],\n",
            "\n",
            "\n",
            "       [[[ 0.0206423 , -0.02708448,  0.00952497, ..., -0.03776474,\n",
            "           0.11528654,  0.00595092],\n",
            "         [ 0.02754151,  0.005093  ,  0.04487933, ...,  0.02411069,\n",
            "          -0.02701355, -0.05260861],\n",
            "         [ 0.07537927, -0.02908714,  0.08169153, ...,  0.00581999,\n",
            "           0.00975356,  0.07679392],\n",
            "         ...,\n",
            "         [-0.02201758,  0.10528039, -0.07498919, ..., -0.034166  ,\n",
            "          -0.03133132,  0.01513977],\n",
            "         [ 0.05293972,  0.0120327 , -0.00148167, ...,  0.08333759,\n",
            "           0.07966698,  0.02664715],\n",
            "         [ 0.01096995,  0.01799087, -0.07001308, ...,  0.04563041,\n",
            "          -0.04589402, -0.03870967]],\n",
            "\n",
            "        [[ 0.10139734,  0.07883688, -0.02810963, ..., -0.08952903,\n",
            "           0.06070269, -0.02021036],\n",
            "         [-0.08521246, -0.0444159 , -0.03739117, ..., -0.08251877,\n",
            "           0.09426705,  0.0511431 ],\n",
            "         [-0.06552333,  0.08840623,  0.00399058, ...,  0.01500253,\n",
            "           0.0554244 , -0.05189727],\n",
            "         ...,\n",
            "         [ 0.07779724,  0.01495394,  0.07454786, ..., -0.03613921,\n",
            "          -0.02409632, -0.07168207],\n",
            "         [-0.08335197,  0.1017602 , -0.09009281, ...,  0.07550573,\n",
            "           0.06766404, -0.10310886],\n",
            "         [ 0.07816   , -0.08648904,  0.08804885, ...,  0.02608093,\n",
            "           0.06964567, -0.03408056]],\n",
            "\n",
            "        [[ 0.026269  ,  0.0131659 ,  0.08581403, ...,  0.00858713,\n",
            "          -0.06876685, -0.08447425],\n",
            "         [ 0.07452945,  0.06512964,  0.06347773, ...,  0.09386363,\n",
            "          -0.0460796 ,  0.05355488],\n",
            "         [-0.0622174 , -0.01360553, -0.08642537, ..., -0.07880384,\n",
            "           0.02409826,  0.01398829],\n",
            "         ...,\n",
            "         [-0.08186098, -0.04432961, -0.08334906, ...,  0.08126835,\n",
            "          -0.01525887,  0.09898962],\n",
            "         [-0.00119132,  0.00039622, -0.04395663, ..., -0.06261318,\n",
            "          -0.03297839, -0.06274568],\n",
            "         [-0.05950483,  0.06869048,  0.07102631, ..., -0.10109193,\n",
            "          -0.0335475 ,  0.06580044]]]], dtype=float32)>\n",
            "<tf.Variable 'conv2d_15/bias:0' shape=(32,) dtype=float32, numpy=\n",
            "array([-0.0118382 , -0.00439734,  0.00957413, -0.01176425, -0.01127323,\n",
            "       -0.02537345,  0.01342172, -0.01521935,  0.00417097,  0.0029084 ,\n",
            "        0.01335698,  0.01588026, -0.00695696, -0.01770342, -0.01804041,\n",
            "        0.01607629,  0.00370866,  0.00235648,  0.00715756,  0.00459414,\n",
            "       -0.01020018, -0.00082809, -0.00202476,  0.00299187, -0.0089663 ,\n",
            "        0.00515839, -0.00257508,  0.00520951,  0.0032519 ,  0.01324795,\n",
            "       -0.01507533, -0.0014905 ], dtype=float32)>\n",
            "<tf.Variable 'conv2d_16/kernel:0' shape=(3, 3, 32, 32) dtype=float32, numpy=\n",
            "array([[[[-5.76260760e-02,  8.09120610e-02, -1.19008627e-02, ...,\n",
            "           1.84875783e-02,  1.01185508e-01,  8.46993253e-02],\n",
            "         [-5.48042096e-02, -3.01007964e-02, -2.66291536e-02, ...,\n",
            "          -9.16486531e-02, -2.04190891e-02, -1.47489766e-02],\n",
            "         [-2.48188730e-02, -2.94989161e-02, -3.09528001e-02, ...,\n",
            "           4.49940264e-02, -1.07909665e-01,  1.28098251e-02],\n",
            "         ...,\n",
            "         [ 9.17609185e-02, -1.75815187e-02,  4.29234914e-02, ...,\n",
            "           7.85238147e-02,  5.03255539e-02, -6.97015300e-02],\n",
            "         [-6.72673434e-02,  4.26342934e-02,  5.74912280e-02, ...,\n",
            "           3.28951180e-02,  7.02707320e-02,  4.34744824e-03],\n",
            "         [ 3.90472077e-03,  6.51453212e-02, -6.61578551e-02, ...,\n",
            "          -2.63650641e-02,  7.84580261e-02, -6.15643105e-03]],\n",
            "\n",
            "        [[ 8.22530091e-02,  3.52974869e-02, -4.85285036e-02, ...,\n",
            "           3.48292198e-03,  1.01196833e-01,  6.29910082e-02],\n",
            "         [ 9.47264060e-02, -6.36715069e-02,  3.95628326e-02, ...,\n",
            "          -5.93274906e-02, -1.96101908e-02, -3.63249145e-02],\n",
            "         [-1.54528348e-02, -1.82881784e-02, -2.75012534e-02, ...,\n",
            "           9.69756544e-02, -3.47064734e-02, -1.74938608e-02],\n",
            "         ...,\n",
            "         [-7.44758500e-03, -2.81367768e-02, -3.00594745e-03, ...,\n",
            "          -5.09881675e-02,  1.13779807e-03,  5.60770072e-02],\n",
            "         [ 8.54818001e-02, -3.99358422e-02,  1.01349965e-01, ...,\n",
            "          -8.94956216e-02,  6.14520460e-02, -9.27150846e-02],\n",
            "         [ 7.58457780e-02,  5.41990972e-04, -7.67643005e-02, ...,\n",
            "          -2.90284343e-02,  6.57339394e-02,  4.70708571e-02]],\n",
            "\n",
            "        [[-9.87571999e-02,  7.03921616e-02,  4.12918925e-02, ...,\n",
            "          -3.19496542e-02,  6.19711168e-03,  3.88719700e-02],\n",
            "         [ 6.87493831e-02, -1.00984327e-01,  6.33607209e-02, ...,\n",
            "           2.78663095e-02, -2.91491989e-02,  1.52493492e-02],\n",
            "         [ 1.51752625e-02, -2.33589895e-02,  1.11651070e-01, ...,\n",
            "           4.28291000e-02, -8.49895328e-02,  5.98841719e-02],\n",
            "         ...,\n",
            "         [-3.29149738e-02,  7.63172507e-02,  4.04193513e-02, ...,\n",
            "          -5.51883616e-02,  1.00983763e-02, -2.08595153e-02],\n",
            "         [-2.13414766e-02,  9.57901999e-02,  7.98277706e-02, ...,\n",
            "           7.90745020e-02,  5.32657327e-03,  2.75527742e-02],\n",
            "         [-1.43904472e-02,  1.12005940e-03,  2.09463947e-02, ...,\n",
            "           1.37313772e-02,  2.53188517e-02,  7.60052949e-02]]],\n",
            "\n",
            "\n",
            "       [[[ 9.22325477e-02, -6.50149360e-02,  9.63306520e-03, ...,\n",
            "           9.71548185e-02,  5.14972024e-02,  9.75602865e-02],\n",
            "         [ 1.84343792e-02,  4.84644622e-02, -3.08132917e-02, ...,\n",
            "           4.27038111e-02, -2.34437466e-04,  9.68775246e-04],\n",
            "         [-5.66686466e-02, -6.36054501e-02, -9.36249495e-02, ...,\n",
            "           6.61131144e-02,  8.76135379e-02,  6.12214468e-02],\n",
            "         ...,\n",
            "         [-5.92712648e-02,  1.08282849e-01,  3.74133103e-02, ...,\n",
            "           7.89912939e-02, -5.59845492e-02, -2.65916716e-02],\n",
            "         [ 8.08631107e-02,  8.23985636e-02,  8.38276595e-02, ...,\n",
            "          -5.60571551e-02,  7.10018575e-02, -6.49422035e-02],\n",
            "         [-1.00985365e-02,  7.82113895e-02,  3.90883014e-02, ...,\n",
            "          -2.05973233e-03,  8.57035890e-02, -6.99855983e-02]],\n",
            "\n",
            "        [[ 9.54280421e-02, -8.39444473e-02, -7.44000226e-02, ...,\n",
            "           8.06055591e-02,  1.03970677e-01, -3.77023704e-02],\n",
            "         [ 3.28348391e-02, -8.62665325e-02,  5.52313682e-03, ...,\n",
            "          -5.16278557e-02, -9.75680947e-02, -2.04791669e-02],\n",
            "         [ 1.06491722e-01,  5.42069413e-02, -9.99098271e-03, ...,\n",
            "          -9.26074162e-02,  2.28548925e-02,  6.14210367e-02],\n",
            "         ...,\n",
            "         [-2.97159925e-02,  8.68123770e-02,  3.17671672e-02, ...,\n",
            "          -3.90778705e-02,  6.82242587e-02,  2.21332386e-02],\n",
            "         [-8.93353000e-02, -1.62901375e-02, -4.76568751e-02, ...,\n",
            "          -7.29001686e-02,  7.37899467e-02,  3.67898494e-02],\n",
            "         [-1.29073448e-02, -1.61254238e-02,  6.90600649e-02, ...,\n",
            "           5.54318801e-02, -5.90660349e-02, -8.87676999e-02]],\n",
            "\n",
            "        [[ 7.75574669e-02, -7.97218680e-02,  1.01851262e-01, ...,\n",
            "           1.82670206e-02, -1.43019510e-02,  4.14407533e-03],\n",
            "         [-4.96457294e-02,  2.16237381e-02, -1.68948099e-02, ...,\n",
            "           6.99416175e-02, -1.25639886e-01,  6.10404611e-02],\n",
            "         [-2.83014774e-02,  1.05165228e-01, -5.27684242e-02, ...,\n",
            "          -1.99624654e-02, -8.12780932e-02,  1.09449066e-01],\n",
            "         ...,\n",
            "         [ 1.06656238e-01, -3.80458087e-02, -9.93352011e-02, ...,\n",
            "           4.48661223e-02,  9.85750780e-02, -8.90978798e-02],\n",
            "         [ 5.68291359e-02,  9.81378779e-02,  3.00580766e-02, ...,\n",
            "           6.50705490e-03,  9.84962508e-02,  1.92698315e-02],\n",
            "         [-4.12664227e-02,  3.00437510e-02, -3.63368578e-02, ...,\n",
            "          -4.95796315e-02, -8.51162672e-02, -3.70920775e-03]]],\n",
            "\n",
            "\n",
            "       [[[ 1.41576976e-02, -8.77987295e-02,  9.15395170e-02, ...,\n",
            "          -7.39278048e-02, -5.03412485e-02,  9.10572782e-02],\n",
            "         [-1.04789905e-01, -3.55988629e-02,  1.10378250e-01, ...,\n",
            "          -5.92287853e-02,  1.07744168e-02, -1.98301431e-02],\n",
            "         [-1.42402230e-02, -5.51793389e-02,  5.21097034e-02, ...,\n",
            "          -1.00362979e-01, -8.15749839e-02, -8.27310383e-02],\n",
            "         ...,\n",
            "         [-6.23246953e-02, -1.04120970e-01, -9.55621451e-02, ...,\n",
            "          -1.15744006e-02,  2.05493141e-02, -5.93238026e-02],\n",
            "         [-6.18229434e-02,  7.38241673e-02, -4.23891060e-02, ...,\n",
            "           2.09409315e-02,  4.81094718e-02,  6.42066747e-02],\n",
            "         [-6.70694336e-02, -3.26239616e-02, -1.37846656e-02, ...,\n",
            "          -6.21190444e-02, -3.46840546e-02,  1.01075053e-01]],\n",
            "\n",
            "        [[ 1.03434630e-01,  3.41393352e-02, -5.35988547e-02, ...,\n",
            "          -6.04558066e-02, -2.41987631e-02,  1.41006913e-02],\n",
            "         [-7.18831420e-02, -7.29737654e-02,  1.15583447e-04, ...,\n",
            "           7.56462067e-02, -8.74230117e-02, -8.72256383e-02],\n",
            "         [-8.33932087e-02,  6.52565360e-02,  7.21427426e-02, ...,\n",
            "          -8.90678540e-02,  8.68343115e-02, -1.80153884e-02],\n",
            "         ...,\n",
            "         [-5.56726381e-02,  2.69501526e-02, -7.86291510e-02, ...,\n",
            "           9.00100619e-02,  5.25329076e-02, -6.13211952e-02],\n",
            "         [ 2.80863717e-02, -8.36035684e-02, -3.66004463e-03, ...,\n",
            "          -7.83438385e-02,  8.19096565e-02, -2.07987446e-02],\n",
            "         [ 3.27411629e-02,  7.34521225e-02, -7.21940473e-02, ...,\n",
            "           7.99406618e-02, -6.40699267e-02,  1.33290775e-02]],\n",
            "\n",
            "        [[ 7.50614405e-02,  1.72782745e-02,  8.77950191e-02, ...,\n",
            "          -9.50189307e-02, -7.03848526e-02,  3.49785723e-02],\n",
            "         [-8.27816948e-02, -9.40015316e-02,  8.88121724e-02, ...,\n",
            "           3.54089551e-02, -3.53698246e-02, -7.77256116e-02],\n",
            "         [-4.62482311e-02, -7.21389148e-03, -7.51695335e-02, ...,\n",
            "          -5.21349274e-02,  5.23529947e-02, -3.60999294e-02],\n",
            "         ...,\n",
            "         [-8.43753740e-02,  7.73405582e-02, -3.72179486e-02, ...,\n",
            "           8.57171118e-02,  8.85122046e-02,  4.01804112e-02],\n",
            "         [ 3.07601094e-02,  6.58833757e-02,  2.49143131e-02, ...,\n",
            "           7.42594376e-02,  1.14955045e-01,  8.79924595e-02],\n",
            "         [-6.39637113e-02,  2.59770267e-02, -9.41128358e-02, ...,\n",
            "           9.61127803e-02,  1.23139955e-02, -9.88985151e-02]]]],\n",
            "      dtype=float32)>\n",
            "<tf.Variable 'conv2d_16/bias:0' shape=(32,) dtype=float32, numpy=\n",
            "array([-1.2239678e-02, -6.4220414e-03, -1.0686228e-05,  1.7796395e-02,\n",
            "       -9.7504724e-04,  1.7910259e-02,  3.7638911e-03,  5.9011783e-03,\n",
            "       -9.9551221e-03, -7.2275875e-03,  1.0279957e-03,  8.9723719e-03,\n",
            "        6.1440800e-04, -1.8332293e-04,  4.8712026e-03,  1.9615358e-02,\n",
            "        1.7564572e-02,  9.0653710e-03, -1.2853689e-02,  9.3220044e-03,\n",
            "       -2.1774198e-03,  1.7724097e-02,  1.0300920e-02, -5.0481632e-03,\n",
            "        5.7583321e-03, -2.6925946e-02, -3.2213631e-03, -1.4850998e-04,\n",
            "        1.0445083e-03,  3.2832345e-03, -1.0468606e-02,  1.1245715e-02],\n",
            "      dtype=float32)>\n",
            "<tf.Variable 'conv2d_17/kernel:0' shape=(3, 3, 32, 32) dtype=float32, numpy=\n",
            "array([[[[ 0.04248797,  0.09468129, -0.03754267, ..., -0.04562937,\n",
            "          -0.03693829, -0.05013778],\n",
            "         [-0.08758306,  0.04694852, -0.06015524, ..., -0.02471362,\n",
            "          -0.02911416, -0.01698557],\n",
            "         [-0.10763834, -0.02770162,  0.05010925, ...,  0.06812287,\n",
            "          -0.00769208,  0.08466975],\n",
            "         ...,\n",
            "         [-0.08416657,  0.01451593, -0.04142879, ..., -0.09619498,\n",
            "          -0.08388393, -0.1105809 ],\n",
            "         [-0.00414465,  0.0671867 , -0.04941376, ..., -0.00237364,\n",
            "          -0.07183731, -0.07073938],\n",
            "         [ 0.05252764,  0.01826769, -0.05831017, ..., -0.04305108,\n",
            "          -0.01711796,  0.01434616]],\n",
            "\n",
            "        [[-0.04057589, -0.05793214,  0.04160781, ...,  0.07200237,\n",
            "          -0.01818231,  0.08764716],\n",
            "         [ 0.04262508,  0.0129868 ,  0.0158518 , ..., -0.07005903,\n",
            "           0.02154059, -0.07113809],\n",
            "         [ 0.01859758, -0.08664761, -0.0372121 , ...,  0.093661  ,\n",
            "           0.00265278,  0.00461135],\n",
            "         ...,\n",
            "         [-0.05508136, -0.02399896,  0.08342349, ..., -0.02291323,\n",
            "           0.09330957,  0.01628552],\n",
            "         [ 0.0084426 ,  0.02011208,  0.08120874, ...,  0.05829418,\n",
            "           0.05339668,  0.00651022],\n",
            "         [ 0.06714384,  0.05376323, -0.09824826, ..., -0.05263162,\n",
            "          -0.08585111, -0.09070133]],\n",
            "\n",
            "        [[-0.09784554, -0.10401861, -0.01449553, ..., -0.01391667,\n",
            "           0.04311768, -0.06012101],\n",
            "         [ 0.02292952,  0.08054072, -0.08483908, ..., -0.02688774,\n",
            "           0.03422758,  0.03156524],\n",
            "         [ 0.04094269,  0.10309811, -0.04211742, ...,  0.01169906,\n",
            "          -0.01811029, -0.02889857],\n",
            "         ...,\n",
            "         [-0.08373071, -0.05511322,  0.013883  , ..., -0.08917221,\n",
            "          -0.01000723, -0.09370638],\n",
            "         [ 0.11195704, -0.09499962,  0.00485204, ..., -0.08726919,\n",
            "          -0.02030366, -0.00267666],\n",
            "         [ 0.06161015, -0.04585211,  0.00622722, ...,  0.01730568,\n",
            "          -0.04677823,  0.00222356]]],\n",
            "\n",
            "\n",
            "       [[[ 0.06131572,  0.10682552,  0.04622812, ...,  0.04221364,\n",
            "           0.00030047,  0.06124157],\n",
            "         [-0.0622651 ,  0.06099597,  0.08290762, ..., -0.09111876,\n",
            "          -0.04122289,  0.05362924],\n",
            "         [-0.03635654, -0.0651096 , -0.06477468, ...,  0.09716079,\n",
            "           0.06429695,  0.03594904],\n",
            "         ...,\n",
            "         [ 0.09249888,  0.10223056, -0.08850072, ...,  0.0014736 ,\n",
            "           0.06046032,  0.06045268],\n",
            "         [-0.09320352,  0.03722188, -0.01197747, ..., -0.06923597,\n",
            "          -0.04127273, -0.0304476 ],\n",
            "         [ 0.00569846, -0.09995928, -0.00052392, ..., -0.00232709,\n",
            "           0.05832377, -0.08732139]],\n",
            "\n",
            "        [[-0.0507957 , -0.0056899 ,  0.04696102, ...,  0.04533072,\n",
            "          -0.08257949,  0.07711221],\n",
            "         [-0.03105137, -0.00142747, -0.04535014, ..., -0.0940114 ,\n",
            "          -0.05117189, -0.09481546],\n",
            "         [-0.0578748 , -0.05863408, -0.02873503, ..., -0.05781901,\n",
            "          -0.08159184, -0.0955411 ],\n",
            "         ...,\n",
            "         [-0.05221415,  0.05281547,  0.02879798, ...,  0.00423865,\n",
            "           0.07610182, -0.00024357],\n",
            "         [ 0.1058111 ,  0.10209513,  0.05470861, ..., -0.05015085,\n",
            "           0.06481281, -0.0970597 ],\n",
            "         [-0.03858772, -0.1028534 ,  0.10268871, ...,  0.08695909,\n",
            "           0.04729459,  0.04882924]],\n",
            "\n",
            "        [[ 0.08888415,  0.05556328, -0.06020872, ...,  0.01450366,\n",
            "           0.03417177, -0.10532284],\n",
            "         [-0.00756401, -0.10467236, -0.03129593, ..., -0.02112894,\n",
            "           0.01143272, -0.02973878],\n",
            "         [-0.02753078, -0.0195562 ,  0.06196921, ...,  0.04276451,\n",
            "           0.02230366,  0.02367137],\n",
            "         ...,\n",
            "         [ 0.08983139, -0.05422354,  0.0714801 , ..., -0.03393943,\n",
            "          -0.08912615,  0.07859258],\n",
            "         [ 0.03469191, -0.05131464, -0.05406085, ...,  0.01361333,\n",
            "          -0.05799846,  0.05963089],\n",
            "         [ 0.01655583, -0.05694619, -0.05593241, ..., -0.03143486,\n",
            "          -0.03042207, -0.07384202]]],\n",
            "\n",
            "\n",
            "       [[[-0.03608958,  0.05166136, -0.03459448, ...,  0.02252311,\n",
            "          -0.05311507,  0.0348688 ],\n",
            "         [ 0.04158251, -0.06571706, -0.10389435, ..., -0.0241584 ,\n",
            "           0.06103708, -0.10674638],\n",
            "         [ 0.10990991, -0.1204397 , -0.06771623, ...,  0.00496154,\n",
            "           0.04280572, -0.00637968],\n",
            "         ...,\n",
            "         [ 0.06714376,  0.00326879, -0.06382798, ..., -0.09779003,\n",
            "           0.07603135,  0.0153305 ],\n",
            "         [ 0.08782703, -0.0578335 , -0.00433429, ..., -0.02440378,\n",
            "           0.0450254 ,  0.00872253],\n",
            "         [ 0.00953225,  0.03775782,  0.02149951, ...,  0.09271962,\n",
            "           0.054536  , -0.08097752]],\n",
            "\n",
            "        [[-0.06515647, -0.06713276,  0.06050542, ..., -0.01948544,\n",
            "           0.07033613, -0.07033596],\n",
            "         [ 0.0062809 , -0.10421618,  0.019905  , ..., -0.06940949,\n",
            "          -0.09019274, -0.10740262],\n",
            "         [-0.04902206, -0.04389079,  0.10136798, ...,  0.09960115,\n",
            "           0.10017321, -0.09523058],\n",
            "         ...,\n",
            "         [-0.07643594, -0.03557481,  0.08156571, ..., -0.02126265,\n",
            "           0.01890963, -0.04783703],\n",
            "         [ 0.02580432, -0.00989752,  0.03882873, ...,  0.07450964,\n",
            "          -0.03709535, -0.03784274],\n",
            "         [-0.08510911, -0.08229078,  0.00166153, ..., -0.08695383,\n",
            "          -0.03927187,  0.07226919]],\n",
            "\n",
            "        [[-0.05058828,  0.05856584, -0.01674117, ...,  0.00155659,\n",
            "          -0.10062005,  0.01091596],\n",
            "         [ 0.10067853,  0.04744286, -0.08185478, ...,  0.0946583 ,\n",
            "           0.10770069, -0.02407494],\n",
            "         [ 0.08360724, -0.01253131, -0.05275299, ...,  0.00541245,\n",
            "          -0.03011157,  0.08226788],\n",
            "         ...,\n",
            "         [ 0.06251692, -0.01988868, -0.09068665, ..., -0.05494048,\n",
            "           0.02522717,  0.01949867],\n",
            "         [ 0.03983619, -0.03886814,  0.03242484, ..., -0.05410603,\n",
            "          -0.01846823, -0.05570122],\n",
            "         [ 0.01282173, -0.01817629,  0.10209938, ...,  0.02774708,\n",
            "           0.1065822 ,  0.03309254]]]], dtype=float32)>\n",
            "<tf.Variable 'conv2d_17/bias:0' shape=(32,) dtype=float32, numpy=\n",
            "array([ 0.0055162 ,  0.02505795,  0.01351362, -0.01946083, -0.00048918,\n",
            "       -0.00541304, -0.00441373, -0.00380935,  0.01705703,  0.00622627,\n",
            "        0.01557432, -0.00354798, -0.00163287, -0.00013614,  0.00382112,\n",
            "        0.0025525 ,  0.0037515 , -0.00062491,  0.00316418,  0.00988889,\n",
            "       -0.00844811, -0.00060243,  0.00016178,  0.00776329,  0.00079684,\n",
            "       -0.01135243,  0.00576397, -0.0024653 ,  0.00811594,  0.01491317,\n",
            "        0.00122395,  0.01418679], dtype=float32)>\n",
            "<tf.Variable 'conv2d_18/kernel:0' shape=(3, 3, 32, 32) dtype=float32, numpy=\n",
            "array([[[[ 0.08841388, -0.04897381, -0.0622915 , ..., -0.10327014,\n",
            "          -0.00076402,  0.04545357],\n",
            "         [-0.03968606, -0.08547864, -0.10029171, ...,  0.08311161,\n",
            "          -0.06306045,  0.05119319],\n",
            "         [-0.0287325 ,  0.11551615,  0.07200197, ...,  0.08381397,\n",
            "          -0.03797099, -0.00059991],\n",
            "         ...,\n",
            "         [-0.0137273 , -0.07435634, -0.1089952 , ...,  0.0499412 ,\n",
            "          -0.01065086,  0.04263131],\n",
            "         [ 0.0215997 ,  0.06165501,  0.08272783, ...,  0.02649222,\n",
            "           0.01301941,  0.05641773],\n",
            "         [-0.10374554,  0.05705215, -0.02985322, ..., -0.09497783,\n",
            "           0.05574211, -0.02023056]],\n",
            "\n",
            "        [[-0.08676444, -0.02825264, -0.08435765, ..., -0.0201428 ,\n",
            "          -0.00719459,  0.04175564],\n",
            "         [-0.09733826, -0.0735632 , -0.04641088, ..., -0.0838517 ,\n",
            "          -0.0088323 , -0.05309474],\n",
            "         [ 0.11320328,  0.00427705,  0.00083012, ...,  0.01807373,\n",
            "          -0.02287989, -0.02577541],\n",
            "         ...,\n",
            "         [ 0.05315553, -0.10449407, -0.06924805, ..., -0.07514076,\n",
            "           0.05255901, -0.02869906],\n",
            "         [ 0.01890038, -0.07703005,  0.0504709 , ...,  0.04864211,\n",
            "           0.01025829,  0.09162832],\n",
            "         [ 0.06327148, -0.04717937,  0.04393166, ..., -0.00243494,\n",
            "          -0.05670848, -0.00036741]],\n",
            "\n",
            "        [[-0.00394408, -0.02214314,  0.06609627, ..., -0.00388363,\n",
            "           0.08816268, -0.03886592],\n",
            "         [ 0.06663289,  0.02569968, -0.00660391, ...,  0.06120853,\n",
            "          -0.03986353,  0.06239126],\n",
            "         [ 0.09353492, -0.03518287,  0.0444158 , ...,  0.01759145,\n",
            "          -0.03993063,  0.03960216],\n",
            "         ...,\n",
            "         [ 0.00053878, -0.08616192, -0.03265879, ...,  0.0965925 ,\n",
            "          -0.02805205,  0.03418928],\n",
            "         [-0.03518975,  0.05242191,  0.01415266, ...,  0.09112757,\n",
            "           0.07320347,  0.01315052],\n",
            "         [ 0.06006754, -0.07047818, -0.09284408, ..., -0.00626866,\n",
            "          -0.07488537,  0.09057105]]],\n",
            "\n",
            "\n",
            "       [[[-0.04464857, -0.0690978 ,  0.04879833, ...,  0.04824042,\n",
            "           0.03507552, -0.06353871],\n",
            "         [-0.04771026, -0.01641134, -0.04147881, ..., -0.02834791,\n",
            "          -0.06934351,  0.02973901],\n",
            "         [-0.05470081, -0.01480924,  0.12591875, ...,  0.07059293,\n",
            "          -0.05292557,  0.00230688],\n",
            "         ...,\n",
            "         [-0.09618107, -0.07469604, -0.07426211, ..., -0.09674168,\n",
            "          -0.08773354, -0.05768291],\n",
            "         [-0.04651683,  0.00310835, -0.01524735, ...,  0.08263236,\n",
            "          -0.00973378, -0.10770427],\n",
            "         [-0.07135899, -0.06319249,  0.08776682, ..., -0.0526529 ,\n",
            "           0.0058116 , -0.03204685]],\n",
            "\n",
            "        [[ 0.00477277, -0.04936529, -0.00703344, ...,  0.00437027,\n",
            "          -0.0710228 , -0.0608891 ],\n",
            "         [-0.09492157, -0.00121706,  0.08168213, ...,  0.02543468,\n",
            "           0.08845532, -0.02406292],\n",
            "         [-0.02015556, -0.00245418,  0.04983766, ..., -0.0871048 ,\n",
            "          -0.06071942,  0.02356983],\n",
            "         ...,\n",
            "         [-0.08426692, -0.08031528, -0.09578641, ..., -0.06477252,\n",
            "          -0.09863096,  0.02161352],\n",
            "         [ 0.00211324,  0.07631583,  0.0136807 , ..., -0.02402055,\n",
            "          -0.05142874,  0.02205015],\n",
            "         [ 0.00587869, -0.00805993, -0.11381342, ...,  0.05869751,\n",
            "          -0.01810438,  0.01964325]],\n",
            "\n",
            "        [[ 0.04986266,  0.10090765, -0.09029569, ..., -0.06105554,\n",
            "          -0.03835207, -0.0996735 ],\n",
            "         [-0.09964197,  0.09138533, -0.09284899, ..., -0.00274846,\n",
            "          -0.01624331,  0.09065314],\n",
            "         [-0.06156598,  0.06701345,  0.02883702, ..., -0.08653513,\n",
            "           0.0782226 ,  0.10964979],\n",
            "         ...,\n",
            "         [-0.07950144, -0.05760559,  0.00348016, ...,  0.05784383,\n",
            "          -0.02748232,  0.01268812],\n",
            "         [ 0.04297307, -0.02005493, -0.06149282, ...,  0.03612514,\n",
            "           0.08731075, -0.05136318],\n",
            "         [-0.00174566, -0.01860408, -0.05664624, ...,  0.04034242,\n",
            "           0.1175413 , -0.07165916]]],\n",
            "\n",
            "\n",
            "       [[[-0.06553351, -0.00491805,  0.0720588 , ..., -0.10088689,\n",
            "          -0.00258939, -0.07322391],\n",
            "         [-0.02232753, -0.06217977,  0.01803498, ...,  0.01222791,\n",
            "          -0.0157181 ,  0.09020519],\n",
            "         [-0.02289449, -0.08775278,  0.08546208, ...,  0.00063864,\n",
            "           0.05674496,  0.07658463],\n",
            "         ...,\n",
            "         [ 0.07172856, -0.00425012,  0.08128275, ..., -0.01558977,\n",
            "           0.05731947, -0.08186252],\n",
            "         [-0.0908743 ,  0.08726215,  0.06980675, ..., -0.03102248,\n",
            "           0.08148037, -0.02600821],\n",
            "         [-0.09632061,  0.00403223, -0.01133991, ..., -0.09423243,\n",
            "          -0.05856268,  0.07674214]],\n",
            "\n",
            "        [[-0.07413801, -0.03448591, -0.01901025, ...,  0.08332884,\n",
            "          -0.07348765, -0.02107484],\n",
            "         [-0.06701726, -0.0085987 ,  0.10206496, ..., -0.07922658,\n",
            "           0.03948601,  0.02185844],\n",
            "         [-0.0968482 , -0.03598465,  0.10868211, ..., -0.04945453,\n",
            "           0.00601254,  0.12471153],\n",
            "         ...,\n",
            "         [ 0.07565015,  0.05084468, -0.01598715, ..., -0.04285582,\n",
            "          -0.00761326,  0.09146911],\n",
            "         [ 0.10538528,  0.03520566, -0.06093905, ..., -0.05319083,\n",
            "           0.08073899, -0.00462383],\n",
            "         [-0.07999953, -0.06687574,  0.00084136, ...,  0.0930457 ,\n",
            "          -0.03980207, -0.00462963]],\n",
            "\n",
            "        [[ 0.04959436, -0.03700685,  0.07769043, ..., -0.06914838,\n",
            "          -0.04111507, -0.00457442],\n",
            "         [ 0.03982503,  0.08317654, -0.00576041, ..., -0.10023464,\n",
            "           0.07799483,  0.08755521],\n",
            "         [ 0.04903803,  0.05406316, -0.02517729, ..., -0.0690762 ,\n",
            "           0.01101876,  0.01531338],\n",
            "         ...,\n",
            "         [-0.09208455, -0.00477031, -0.09318841, ..., -0.06916531,\n",
            "          -0.03664305, -0.02393594],\n",
            "         [ 0.03748571,  0.11032503,  0.11130673, ...,  0.0025583 ,\n",
            "          -0.05754091,  0.02537543],\n",
            "         [-0.0093202 ,  0.09698632, -0.08736715, ...,  0.05461719,\n",
            "           0.04512475,  0.03686798]]]], dtype=float32)>\n",
            "<tf.Variable 'conv2d_18/bias:0' shape=(32,) dtype=float32, numpy=\n",
            "array([-0.00669494, -0.00860072, -0.01434513, -0.00219642,  0.00981943,\n",
            "       -0.01034633, -0.01071586, -0.00308573,  0.00606147, -0.0146797 ,\n",
            "       -0.00075828, -0.01198748, -0.00623468,  0.00162728, -0.00881108,\n",
            "       -0.00762778, -0.00555776,  0.00172069, -0.00345293, -0.01501643,\n",
            "       -0.00177804, -0.00251351, -0.00441033, -0.0029057 , -0.00092345,\n",
            "        0.00831211,  0.00258191,  0.00817087, -0.00739512, -0.01034141,\n",
            "        0.00153039,  0.01279106], dtype=float32)>\n",
            "<tf.Variable 'conv2d_19/kernel:0' shape=(3, 3, 32, 64) dtype=float32, numpy=\n",
            "array([[[[ 0.01703774, -0.05541954, -0.01516174, ...,  0.01362963,\n",
            "          -0.05966856,  0.03621136],\n",
            "         [ 0.0604314 , -0.04574004,  0.01379747, ...,  0.02647077,\n",
            "           0.00400331, -0.03104124],\n",
            "         [ 0.01494651, -0.04306339, -0.04455854, ..., -0.07039215,\n",
            "           0.0693666 , -0.03848673],\n",
            "         ...,\n",
            "         [ 0.00416706, -0.01629195,  0.04276121, ..., -0.05462091,\n",
            "          -0.09182333,  0.01401149],\n",
            "         [ 0.03930077,  0.03843475,  0.04302027, ..., -0.03983415,\n",
            "          -0.03239404, -0.00044612],\n",
            "         [ 0.03538707, -0.07061234,  0.01636627, ..., -0.03281162,\n",
            "          -0.05736189,  0.02541141]],\n",
            "\n",
            "        [[ 0.04901105, -0.01012028, -0.01351618, ..., -0.0141008 ,\n",
            "           0.07650822, -0.077149  ],\n",
            "         [ 0.08254437, -0.04984006, -0.02073862, ..., -0.08894748,\n",
            "           0.04035047, -0.02499332],\n",
            "         [ 0.05533819, -0.070687  , -0.0746088 , ...,  0.06828696,\n",
            "           0.03097326, -0.01717876],\n",
            "         ...,\n",
            "         [-0.02267636, -0.03482142, -0.05386156, ...,  0.06571801,\n",
            "          -0.08148524,  0.03570928],\n",
            "         [ 0.02824284, -0.05052419, -0.06386261, ..., -0.01380123,\n",
            "          -0.02303714, -0.04355185],\n",
            "         [-0.01286242, -0.06960063,  0.05921184, ..., -0.07093008,\n",
            "          -0.04000149, -0.06960999]],\n",
            "\n",
            "        [[-0.0387226 , -0.00188419, -0.06838708, ..., -0.04623364,\n",
            "          -0.02096957,  0.05831169],\n",
            "         [ 0.04324651, -0.03128794,  0.06836142, ..., -0.06915861,\n",
            "          -0.07340034,  0.08578707],\n",
            "         [ 0.01850452,  0.00751185, -0.00692634, ..., -0.06659306,\n",
            "           0.06930252,  0.06310269],\n",
            "         ...,\n",
            "         [ 0.01996998, -0.0127113 , -0.00344145, ...,  0.02926018,\n",
            "          -0.01216353,  0.03911857],\n",
            "         [-0.06245047, -0.06661863, -0.00356979, ...,  0.06295186,\n",
            "           0.03090442, -0.0020316 ],\n",
            "         [-0.02935075,  0.00082683,  0.04414231, ..., -0.06124584,\n",
            "          -0.00855598,  0.06144887]]],\n",
            "\n",
            "\n",
            "       [[[-0.06230774, -0.03570271,  0.00234243, ...,  0.01695989,\n",
            "           0.00999181,  0.05333525],\n",
            "         [ 0.03718441, -0.05600583,  0.07391681, ...,  0.02175847,\n",
            "          -0.02557219, -0.00607969],\n",
            "         [ 0.03058937,  0.03901326, -0.00445688, ...,  0.00980867,\n",
            "          -0.06923962, -0.09369292],\n",
            "         ...,\n",
            "         [ 0.01897648, -0.07994492, -0.03925823, ..., -0.05366887,\n",
            "          -0.01518638, -0.02378442],\n",
            "         [-0.05425315, -0.01678267,  0.02528498, ..., -0.03417604,\n",
            "          -0.02164233, -0.01247979],\n",
            "         [-0.02728616, -0.07234365,  0.03607032, ..., -0.07785541,\n",
            "           0.01859519,  0.04357361]],\n",
            "\n",
            "        [[ 0.01056861,  0.06383865, -0.06040527, ...,  0.04099121,\n",
            "           0.02603016,  0.00342268],\n",
            "         [-0.02612466, -0.08018489,  0.03784454, ..., -0.08605596,\n",
            "          -0.05983144, -0.00564061],\n",
            "         [ 0.01684227,  0.0347311 , -0.04897643, ..., -0.04680962,\n",
            "           0.05070604, -0.06112868],\n",
            "         ...,\n",
            "         [ 0.04083609, -0.08725512, -0.08447201, ..., -0.0057001 ,\n",
            "           0.02205516,  0.06144007],\n",
            "         [-0.05653155, -0.03180574, -0.08095381, ..., -0.02423471,\n",
            "           0.03985975,  0.0323625 ],\n",
            "         [-0.01064075,  0.0329425 , -0.08861484, ..., -0.06224991,\n",
            "           0.00361296,  0.04049182]],\n",
            "\n",
            "        [[-0.01726794,  0.07857998, -0.00484735, ..., -0.05076715,\n",
            "           0.0005078 ,  0.0236593 ],\n",
            "         [-0.00030154,  0.02247285,  0.06378706, ...,  0.00565898,\n",
            "          -0.04008169,  0.07278335],\n",
            "         [ 0.08417936,  0.0377844 ,  0.0299538 , ...,  0.02650148,\n",
            "           0.07796856,  0.0870022 ],\n",
            "         ...,\n",
            "         [ 0.02519099,  0.03507978,  0.05742149, ..., -0.06638791,\n",
            "          -0.00618416, -0.01304265],\n",
            "         [ 0.0460233 , -0.05113988,  0.05940233, ...,  0.03908809,\n",
            "          -0.03775551, -0.05120958],\n",
            "         [ 0.05773626,  0.01023973,  0.00357135, ...,  0.07944161,\n",
            "          -0.07026802,  0.01488015]]],\n",
            "\n",
            "\n",
            "       [[[-0.07491028,  0.02244453,  0.01199823, ...,  0.01690637,\n",
            "           0.03570137, -0.01716432],\n",
            "         [ 0.03656271,  0.05267312,  0.05846096, ..., -0.00596131,\n",
            "          -0.04439638, -0.06934335],\n",
            "         [-0.06417724, -0.02564685, -0.00701104, ...,  0.07680421,\n",
            "           0.00568711, -0.06818083],\n",
            "         ...,\n",
            "         [ 0.07677874,  0.02311562,  0.00102456, ...,  0.01688743,\n",
            "           0.04756038,  0.08669332],\n",
            "         [ 0.00761599,  0.06467927, -0.02928102, ..., -0.04737307,\n",
            "          -0.09289978,  0.0603225 ],\n",
            "         [-0.04733371,  0.07237294, -0.06187435, ...,  0.0324069 ,\n",
            "           0.06294956, -0.03276228]],\n",
            "\n",
            "        [[-0.05396276, -0.08328285,  0.03958274, ..., -0.04614859,\n",
            "          -0.01789836,  0.06795499],\n",
            "         [-0.04140687,  0.05519572, -0.02175794, ...,  0.06605076,\n",
            "          -0.00779367,  0.06446221],\n",
            "         [-0.05182939,  0.08210466, -0.00522668, ..., -0.05781737,\n",
            "           0.06883173,  0.00688124],\n",
            "         ...,\n",
            "         [-0.06036009,  0.02753276, -0.0816443 , ..., -0.02265502,\n",
            "          -0.04071714,  0.03631687],\n",
            "         [ 0.05772075,  0.02092317,  0.08088621, ...,  0.02114103,\n",
            "          -0.08664984, -0.07341239],\n",
            "         [-0.02581472,  0.07451051, -0.01641354, ...,  0.03648202,\n",
            "          -0.04845597,  0.08340125]],\n",
            "\n",
            "        [[ 0.05662813,  0.04968458,  0.03663226, ...,  0.04966407,\n",
            "           0.01897538,  0.02001293],\n",
            "         [-0.00126332,  0.03742403,  0.05160777, ...,  0.05819125,\n",
            "          -0.02347149,  0.03023648],\n",
            "         [ 0.04084976,  0.01792793,  0.06566558, ..., -0.03156476,\n",
            "          -0.01295358, -0.05812012],\n",
            "         ...,\n",
            "         [-0.02853182,  0.01675986,  0.02333356, ..., -0.0291588 ,\n",
            "           0.01969443,  0.07122083],\n",
            "         [-0.03251647,  0.0216512 ,  0.00818842, ..., -0.06826591,\n",
            "          -0.07829055,  0.00122926],\n",
            "         [ 0.03573807,  0.03707172,  0.02651652, ..., -0.03607923,\n",
            "          -0.08936767,  0.01947943]]]], dtype=float32)>\n",
            "<tf.Variable 'conv2d_19/bias:0' shape=(64,) dtype=float32, numpy=\n",
            "array([-9.48302541e-03, -1.25495335e-02,  1.85855944e-02,  5.02418121e-03,\n",
            "       -3.02681457e-02, -1.77551229e-02,  4.78058215e-03, -3.13451178e-02,\n",
            "       -2.32897662e-02,  2.10834686e-02,  1.57168899e-02, -2.48174071e-02,\n",
            "       -2.49635545e-03,  2.26119310e-02, -2.02115979e-02, -1.41580272e-02,\n",
            "        1.43166212e-02,  3.96782532e-03, -7.68612744e-03,  5.44555997e-03,\n",
            "       -2.50698868e-02, -8.84208828e-03, -2.11917721e-02, -2.86480505e-02,\n",
            "        2.55008275e-03,  1.59095172e-02, -2.49182750e-02, -3.17087583e-02,\n",
            "        5.00649493e-03,  1.86139811e-02, -3.05499751e-02, -2.82879137e-02,\n",
            "        1.09524988e-02, -2.55364031e-02,  1.80933438e-02,  1.71828307e-02,\n",
            "       -2.39489526e-02, -1.04976296e-02, -7.13895279e-05, -3.01686977e-03,\n",
            "       -1.76975932e-02, -2.37643206e-03,  2.20122430e-02,  1.74316932e-02,\n",
            "       -3.15040573e-02,  9.36193857e-03,  1.29382759e-02, -1.24961569e-03,\n",
            "       -1.56490989e-02,  1.91122442e-02,  4.45451029e-03,  1.28789563e-02,\n",
            "        1.17634665e-02,  2.20261384e-02,  2.21391190e-02, -2.47656051e-02,\n",
            "       -1.96959414e-02, -2.65643504e-02,  3.08532622e-02, -2.65609771e-02,\n",
            "        2.35567503e-02, -2.14356966e-02,  1.18191531e-02,  1.00876368e-03],\n",
            "      dtype=float32)>\n",
            "<tf.Variable 'conv2d_20/kernel:0' shape=(3, 3, 64, 64) dtype=float32, numpy=\n",
            "array([[[[-0.02302242, -0.056522  ,  0.03218703, ...,  0.02430722,\n",
            "          -0.03683278,  0.00554473],\n",
            "         [ 0.02659052,  0.01937818, -0.04747828, ...,  0.05887026,\n",
            "          -0.02708775,  0.03866079],\n",
            "         [-0.01464395, -0.05417241,  0.05768942, ..., -0.02914738,\n",
            "           0.03399181,  0.02941705],\n",
            "         ...,\n",
            "         [-0.03310953,  0.03549383, -0.04101335, ..., -0.05789463,\n",
            "           0.01597921, -0.07135971],\n",
            "         [ 0.03442588,  0.05790086,  0.02987449, ...,  0.06248217,\n",
            "          -0.03236716,  0.01847534],\n",
            "         [-0.03915742,  0.05710828, -0.02717496, ..., -0.01319426,\n",
            "           0.01845612, -0.02045414]],\n",
            "\n",
            "        [[ 0.05406687, -0.00238002, -0.0221013 , ...,  0.03310408,\n",
            "          -0.05128861, -0.05044035],\n",
            "         [ 0.0429079 , -0.00189825,  0.07249555, ...,  0.05493049,\n",
            "          -0.02302529,  0.0721153 ],\n",
            "         [-0.04446644,  0.02964273, -0.02653776, ...,  0.01822288,\n",
            "           0.03024527, -0.03878365],\n",
            "         ...,\n",
            "         [ 0.05903212, -0.03225474,  0.02986742, ...,  0.01494527,\n",
            "          -0.01327267, -0.00344258],\n",
            "         [-0.0523935 , -0.04620754, -0.06871542, ..., -0.00294036,\n",
            "          -0.03459611,  0.04254723],\n",
            "         [ 0.01772249, -0.03720281, -0.01430019, ..., -0.02153758,\n",
            "          -0.03543783,  0.00363541]],\n",
            "\n",
            "        [[-0.04439771,  0.05199713, -0.03815609, ...,  0.0521732 ,\n",
            "          -0.04164147,  0.04966998],\n",
            "         [ 0.01501146,  0.04918581,  0.04778287, ...,  0.04903015,\n",
            "           0.00399248, -0.04647155],\n",
            "         [ 0.05920418, -0.06562221, -0.06427875, ...,  0.03134753,\n",
            "           0.0470475 , -0.03763254],\n",
            "         ...,\n",
            "         [-0.02486825,  0.02490334, -0.00652262, ...,  0.00763319,\n",
            "           0.04372291, -0.06465776],\n",
            "         [ 0.06422916,  0.0374836 , -0.01959442, ..., -0.02341085,\n",
            "           0.05522614, -0.02012464],\n",
            "         [-0.04278839,  0.01686416,  0.05085459, ...,  0.05599926,\n",
            "          -0.0368115 ,  0.00537563]]],\n",
            "\n",
            "\n",
            "       [[[-0.04832263,  0.03079154, -0.0454602 , ..., -0.00459261,\n",
            "          -0.01086731, -0.02829832],\n",
            "         [ 0.03324863,  0.0606954 , -0.07278369, ...,  0.05753245,\n",
            "           0.06042602, -0.02341775],\n",
            "         [-0.05669885, -0.04412056, -0.05368035, ..., -0.02596974,\n",
            "          -0.05657792,  0.05635133],\n",
            "         ...,\n",
            "         [ 0.06611702, -0.00700793,  0.05936173, ...,  0.03997331,\n",
            "          -0.00983744,  0.02133789],\n",
            "         [ 0.01156063,  0.01166516, -0.03525738, ...,  0.05097379,\n",
            "           0.02959858,  0.04940302],\n",
            "         [ 0.06360577, -0.00380787,  0.01750492, ..., -0.02629863,\n",
            "           0.07018018, -0.04487116]],\n",
            "\n",
            "        [[ 0.03768982,  0.0127033 ,  0.00869173, ...,  0.02845006,\n",
            "           0.06183479, -0.05532311],\n",
            "         [-0.04708318, -0.07796008, -0.02508253, ..., -0.05295919,\n",
            "           0.0380474 ,  0.04243793],\n",
            "         [ 0.00802545, -0.02802922,  0.00407974, ..., -0.00345798,\n",
            "          -0.06723236, -0.03773173],\n",
            "         ...,\n",
            "         [-0.03468566,  0.05996892,  0.0274071 , ...,  0.04247647,\n",
            "          -0.01769758, -0.06137907],\n",
            "         [-0.00281679, -0.05015704, -0.00184072, ..., -0.03344027,\n",
            "           0.04568988, -0.01195894],\n",
            "         [-0.06568889, -0.07530949,  0.02927434, ..., -0.04769064,\n",
            "           0.07216801, -0.04937238]],\n",
            "\n",
            "        [[-0.04509556,  0.06244585,  0.04632609, ...,  0.06862937,\n",
            "          -0.01488444,  0.02591189],\n",
            "         [ 0.0139509 , -0.04472706, -0.02436873, ...,  0.00249931,\n",
            "          -0.02163184,  0.0311957 ],\n",
            "         [ 0.05353501,  0.0348153 , -0.05910601, ...,  0.00235516,\n",
            "           0.00876313, -0.03735903],\n",
            "         ...,\n",
            "         [-0.04145037, -0.03788122, -0.05459547, ...,  0.06192856,\n",
            "          -0.02276606,  0.03604421],\n",
            "         [-0.0066663 , -0.06217637, -0.02914722, ...,  0.05309753,\n",
            "          -0.01183927, -0.00348989],\n",
            "         [-0.04305031, -0.03032891,  0.02151477, ..., -0.04123153,\n",
            "           0.00015891, -0.04384447]]],\n",
            "\n",
            "\n",
            "       [[[ 0.00845005, -0.02440149,  0.04514114, ..., -0.05659761,\n",
            "          -0.06842539, -0.05249628],\n",
            "         [ 0.06149699, -0.06055477, -0.05191546, ..., -0.03387902,\n",
            "          -0.04847223,  0.0418736 ],\n",
            "         [ 0.03334381,  0.02016739,  0.04467971, ..., -0.03132696,\n",
            "           0.05154308,  0.06603566],\n",
            "         ...,\n",
            "         [ 0.06617425,  0.00698377,  0.02129664, ...,  0.04696253,\n",
            "          -0.05124106,  0.03594363],\n",
            "         [-0.02609169, -0.0089954 , -0.00778195, ...,  0.02913307,\n",
            "          -0.03771115,  0.05404167],\n",
            "         [-0.03870874,  0.05015918, -0.03315989, ..., -0.02547318,\n",
            "          -0.01991545,  0.05207628]],\n",
            "\n",
            "        [[ 0.01436807,  0.05306244, -0.0197372 , ...,  0.01839197,\n",
            "          -0.04027591,  0.0354989 ],\n",
            "         [-0.0708138 , -0.02260846,  0.05109477, ..., -0.02799196,\n",
            "          -0.0604193 , -0.03251695],\n",
            "         [ 0.04503828, -0.01108853, -0.02226783, ..., -0.05851387,\n",
            "           0.00406692,  0.04629504],\n",
            "         ...,\n",
            "         [-0.032155  ,  0.0453549 , -0.06074886, ...,  0.04077466,\n",
            "          -0.0342991 ,  0.04628975],\n",
            "         [ 0.04323954, -0.03601824,  0.0615678 , ...,  0.02601602,\n",
            "           0.05541235,  0.04495717],\n",
            "         [ 0.01743205, -0.03852606, -0.05943858, ..., -0.04232906,\n",
            "          -0.0104087 ,  0.05636051]],\n",
            "\n",
            "        [[ 0.04151618,  0.03715317,  0.05240028, ...,  0.02867764,\n",
            "           0.05466694, -0.04902955],\n",
            "         [-0.02115822, -0.01670233,  0.03568499, ..., -0.07648389,\n",
            "          -0.00745681, -0.05410204],\n",
            "         [ 0.06282531, -0.06287961, -0.03596273, ...,  0.03039752,\n",
            "           0.04427966,  0.01074718],\n",
            "         ...,\n",
            "         [-0.02488931,  0.01431394,  0.01317054, ..., -0.04983518,\n",
            "          -0.0542014 , -0.05275163],\n",
            "         [ 0.05218777, -0.05410581, -0.03097261, ...,  0.05929738,\n",
            "          -0.02417972, -0.07435252],\n",
            "         [ 0.04545319,  0.04988185,  0.01868791, ..., -0.05202822,\n",
            "          -0.03495329, -0.0046194 ]]]], dtype=float32)>\n",
            "<tf.Variable 'conv2d_20/bias:0' shape=(64,) dtype=float32, numpy=\n",
            "array([-0.01676373, -0.02853182,  0.00938453, -0.01444495, -0.01883274,\n",
            "       -0.0111348 , -0.00102922, -0.02316152, -0.02559207, -0.02296948,\n",
            "       -0.01880381, -0.01225985, -0.01562574, -0.0082317 , -0.03181039,\n",
            "        0.01592678, -0.02758957,  0.01051224, -0.01126878, -0.00304822,\n",
            "       -0.02175998,  0.01629918,  0.00573356,  0.0142286 , -0.01090029,\n",
            "       -0.03558217,  0.00710086, -0.0044177 ,  0.00017067, -0.02133984,\n",
            "       -0.0201671 ,  0.00965586,  0.01071005, -0.00671492, -0.00863925,\n",
            "       -0.0280853 ,  0.00490847, -0.02184362,  0.02265973,  0.01887468,\n",
            "       -0.02407275,  0.01188579, -0.01126436, -0.01628994, -0.02727919,\n",
            "       -0.01171606, -0.02123339, -0.03517897, -0.02331889,  0.00977581,\n",
            "       -0.01557169, -0.00437179, -0.01930907, -0.02441532,  0.01233786,\n",
            "        0.00766044, -0.01910191, -0.02920482,  0.00764618, -0.02685779,\n",
            "       -0.02063705, -0.02640578,  0.0054416 , -0.00033483], dtype=float32)>\n",
            "<tf.Variable 'dense_4/kernel:0' shape=(2304, 512) dtype=float32, numpy=\n",
            "array([[-0.0379818 , -0.03525401,  0.00090354, ...,  0.0398576 ,\n",
            "        -0.01119664, -0.02360362],\n",
            "       [-0.00299971, -0.00578064, -0.00951166, ..., -0.00773018,\n",
            "         0.02677859, -0.01313943],\n",
            "       [-0.03286841, -0.01627931, -0.05246947, ...,  0.03127337,\n",
            "         0.06097646,  0.0343892 ],\n",
            "       ...,\n",
            "       [ 0.06076557, -0.03876551,  0.02052771, ...,  0.03463677,\n",
            "         0.05036353, -0.013604  ],\n",
            "       [ 0.02380258,  0.03649943,  0.0413971 , ..., -0.02002218,\n",
            "        -0.04254488,  0.02103006],\n",
            "       [ 0.00430179, -0.02721472, -0.03863504, ..., -0.03088356,\n",
            "         0.02743451,  0.02903488]], dtype=float32)>\n",
            "<tf.Variable 'dense_4/bias:0' shape=(512,) dtype=float32, numpy=\n",
            "array([ 0.01591449, -0.01711556, -0.02459142, -0.0130364 , -0.01532237,\n",
            "       -0.01690579, -0.02431894, -0.02076868,  0.00397679,  0.01085102,\n",
            "        0.00982378, -0.0194253 , -0.01596493,  0.0097226 , -0.02417594,\n",
            "        0.01888418, -0.0259235 , -0.02207781, -0.01709942,  0.02267822,\n",
            "       -0.0180905 , -0.0118518 , -0.02911273, -0.0279714 , -0.00281872,\n",
            "        0.02383944, -0.00759841, -0.02093083,  0.01355228, -0.02252499,\n",
            "       -0.02654004,  0.00965982, -0.03043407, -0.01691682, -0.00957167,\n",
            "        0.01281389,  0.02123935,  0.01521863,  0.00631562, -0.02136576,\n",
            "        0.00131644, -0.02603346,  0.01401964,  0.01805597, -0.02088049,\n",
            "        0.01836288, -0.02042677, -0.02814675, -0.01663502, -0.02204724,\n",
            "       -0.01817524,  0.00577248,  0.01179931,  0.01245672, -0.02346042,\n",
            "       -0.02082952,  0.01898307,  0.01610675,  0.02275936,  0.0065409 ,\n",
            "        0.00972559, -0.017147  , -0.02205029, -0.02111266, -0.01738276,\n",
            "       -0.01345696,  0.00202523, -0.01159155,  0.00011904, -0.00033376,\n",
            "       -0.00689157,  0.01610089, -0.02763269, -0.00623139,  0.00018337,\n",
            "       -0.02143923, -0.01770619,  0.00141387,  0.00379798,  0.00948698,\n",
            "       -0.01593628,  0.01082307,  0.00698027,  0.01368636, -0.01961344,\n",
            "        0.00289063, -0.01956863, -0.01381052, -0.01812945,  0.01305119,\n",
            "       -0.02066313, -0.02182891, -0.01997089, -0.02673669,  0.00404109,\n",
            "       -0.01593863, -0.02635536,  0.00945104, -0.01412268, -0.00369723,\n",
            "       -0.02035191, -0.02259903, -0.00042714,  0.00588184,  0.00758222,\n",
            "       -0.00905848,  0.00973604,  0.0094839 , -0.02036161, -0.01593751,\n",
            "        0.01903407,  0.01119347,  0.0075767 ,  0.01697602,  0.00969993,\n",
            "       -0.01588601, -0.01730789,  0.00815515,  0.00637305, -0.02026188,\n",
            "       -0.0226802 , -0.01144946,  0.01628248, -0.00550606,  0.00467054,\n",
            "        0.02062742, -0.02090896,  0.00620932,  0.01340794,  0.00839828,\n",
            "        0.01020411,  0.01757703,  0.0206402 ,  0.00692045, -0.01028227,\n",
            "        0.00123102,  0.0171507 ,  0.01478184, -0.01921358,  0.00761666,\n",
            "       -0.00928425, -0.01705578, -0.02112769, -0.01724065,  0.00691174,\n",
            "       -0.03357676, -0.00947165,  0.0095089 , -0.01165318, -0.01849255,\n",
            "       -0.01739755, -0.02444034, -0.01692816, -0.01857684, -0.01549599,\n",
            "       -0.01406233,  0.00667036,  0.01922538,  0.01169879,  0.00829128,\n",
            "       -0.01112018, -0.02235748, -0.01960774,  0.0157729 ,  0.00458886,\n",
            "        0.01455352, -0.02019662,  0.00181533, -0.0118782 , -0.01427591,\n",
            "       -0.00878357,  0.00567537, -0.01750467,  0.01086571, -0.0087027 ,\n",
            "       -0.0213794 ,  0.0074705 , -0.01679577, -0.01677941, -0.02358806,\n",
            "       -0.00112473,  0.02151619,  0.01330085, -0.02281419,  0.0084701 ,\n",
            "        0.01244043, -0.01490901, -0.02425503,  0.01209277,  0.00457088,\n",
            "       -0.02560997,  0.01400735,  0.0145756 ,  0.01775353, -0.01795073,\n",
            "        0.00819134,  0.00187236, -0.0189986 , -0.02162178,  0.0132088 ,\n",
            "       -0.0245766 , -0.01852998,  0.01191851, -0.01986382,  0.01008248,\n",
            "        0.00287247,  0.00904784,  0.01248915,  0.01224957, -0.02373157,\n",
            "        0.00673862,  0.01778243, -0.02232128,  0.00988471, -0.0254147 ,\n",
            "       -0.02665293, -0.02667061,  0.0080069 ,  0.00234342,  0.01157165,\n",
            "        0.01792891,  0.01348587, -0.02235715,  0.01008401, -0.02282697,\n",
            "       -0.02449323,  0.00317953, -0.01284997,  0.01015645, -0.01411271,\n",
            "       -0.02029716,  0.00691443,  0.01700968,  0.00638145, -0.02503576,\n",
            "       -0.00640689, -0.0220803 ,  0.01502544, -0.02052123,  0.007269  ,\n",
            "        0.01442182,  0.00386457,  0.01647922,  0.01722471, -0.0169508 ,\n",
            "        0.01202537, -0.02293498,  0.01231976, -0.01591756, -0.01194578,\n",
            "        0.01321367, -0.01355631, -0.01620576, -0.02993714,  0.01348571,\n",
            "       -0.00063453, -0.01106862,  0.01921092,  0.01522569,  0.00630053,\n",
            "        0.00439362, -0.02164786, -0.02121619, -0.02045048, -0.01762562,\n",
            "       -0.0214351 , -0.031237  ,  0.01638131,  0.00984961, -0.01485743,\n",
            "       -0.01768165,  0.00777161, -0.0215505 , -0.00250807, -0.02754349,\n",
            "       -0.01798532,  0.01251551,  0.00837408, -0.02510118, -0.00881015,\n",
            "       -0.02654129,  0.01694853,  0.00992343,  0.01862974,  0.01512132,\n",
            "       -0.0197323 , -0.01678137, -0.00942264,  0.0136034 ,  0.01983899,\n",
            "        0.00704898,  0.01493294, -0.02257724,  0.0013594 , -0.0209101 ,\n",
            "        0.00739594,  0.01134345,  0.02678785, -0.02136199, -0.02249821,\n",
            "        0.01034142,  0.00307158,  0.0244278 ,  0.00927807, -0.01661363,\n",
            "       -0.01101613, -0.0310905 , -0.00843101, -0.02599885,  0.01245574,\n",
            "        0.0259886 ,  0.01055848,  0.01098657,  0.01110045,  0.0118494 ,\n",
            "        0.01358645, -0.00392872, -0.01430812, -0.02180256,  0.02761257,\n",
            "        0.00661077,  0.01906763,  0.00899888,  0.00884839,  0.00526631,\n",
            "       -0.01700157, -0.01982876, -0.01125091,  0.01590284, -0.0270707 ,\n",
            "        0.00378365, -0.00909935,  0.01679964, -0.0250715 , -0.00876361,\n",
            "        0.00313838, -0.01887292,  0.00826516,  0.01351834, -0.00122735,\n",
            "        0.00249283, -0.028773  ,  0.00724037,  0.01000326,  0.00590137,\n",
            "       -0.01854758, -0.01498717,  0.01728476, -0.01582323,  0.01471288,\n",
            "       -0.01665453,  0.01586453,  0.00806966,  0.02319704, -0.02363288,\n",
            "       -0.02475495,  0.01452621, -0.00992997,  0.00868633,  0.0045014 ,\n",
            "       -0.02077838,  0.01100773,  0.01174283, -0.01633728, -0.01731019,\n",
            "       -0.01560377,  0.01330683, -0.01272536,  0.00375747, -0.02667691,\n",
            "       -0.02922916,  0.01771112, -0.01781568, -0.02073859,  0.00945114,\n",
            "       -0.0223731 , -0.0202183 , -0.02087243,  0.01853446, -0.00109079,\n",
            "        0.00644728, -0.01444753,  0.01080417,  0.01375964,  0.01796303,\n",
            "       -0.01717587,  0.01013483,  0.0104177 , -0.02581839, -0.02239753,\n",
            "        0.00861099, -0.02223071,  0.01370745,  0.01038062,  0.02197386,\n",
            "        0.00204281,  0.00340402, -0.01398689,  0.00930339,  0.00373032,\n",
            "        0.00662713, -0.01840011, -0.02156221,  0.01294258,  0.0077194 ,\n",
            "        0.02031814, -0.02030469,  0.0097521 ,  0.01193517, -0.01959659,\n",
            "       -0.0020568 , -0.01769139,  0.00767561, -0.02119721, -0.01146653,\n",
            "       -0.02238467,  0.00205056, -0.02202363,  0.01562154, -0.02383733,\n",
            "        0.01488156,  0.01694509, -0.02162733, -0.01828927,  0.00990293,\n",
            "       -0.0110587 , -0.00118296, -0.01927465, -0.01898027,  0.01560504,\n",
            "        0.00048622, -0.01618293,  0.00883199, -0.02576569,  0.00739328,\n",
            "        0.00952837, -0.03236341,  0.00473376, -0.0160643 ,  0.00769953,\n",
            "        0.00500082, -0.02366057, -0.01426608, -0.02462097,  0.00224606,\n",
            "       -0.02468769, -0.01934372,  0.02394189,  0.00496191, -0.00937707,\n",
            "       -0.01776749, -0.01777347,  0.01340594,  0.01333465,  0.01048982,\n",
            "        0.00305819, -0.02061388,  0.01469998,  0.01507011,  0.01364395,\n",
            "       -0.02544742,  0.00848438, -0.02654434, -0.01348861,  0.00442432,\n",
            "       -0.02098961,  0.0050547 ,  0.02463986, -0.02916549, -0.01867566,\n",
            "        0.01361662,  0.01033923,  0.00797672, -0.01647255, -0.02875435,\n",
            "       -0.01852931,  0.00934618,  0.00549112, -0.01105894,  0.00630115,\n",
            "       -0.00113921,  0.00092676,  0.00311013,  0.00328351, -0.014459  ,\n",
            "       -0.01652918, -0.02329789,  0.01352765, -0.02223276,  0.00411981,\n",
            "        0.01073697, -0.0132659 , -0.02425258, -0.02446071,  0.00706991,\n",
            "       -0.01258695, -0.00997396, -0.01296091,  0.01626543,  0.0124768 ,\n",
            "       -0.02378502,  0.00999879,  0.01164026, -0.02241813, -0.01502214,\n",
            "        0.01856112, -0.00906211, -0.02073738,  0.01544348,  0.0189423 ,\n",
            "        0.01517391, -0.02485832], dtype=float32)>\n",
            "<tf.Variable 'dense_5/kernel:0' shape=(512, 2) dtype=float32, numpy=\n",
            "array([[-0.09325454, -0.07422104],\n",
            "       [ 0.05062367,  0.01268732],\n",
            "       [-0.07893523, -0.09239833],\n",
            "       ...,\n",
            "       [-0.09151476, -0.00812096],\n",
            "       [-0.02117528,  0.04633179],\n",
            "       [ 0.06955741, -0.09467755]], dtype=float32)>\n",
            "<tf.Variable 'dense_5/bias:0' shape=(2,) dtype=float32, numpy=array([-0.02515939,  0.02515935], dtype=float32)>\n"
          ]
        }
      ]
    },
    {
      "cell_type": "markdown",
      "metadata": {
        "id": "SR42boMgczoF"
      },
      "source": [
        "Unfortunately, that probably didn’t help you make a useful explanation.\n",
        "\n",
        "Researchers are currently studying ways to make neural networks more explainable. One approach is using **saliency maps** to figure out the saliency (importance) of each individual pixel. Check out a demo [here](https://lrpserver.hhi.fraunhofer.de/image-classification). Intuitively, we're trying to understand the neural network by tracking what it \"pays attention\" to, in the same way that psychologists study babies' cognition by [tracking what babies look at](https://www.ncbi.nlm.nih.gov/pmc/articles/PMC3259733/).\n",
        "\n",
        "In this exercise, we're going to build a simple version of a saliency map for the image you chose above. We'll see what pixels were most important in helping the network make its classification.\n",
        "\n",
        "To do this, we'll investigate the effects of changing each pixel a little bit. If changing a particular pixel changes the result a lot, we conclude that pixel must be important for classifying. If changing that pixel doesn't change the result, we conclude that pixel is unimportant.\n"
      ]
    },
    {
      "cell_type": "markdown",
      "metadata": {
        "id": "0RpZL6ChfLZ6"
      },
      "source": [
        "We're going to use the raw predicted probabilities, rather than the final classification."
      ]
    },
    {
      "cell_type": "code",
      "metadata": {
        "id": "gkdMS7sJfR6j",
        "colab": {
          "base_uri": "https://localhost:8080/"
        },
        "outputId": "ca27d9af-8320-41ee-e4b5-c8340f00ddcc"
      },
      "source": [
        "pred = cnn.predict_proba(np.array([input_image])) #What does each number mean?\n",
        "print (pred)\n",
        "dog_prob = pred[0][0] #This is the probability we'll use (if we know dog prob, we know the classification)\n",
        "\n",
        "print ('Probability of dog:')\n",
        "print (dog_prob)"
      ],
      "execution_count": null,
      "outputs": [
        {
          "output_type": "stream",
          "name": "stdout",
          "text": [
            "[[1.0000000e+00 1.3807551e-10]]\n",
            "Probability of dog:\n",
            "1.0\n"
          ]
        }
      ]
    },
    {
      "cell_type": "markdown",
      "metadata": {
        "id": "Xla3j0R1geJY"
      },
      "source": [
        "Now, we need to calculate the saliency for each pixel (really, each R/G/B value). The core idea is that a pixel's saliency is the average value of \n",
        "\n",
        " $D = |\\frac{\\Delta probability}{\\Delta pixel}|$\n",
        " \n",
        " where $\\Delta$ is the amount of change. If a small change in the pixel value results in a large change in the probability (either up or down), we know this pixel is important. If you've seen derivatives in calculus, this idea should feel familiar.\n",
        "\n",
        "Here's the game plan:\n",
        "\n",
        "*   Consider each pixel value in turn: R, G, B, then the next pixel.\n",
        "*   Make a copy of the image array before you change anything!\n",
        "*   Make the pixel value larger or smaller by various amounts. Each time, find the CNN's prediction with the changed value, and calculate the value of D.\n",
        "*   Repeat the previous step a few times, and calculate the pixel's saliency: the average value of D.\n",
        "*   Store the saliency of each pixel in a list, so that we can visualize it later.\n",
        "\n",
        "Try it below! (Warning: this code might be very slow. As a further challenge, try to speed it up!)\n"
      ]
    },
    {
      "cell_type": "code",
      "metadata": {
        "id": "RnABhKUJmNCF",
        "colab": {
          "base_uri": "https://localhost:8080/"
        },
        "outputId": "40e61a4d-9965-4006-cde9-f1d617a1273c"
      },
      "source": [
        "saliencies = [] #eventually, will be the same size as input_image\n",
        "\n",
        "for index, pixel in enumerate(input_image):\n",
        "  #index counts up from 0, pixel is between 0 and 255\n",
        "  \n",
        "  if index%100 == 0: #will track progress - this might take a while\n",
        "    print (index)\n",
        "  \n",
        "  changed_input = input_image.copy() #make sure not to change the original input_image!\n",
        "  \n",
        "  #YOUR CODE HERE:\n",
        "  #In changed_input, change the value of this pixel by some amount.\n",
        "  #Use the CNN to classify changed_input.\n",
        "  #Calculate the value of D.\n",
        "  #Repeat with various-size changes, and calculate saliency as the average D.\n",
        "  saliency = 0 #Change this!\n",
        "\n",
        "  saliencies.append(saliency)\n",
        "\n",
        "print (saliencies)"
      ],
      "execution_count": null,
      "outputs": [
        {
          "output_type": "stream",
          "name": "stdout",
          "text": [
            "0\n",
            "100\n",
            "200\n",
            "300\n",
            "400\n",
            "500\n",
            "600\n",
            "700\n",
            "800\n",
            "900\n",
            "1000\n",
            "1100\n",
            "1200\n",
            "1300\n",
            "1400\n",
            "1500\n",
            "1600\n",
            "1700\n",
            "1800\n",
            "1900\n",
            "2000\n",
            "2100\n",
            "2200\n",
            "2300\n",
            "2400\n",
            "2500\n",
            "2600\n",
            "2700\n",
            "2800\n",
            "2900\n",
            "3000\n",
            "[0, 0, 0, 0, 0, 0, 0, 0, 0, 0, 0, 0, 0, 0, 0, 0, 0, 0, 0, 0, 0, 0, 0, 0, 0, 0, 0, 0, 0, 0, 0, 0, 0, 0, 0, 0, 0, 0, 0, 0, 0, 0, 0, 0, 0, 0, 0, 0, 0, 0, 0, 0, 0, 0, 0, 0, 0, 0, 0, 0, 0, 0, 0, 0, 0, 0, 0, 0, 0, 0, 0, 0, 0, 0, 0, 0, 0, 0, 0, 0, 0, 0, 0, 0, 0, 0, 0, 0, 0, 0, 0, 0, 0, 0, 0, 0, 0, 0, 0, 0, 0, 0, 0, 0, 0, 0, 0, 0, 0, 0, 0, 0, 0, 0, 0, 0, 0, 0, 0, 0, 0, 0, 0, 0, 0, 0, 0, 0, 0, 0, 0, 0, 0, 0, 0, 0, 0, 0, 0, 0, 0, 0, 0, 0, 0, 0, 0, 0, 0, 0, 0, 0, 0, 0, 0, 0, 0, 0, 0, 0, 0, 0, 0, 0, 0, 0, 0, 0, 0, 0, 0, 0, 0, 0, 0, 0, 0, 0, 0, 0, 0, 0, 0, 0, 0, 0, 0, 0, 0, 0, 0, 0, 0, 0, 0, 0, 0, 0, 0, 0, 0, 0, 0, 0, 0, 0, 0, 0, 0, 0, 0, 0, 0, 0, 0, 0, 0, 0, 0, 0, 0, 0, 0, 0, 0, 0, 0, 0, 0, 0, 0, 0, 0, 0, 0, 0, 0, 0, 0, 0, 0, 0, 0, 0, 0, 0, 0, 0, 0, 0, 0, 0, 0, 0, 0, 0, 0, 0, 0, 0, 0, 0, 0, 0, 0, 0, 0, 0, 0, 0, 0, 0, 0, 0, 0, 0, 0, 0, 0, 0, 0, 0, 0, 0, 0, 0, 0, 0, 0, 0, 0, 0, 0, 0, 0, 0, 0, 0, 0, 0, 0, 0, 0, 0, 0, 0, 0, 0, 0, 0, 0, 0, 0, 0, 0, 0, 0, 0, 0, 0, 0, 0, 0, 0, 0, 0, 0, 0, 0, 0, 0, 0, 0, 0, 0, 0, 0, 0, 0, 0, 0, 0, 0, 0, 0, 0, 0, 0, 0, 0, 0, 0, 0, 0, 0, 0, 0, 0, 0, 0, 0, 0, 0, 0, 0, 0, 0, 0, 0, 0, 0, 0, 0, 0, 0, 0, 0, 0, 0, 0, 0, 0, 0, 0, 0, 0, 0, 0, 0, 0, 0, 0, 0, 0, 0, 0, 0, 0, 0, 0, 0, 0, 0, 0, 0, 0, 0, 0, 0, 0, 0, 0, 0, 0, 0, 0, 0, 0, 0, 0, 0, 0, 0, 0, 0, 0, 0, 0, 0, 0, 0, 0, 0, 0, 0, 0, 0, 0, 0, 0, 0, 0, 0, 0, 0, 0, 0, 0, 0, 0, 0, 0, 0, 0, 0, 0, 0, 0, 0, 0, 0, 0, 0, 0, 0, 0, 0, 0, 0, 0, 0, 0, 0, 0, 0, 0, 0, 0, 0, 0, 0, 0, 0, 0, 0, 0, 0, 0, 0, 0, 0, 0, 0, 0, 0, 0, 0, 0, 0, 0, 0, 0, 0, 0, 0, 0, 0, 0, 0, 0, 0, 0, 0, 0, 0, 0, 0, 0, 0, 0, 0, 0, 0, 0, 0, 0, 0, 0, 0, 0, 0, 0, 0, 0, 0, 0, 0, 0, 0, 0, 0, 0, 0, 0, 0, 0, 0, 0, 0, 0, 0, 0, 0, 0, 0, 0, 0, 0, 0, 0, 0, 0, 0, 0, 0, 0, 0, 0, 0, 0, 0, 0, 0, 0, 0, 0, 0, 0, 0, 0, 0, 0, 0, 0, 0, 0, 0, 0, 0, 0, 0, 0, 0, 0, 0, 0, 0, 0, 0, 0, 0, 0, 0, 0, 0, 0, 0, 0, 0, 0, 0, 0, 0, 0, 0, 0, 0, 0, 0, 0, 0, 0, 0, 0, 0, 0, 0, 0, 0, 0, 0, 0, 0, 0, 0, 0, 0, 0, 0, 0, 0, 0, 0, 0, 0, 0, 0, 0, 0, 0, 0, 0, 0, 0, 0, 0, 0, 0, 0, 0, 0, 0, 0, 0, 0, 0, 0, 0, 0, 0, 0, 0, 0, 0, 0, 0, 0, 0, 0, 0, 0, 0, 0, 0, 0, 0, 0, 0, 0, 0, 0, 0, 0, 0, 0, 0, 0, 0, 0, 0, 0, 0, 0, 0, 0, 0, 0, 0, 0, 0, 0, 0, 0, 0, 0, 0, 0, 0, 0, 0, 0, 0, 0, 0, 0, 0, 0, 0, 0, 0, 0, 0, 0, 0, 0, 0, 0, 0, 0, 0, 0, 0, 0, 0, 0, 0, 0, 0, 0, 0, 0, 0, 0, 0, 0, 0, 0, 0, 0, 0, 0, 0, 0, 0, 0, 0, 0, 0, 0, 0, 0, 0, 0, 0, 0, 0, 0, 0, 0, 0, 0, 0, 0, 0, 0, 0, 0, 0, 0, 0, 0, 0, 0, 0, 0, 0, 0, 0, 0, 0, 0, 0, 0, 0, 0, 0, 0, 0, 0, 0, 0, 0, 0, 0, 0, 0, 0, 0, 0, 0, 0, 0, 0, 0, 0, 0, 0, 0, 0, 0, 0, 0, 0, 0, 0, 0, 0, 0, 0, 0, 0, 0, 0, 0, 0, 0, 0, 0, 0, 0, 0, 0, 0, 0, 0, 0, 0, 0, 0, 0, 0, 0, 0, 0, 0, 0, 0, 0, 0, 0, 0, 0, 0, 0, 0, 0, 0, 0, 0, 0, 0, 0, 0, 0, 0, 0, 0, 0, 0, 0, 0, 0, 0, 0, 0, 0, 0, 0, 0, 0, 0, 0, 0, 0, 0, 0, 0, 0, 0, 0, 0, 0, 0, 0, 0, 0, 0, 0, 0, 0, 0, 0, 0, 0, 0, 0, 0, 0, 0, 0, 0, 0, 0, 0, 0, 0, 0, 0, 0, 0, 0, 0, 0, 0, 0, 0, 0, 0, 0, 0, 0, 0, 0, 0, 0, 0, 0, 0, 0, 0, 0, 0, 0, 0, 0, 0, 0, 0, 0, 0, 0, 0, 0, 0, 0, 0, 0, 0, 0, 0, 0, 0, 0, 0, 0, 0, 0, 0, 0, 0, 0, 0, 0, 0, 0, 0, 0, 0, 0, 0, 0, 0, 0, 0, 0, 0, 0, 0, 0, 0, 0, 0, 0, 0, 0, 0, 0, 0, 0, 0, 0, 0, 0, 0, 0, 0, 0, 0, 0, 0, 0, 0, 0, 0, 0, 0, 0, 0, 0, 0, 0, 0, 0, 0, 0, 0, 0, 0, 0, 0, 0, 0, 0, 0, 0, 0, 0, 0, 0, 0, 0, 0, 0, 0, 0, 0, 0, 0, 0, 0, 0, 0, 0, 0, 0, 0, 0, 0, 0, 0, 0, 0, 0, 0, 0, 0, 0, 0, 0, 0, 0, 0, 0, 0, 0, 0, 0, 0, 0, 0, 0, 0, 0, 0, 0, 0, 0, 0, 0, 0, 0, 0, 0, 0, 0, 0, 0, 0, 0, 0, 0, 0, 0, 0, 0, 0, 0, 0, 0, 0, 0, 0, 0, 0, 0, 0, 0, 0, 0, 0, 0, 0, 0, 0, 0, 0, 0, 0, 0, 0, 0, 0, 0, 0, 0, 0, 0, 0, 0, 0, 0, 0, 0, 0, 0, 0, 0, 0, 0, 0, 0, 0, 0, 0, 0, 0, 0, 0, 0, 0, 0, 0, 0, 0, 0, 0, 0, 0, 0, 0, 0, 0, 0, 0, 0, 0, 0, 0, 0, 0, 0, 0, 0, 0, 0, 0, 0, 0, 0, 0, 0, 0, 0, 0, 0, 0, 0, 0, 0, 0, 0, 0, 0, 0, 0, 0, 0, 0, 0, 0, 0, 0, 0, 0, 0, 0, 0, 0, 0, 0, 0, 0, 0, 0, 0, 0, 0, 0, 0, 0, 0, 0, 0, 0, 0, 0, 0, 0, 0, 0, 0, 0, 0, 0, 0, 0, 0, 0, 0, 0, 0, 0, 0, 0, 0, 0, 0, 0, 0, 0, 0, 0, 0, 0, 0, 0, 0, 0, 0, 0, 0, 0, 0, 0, 0, 0, 0, 0, 0, 0, 0, 0, 0, 0, 0, 0, 0, 0, 0, 0, 0, 0, 0, 0, 0, 0, 0, 0, 0, 0, 0, 0, 0, 0, 0, 0, 0, 0, 0, 0, 0, 0, 0, 0, 0, 0, 0, 0, 0, 0, 0, 0, 0, 0, 0, 0, 0, 0, 0, 0, 0, 0, 0, 0, 0, 0, 0, 0, 0, 0, 0, 0, 0, 0, 0, 0, 0, 0, 0, 0, 0, 0, 0, 0, 0, 0, 0, 0, 0, 0, 0, 0, 0, 0, 0, 0, 0, 0, 0, 0, 0, 0, 0, 0, 0, 0, 0, 0, 0, 0, 0, 0, 0, 0, 0, 0, 0, 0, 0, 0, 0, 0, 0, 0, 0, 0, 0, 0, 0, 0, 0, 0, 0, 0, 0, 0, 0, 0, 0, 0, 0, 0, 0, 0, 0, 0, 0, 0, 0, 0, 0, 0, 0, 0, 0, 0, 0, 0, 0, 0, 0, 0, 0, 0, 0, 0, 0, 0, 0, 0, 0, 0, 0, 0, 0, 0, 0, 0, 0, 0, 0, 0, 0, 0, 0, 0, 0, 0, 0, 0, 0, 0, 0, 0, 0, 0, 0, 0, 0, 0, 0, 0, 0, 0, 0, 0, 0, 0, 0, 0, 0, 0, 0, 0, 0, 0, 0, 0, 0, 0, 0, 0, 0, 0, 0, 0, 0, 0, 0, 0, 0, 0, 0, 0, 0, 0, 0, 0, 0, 0, 0, 0, 0, 0, 0, 0, 0, 0, 0, 0, 0, 0, 0, 0, 0, 0, 0, 0, 0, 0, 0, 0, 0, 0, 0, 0, 0, 0, 0, 0, 0, 0, 0, 0, 0, 0, 0, 0, 0, 0, 0, 0, 0, 0, 0, 0, 0, 0, 0, 0, 0, 0, 0, 0, 0, 0, 0, 0, 0, 0, 0, 0, 0, 0, 0, 0, 0, 0, 0, 0, 0, 0, 0, 0, 0, 0, 0, 0, 0, 0, 0, 0, 0, 0, 0, 0, 0, 0, 0, 0, 0, 0, 0, 0, 0, 0, 0, 0, 0, 0, 0, 0, 0, 0, 0, 0, 0, 0, 0, 0, 0, 0, 0, 0, 0, 0, 0, 0, 0, 0, 0, 0, 0, 0, 0, 0, 0, 0, 0, 0, 0, 0, 0, 0, 0, 0, 0, 0, 0, 0, 0, 0, 0, 0, 0, 0, 0, 0, 0, 0, 0, 0, 0, 0, 0, 0, 0, 0, 0, 0, 0, 0, 0, 0, 0, 0, 0, 0, 0, 0, 0, 0, 0, 0, 0, 0, 0, 0, 0, 0, 0, 0, 0, 0, 0, 0, 0, 0, 0, 0, 0, 0, 0, 0, 0, 0, 0, 0, 0, 0, 0, 0, 0, 0, 0, 0, 0, 0, 0, 0, 0, 0, 0, 0, 0, 0, 0, 0, 0, 0, 0, 0, 0, 0, 0, 0, 0, 0, 0, 0, 0, 0, 0, 0, 0, 0, 0, 0, 0, 0, 0, 0, 0, 0, 0, 0, 0, 0, 0, 0, 0, 0, 0, 0, 0, 0, 0, 0, 0, 0, 0, 0, 0, 0, 0, 0, 0, 0, 0, 0, 0, 0, 0, 0, 0, 0, 0, 0, 0, 0, 0, 0, 0, 0, 0, 0, 0, 0, 0, 0, 0, 0, 0, 0, 0, 0, 0, 0, 0, 0, 0, 0, 0, 0, 0, 0, 0, 0, 0, 0, 0, 0, 0, 0, 0, 0, 0, 0, 0, 0, 0, 0, 0, 0, 0, 0, 0, 0, 0, 0, 0, 0, 0, 0, 0, 0, 0, 0, 0, 0, 0, 0, 0, 0, 0, 0, 0, 0, 0, 0, 0, 0, 0, 0, 0, 0, 0, 0, 0, 0, 0, 0, 0, 0, 0, 0, 0, 0, 0, 0, 0, 0, 0, 0, 0, 0, 0, 0, 0, 0, 0, 0, 0, 0, 0, 0, 0, 0, 0, 0, 0, 0, 0, 0, 0, 0, 0, 0, 0, 0, 0, 0, 0, 0, 0, 0, 0, 0, 0, 0, 0, 0, 0, 0, 0, 0, 0, 0, 0, 0, 0, 0, 0, 0, 0, 0, 0, 0, 0, 0, 0, 0, 0, 0, 0, 0, 0, 0, 0, 0, 0, 0, 0, 0, 0, 0, 0, 0, 0, 0, 0, 0, 0, 0, 0, 0, 0, 0, 0, 0, 0, 0, 0, 0, 0, 0, 0, 0, 0, 0, 0, 0, 0, 0, 0, 0, 0, 0, 0, 0, 0, 0, 0, 0, 0, 0, 0, 0, 0, 0, 0, 0, 0, 0, 0, 0, 0, 0, 0, 0, 0, 0, 0, 0, 0, 0, 0, 0, 0, 0, 0, 0, 0, 0, 0, 0, 0, 0, 0, 0, 0, 0, 0, 0, 0, 0, 0, 0, 0, 0, 0, 0, 0, 0, 0, 0, 0, 0, 0, 0, 0, 0, 0, 0, 0, 0, 0, 0, 0, 0, 0, 0, 0, 0, 0, 0, 0, 0, 0, 0, 0, 0, 0, 0, 0, 0, 0, 0, 0, 0, 0, 0, 0, 0, 0, 0, 0, 0, 0, 0, 0, 0, 0, 0, 0, 0, 0, 0, 0, 0, 0, 0, 0, 0, 0, 0, 0, 0, 0, 0, 0, 0, 0, 0, 0, 0, 0, 0, 0, 0, 0, 0, 0, 0, 0, 0, 0, 0, 0, 0, 0, 0, 0, 0, 0, 0, 0, 0, 0, 0, 0, 0, 0, 0, 0, 0, 0, 0, 0, 0, 0, 0, 0, 0, 0, 0, 0, 0, 0, 0, 0, 0, 0, 0, 0, 0, 0, 0, 0, 0, 0, 0, 0, 0, 0, 0, 0, 0, 0, 0, 0, 0, 0, 0, 0, 0, 0, 0, 0, 0, 0, 0, 0, 0, 0, 0, 0, 0, 0, 0, 0, 0, 0, 0, 0, 0, 0, 0, 0, 0, 0, 0, 0, 0, 0, 0, 0, 0, 0, 0, 0, 0, 0, 0, 0, 0, 0, 0, 0, 0, 0, 0, 0, 0, 0, 0, 0, 0, 0, 0, 0, 0, 0, 0, 0, 0, 0, 0, 0, 0, 0, 0, 0, 0, 0, 0, 0, 0, 0, 0, 0, 0, 0, 0, 0, 0, 0, 0, 0, 0, 0, 0, 0, 0, 0, 0, 0, 0, 0, 0, 0, 0, 0, 0, 0, 0, 0, 0, 0, 0, 0, 0, 0, 0, 0, 0, 0, 0, 0, 0, 0, 0, 0, 0, 0, 0, 0, 0, 0, 0, 0, 0, 0, 0, 0, 0, 0, 0, 0, 0, 0, 0, 0, 0, 0, 0, 0, 0, 0, 0, 0, 0, 0, 0, 0, 0, 0, 0, 0, 0, 0, 0, 0, 0, 0, 0, 0, 0, 0, 0, 0, 0, 0, 0, 0, 0, 0, 0, 0, 0, 0, 0, 0, 0, 0, 0, 0, 0, 0, 0, 0, 0, 0, 0, 0, 0, 0, 0, 0, 0, 0, 0, 0, 0, 0, 0, 0, 0, 0, 0, 0, 0, 0, 0, 0, 0, 0, 0, 0, 0, 0, 0, 0, 0, 0, 0, 0, 0, 0, 0, 0, 0, 0, 0, 0, 0, 0, 0, 0, 0, 0, 0, 0, 0, 0, 0, 0, 0, 0, 0, 0, 0, 0, 0, 0, 0, 0, 0, 0, 0, 0, 0, 0, 0, 0, 0, 0, 0, 0, 0, 0, 0, 0, 0, 0, 0, 0, 0, 0, 0, 0, 0, 0, 0, 0, 0, 0, 0, 0, 0, 0, 0, 0, 0, 0, 0, 0, 0, 0, 0, 0, 0, 0, 0, 0, 0, 0, 0, 0, 0, 0, 0, 0, 0, 0, 0, 0, 0, 0, 0, 0, 0, 0, 0, 0, 0, 0, 0, 0, 0, 0, 0, 0, 0, 0, 0, 0, 0, 0, 0, 0, 0, 0, 0, 0, 0, 0, 0, 0, 0, 0, 0, 0, 0, 0, 0, 0, 0, 0, 0, 0, 0, 0, 0, 0, 0, 0, 0, 0, 0, 0, 0, 0, 0, 0, 0, 0, 0, 0, 0, 0, 0, 0, 0, 0, 0, 0, 0, 0, 0, 0, 0, 0, 0, 0, 0, 0, 0, 0, 0, 0, 0, 0, 0, 0, 0, 0, 0, 0, 0, 0, 0, 0, 0, 0, 0, 0, 0, 0, 0, 0, 0, 0, 0, 0, 0, 0, 0, 0, 0, 0, 0, 0, 0, 0, 0, 0, 0, 0, 0, 0, 0, 0, 0, 0, 0, 0, 0, 0, 0, 0, 0, 0, 0, 0, 0, 0, 0, 0, 0, 0, 0, 0, 0, 0, 0, 0, 0, 0, 0, 0, 0, 0, 0, 0, 0, 0, 0, 0, 0, 0, 0, 0, 0, 0, 0, 0, 0, 0, 0, 0, 0, 0, 0, 0, 0, 0, 0, 0, 0, 0, 0, 0, 0, 0, 0, 0, 0, 0, 0, 0, 0, 0, 0, 0, 0, 0, 0, 0, 0, 0, 0, 0, 0, 0, 0, 0, 0, 0, 0, 0, 0, 0, 0, 0, 0, 0, 0, 0, 0, 0, 0, 0, 0, 0, 0, 0, 0, 0, 0, 0, 0, 0, 0, 0, 0, 0, 0, 0, 0, 0, 0, 0, 0, 0, 0, 0, 0, 0, 0, 0, 0, 0, 0, 0, 0, 0, 0, 0, 0, 0, 0, 0, 0, 0, 0, 0, 0, 0, 0, 0, 0, 0, 0, 0, 0, 0, 0, 0, 0, 0, 0, 0, 0, 0, 0, 0, 0, 0, 0, 0, 0, 0, 0, 0, 0, 0, 0, 0, 0, 0, 0, 0, 0, 0, 0, 0, 0, 0, 0, 0, 0, 0, 0, 0, 0, 0, 0, 0, 0, 0, 0, 0, 0, 0, 0, 0, 0, 0, 0, 0, 0, 0, 0, 0, 0, 0, 0, 0, 0, 0, 0, 0, 0, 0, 0, 0, 0, 0, 0, 0, 0, 0, 0, 0, 0, 0, 0, 0, 0, 0, 0, 0, 0, 0, 0, 0, 0, 0, 0, 0, 0, 0, 0, 0, 0, 0, 0, 0, 0, 0, 0, 0, 0, 0, 0, 0, 0, 0, 0, 0, 0, 0, 0, 0, 0, 0, 0, 0, 0, 0, 0, 0, 0, 0, 0, 0, 0, 0, 0, 0, 0, 0, 0, 0, 0, 0, 0, 0, 0, 0, 0, 0, 0, 0, 0, 0, 0, 0, 0, 0, 0, 0, 0, 0, 0, 0, 0, 0, 0, 0, 0, 0, 0, 0, 0, 0, 0, 0, 0, 0, 0, 0, 0, 0, 0, 0, 0, 0, 0, 0, 0, 0, 0, 0, 0, 0, 0, 0, 0, 0, 0, 0, 0, 0, 0, 0, 0, 0, 0, 0, 0, 0, 0, 0, 0, 0, 0, 0, 0, 0, 0, 0, 0, 0, 0, 0, 0, 0, 0, 0, 0, 0, 0, 0, 0, 0, 0, 0, 0, 0, 0, 0, 0, 0, 0, 0, 0, 0, 0, 0, 0, 0, 0, 0, 0, 0, 0, 0, 0, 0, 0, 0, 0, 0, 0, 0, 0, 0, 0, 0, 0, 0, 0, 0, 0, 0, 0, 0, 0, 0, 0]\n"
          ]
        }
      ]
    },
    {
      "cell_type": "markdown",
      "metadata": {
        "id": "SJEAJ5VinTIZ"
      },
      "source": [
        "You'll notice that your saliencies are probably very small values, since each individual pixel has a small effect on the output. \n",
        "Here are the current min and max:"
      ]
    },
    {
      "cell_type": "code",
      "metadata": {
        "id": "S5vRrciYnZgk",
        "colab": {
          "base_uri": "https://localhost:8080/"
        },
        "outputId": "47166a6f-7b25-4e1b-d924-3c9d98789312"
      },
      "source": [
        "sal_array = np.array(saliencies)\n",
        "print (sal_array.min(), sal_array.max())\n",
        "print (sal_array.shape)"
      ],
      "execution_count": null,
      "outputs": [
        {
          "output_type": "stream",
          "name": "stdout",
          "text": [
            "0 0\n",
            "(3072,)\n"
          ]
        }
      ]
    },
    {
      "cell_type": "markdown",
      "metadata": {
        "id": "UwQfwv6rnl--"
      },
      "source": [
        "To plot the saliencies, we need to do some arithmetic to transform them to a range of 0 to 1. Can you explain the function of each line?"
      ]
    },
    {
      "cell_type": "code",
      "metadata": {
        "id": "XL_W9k0W0Sai",
        "colab": {
          "base_uri": "https://localhost:8080/"
        },
        "outputId": "e3a5c33e-29ca-45b1-d6c4-0b76f767f23c"
      },
      "source": [
        "sal_array = np.array(saliencies)\n",
        "sal_array = sal_array - sal_array.min()\n",
        "#TODO print min and max\n",
        "\n",
        "sal_array = sal_array/sal_array.max()\n",
        "#TODO print min and max\n",
        "\n",
        "#Can you perform this transformation in a single line of code?\n",
        "\n",
        "print (sal_array.shape)"
      ],
      "execution_count": null,
      "outputs": [
        {
          "output_type": "stream",
          "name": "stdout",
          "text": [
            "(3072,)\n"
          ]
        },
        {
          "output_type": "stream",
          "name": "stderr",
          "text": [
            "/usr/local/lib/python3.7/dist-packages/ipykernel_launcher.py:5: RuntimeWarning: invalid value encountered in true_divide\n",
            "  \"\"\"\n"
          ]
        }
      ]
    },
    {
      "cell_type": "markdown",
      "metadata": {
        "id": "OvFKoff4n_gf"
      },
      "source": [
        "Finally, we can plot our saliency map!\n",
        "\n",
        "If you're not getting great results, try experimenting with how much you're changing the pixel values."
      ]
    },
    {
      "cell_type": "code",
      "metadata": {
        "id": "2vANcgvj1Pvc",
        "colab": {
          "base_uri": "https://localhost:8080/",
          "height": 764
        },
        "outputId": "8ea083fd-f337-4a8c-f0eb-afe09b62048e"
      },
      "source": [
        "#Plot our original image\n",
        "plt.imshow(input_image.reshape(32,32,3).astype(int))\n",
        "plt.show()\n",
        "\n",
        "#Plot our saliency map: the brighter, the higher the saliency\n",
        "plt.imshow(sal_array.reshape(32,32,3))\n",
        "plt.show()\n",
        "\n",
        "#Plot our saliency map superimposed on the image\n",
        "plt.imshow(input_image.reshape(32,32,3).astype(int))\n",
        "plt.imshow(sal_array.reshape(32,32,3),alpha=0.6)\n",
        "plt.show()"
      ],
      "execution_count": null,
      "outputs": [
        {
          "output_type": "display_data",
          "data": {
            "text/plain": [
              "<Figure size 432x288 with 1 Axes>"
            ],
            "image/png": "[encoded data removed]"
          },
          "metadata": {
            "needs_background": "light"
          }
        },
        {
          "output_type": "display_data",
          "data": {
            "text/plain": [
              "<Figure size 432x288 with 1 Axes>"
            ],
            "image/png": "[encoded data removed]"
          },
          "metadata": {
            "needs_background": "light"
          }
        },
        {
          "output_type": "display_data",
          "data": {
            "text/plain": [
              "<Figure size 432x288 with 1 Axes>"
            ],
            "image/png": "[encoded data removed]"
          },
          "metadata": {
            "needs_background": "light"
          }
        }
      ]
    },
    {
      "cell_type": "markdown",
      "metadata": {
        "id": "fistwbaDp56y"
      },
      "source": [
        "We now have some insight into our neural network! We know which pixels matter in its decisions. \n",
        "\n",
        "You can experiment with the definition of saliency we used above; you might come up with a better way to measure it!"
      ]
    }
  ]
}