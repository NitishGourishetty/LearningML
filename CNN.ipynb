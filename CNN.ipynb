{
  "nbformat": 4,
  "nbformat_minor": 0,
  "metadata": {
    "accelerator": "GPU",
    "colab": {
      "provenance": []
    },
    "kernelspec": {
      "display_name": "Python 3",
      "language": "python",
      "name": "python3"
    },
    "language_info": {
      "codemirror_mode": {
        "name": "ipython",
        "version": 3
      },
      "file_extension": ".py",
      "mimetype": "text/x-python",
      "name": "python",
      "nbconvert_exporter": "python",
      "pygments_lexer": "ipython3",
      "version": "3.8.2"
    }
  },
  "cells": [
    {
      "cell_type": "markdown",
      "metadata": {
        "id": "TiM6gYg0nhkY"
      },
      "source": [
        "<font color=\"#de3023\"><h1><b>REMINDER MAKE A COPY OF THIS NOTEBOOK, DO NOT EDIT</b></h1></font>"
      ]
    },
    {
      "cell_type": "markdown",
      "metadata": {
        "id": "Sq-JhCcLpBwS"
      },
      "source": [
        "#Conscientious Cars 2: Convolutional Neural Nets\n",
        "\n",
        "Welcome back to CC: ConscientiousCars! Today, we'll be improving on our system for distinguishing dogs from roads."
      ]
    },
    {
      "cell_type": "code",
      "metadata": {
        "id": "uhNVum16scIW"
      },
      "source": [
        "#@title Run this to load some packages and data! { display-mode: \"form\" }\n",
        "from sklearn.neural_network import MLPClassifier\n",
        "from sklearn.neighbors import KNeighborsClassifier\n",
        "from sklearn import model_selection\n",
        "from sklearn.metrics import accuracy_score\n",
        "from collections import Counter\n",
        "import tensorflow.keras as keras\n",
        "from keras.models import Sequential\n",
        "from keras.layers import Dense, Conv2D, InputLayer\n",
        "from keras.layers import Activation, MaxPooling2D, Dropout, Flatten, Reshape\n",
        "from keras.utils.np_utils import to_categorical \n",
        "from keras.wrappers.scikit_learn import KerasClassifier\n",
        "from sklearn.model_selection import StratifiedKFold\n",
        "from sklearn.model_selection import cross_val_score\n",
        "import numpy as np\n",
        "import pandas as pd\n",
        "import seaborn as sns\n",
        "import matplotlib.pyplot as plt\n",
        "\n",
        "\n",
        "def categorical_to_numpy(labels_in):\n",
        "  labels = []\n",
        "  for label in labels_in:\n",
        "    if label == 'dog':\n",
        "      labels.append(np.array([1, 0]))\n",
        "    else:\n",
        "      labels.append(np.array([0, 1]))\n",
        "  return np.array(labels)\n",
        "\n",
        "\n",
        "def load_data():\n",
        "  # Run this cell to download our data into a file called 'cifar_data'\n",
        "  import gdown\n",
        "  # gdown.download('https://drive.google.com/uc?id=1-BjeqccJdLiBA6PnNinmXSQ6w5BluLem','cifar_data','True'); # dogs v road;\n",
        "  !wget -O cifar_data https://storage.googleapis.com/inspirit-ai-data-bucket-1/Data/AI%20Scholars/Sessions%201%20-%205/Session%204%20_%205%20-%20Neural%20Networks%20_%20CNN/dogs_v_roads\n",
        "\n",
        "  # now load the data from our cloud computer\n",
        "  import pickle\n",
        "  data_dict = pickle.load(open( \"cifar_data\", \"rb\" ));\n",
        "  \n",
        "  data   = data_dict['data']\n",
        "  labels = data_dict['labels']\n",
        "  \n",
        "  return data, labels\n",
        "\n",
        "def plot_one_image(data, labels, img_idx):\n",
        "  from google.colab.patches import cv2_imshow\n",
        "  import cv2\n",
        "  import matplotlib.pyplot as plt\n",
        "  my_img   = data[img_idx, :].squeeze().reshape([32,32,3]).copy()\n",
        "  my_label = labels[img_idx]\n",
        "  print('label: %s'%my_label)\n",
        "  plt.imshow(my_img)\n",
        "  plt.show()\n",
        "  \n",
        "def CNNClassifier(num_epochs=2, layers=1, dropout=0.15):\n",
        "  def create_model():\n",
        "    model = Sequential()\n",
        "    model.add(Reshape((32, 32, 3)))\n",
        "    \n",
        "    for i in range(layers):\n",
        "      model.add(Conv2D(32, (3, 3), padding='same'))\n",
        "      model.add(Activation('relu'))\n",
        "    \n",
        "    model.add(Conv2D(32, (3, 3)))\n",
        "    model.add(Activation('relu'))\n",
        "    model.add(MaxPooling2D(pool_size=(2, 2)))\n",
        "    model.add(Dropout(dropout))\n",
        "\n",
        "    model.add(Conv2D(64, (3, 3), padding='same'))\n",
        "    model.add(Activation('relu'))\n",
        "    model.add(Conv2D(64, (3, 3)))\n",
        "    model.add(Activation('relu'))\n",
        "    model.add(MaxPooling2D(pool_size=(2, 2)))\n",
        "    model.add(Dropout(dropout))\n",
        "\n",
        "    model.add(Flatten())\n",
        "    model.add(Dense(512))\n",
        "    model.add(Activation('relu'))\n",
        "    model.add(Dropout(dropout))\n",
        "    model.add(Dense(2))\n",
        "    model.add(Activation('softmax'))\n",
        "\n",
        "    # initiate RMSprop optimizer\n",
        "    opt = keras.optimizers.RMSprop(learning_rate=0.0001, decay=1e-6)\n",
        "\n",
        "    # Let's train the model using RMSprop\n",
        "    model.compile(loss='categorical_crossentropy',\n",
        "                  optimizer=opt,\n",
        "                  metrics=['accuracy'])\n",
        "    return model\n",
        "  return KerasClassifier(build_fn=create_model, epochs=num_epochs, batch_size=10, verbose=2)\n",
        "\n",
        "def plot_acc(history, ax = None, xlabel = 'Epoch #'):\n",
        "    history = history.history\n",
        "    history.update({'epoch':list(range(len(history['val_accuracy'])))})\n",
        "    history = pd.DataFrame.from_dict(history)\n",
        "\n",
        "    best_epoch = history.sort_values(by = 'val_accuracy', ascending = False).iloc[0]['epoch']\n",
        "\n",
        "    if not ax:\n",
        "      f, ax = plt.subplots(1,1)\n",
        "    sns.lineplot(x = 'epoch', y = 'val_accuracy', data = history, label = 'Validation', ax = ax)\n",
        "    sns.lineplot(x = 'epoch', y = 'accuracy', data = history, label = 'Training', ax = ax)\n",
        "    ax.axhline(0.5, linestyle = '--',color='red', label = 'Chance')\n",
        "    ax.axvline(x = best_epoch, linestyle = '--', color = 'green', label = 'Best Epoch')  \n",
        "    ax.legend(loc = 7)    \n",
        "    ax.set_ylim([0.4, 1])\n",
        "\n",
        "    ax.set_xlabel(xlabel)\n",
        "    ax.set_ylabel('Accuracy (Fraction)')\n",
        "    \n",
        "    plt.show()\n",
        "    \n",
        "def model_to_string(model):\n",
        "    import re\n",
        "    stringlist = []\n",
        "    model.summary(print_fn=lambda x: stringlist.append(x))\n",
        "    sms = \"\\n\".join(stringlist)\n",
        "    sms = re.sub('_\\d\\d\\d','', sms)\n",
        "    sms = re.sub('_\\d\\d','', sms)\n",
        "    sms = re.sub('_\\d','', sms)  \n",
        "    return sms"
      ],
      "execution_count": null,
      "outputs": []
    },
    {
      "cell_type": "markdown",
      "metadata": {
        "id": "wkseZ14ms7vs"
      },
      "source": [
        "In this notebook, we will:\n",
        "\n",
        "- Use a pre-built CNN function to classify roads vs. dogs.\n",
        "- Build neural networks from scratch in Keras.\n",
        "- Experiment with building CNN models from scratch in Keras.\n",
        "- (Advanced, Optional) Build CNN models for distinguishing cats from dogs, and even experiment with implementing a famous architecture!\n"
      ]
    },
    {
      "cell_type": "markdown",
      "metadata": {
        "id": "qMWQRlTqt6Yn"
      },
      "source": [
        "**Change Hardware Accelerator to GPU to train faster (Runtime -> Change Runtime Type -> Hardware Accelerator -> GPU)**"
      ]
    },
    {
      "cell_type": "markdown",
      "metadata": {
        "id": "1QxGsnvhnn8R"
      },
      "source": [
        "#Loading in Data"
      ]
    },
    {
      "cell_type": "markdown",
      "metadata": {
        "id": "btr24O6Hqgo6"
      },
      "source": [
        "Once again, let's load in our dog/road dataset and create our training and test set. **What's the shape of each dataset? Why?**"
      ]
    },
    {
      "cell_type": "code",
      "metadata": {
        "id": "MmZbrZoKnthN",
        "colab": {
          "base_uri": "https://localhost:8080/"
        },
        "outputId": "e4b14af5-e681-4996-8ebf-bfdec32e7f61"
      },
      "source": [
        "# load our data\n",
        "data_raw, labels_raw = load_data()\n",
        "data = data_raw.astype(float)\n",
        "labels = categorical_to_numpy(labels_raw)\n",
        "inputs_train, inputs_test, labels_train, labels_test = model_selection.train_test_split(data, labels, test_size=0.2, random_state=1)\n",
        "\n",
        "#Find the shape of our dataset!\n",
        "### YOUR CODE HERE\n",
        "data.shape\n",
        "#1200 items and in each item 3072 data points\n",
        "### END CODE"
      ],
      "execution_count": null,
      "outputs": [
        {
          "output_type": "stream",
          "name": "stdout",
          "text": [
            "--2022-06-10 20:51:49--  https://storage.googleapis.com/inspirit-ai-data-bucket-1/Data/AI%20Scholars/Sessions%201%20-%205/Session%204%20_%205%20-%20Neural%20Networks%20_%20CNN/dogs_v_roads\n",
            "Resolving storage.googleapis.com (storage.googleapis.com)... 173.194.202.128, 74.125.142.128, 74.125.195.128, ...\n",
            "Connecting to storage.googleapis.com (storage.googleapis.com)|173.194.202.128|:443... connected.\n",
            "HTTP request sent, awaiting response... 200 OK\n",
            "Length: 3689015 (3.5M) [application/octet-stream]\n",
            "Saving to: ‘cifar_data’\n",
            "\n",
            "\rcifar_data            0%[                    ]       0  --.-KB/s               \rcifar_data          100%[===================>]   3.52M  --.-KB/s    in 0.02s   \n",
            "\n",
            "2022-06-10 20:51:49 (222 MB/s) - ‘cifar_data’ saved [3689015/3689015]\n",
            "\n"
          ]
        },
        {
          "output_type": "execute_result",
          "data": {
            "text/plain": [
              "(1200, 3072)"
            ]
          },
          "metadata": {},
          "execution_count": 6
        }
      ]
    },
    {
      "cell_type": "markdown",
      "metadata": {
        "id": "VcZra2S0NNSZ"
      },
      "source": [
        "Use the cell below as a reminder of what the data looks like."
      ]
    },
    {
      "cell_type": "code",
      "metadata": {
        "id": "B83F3CmPNSux",
        "colab": {
          "base_uri": "https://localhost:8080/",
          "height": 283
        },
        "outputId": "75754f68-c028-455d-e32f-174fa388fa22"
      },
      "source": [
        "plot_one_image(data_raw, labels_raw, 300) # change this number"
      ],
      "execution_count": null,
      "outputs": [
        {
          "output_type": "stream",
          "name": "stdout",
          "text": [
            "label: dog\n"
          ]
        },
        {
          "output_type": "display_data",
          "data": {
            "text/plain": [
              "<Figure size 432x288 with 1 Axes>"
            ],
            "image/png": "[encoded data removed]"
          },
          "metadata": {
            "needs_background": "light"
          }
        }
      ]
    },
    {
      "cell_type": "markdown",
      "metadata": {
        "id": "37O_VE_D1Bdy"
      },
      "source": [
        "# Models for Vision: Convolutional Neural Networks"
      ]
    },
    {
      "cell_type": "markdown",
      "metadata": {
        "id": "GqrfI4JiVeFr"
      },
      "source": [
        "###Exercise: Exploring Hyperparameters ✍️\n",
        "\n",
        "As you know, there is a famous type of neural network known as convolutional neural networks (CNNs). These types of neural networks work particularly well on problems to do with computer vision. Let's try one out!\n",
        "\n",
        "To load up a simple CNN on scikit-learn, just run:\n",
        "\n",
        "`cnn = CNNClassifier(num_epochs, layers, dropout)`\n",
        "\n",
        "Work with your instructors to review what each parameter means and how it affects the model! The value for **dropout** is a float between 0 and 1 that represents the probability the weight for a neuron in the layer is set to 0 during training time. Each neuron in the layer is evaluated as such, which can help prevent overfitting.\n",
        "\n",
        "**Try different values of num_epochs, layers, and dropout so that you get the best possible accuracy on the test set using `model.score()`**!"
      ]
    },
    {
      "cell_type": "code",
      "metadata": {
        "id": "bmC3-T4KRJgW",
        "colab": {
          "base_uri": "https://localhost:8080/"
        },
        "outputId": "991c3003-8384-4b27-ea32-10f7005b6f33"
      },
      "source": [
        "#dropout PREVENTS OVERFITTING, sets weight to 0 to make sure other weights readjust etc\n",
        "cnn = CNNClassifier(5, 2, 0.5)\n",
        "cnn.fit(inputs_train, labels_train)\n",
        "preds = cnn.predict(inputs_test)\n",
        "print (cnn.score(inputs_test, labels_test))"
      ],
      "execution_count": null,
      "outputs": [
        {
          "output_type": "stream",
          "name": "stderr",
          "text": [
            "/usr/local/lib/python3.7/dist-packages/ipykernel_launcher.py:92: DeprecationWarning: KerasClassifier is deprecated, use Sci-Keras (https://github.com/adriangb/scikeras) instead. See https://www.adriangb.com/scikeras/stable/migration.html for help migrating.\n"
          ]
        },
        {
          "output_type": "stream",
          "name": "stdout",
          "text": [
            "Epoch 1/5\n",
            "96/96 - 14s - loss: 9.9143 - accuracy: 0.5865 - 14s/epoch - 141ms/step\n",
            "Epoch 2/5\n",
            "96/96 - 0s - loss: 1.0492 - accuracy: 0.7198 - 424ms/epoch - 4ms/step\n",
            "Epoch 3/5\n",
            "96/96 - 0s - loss: 0.5559 - accuracy: 0.8125 - 421ms/epoch - 4ms/step\n",
            "Epoch 4/5\n",
            "96/96 - 0s - loss: 0.3651 - accuracy: 0.8646 - 416ms/epoch - 4ms/step\n",
            "Epoch 5/5\n",
            "96/96 - 0s - loss: 0.3713 - accuracy: 0.8594 - 415ms/epoch - 4ms/step\n",
            "24/24 - 0s - loss: 0.2268 - accuracy: 0.9417 - 369ms/epoch - 15ms/step\n",
            "0.9416666626930237\n"
          ]
        }
      ]
    },
    {
      "cell_type": "code",
      "metadata": {
        "id": "dSwghlVU4WTy",
        "colab": {
          "base_uri": "https://localhost:8080/"
        },
        "outputId": "fd8239ca-739c-4428-f966-220a48eea30c"
      },
      "source": [
        "### YOUR CODE HERE\n",
        "for x in[1, 3, 5, 7]:\n",
        "  for y in [1, 2, 3]:\n",
        "    for z in [0.25, 0.5, 0.75]:\n",
        "      cnn = CNNClassifier(x, y, z)\n",
        "      cnn.fit(inputs_train, labels_train)\n",
        "      preds = cnn.predict(inputs_test)\n",
        "      print(x, \"epochs\", y, \"layers\", z, \"dropouts\")\n",
        "      print (cnn.score(inputs_test, labels_test))\n",
        "### END CODE"
      ],
      "execution_count": null,
      "outputs": [
        {
          "output_type": "stream",
          "name": "stderr",
          "text": [
            "/usr/local/lib/python3.7/dist-packages/ipykernel_launcher.py:92: DeprecationWarning: KerasClassifier is deprecated, use Sci-Keras (https://github.com/adriangb/scikeras) instead. See https://www.adriangb.com/scikeras/stable/migration.html for help migrating.\n"
          ]
        },
        {
          "output_type": "stream",
          "name": "stdout",
          "text": [
            "96/96 - 1s - loss: 3.9014 - accuracy: 0.6792 - 1s/epoch - 13ms/step\n",
            "1 epochs 1 layers 0.25 dropouts\n",
            "24/24 - 0s - loss: 0.9585 - accuracy: 0.7000 - 193ms/epoch - 8ms/step\n",
            "0.699999988079071\n",
            "96/96 - 1s - loss: 15.8456 - accuracy: 0.5646 - 1s/epoch - 13ms/step\n",
            "1 epochs 1 layers 0.5 dropouts\n",
            "24/24 - 0s - loss: 1.0126 - accuracy: 0.7458 - 193ms/epoch - 8ms/step\n",
            "0.7458333373069763\n",
            "96/96 - 1s - loss: 51.0501 - accuracy: 0.5188 - 1s/epoch - 13ms/step\n",
            "1 epochs 1 layers 0.75 dropouts\n",
            "24/24 - 0s - loss: 2.0782 - accuracy: 0.5083 - 200ms/epoch - 8ms/step\n",
            "0.5083333253860474\n",
            "96/96 - 1s - loss: 4.4386 - accuracy: 0.6635 - 1s/epoch - 14ms/step\n",
            "1 epochs 2 layers 0.25 dropouts\n",
            "24/24 - 0s - loss: 1.1993 - accuracy: 0.6292 - 202ms/epoch - 8ms/step\n",
            "0.6291666626930237\n",
            "96/96 - 1s - loss: 5.4845 - accuracy: 0.6021 - 1s/epoch - 14ms/step\n",
            "1 epochs 2 layers 0.5 dropouts\n",
            "24/24 - 0s - loss: 0.2182 - accuracy: 0.9208 - 206ms/epoch - 9ms/step\n",
            "0.9208333492279053\n",
            "96/96 - 2s - loss: 33.9540 - accuracy: 0.5271 - 2s/epoch - 18ms/step\n",
            "1 epochs 2 layers 0.75 dropouts\n",
            "24/24 - 0s - loss: 1.1453 - accuracy: 0.5917 - 211ms/epoch - 9ms/step\n",
            "0.5916666388511658\n",
            "96/96 - 2s - loss: 2.2041 - accuracy: 0.7063 - 2s/epoch - 16ms/step\n",
            "1 epochs 3 layers 0.25 dropouts\n",
            "24/24 - 0s - loss: 0.2251 - accuracy: 0.9000 - 219ms/epoch - 9ms/step\n",
            "0.8999999761581421\n",
            "96/96 - 2s - loss: 2.8063 - accuracy: 0.6187 - 2s/epoch - 16ms/step\n",
            "1 epochs 3 layers 0.5 dropouts\n",
            "24/24 - 0s - loss: 0.3553 - accuracy: 0.8292 - 216ms/epoch - 9ms/step\n",
            "0.8291666507720947\n",
            "96/96 - 1s - loss: 18.8911 - accuracy: 0.5031 - 1s/epoch - 16ms/step\n",
            "1 epochs 3 layers 0.75 dropouts\n",
            "24/24 - 0s - loss: 0.6615 - accuracy: 0.6375 - 224ms/epoch - 9ms/step\n",
            "0.637499988079071\n",
            "Epoch 1/3\n",
            "96/96 - 1s - loss: 5.5088 - accuracy: 0.7000 - 1s/epoch - 13ms/step\n",
            "Epoch 2/3\n",
            "96/96 - 0s - loss: 1.2792 - accuracy: 0.8135 - 389ms/epoch - 4ms/step\n",
            "Epoch 3/3\n",
            "96/96 - 0s - loss: 0.6448 - accuracy: 0.8635 - 400ms/epoch - 4ms/step\n",
            "3 epochs 1 layers 0.25 dropouts\n",
            "24/24 - 0s - loss: 0.5008 - accuracy: 0.8167 - 197ms/epoch - 8ms/step\n",
            "0.8166666626930237\n",
            "Epoch 1/3\n",
            "96/96 - 1s - loss: 13.1337 - accuracy: 0.6146 - 1s/epoch - 13ms/step\n",
            "Epoch 2/3\n",
            "96/96 - 0s - loss: 2.3246 - accuracy: 0.7594 - 394ms/epoch - 4ms/step\n",
            "Epoch 3/3\n",
            "96/96 - 0s - loss: 0.9007 - accuracy: 0.8052 - 388ms/epoch - 4ms/step\n",
            "3 epochs 1 layers 0.5 dropouts\n",
            "24/24 - 0s - loss: 0.1818 - accuracy: 0.9375 - 218ms/epoch - 9ms/step\n",
            "0.9375\n",
            "Epoch 1/3\n",
            "96/96 - 2s - loss: 36.3481 - accuracy: 0.5146 - 2s/epoch - 16ms/step\n",
            "Epoch 2/3\n",
            "96/96 - 0s - loss: 10.2337 - accuracy: 0.5219 - 399ms/epoch - 4ms/step\n",
            "Epoch 3/3\n",
            "96/96 - 0s - loss: 3.4906 - accuracy: 0.5667 - 408ms/epoch - 4ms/step\n",
            "3 epochs 1 layers 0.75 dropouts\n",
            "24/24 - 0s - loss: 0.4509 - accuracy: 0.8250 - 202ms/epoch - 8ms/step\n",
            "0.824999988079071\n",
            "Epoch 1/3\n",
            "96/96 - 1s - loss: 3.0323 - accuracy: 0.6573 - 1s/epoch - 15ms/step\n",
            "Epoch 2/3\n",
            "96/96 - 0s - loss: 0.5246 - accuracy: 0.8385 - 436ms/epoch - 5ms/step\n",
            "Epoch 3/3\n",
            "96/96 - 0s - loss: 0.2949 - accuracy: 0.8865 - 445ms/epoch - 5ms/step\n",
            "3 epochs 2 layers 0.25 dropouts\n",
            "24/24 - 0s - loss: 0.2244 - accuracy: 0.8958 - 203ms/epoch - 8ms/step\n",
            "0.8958333134651184\n",
            "Epoch 1/3\n",
            "96/96 - 1s - loss: 18.1799 - accuracy: 0.5646 - 1s/epoch - 14ms/step\n",
            "Epoch 2/3\n",
            "96/96 - 0s - loss: 2.7809 - accuracy: 0.6885 - 428ms/epoch - 4ms/step\n",
            "Epoch 3/3\n",
            "96/96 - 0s - loss: 0.9657 - accuracy: 0.7740 - 431ms/epoch - 4ms/step\n",
            "3 epochs 2 layers 0.5 dropouts\n",
            "24/24 - 0s - loss: 0.1846 - accuracy: 0.9250 - 206ms/epoch - 9ms/step\n",
            "0.925000011920929\n",
            "Epoch 1/3\n",
            "96/96 - 1s - loss: 10.5512 - accuracy: 0.5240 - 1s/epoch - 14ms/step\n",
            "Epoch 2/3\n",
            "96/96 - 0s - loss: 3.1812 - accuracy: 0.5427 - 432ms/epoch - 4ms/step\n",
            "Epoch 3/3\n",
            "96/96 - 0s - loss: 1.4176 - accuracy: 0.5854 - 421ms/epoch - 4ms/step\n",
            "3 epochs 2 layers 0.75 dropouts\n",
            "24/24 - 0s - loss: 0.4719 - accuracy: 0.8625 - 204ms/epoch - 8ms/step\n",
            "0.862500011920929\n",
            "Epoch 1/3\n",
            "96/96 - 1s - loss: 1.9487 - accuracy: 0.7052 - 1s/epoch - 16ms/step\n",
            "Epoch 2/3\n",
            "96/96 - 0s - loss: 0.3416 - accuracy: 0.8760 - 460ms/epoch - 5ms/step\n",
            "Epoch 3/3\n",
            "96/96 - 0s - loss: 0.2266 - accuracy: 0.9104 - 460ms/epoch - 5ms/step\n",
            "3 epochs 3 layers 0.25 dropouts\n",
            "24/24 - 0s - loss: 0.1586 - accuracy: 0.9458 - 212ms/epoch - 9ms/step\n",
            "0.9458333253860474\n",
            "Epoch 1/3\n",
            "96/96 - 2s - loss: 3.4177 - accuracy: 0.6031 - 2s/epoch - 19ms/step\n",
            "Epoch 2/3\n",
            "96/96 - 0s - loss: 0.7784 - accuracy: 0.7448 - 458ms/epoch - 5ms/step\n",
            "Epoch 3/3\n",
            "96/96 - 0s - loss: 0.4586 - accuracy: 0.8167 - 485ms/epoch - 5ms/step\n",
            "3 epochs 3 layers 0.5 dropouts\n",
            "24/24 - 0s - loss: 0.2620 - accuracy: 0.9167 - 220ms/epoch - 9ms/step\n",
            "0.9166666865348816\n",
            "Epoch 1/3\n",
            "96/96 - 2s - loss: 16.4772 - accuracy: 0.5125 - 2s/epoch - 16ms/step\n",
            "Epoch 2/3\n",
            "96/96 - 0s - loss: 2.5869 - accuracy: 0.5094 - 461ms/epoch - 5ms/step\n",
            "Epoch 3/3\n",
            "96/96 - 0s - loss: 1.1184 - accuracy: 0.5396 - 474ms/epoch - 5ms/step\n",
            "3 epochs 3 layers 0.75 dropouts\n",
            "24/24 - 0s - loss: 0.5931 - accuracy: 0.8042 - 211ms/epoch - 9ms/step\n",
            "0.8041666746139526\n",
            "Epoch 1/5\n",
            "96/96 - 1s - loss: 6.2375 - accuracy: 0.6750 - 1s/epoch - 13ms/step\n",
            "Epoch 2/5\n",
            "96/96 - 0s - loss: 1.2211 - accuracy: 0.8177 - 383ms/epoch - 4ms/step\n",
            "Epoch 3/5\n",
            "96/96 - 0s - loss: 0.5313 - accuracy: 0.8781 - 392ms/epoch - 4ms/step\n",
            "Epoch 4/5\n",
            "96/96 - 0s - loss: 0.3562 - accuracy: 0.8990 - 398ms/epoch - 4ms/step\n",
            "Epoch 5/5\n",
            "96/96 - 0s - loss: 0.2897 - accuracy: 0.9062 - 383ms/epoch - 4ms/step\n",
            "5 epochs 1 layers 0.25 dropouts\n",
            "24/24 - 0s - loss: 0.1669 - accuracy: 0.9250 - 204ms/epoch - 8ms/step\n",
            "0.925000011920929\n",
            "Epoch 1/5\n",
            "96/96 - 1s - loss: 8.4913 - accuracy: 0.5646 - 1s/epoch - 13ms/step\n",
            "Epoch 2/5\n",
            "96/96 - 0s - loss: 1.6448 - accuracy: 0.7625 - 392ms/epoch - 4ms/step\n",
            "Epoch 3/5\n",
            "96/96 - 0s - loss: 0.7568 - accuracy: 0.8229 - 403ms/epoch - 4ms/step\n",
            "Epoch 4/5\n",
            "96/96 - 0s - loss: 0.4468 - accuracy: 0.8573 - 393ms/epoch - 4ms/step\n",
            "Epoch 5/5\n",
            "96/96 - 0s - loss: 0.3427 - accuracy: 0.8740 - 406ms/epoch - 4ms/step\n",
            "5 epochs 1 layers 0.5 dropouts\n",
            "24/24 - 0s - loss: 0.1773 - accuracy: 0.9375 - 195ms/epoch - 8ms/step\n",
            "0.9375\n",
            "Epoch 1/5\n",
            "96/96 - 1s - loss: 37.9447 - accuracy: 0.5302 - 1s/epoch - 13ms/step\n",
            "Epoch 2/5\n",
            "96/96 - 0s - loss: 7.2396 - accuracy: 0.5615 - 404ms/epoch - 4ms/step\n",
            "Epoch 3/5\n",
            "96/96 - 0s - loss: 2.2693 - accuracy: 0.5667 - 378ms/epoch - 4ms/step\n",
            "Epoch 4/5\n",
            "96/96 - 0s - loss: 1.0932 - accuracy: 0.6125 - 377ms/epoch - 4ms/step\n",
            "Epoch 5/5\n",
            "96/96 - 0s - loss: 0.7598 - accuracy: 0.6917 - 407ms/epoch - 4ms/step\n",
            "5 epochs 1 layers 0.75 dropouts\n",
            "24/24 - 0s - loss: 0.5081 - accuracy: 0.8250 - 194ms/epoch - 8ms/step\n",
            "0.824999988079071\n",
            "Epoch 1/5\n",
            "96/96 - 1s - loss: 4.6830 - accuracy: 0.6885 - 1s/epoch - 14ms/step\n",
            "Epoch 2/5\n",
            "96/96 - 0s - loss: 0.6490 - accuracy: 0.8167 - 427ms/epoch - 4ms/step\n",
            "Epoch 3/5\n",
            "96/96 - 0s - loss: 0.3166 - accuracy: 0.8896 - 435ms/epoch - 5ms/step\n",
            "Epoch 4/5\n",
            "96/96 - 0s - loss: 0.2485 - accuracy: 0.9052 - 438ms/epoch - 5ms/step\n",
            "Epoch 5/5\n",
            "96/96 - 0s - loss: 0.2067 - accuracy: 0.9167 - 440ms/epoch - 5ms/step\n",
            "5 epochs 2 layers 0.25 dropouts\n",
            "24/24 - 1s - loss: 0.1889 - accuracy: 0.9292 - 503ms/epoch - 21ms/step\n",
            "0.9291666746139526\n",
            "Epoch 1/5\n",
            "96/96 - 1s - loss: 6.2472 - accuracy: 0.6135 - 1s/epoch - 15ms/step\n",
            "Epoch 2/5\n",
            "96/96 - 0s - loss: 1.1741 - accuracy: 0.7510 - 425ms/epoch - 4ms/step\n",
            "Epoch 3/5\n",
            "96/96 - 0s - loss: 0.6605 - accuracy: 0.8094 - 439ms/epoch - 5ms/step\n",
            "Epoch 4/5\n",
            "96/96 - 0s - loss: 0.4481 - accuracy: 0.8604 - 435ms/epoch - 5ms/step\n",
            "Epoch 5/5\n",
            "96/96 - 0s - loss: 0.3394 - accuracy: 0.8615 - 431ms/epoch - 4ms/step\n",
            "5 epochs 2 layers 0.5 dropouts\n",
            "24/24 - 0s - loss: 0.1591 - accuracy: 0.9542 - 212ms/epoch - 9ms/step\n",
            "0.9541666507720947\n",
            "Epoch 1/5\n",
            "96/96 - 1s - loss: 18.0713 - accuracy: 0.4844 - 1s/epoch - 14ms/step\n",
            "Epoch 2/5\n",
            "96/96 - 0s - loss: 2.4503 - accuracy: 0.5688 - 432ms/epoch - 4ms/step\n",
            "Epoch 3/5\n",
            "96/96 - 0s - loss: 0.8729 - accuracy: 0.6573 - 419ms/epoch - 4ms/step\n",
            "Epoch 4/5\n",
            "96/96 - 0s - loss: 0.5298 - accuracy: 0.7615 - 427ms/epoch - 4ms/step\n",
            "Epoch 5/5\n",
            "96/96 - 0s - loss: 0.4238 - accuracy: 0.8365 - 428ms/epoch - 4ms/step\n",
            "5 epochs 2 layers 0.75 dropouts\n",
            "24/24 - 0s - loss: 0.3973 - accuracy: 0.8083 - 216ms/epoch - 9ms/step\n",
            "0.8083333373069763\n",
            "Epoch 1/5\n",
            "96/96 - 2s - loss: 2.3932 - accuracy: 0.6802 - 2s/epoch - 16ms/step\n",
            "Epoch 2/5\n",
            "96/96 - 0s - loss: 0.4775 - accuracy: 0.8448 - 467ms/epoch - 5ms/step\n",
            "Epoch 3/5\n",
            "96/96 - 0s - loss: 0.2767 - accuracy: 0.8958 - 463ms/epoch - 5ms/step\n",
            "Epoch 4/5\n",
            "96/96 - 0s - loss: 0.2449 - accuracy: 0.9125 - 466ms/epoch - 5ms/step\n",
            "Epoch 5/5\n",
            "96/96 - 0s - loss: 0.1925 - accuracy: 0.9302 - 463ms/epoch - 5ms/step\n",
            "5 epochs 3 layers 0.25 dropouts\n",
            "24/24 - 0s - loss: 0.2500 - accuracy: 0.9042 - 220ms/epoch - 9ms/step\n",
            "0.9041666388511658\n",
            "Epoch 1/5\n",
            "96/96 - 2s - loss: 4.7038 - accuracy: 0.5698 - 2s/epoch - 16ms/step\n",
            "Epoch 2/5\n",
            "96/96 - 0s - loss: 0.9572 - accuracy: 0.6990 - 470ms/epoch - 5ms/step\n",
            "Epoch 3/5\n",
            "96/96 - 0s - loss: 0.4653 - accuracy: 0.8125 - 464ms/epoch - 5ms/step\n",
            "Epoch 4/5\n",
            "96/96 - 0s - loss: 0.3424 - accuracy: 0.8542 - 465ms/epoch - 5ms/step\n",
            "Epoch 5/5\n",
            "96/96 - 0s - loss: 0.2600 - accuracy: 0.8906 - 460ms/epoch - 5ms/step\n",
            "5 epochs 3 layers 0.5 dropouts\n",
            "24/24 - 0s - loss: 0.1675 - accuracy: 0.9458 - 222ms/epoch - 9ms/step\n",
            "0.9458333253860474\n",
            "Epoch 1/5\n",
            "96/96 - 1s - loss: 27.1849 - accuracy: 0.5042 - 1s/epoch - 16ms/step\n",
            "Epoch 2/5\n",
            "96/96 - 0s - loss: 2.5017 - accuracy: 0.5625 - 460ms/epoch - 5ms/step\n",
            "Epoch 3/5\n",
            "96/96 - 0s - loss: 0.9680 - accuracy: 0.5917 - 475ms/epoch - 5ms/step\n",
            "Epoch 4/5\n",
            "96/96 - 0s - loss: 0.6194 - accuracy: 0.7156 - 464ms/epoch - 5ms/step\n",
            "Epoch 5/5\n",
            "96/96 - 0s - loss: 0.4727 - accuracy: 0.7823 - 458ms/epoch - 5ms/step\n",
            "5 epochs 3 layers 0.75 dropouts\n",
            "24/24 - 0s - loss: 0.3700 - accuracy: 0.9167 - 213ms/epoch - 9ms/step\n",
            "0.9166666865348816\n",
            "Epoch 1/7\n",
            "96/96 - 2s - loss: 5.3813 - accuracy: 0.6938 - 2s/epoch - 17ms/step\n",
            "Epoch 2/7\n",
            "96/96 - 0s - loss: 1.1509 - accuracy: 0.8167 - 397ms/epoch - 4ms/step\n",
            "Epoch 3/7\n",
            "96/96 - 0s - loss: 0.6094 - accuracy: 0.8667 - 387ms/epoch - 4ms/step\n",
            "Epoch 4/7\n",
            "96/96 - 0s - loss: 0.3452 - accuracy: 0.9052 - 412ms/epoch - 4ms/step\n",
            "Epoch 5/7\n",
            "96/96 - 0s - loss: 0.2548 - accuracy: 0.9219 - 393ms/epoch - 4ms/step\n",
            "Epoch 6/7\n",
            "96/96 - 0s - loss: 0.2208 - accuracy: 0.9260 - 390ms/epoch - 4ms/step\n",
            "Epoch 7/7\n",
            "96/96 - 0s - loss: 0.1470 - accuracy: 0.9521 - 395ms/epoch - 4ms/step\n",
            "7 epochs 1 layers 0.25 dropouts\n",
            "24/24 - 0s - loss: 0.1652 - accuracy: 0.9458 - 203ms/epoch - 8ms/step\n",
            "0.9458333253860474\n",
            "Epoch 1/7\n",
            "96/96 - 1s - loss: 11.0953 - accuracy: 0.6052 - 1s/epoch - 14ms/step\n",
            "Epoch 2/7\n",
            "96/96 - 0s - loss: 1.6722 - accuracy: 0.7583 - 383ms/epoch - 4ms/step\n",
            "Epoch 3/7\n",
            "96/96 - 0s - loss: 0.5909 - accuracy: 0.8490 - 389ms/epoch - 4ms/step\n",
            "Epoch 4/7\n",
            "96/96 - 0s - loss: 0.4812 - accuracy: 0.8583 - 404ms/epoch - 4ms/step\n",
            "Epoch 5/7\n",
            "96/96 - 0s - loss: 0.3925 - accuracy: 0.8781 - 393ms/epoch - 4ms/step\n",
            "Epoch 6/7\n",
            "96/96 - 0s - loss: 0.3012 - accuracy: 0.9062 - 399ms/epoch - 4ms/step\n",
            "Epoch 7/7\n",
            "96/96 - 0s - loss: 0.2593 - accuracy: 0.9052 - 391ms/epoch - 4ms/step\n",
            "7 epochs 1 layers 0.5 dropouts\n",
            "24/24 - 0s - loss: 0.1580 - accuracy: 0.9375 - 194ms/epoch - 8ms/step\n",
            "0.9375\n",
            "Epoch 1/7\n",
            "96/96 - 1s - loss: 75.6556 - accuracy: 0.5094 - 1s/epoch - 13ms/step\n",
            "Epoch 2/7\n",
            "96/96 - 0s - loss: 20.0260 - accuracy: 0.5260 - 388ms/epoch - 4ms/step\n",
            "Epoch 3/7\n",
            "96/96 - 0s - loss: 6.6760 - accuracy: 0.5146 - 380ms/epoch - 4ms/step\n",
            "Epoch 4/7\n",
            "96/96 - 0s - loss: 2.5482 - accuracy: 0.5990 - 391ms/epoch - 4ms/step\n",
            "Epoch 5/7\n",
            "96/96 - 0s - loss: 1.3644 - accuracy: 0.5896 - 391ms/epoch - 4ms/step\n",
            "Epoch 6/7\n",
            "96/96 - 1s - loss: 0.8542 - accuracy: 0.6542 - 651ms/epoch - 7ms/step\n",
            "Epoch 7/7\n",
            "96/96 - 1s - loss: 0.7328 - accuracy: 0.6802 - 525ms/epoch - 5ms/step\n",
            "7 epochs 1 layers 0.75 dropouts\n",
            "24/24 - 1s - loss: 0.5044 - accuracy: 0.8208 - 575ms/epoch - 24ms/step\n",
            "0.8208333253860474\n",
            "Epoch 1/7\n",
            "96/96 - 1s - loss: 1.4744 - accuracy: 0.7448 - 1s/epoch - 15ms/step\n",
            "Epoch 2/7\n",
            "96/96 - 0s - loss: 0.4041 - accuracy: 0.8792 - 429ms/epoch - 4ms/step\n",
            "Epoch 3/7\n",
            "96/96 - 0s - loss: 0.2848 - accuracy: 0.9052 - 436ms/epoch - 5ms/step\n",
            "Epoch 4/7\n",
            "96/96 - 0s - loss: 0.2190 - accuracy: 0.9240 - 442ms/epoch - 5ms/step\n",
            "Epoch 5/7\n",
            "96/96 - 0s - loss: 0.1603 - accuracy: 0.9406 - 429ms/epoch - 4ms/step\n",
            "Epoch 6/7\n",
            "96/96 - 0s - loss: 0.1318 - accuracy: 0.9531 - 433ms/epoch - 5ms/step\n",
            "Epoch 7/7\n",
            "96/96 - 0s - loss: 0.1333 - accuracy: 0.9573 - 424ms/epoch - 4ms/step\n",
            "7 epochs 2 layers 0.25 dropouts\n",
            "24/24 - 0s - loss: 0.1388 - accuracy: 0.9625 - 209ms/epoch - 9ms/step\n",
            "0.9624999761581421\n",
            "Epoch 1/7\n",
            "96/96 - 1s - loss: 5.3760 - accuracy: 0.6187 - 1s/epoch - 14ms/step\n",
            "Epoch 2/7\n",
            "96/96 - 0s - loss: 0.9277 - accuracy: 0.7646 - 430ms/epoch - 4ms/step\n",
            "Epoch 3/7\n",
            "96/96 - 0s - loss: 0.5023 - accuracy: 0.8479 - 428ms/epoch - 4ms/step\n",
            "Epoch 4/7\n",
            "96/96 - 0s - loss: 0.3522 - accuracy: 0.8625 - 428ms/epoch - 4ms/step\n",
            "Epoch 5/7\n",
            "96/96 - 0s - loss: 0.3027 - accuracy: 0.8906 - 437ms/epoch - 5ms/step\n",
            "Epoch 6/7\n",
            "96/96 - 0s - loss: 0.2971 - accuracy: 0.9000 - 427ms/epoch - 4ms/step\n",
            "Epoch 7/7\n",
            "96/96 - 0s - loss: 0.2386 - accuracy: 0.9167 - 452ms/epoch - 5ms/step\n",
            "7 epochs 2 layers 0.5 dropouts\n",
            "24/24 - 0s - loss: 0.1377 - accuracy: 0.9500 - 199ms/epoch - 8ms/step\n",
            "0.949999988079071\n",
            "Epoch 1/7\n",
            "96/96 - 1s - loss: 26.1651 - accuracy: 0.5094 - 1s/epoch - 14ms/step\n",
            "Epoch 2/7\n",
            "96/96 - 0s - loss: 5.7700 - accuracy: 0.5104 - 422ms/epoch - 4ms/step\n",
            "Epoch 3/7\n",
            "96/96 - 0s - loss: 1.9406 - accuracy: 0.5740 - 418ms/epoch - 4ms/step\n",
            "Epoch 4/7\n",
            "96/96 - 0s - loss: 0.9836 - accuracy: 0.6417 - 429ms/epoch - 4ms/step\n",
            "Epoch 5/7\n",
            "96/96 - 0s - loss: 0.6555 - accuracy: 0.6885 - 420ms/epoch - 4ms/step\n",
            "Epoch 6/7\n",
            "96/96 - 0s - loss: 0.5248 - accuracy: 0.7708 - 431ms/epoch - 4ms/step\n",
            "Epoch 7/7\n",
            "96/96 - 0s - loss: 0.4337 - accuracy: 0.8104 - 419ms/epoch - 4ms/step\n",
            "7 epochs 2 layers 0.75 dropouts\n",
            "24/24 - 0s - loss: 0.2778 - accuracy: 0.9333 - 201ms/epoch - 8ms/step\n",
            "0.9333333373069763\n",
            "Epoch 1/7\n",
            "96/96 - 2s - loss: 1.3726 - accuracy: 0.7396 - 2s/epoch - 16ms/step\n",
            "Epoch 2/7\n",
            "96/96 - 0s - loss: 0.3378 - accuracy: 0.8813 - 463ms/epoch - 5ms/step\n",
            "Epoch 3/7\n",
            "96/96 - 0s - loss: 0.2523 - accuracy: 0.9052 - 454ms/epoch - 5ms/step\n",
            "Epoch 4/7\n",
            "96/96 - 0s - loss: 0.2149 - accuracy: 0.9260 - 468ms/epoch - 5ms/step\n",
            "Epoch 5/7\n",
            "96/96 - 0s - loss: 0.1644 - accuracy: 0.9417 - 472ms/epoch - 5ms/step\n",
            "Epoch 6/7\n",
            "96/96 - 0s - loss: 0.1574 - accuracy: 0.9417 - 464ms/epoch - 5ms/step\n",
            "Epoch 7/7\n",
            "96/96 - 0s - loss: 0.1507 - accuracy: 0.9438 - 467ms/epoch - 5ms/step\n",
            "7 epochs 3 layers 0.25 dropouts\n",
            "24/24 - 0s - loss: 0.1424 - accuracy: 0.9292 - 226ms/epoch - 9ms/step\n",
            "0.9291666746139526\n",
            "Epoch 1/7\n",
            "96/96 - 2s - loss: 2.1393 - accuracy: 0.6583 - 2s/epoch - 16ms/step\n",
            "Epoch 2/7\n",
            "96/96 - 0s - loss: 0.5160 - accuracy: 0.8031 - 469ms/epoch - 5ms/step\n",
            "Epoch 3/7\n",
            "96/96 - 0s - loss: 0.3462 - accuracy: 0.8604 - 476ms/epoch - 5ms/step\n",
            "Epoch 4/7\n",
            "96/96 - 0s - loss: 0.2793 - accuracy: 0.8875 - 476ms/epoch - 5ms/step\n",
            "Epoch 5/7\n",
            "96/96 - 0s - loss: 0.2395 - accuracy: 0.9052 - 496ms/epoch - 5ms/step\n",
            "Epoch 6/7\n",
            "96/96 - 1s - loss: 0.2508 - accuracy: 0.9115 - 546ms/epoch - 6ms/step\n",
            "Epoch 7/7\n",
            "96/96 - 1s - loss: 0.2207 - accuracy: 0.9167 - 668ms/epoch - 7ms/step\n",
            "7 epochs 3 layers 0.5 dropouts\n",
            "24/24 - 0s - loss: 0.1896 - accuracy: 0.9417 - 317ms/epoch - 13ms/step\n",
            "0.9416666626930237\n",
            "Epoch 1/7\n",
            "96/96 - 2s - loss: 13.1842 - accuracy: 0.5010 - 2s/epoch - 16ms/step\n",
            "Epoch 2/7\n",
            "96/96 - 0s - loss: 2.6381 - accuracy: 0.5500 - 465ms/epoch - 5ms/step\n",
            "Epoch 3/7\n",
            "96/96 - 0s - loss: 1.1003 - accuracy: 0.5938 - 469ms/epoch - 5ms/step\n",
            "Epoch 4/7\n",
            "96/96 - 0s - loss: 0.6418 - accuracy: 0.7104 - 469ms/epoch - 5ms/step\n",
            "Epoch 5/7\n",
            "96/96 - 0s - loss: 0.4532 - accuracy: 0.8000 - 470ms/epoch - 5ms/step\n",
            "Epoch 6/7\n",
            "96/96 - 0s - loss: 0.4255 - accuracy: 0.8260 - 457ms/epoch - 5ms/step\n",
            "Epoch 7/7\n",
            "96/96 - 0s - loss: 0.3482 - accuracy: 0.8531 - 469ms/epoch - 5ms/step\n",
            "7 epochs 3 layers 0.75 dropouts\n",
            "24/24 - 0s - loss: 0.3207 - accuracy: 0.9083 - 211ms/epoch - 9ms/step\n",
            "0.9083333611488342\n"
          ]
        }
      ]
    },
    {
      "cell_type": "markdown",
      "metadata": {
        "id": "KGWpgsVXP1ut"
      },
      "source": [
        "**How well did your neural network perform?** \n",
        "\n",
        "CNNs typically perform better than fully-connected neural networks on vision problems, but, as before, they aren't always consistent. They are also sensitive to a number of parameters. "
      ]
    },
    {
      "cell_type": "markdown",
      "metadata": {
        "id": "c-XRh5Y5P_CL"
      },
      "source": [
        "## Training and Validation Curves\n",
        "\n",
        "An important aspect of training neural networks is to prevent overfitting. **How would we recognize overfitting?**\n",
        "\n",
        "In the first line of code below, we first **fit** the model on the training data and pass in some validation (or test) data to evaluate it. We call it the **history** because we want to retain information about the accuracy at each epoch.\n",
        "\n",
        "In the second line we plot the history so that we can compare the training and validation accuracies.  \n",
        "\n",
        "```\n",
        "history = model.fit(inputs_train, labels_train, validation_data=(inputs_test, labels_test))\n",
        "plot_acc(history)\n",
        "```\n",
        "\n"
      ]
    },
    {
      "cell_type": "markdown",
      "metadata": {
        "id": "8eaFvE2PQEFe"
      },
      "source": [
        "###Exercise: Plotting a Training vs. Validation Curve For Our CNN ✍️\n",
        "\n",
        "**After how many epochs does the model begin to overfit? How does this vary as you vary the number of hidden layers and dropout?** Overfitting occurs when the validation accuracy starts to drop below the training accuracy."
      ]
    },
    {
      "cell_type": "code",
      "metadata": {
        "id": "OsVAasDbjARJ",
        "colab": {
          "base_uri": "https://localhost:8080/",
          "height": 1000
        },
        "outputId": "c0397495-3bfe-411f-bb82-139c3e541d01"
      },
      "source": [
        "### YOUR CODE HERE\n",
        "cnn = CNNClassifier(80, 2, 0.5)\n",
        "history = cnn.fit(inputs_train, labels_train, validation_data=(inputs_test, labels_test))\n",
        "plot_acc(history)\n",
        "### END CODE"
      ],
      "execution_count": null,
      "outputs": [
        {
          "output_type": "stream",
          "name": "stdout",
          "text": [
            "Epoch 1/80\n"
          ]
        },
        {
          "output_type": "stream",
          "name": "stderr",
          "text": [
            "/usr/local/lib/python3.7/dist-packages/ipykernel_launcher.py:92: DeprecationWarning: KerasClassifier is deprecated, use Sci-Keras (https://github.com/adriangb/scikeras) instead. See https://www.adriangb.com/scikeras/stable/migration.html for help migrating.\n"
          ]
        },
        {
          "output_type": "stream",
          "name": "stdout",
          "text": [
            "96/96 - 2s - loss: 10.2814 - accuracy: 0.6250 - val_loss: 0.2631 - val_accuracy: 0.9042 - 2s/epoch - 25ms/step\n",
            "Epoch 2/80\n",
            "96/96 - 1s - loss: 1.3930 - accuracy: 0.7677 - val_loss: 0.7150 - val_accuracy: 0.7708 - 505ms/epoch - 5ms/step\n",
            "Epoch 3/80\n",
            "96/96 - 0s - loss: 0.5203 - accuracy: 0.8458 - val_loss: 0.1746 - val_accuracy: 0.9292 - 496ms/epoch - 5ms/step\n",
            "Epoch 4/80\n",
            "96/96 - 0s - loss: 0.3298 - accuracy: 0.8833 - val_loss: 0.1721 - val_accuracy: 0.9292 - 500ms/epoch - 5ms/step\n",
            "Epoch 5/80\n",
            "96/96 - 0s - loss: 0.2577 - accuracy: 0.9031 - val_loss: 0.1612 - val_accuracy: 0.9292 - 492ms/epoch - 5ms/step\n",
            "Epoch 6/80\n",
            "96/96 - 0s - loss: 0.2579 - accuracy: 0.9052 - val_loss: 0.1496 - val_accuracy: 0.9417 - 499ms/epoch - 5ms/step\n",
            "Epoch 7/80\n",
            "96/96 - 0s - loss: 0.2072 - accuracy: 0.9354 - val_loss: 0.1367 - val_accuracy: 0.9542 - 492ms/epoch - 5ms/step\n",
            "Epoch 8/80\n",
            "96/96 - 1s - loss: 0.2190 - accuracy: 0.9094 - val_loss: 0.1307 - val_accuracy: 0.9458 - 508ms/epoch - 5ms/step\n",
            "Epoch 9/80\n",
            "96/96 - 0s - loss: 0.2069 - accuracy: 0.9260 - val_loss: 0.1331 - val_accuracy: 0.9500 - 479ms/epoch - 5ms/step\n",
            "Epoch 10/80\n",
            "96/96 - 0s - loss: 0.1967 - accuracy: 0.9385 - val_loss: 0.1318 - val_accuracy: 0.9542 - 498ms/epoch - 5ms/step\n",
            "Epoch 11/80\n",
            "96/96 - 0s - loss: 0.2069 - accuracy: 0.9354 - val_loss: 0.1327 - val_accuracy: 0.9333 - 490ms/epoch - 5ms/step\n",
            "Epoch 12/80\n",
            "96/96 - 1s - loss: 0.1299 - accuracy: 0.9500 - val_loss: 0.1361 - val_accuracy: 0.9625 - 503ms/epoch - 5ms/step\n",
            "Epoch 13/80\n",
            "96/96 - 0s - loss: 0.1570 - accuracy: 0.9563 - val_loss: 0.1890 - val_accuracy: 0.9417 - 482ms/epoch - 5ms/step\n",
            "Epoch 14/80\n",
            "96/96 - 0s - loss: 0.1448 - accuracy: 0.9448 - val_loss: 0.2382 - val_accuracy: 0.9292 - 497ms/epoch - 5ms/step\n",
            "Epoch 15/80\n",
            "96/96 - 1s - loss: 0.1550 - accuracy: 0.9500 - val_loss: 0.1386 - val_accuracy: 0.9583 - 509ms/epoch - 5ms/step\n",
            "Epoch 16/80\n",
            "96/96 - 0s - loss: 0.1572 - accuracy: 0.9542 - val_loss: 0.1375 - val_accuracy: 0.9542 - 497ms/epoch - 5ms/step\n",
            "Epoch 17/80\n",
            "96/96 - 0s - loss: 0.1457 - accuracy: 0.9479 - val_loss: 0.2650 - val_accuracy: 0.9167 - 494ms/epoch - 5ms/step\n",
            "Epoch 18/80\n",
            "96/96 - 0s - loss: 0.1420 - accuracy: 0.9479 - val_loss: 0.1739 - val_accuracy: 0.9500 - 500ms/epoch - 5ms/step\n",
            "Epoch 19/80\n",
            "96/96 - 0s - loss: 0.1193 - accuracy: 0.9625 - val_loss: 0.1394 - val_accuracy: 0.9583 - 490ms/epoch - 5ms/step\n",
            "Epoch 20/80\n",
            "96/96 - 1s - loss: 0.1316 - accuracy: 0.9604 - val_loss: 0.1282 - val_accuracy: 0.9708 - 506ms/epoch - 5ms/step\n",
            "Epoch 21/80\n",
            "96/96 - 1s - loss: 0.1360 - accuracy: 0.9656 - val_loss: 0.1506 - val_accuracy: 0.9542 - 531ms/epoch - 6ms/step\n",
            "Epoch 22/80\n",
            "96/96 - 1s - loss: 0.0906 - accuracy: 0.9719 - val_loss: 0.1366 - val_accuracy: 0.9708 - 505ms/epoch - 5ms/step\n",
            "Epoch 23/80\n",
            "96/96 - 1s - loss: 0.1417 - accuracy: 0.9625 - val_loss: 0.1115 - val_accuracy: 0.9667 - 501ms/epoch - 5ms/step\n",
            "Epoch 24/80\n",
            "96/96 - 1s - loss: 0.0968 - accuracy: 0.9719 - val_loss: 0.1419 - val_accuracy: 0.9583 - 507ms/epoch - 5ms/step\n",
            "Epoch 25/80\n",
            "96/96 - 0s - loss: 0.1600 - accuracy: 0.9594 - val_loss: 0.1392 - val_accuracy: 0.9625 - 498ms/epoch - 5ms/step\n",
            "Epoch 26/80\n",
            "96/96 - 0s - loss: 0.1423 - accuracy: 0.9573 - val_loss: 0.1297 - val_accuracy: 0.9667 - 489ms/epoch - 5ms/step\n",
            "Epoch 27/80\n",
            "96/96 - 0s - loss: 0.0948 - accuracy: 0.9635 - val_loss: 0.1187 - val_accuracy: 0.9667 - 494ms/epoch - 5ms/step\n",
            "Epoch 28/80\n",
            "96/96 - 1s - loss: 0.1325 - accuracy: 0.9625 - val_loss: 0.1148 - val_accuracy: 0.9833 - 502ms/epoch - 5ms/step\n",
            "Epoch 29/80\n",
            "96/96 - 0s - loss: 0.1126 - accuracy: 0.9594 - val_loss: 0.1397 - val_accuracy: 0.9625 - 498ms/epoch - 5ms/step\n",
            "Epoch 30/80\n",
            "96/96 - 0s - loss: 0.0852 - accuracy: 0.9667 - val_loss: 0.1202 - val_accuracy: 0.9792 - 500ms/epoch - 5ms/step\n",
            "Epoch 31/80\n",
            "96/96 - 1s - loss: 0.0893 - accuracy: 0.9677 - val_loss: 0.1827 - val_accuracy: 0.9458 - 505ms/epoch - 5ms/step\n",
            "Epoch 32/80\n",
            "96/96 - 1s - loss: 0.1173 - accuracy: 0.9635 - val_loss: 0.1161 - val_accuracy: 0.9750 - 506ms/epoch - 5ms/step\n",
            "Epoch 33/80\n",
            "96/96 - 1s - loss: 0.1002 - accuracy: 0.9604 - val_loss: 0.1140 - val_accuracy: 0.9708 - 513ms/epoch - 5ms/step\n",
            "Epoch 34/80\n",
            "96/96 - 1s - loss: 0.1042 - accuracy: 0.9708 - val_loss: 0.1103 - val_accuracy: 0.9792 - 529ms/epoch - 6ms/step\n",
            "Epoch 35/80\n",
            "96/96 - 0s - loss: 0.1206 - accuracy: 0.9583 - val_loss: 0.1291 - val_accuracy: 0.9625 - 495ms/epoch - 5ms/step\n",
            "Epoch 36/80\n",
            "96/96 - 0s - loss: 0.1103 - accuracy: 0.9698 - val_loss: 0.1968 - val_accuracy: 0.9417 - 494ms/epoch - 5ms/step\n",
            "Epoch 37/80\n",
            "96/96 - 0s - loss: 0.1024 - accuracy: 0.9688 - val_loss: 0.1357 - val_accuracy: 0.9625 - 490ms/epoch - 5ms/step\n",
            "Epoch 38/80\n",
            "96/96 - 1s - loss: 0.0988 - accuracy: 0.9625 - val_loss: 0.1324 - val_accuracy: 0.9667 - 507ms/epoch - 5ms/step\n",
            "Epoch 39/80\n",
            "96/96 - 0s - loss: 0.0914 - accuracy: 0.9688 - val_loss: 0.0993 - val_accuracy: 0.9750 - 492ms/epoch - 5ms/step\n",
            "Epoch 40/80\n",
            "96/96 - 1s - loss: 0.1152 - accuracy: 0.9635 - val_loss: 0.1571 - val_accuracy: 0.9667 - 502ms/epoch - 5ms/step\n",
            "Epoch 41/80\n",
            "96/96 - 1s - loss: 0.1056 - accuracy: 0.9698 - val_loss: 0.2232 - val_accuracy: 0.9375 - 506ms/epoch - 5ms/step\n",
            "Epoch 42/80\n",
            "96/96 - 0s - loss: 0.1067 - accuracy: 0.9677 - val_loss: 0.1264 - val_accuracy: 0.9750 - 494ms/epoch - 5ms/step\n",
            "Epoch 43/80\n",
            "96/96 - 1s - loss: 0.0963 - accuracy: 0.9812 - val_loss: 0.1196 - val_accuracy: 0.9833 - 504ms/epoch - 5ms/step\n",
            "Epoch 44/80\n",
            "96/96 - 1s - loss: 0.0719 - accuracy: 0.9771 - val_loss: 0.1761 - val_accuracy: 0.9583 - 509ms/epoch - 5ms/step\n",
            "Epoch 45/80\n",
            "96/96 - 0s - loss: 0.1025 - accuracy: 0.9708 - val_loss: 0.2242 - val_accuracy: 0.9542 - 496ms/epoch - 5ms/step\n",
            "Epoch 46/80\n",
            "96/96 - 1s - loss: 0.1033 - accuracy: 0.9719 - val_loss: 0.1880 - val_accuracy: 0.9500 - 509ms/epoch - 5ms/step\n",
            "Epoch 47/80\n",
            "96/96 - 0s - loss: 0.0902 - accuracy: 0.9719 - val_loss: 0.1248 - val_accuracy: 0.9625 - 495ms/epoch - 5ms/step\n",
            "Epoch 48/80\n",
            "96/96 - 0s - loss: 0.0868 - accuracy: 0.9740 - val_loss: 0.2436 - val_accuracy: 0.9417 - 497ms/epoch - 5ms/step\n",
            "Epoch 49/80\n",
            "96/96 - 0s - loss: 0.0768 - accuracy: 0.9760 - val_loss: 0.1035 - val_accuracy: 0.9667 - 496ms/epoch - 5ms/step\n",
            "Epoch 50/80\n",
            "96/96 - 1s - loss: 0.0985 - accuracy: 0.9740 - val_loss: 0.1297 - val_accuracy: 0.9667 - 511ms/epoch - 5ms/step\n",
            "Epoch 51/80\n",
            "96/96 - 0s - loss: 0.1143 - accuracy: 0.9688 - val_loss: 0.1293 - val_accuracy: 0.9750 - 496ms/epoch - 5ms/step\n",
            "Epoch 52/80\n",
            "96/96 - 1s - loss: 0.0756 - accuracy: 0.9812 - val_loss: 0.1307 - val_accuracy: 0.9750 - 507ms/epoch - 5ms/step\n",
            "Epoch 53/80\n",
            "96/96 - 0s - loss: 0.0728 - accuracy: 0.9740 - val_loss: 0.1085 - val_accuracy: 0.9792 - 495ms/epoch - 5ms/step\n",
            "Epoch 54/80\n",
            "96/96 - 1s - loss: 0.0857 - accuracy: 0.9792 - val_loss: 0.1576 - val_accuracy: 0.9583 - 507ms/epoch - 5ms/step\n",
            "Epoch 55/80\n",
            "96/96 - 0s - loss: 0.1142 - accuracy: 0.9708 - val_loss: 0.1214 - val_accuracy: 0.9667 - 493ms/epoch - 5ms/step\n",
            "Epoch 56/80\n",
            "96/96 - 0s - loss: 0.0775 - accuracy: 0.9760 - val_loss: 0.1552 - val_accuracy: 0.9583 - 493ms/epoch - 5ms/step\n",
            "Epoch 57/80\n",
            "96/96 - 0s - loss: 0.0999 - accuracy: 0.9719 - val_loss: 0.1186 - val_accuracy: 0.9708 - 500ms/epoch - 5ms/step\n",
            "Epoch 58/80\n",
            "96/96 - 1s - loss: 0.0489 - accuracy: 0.9802 - val_loss: 0.1192 - val_accuracy: 0.9792 - 510ms/epoch - 5ms/step\n",
            "Epoch 59/80\n",
            "96/96 - 0s - loss: 0.0859 - accuracy: 0.9760 - val_loss: 0.1794 - val_accuracy: 0.9500 - 495ms/epoch - 5ms/step\n",
            "Epoch 60/80\n",
            "96/96 - 1s - loss: 0.0802 - accuracy: 0.9760 - val_loss: 0.1301 - val_accuracy: 0.9708 - 508ms/epoch - 5ms/step\n",
            "Epoch 61/80\n",
            "96/96 - 1s - loss: 0.0962 - accuracy: 0.9771 - val_loss: 0.1467 - val_accuracy: 0.9542 - 518ms/epoch - 5ms/step\n",
            "Epoch 62/80\n",
            "96/96 - 1s - loss: 0.0680 - accuracy: 0.9823 - val_loss: 0.1421 - val_accuracy: 0.9667 - 503ms/epoch - 5ms/step\n",
            "Epoch 63/80\n",
            "96/96 - 0s - loss: 0.0982 - accuracy: 0.9688 - val_loss: 0.1426 - val_accuracy: 0.9667 - 498ms/epoch - 5ms/step\n",
            "Epoch 64/80\n",
            "96/96 - 0s - loss: 0.0620 - accuracy: 0.9833 - val_loss: 0.1334 - val_accuracy: 0.9708 - 496ms/epoch - 5ms/step\n",
            "Epoch 65/80\n",
            "96/96 - 0s - loss: 0.0792 - accuracy: 0.9802 - val_loss: 0.1486 - val_accuracy: 0.9625 - 484ms/epoch - 5ms/step\n",
            "Epoch 66/80\n",
            "96/96 - 1s - loss: 0.0865 - accuracy: 0.9719 - val_loss: 0.1388 - val_accuracy: 0.9708 - 502ms/epoch - 5ms/step\n",
            "Epoch 67/80\n",
            "96/96 - 1s - loss: 0.0824 - accuracy: 0.9750 - val_loss: 0.1321 - val_accuracy: 0.9667 - 502ms/epoch - 5ms/step\n",
            "Epoch 68/80\n",
            "96/96 - 1s - loss: 0.0689 - accuracy: 0.9792 - val_loss: 0.1647 - val_accuracy: 0.9625 - 502ms/epoch - 5ms/step\n",
            "Epoch 69/80\n",
            "96/96 - 1s - loss: 0.0787 - accuracy: 0.9708 - val_loss: 0.2688 - val_accuracy: 0.9458 - 502ms/epoch - 5ms/step\n",
            "Epoch 70/80\n",
            "96/96 - 1s - loss: 0.0749 - accuracy: 0.9750 - val_loss: 0.1468 - val_accuracy: 0.9667 - 509ms/epoch - 5ms/step\n",
            "Epoch 71/80\n",
            "96/96 - 1s - loss: 0.0744 - accuracy: 0.9792 - val_loss: 0.1290 - val_accuracy: 0.9708 - 526ms/epoch - 5ms/step\n",
            "Epoch 72/80\n",
            "96/96 - 1s - loss: 0.1145 - accuracy: 0.9760 - val_loss: 0.1688 - val_accuracy: 0.9667 - 503ms/epoch - 5ms/step\n",
            "Epoch 73/80\n",
            "96/96 - 1s - loss: 0.0747 - accuracy: 0.9802 - val_loss: 0.1573 - val_accuracy: 0.9583 - 503ms/epoch - 5ms/step\n",
            "Epoch 74/80\n",
            "96/96 - 1s - loss: 0.1110 - accuracy: 0.9781 - val_loss: 0.1131 - val_accuracy: 0.9708 - 531ms/epoch - 6ms/step\n",
            "Epoch 75/80\n",
            "96/96 - 0s - loss: 0.0891 - accuracy: 0.9708 - val_loss: 0.1212 - val_accuracy: 0.9667 - 494ms/epoch - 5ms/step\n",
            "Epoch 76/80\n",
            "96/96 - 1s - loss: 0.0730 - accuracy: 0.9802 - val_loss: 0.1539 - val_accuracy: 0.9708 - 508ms/epoch - 5ms/step\n",
            "Epoch 77/80\n",
            "96/96 - 1s - loss: 0.0745 - accuracy: 0.9802 - val_loss: 0.1377 - val_accuracy: 0.9625 - 504ms/epoch - 5ms/step\n",
            "Epoch 78/80\n",
            "96/96 - 1s - loss: 0.0687 - accuracy: 0.9833 - val_loss: 0.1672 - val_accuracy: 0.9583 - 523ms/epoch - 5ms/step\n",
            "Epoch 79/80\n",
            "96/96 - 1s - loss: 0.0801 - accuracy: 0.9792 - val_loss: 0.1372 - val_accuracy: 0.9667 - 515ms/epoch - 5ms/step\n",
            "Epoch 80/80\n",
            "96/96 - 1s - loss: 0.0355 - accuracy: 0.9885 - val_loss: 0.1516 - val_accuracy: 0.9667 - 510ms/epoch - 5ms/step\n"
          ]
        },
        {
          "output_type": "display_data",
          "data": {
            "text/plain": [
              "<Figure size 432x288 with 1 Axes>"
            ],
            "image/png": "[encoded data removed]"
          },
          "metadata": {
            "needs_background": "light"
          }
        }
      ]
    },
    {
      "cell_type": "markdown",
      "metadata": {
        "id": "76z4NAY6afd7"
      },
      "source": [
        "# Building Neural Networks from Scratch in Keras \n",
        "\n",
        "So far, we've used helper functions which pre-build Keras neural network models. Now, we will build them on our own!\n",
        "\n",
        "Let's start with a \"toy example\": a tiny neural network with just three numerical inputs.\n"
      ]
    },
    {
      "cell_type": "markdown",
      "metadata": {
        "id": "jdngkAX_aCVu"
      },
      "source": [
        "###Exercise: Building a Simple Neural Network using Keras! ✍️\n",
        "\n"
      ]
    },
    {
      "cell_type": "markdown",
      "metadata": {
        "id": "Bj-Pt3wGCXRu"
      },
      "source": [
        "\n",
        "We're going to build this model: \n",
        "\n",
        "![](http://cs231n.github.io/assets/nn1/neural_net.jpeg)"
      ]
    },
    {
      "cell_type": "markdown",
      "metadata": {
        "id": "H-6WGeedvTCS"
      },
      "source": [
        "This network can be described as: \n",
        "* Input Layer: 3 neurons\n",
        "* Layer 1 (Hidden): 4 neurons that are activated by `'relu'`\n",
        "* Layer 2 (Output): 2 neurons that are activated by `'softmax'`\n",
        "\n",
        "\n",
        "We also want to compile the model with\n",
        "`loss = 'categorical_crossentropy'`\n",
        "\n",
        "What does this represent? Here's one way to interpret it:\n",
        "* This model classifies animals as \"cat\" or \"dog\"\n",
        "* Our three inputs are height, weight, and age\n",
        "* Our ouputs represent \"probability of cat\" and \"probability of dog\"\n",
        "* Because this is a toy example, we aren't actually training the model here - just using randomly initialized weights! We will train later models in this notebook.\n",
        "\n",
        "Try filling in the blanks below and walking through each line! **If you want a hint or more details, check out the optional reference below.**"
      ]
    },
    {
      "cell_type": "code",
      "metadata": {
        "id": "dp-g9qotbRPU",
        "colab": {
          "base_uri": "https://localhost:8080/"
        },
        "outputId": "abd12971-6275-40e1-84b7-6aa0007f3e92"
      },
      "source": [
        "# Fill in the blanks with your group!\n",
        "### YOUR CODE HERE:\n",
        "model_1 = Sequential()\n",
        "model_1.add(InputLayer(input_shape=(3,)))\n",
        "model_1.add(Dense(4, activation = 'relu'))\n",
        "model_1.add(Dense(2, activation = 'softmax'))\n",
        "model_1.compile(loss='categorical_crossentropy',\n",
        "                optimizer = 'adam', \n",
        "                metrics = ['accuracy'])\n",
        "model_1.predict([[14,18,5]]) #Try any input! This represents an animal of height 14, weight 18, and age 5.\n",
        "### END CODE"
      ],
      "execution_count": null,
      "outputs": [
        {
          "output_type": "execute_result",
          "data": {
            "text/plain": [
              "array([[0.6218151 , 0.37818488]], dtype=float32)"
            ]
          },
          "metadata": {},
          "execution_count": 14
        }
      ]
    },
    {
      "cell_type": "markdown",
      "metadata": {
        "id": "baWZ9zXtF2Cz"
      },
      "source": [
        "**Discuss:** How would you interpret this output? Does our (untrained) network classify this as a cat or a dog?"
      ]
    },
    {
      "cell_type": "markdown",
      "metadata": {
        "id": "781M4IyhssuA"
      },
      "source": [
        "####**Optional Reference**\n",
        "\n",
        "Here's some information about each step of the process. **You don't need to read through all this - check it as a reference if needed!**\n",
        "\n",
        "**1. Specify model**\n",
        "\n",
        "```\n",
        "model = Sequential()\n",
        "```\n",
        "In this line of code, we build our network where the information flows from LEFT to RIGHT through the network in ONE DIRECTION as opposed to multiple directions. Neurons on the right never pass informations to neurons on the left of it. \n",
        "\n",
        "\n",
        "**2. Add layers to the network**\n",
        "```\n",
        "model.add(Dense(4, activation = 'sigmoid'))\n",
        "```\n",
        "In this code, we add a layer of neurons to our network. \n",
        "\n",
        "This layer consists of 4 neurons. Each neuron is DENSE and connects to all of the previous layer's inputs and all of the subsequent layers outputs. We specify that there are 3 inputs here.\n",
        "\n",
        "We also specify what kind of output the neuron will give. If you want the neuron to output a number between 0 and 1 (like a probability!) you would use 'softmax' or 'sigmoid'. If you want the neuron to output any number, you can use 'linear'! You'll also often see 'relu', which is when a neuron will only output positive numbers. \n",
        "\n",
        "```\n",
        "model.add(Dense(1, activation = 'linear'))\n",
        "```\n",
        "This code adds ANOTHER layer to the network that has 1 neuron. This one neuron is used to predict a continuous value!\n",
        "\n",
        "**3. Turn the model on by compiling it** \n",
        "\n",
        "After having built the network, we want to train and use it, so we have to 'compile' it to prepare. We have to specify at the very least: a loss (how the model measures the quality of its weights), an optimizer (which adjusts the weights), and a metric (how to evaluate our results). Here are some common choices:\n",
        "```\n",
        "model.compile(loss='mean_squared_error',\n",
        "optimizer = 'adam',\n",
        "metrics = ['mean_squared_error'])\n",
        "  ```\n",
        "\n",
        "Once we've created our network, we can use it very simply! Just like we did with sklearn, we define our input data (x), the true predictions from that data (y), and then train our model with `fit`. \n",
        "\n",
        "```\n",
        "model.fit(x, y)\n",
        "```\n",
        "\n",
        "To use the model, you can use it to predict something with:\n",
        "```\n",
        "y = model.predict(x)\n",
        "```\n",
        "\n",
        "You can actually use the model before you even train it! It just won't perform very well. "
      ]
    },
    {
      "cell_type": "markdown",
      "metadata": {
        "id": "YovNRgfuy0Oq"
      },
      "source": [
        "###(Optional) Exercise: Building a Multi-layer Neural Net Using Keras ✍️\n",
        "\n",
        "![](http://cs231n.github.io/assets/nn1/neural_net2.jpeg)\n",
        "\n",
        "Let's try another, bigger example!\n",
        "\n",
        "Here, we are predicting a house price: regression! Our inputs could be \"year the house was built\", \"home square footage\", and \"lot square footage\", while our output is price (in thousands of dollars).\n",
        "\n",
        "* Input Layer: 3 neurons\n",
        "\n",
        "* Layer 1: 4 neurons that are activated by `'relu' `and take in 3 inputs.\n",
        "\n",
        "* Layer 2: 4 neurons that are activated by `'relu'`\n",
        "\n",
        "* Layer 3 (out): 1 neuron that is activated by `'relu'`\n",
        "\n",
        "Compile the model with\n",
        "`'mean_squared_error'` as both loss and metric, and try making a prediction for some made-up data.\n"
      ]
    },
    {
      "cell_type": "code",
      "metadata": {
        "id": "pm-ylEWqbXrQ"
      },
      "source": [
        "### YOUR CODE HERE\n",
        "model = Sequential()\n",
        "model.add(InputLayer(input_shape=(3,)))\n",
        "model.add(Dense(4, activation = 'relu'))\n",
        "model.add(Dense(4, activation = 'relu'))\n",
        "model.add(Dense(1, activation = 'relu'))\n",
        "model_1.compile(loss='mean_squared_error',\n",
        "                optimizer = 'adam', \n",
        "                metrics = ['accuracy'])\n",
        "### END CODE"
      ],
      "execution_count": null,
      "outputs": []
    },
    {
      "cell_type": "markdown",
      "metadata": {
        "id": "YVCmntRHRjPQ"
      },
      "source": [
        "###(Optional) Exercise: Dogs vs. Roads Using Keras\n",
        "\n",
        "Let's try an even bigger example! Here, we are going to distinguish between images of dogs and roads once again. \n",
        "\n",
        "* Input Layer: 3072 dimensions (32 pixels x 32 pixels x 3 color channels)\n",
        "\n",
        "* Layer 1: 32 neurons that are activated by `'relu' `and take in 3072 inputs.\n",
        "\n",
        "* Layer 2: 16 neurons that are activated by `'relu'`\n",
        "\n",
        "* Layer 3 (out): 2 neurons that is activated by `'sigmoid'`\n",
        "\n",
        "Compile the model with\n",
        "`loss = 'binary_crossentropy'`, and try making predictions on `inputs_train`!\n",
        "\n",
        "Once again, we are not actually training this model - so the predictions won't be any good. Soon we will create a CNN, which we will train!"
      ]
    },
    {
      "cell_type": "code",
      "metadata": {
        "id": "DD2Dc4AYR31r"
      },
      "source": [
        "### YOUR CODE HERE\n",
        "\n",
        "### END CODE"
      ],
      "execution_count": null,
      "outputs": []
    },
    {
      "cell_type": "markdown",
      "metadata": {
        "id": "QCbD6siv-Ip-"
      },
      "source": [
        "##Exercise: Building a CNN Using Keras! ✍️\n",
        "\n",
        "Now that we know how to build simple neural networks in Keras, let's build a CNN! The CNN will perform well on our data set of car and road images. \n",
        "\n",
        "Below is Keras code for a CNN. It will run as-is on the conscientious cars dataset. However, the performance is suboptimal. Add more layers and change the neural network hyperparameters so that the performance will be better. **Can you get the train and validation accuracy to both be higher than 95%?**\n",
        "\n",
        "The Keras core layer API may be a useful reference: https://keras.io/layers/core/ \n",
        "\n",
        "In particular and in addition to adding more of the existing convolutional layers and activations, consider using the following layers after a convolution + activation:\n",
        "\n",
        "`Dropout(N)`\n",
        "\n",
        "`MaxPooling2D(pool_size=(N, N))`\n"
      ]
    },
    {
      "cell_type": "code",
      "metadata": {
        "id": "LFVHyPKn-V4N",
        "colab": {
          "base_uri": "https://localhost:8080/",
          "height": 1000
        },
        "outputId": "1c737933-0a36-4b14-f696-a1c7217b3452"
      },
      "source": [
        "model = Sequential()\n",
        "model.add(Reshape((32, 32, 3)))\n",
        "\n",
        "model.add(Conv2D(32, (3, 3), padding='same'))\n",
        "model.add(Activation('relu'))\n",
        "model.add(MaxPooling2D(pool_size=(2, 2)))\n",
        "\n",
        "###\n",
        "###\n",
        "### TODO: ADD MORE LAYERS HERE!!!!!\n",
        "\n",
        "model.add(Conv2D(64, (9, 9), padding='same'))\n",
        "model.add(Activation('relu'))\n",
        "model.add(MaxPooling2D(pool_size=(2, 2)))\n",
        "\n",
        "###\n",
        "###\n",
        "\n",
        "model.add(Flatten())\n",
        "model.add(Dense(512))\n",
        "model.add(Activation('relu'))\n",
        "model.add(Dense(2))\n",
        "model.add(Activation('softmax'))\n",
        "\n",
        "\n",
        "\n",
        "# initiate RMSprop optimizer\n",
        "opt = keras.optimizers.RMSprop(learning_rate=0.0001, decay=1e-6)\n",
        "\n",
        "# Let's train the model using RMSprop\n",
        "model.compile(loss='categorical_crossentropy',\n",
        "              optimizer=opt,\n",
        "              metrics=['accuracy'])\n",
        "\n",
        "# Train the CNN and plot accuracy.\n",
        "history = model.fit(inputs_train, labels_train, \\\n",
        "                    validation_data=(inputs_test, labels_test), \\\n",
        "                    epochs=70)\n",
        "plot_acc(history)\n"
      ],
      "execution_count": null,
      "outputs": [
        {
          "output_type": "stream",
          "name": "stdout",
          "text": [
            "Epoch 1/70\n",
            "30/30 [==============================] - 2s 15ms/step - loss: 13.0331 - accuracy: 0.6854 - val_loss: 1.0158 - val_accuracy: 0.8458\n",
            "Epoch 2/70\n",
            "30/30 [==============================] - 0s 7ms/step - loss: 0.9937 - accuracy: 0.8604 - val_loss: 0.6324 - val_accuracy: 0.8625\n",
            "Epoch 3/70\n",
            "30/30 [==============================] - 0s 6ms/step - loss: 0.8612 - accuracy: 0.8521 - val_loss: 0.3227 - val_accuracy: 0.9000\n",
            "Epoch 4/70\n",
            "30/30 [==============================] - 0s 8ms/step - loss: 0.3835 - accuracy: 0.9021 - val_loss: 0.3108 - val_accuracy: 0.9250\n",
            "Epoch 5/70\n",
            "30/30 [==============================] - 0s 6ms/step - loss: 0.4289 - accuracy: 0.9083 - val_loss: 0.2012 - val_accuracy: 0.9208\n",
            "Epoch 6/70\n",
            "30/30 [==============================] - 0s 8ms/step - loss: 0.2929 - accuracy: 0.9156 - val_loss: 0.2454 - val_accuracy: 0.9375\n",
            "Epoch 7/70\n",
            "30/30 [==============================] - 0s 7ms/step - loss: 0.1449 - accuracy: 0.9531 - val_loss: 0.5305 - val_accuracy: 0.8958\n",
            "Epoch 8/70\n",
            "30/30 [==============================] - 0s 6ms/step - loss: 0.2908 - accuracy: 0.9271 - val_loss: 0.3635 - val_accuracy: 0.9292\n",
            "Epoch 9/70\n",
            "30/30 [==============================] - 0s 6ms/step - loss: 0.0585 - accuracy: 0.9812 - val_loss: 0.8849 - val_accuracy: 0.7833\n",
            "Epoch 10/70\n",
            "30/30 [==============================] - 0s 6ms/step - loss: 0.1879 - accuracy: 0.9531 - val_loss: 0.2582 - val_accuracy: 0.9458\n",
            "Epoch 11/70\n",
            "30/30 [==============================] - 0s 6ms/step - loss: 0.1639 - accuracy: 0.9625 - val_loss: 0.1956 - val_accuracy: 0.9458\n",
            "Epoch 12/70\n",
            "30/30 [==============================] - 0s 6ms/step - loss: 0.1599 - accuracy: 0.9615 - val_loss: 0.1579 - val_accuracy: 0.9542\n",
            "Epoch 13/70\n",
            "30/30 [==============================] - 0s 7ms/step - loss: 0.0318 - accuracy: 0.9906 - val_loss: 0.9240 - val_accuracy: 0.8500\n",
            "Epoch 14/70\n",
            "30/30 [==============================] - 0s 6ms/step - loss: 0.2704 - accuracy: 0.9583 - val_loss: 0.2092 - val_accuracy: 0.9500\n",
            "Epoch 15/70\n",
            "30/30 [==============================] - 0s 7ms/step - loss: 0.1470 - accuracy: 0.9760 - val_loss: 0.2333 - val_accuracy: 0.9417\n",
            "Epoch 16/70\n",
            "30/30 [==============================] - 0s 6ms/step - loss: 0.0315 - accuracy: 0.9917 - val_loss: 0.5960 - val_accuracy: 0.8917\n",
            "Epoch 17/70\n",
            "30/30 [==============================] - 0s 6ms/step - loss: 0.1049 - accuracy: 0.9771 - val_loss: 0.3474 - val_accuracy: 0.9500\n",
            "Epoch 18/70\n",
            "30/30 [==============================] - 0s 6ms/step - loss: 0.1216 - accuracy: 0.9802 - val_loss: 0.2493 - val_accuracy: 0.9500\n",
            "Epoch 19/70\n",
            "30/30 [==============================] - 0s 6ms/step - loss: 0.0109 - accuracy: 0.9969 - val_loss: 0.2046 - val_accuracy: 0.9458\n",
            "Epoch 20/70\n",
            "30/30 [==============================] - 0s 7ms/step - loss: 0.4177 - accuracy: 0.9656 - val_loss: 0.2193 - val_accuracy: 0.9417\n",
            "Epoch 21/70\n",
            "30/30 [==============================] - 0s 6ms/step - loss: 0.0052 - accuracy: 0.9969 - val_loss: 0.3560 - val_accuracy: 0.9250\n",
            "Epoch 22/70\n",
            "30/30 [==============================] - 0s 6ms/step - loss: 0.0330 - accuracy: 0.9937 - val_loss: 0.2034 - val_accuracy: 0.9458\n",
            "Epoch 23/70\n",
            "30/30 [==============================] - 0s 7ms/step - loss: 0.2095 - accuracy: 0.9802 - val_loss: 0.2805 - val_accuracy: 0.9542\n",
            "Epoch 24/70\n",
            "30/30 [==============================] - 0s 6ms/step - loss: 0.0292 - accuracy: 0.9917 - val_loss: 0.3067 - val_accuracy: 0.9458\n",
            "Epoch 25/70\n",
            "30/30 [==============================] - 0s 6ms/step - loss: 0.0466 - accuracy: 0.9885 - val_loss: 2.4112 - val_accuracy: 0.7083\n",
            "Epoch 26/70\n",
            "30/30 [==============================] - 0s 6ms/step - loss: 0.0292 - accuracy: 0.9927 - val_loss: 0.2650 - val_accuracy: 0.9417\n",
            "Epoch 27/70\n",
            "30/30 [==============================] - 0s 6ms/step - loss: 2.0353e-04 - accuracy: 1.0000 - val_loss: 0.2453 - val_accuracy: 0.9542\n",
            "Epoch 28/70\n",
            "30/30 [==============================] - 0s 6ms/step - loss: 0.1197 - accuracy: 0.9802 - val_loss: 0.3260 - val_accuracy: 0.9542\n",
            "Epoch 29/70\n",
            "30/30 [==============================] - 0s 6ms/step - loss: 0.0224 - accuracy: 0.9958 - val_loss: 0.4031 - val_accuracy: 0.9458\n",
            "Epoch 30/70\n",
            "30/30 [==============================] - 0s 6ms/step - loss: 0.0972 - accuracy: 0.9802 - val_loss: 0.2581 - val_accuracy: 0.9542\n",
            "Epoch 31/70\n",
            "30/30 [==============================] - 0s 6ms/step - loss: 3.7710e-04 - accuracy: 1.0000 - val_loss: 0.2878 - val_accuracy: 0.9542\n",
            "Epoch 32/70\n",
            "30/30 [==============================] - 0s 7ms/step - loss: 1.0830e-04 - accuracy: 1.0000 - val_loss: 0.2803 - val_accuracy: 0.9500\n",
            "Epoch 33/70\n",
            "30/30 [==============================] - 0s 6ms/step - loss: 0.0757 - accuracy: 0.9927 - val_loss: 5.6790 - val_accuracy: 0.6667\n",
            "Epoch 34/70\n",
            "30/30 [==============================] - 0s 6ms/step - loss: 0.0730 - accuracy: 0.9865 - val_loss: 0.4396 - val_accuracy: 0.9500\n",
            "Epoch 35/70\n",
            "30/30 [==============================] - 0s 6ms/step - loss: 0.0332 - accuracy: 0.9958 - val_loss: 0.2614 - val_accuracy: 0.9542\n",
            "Epoch 36/70\n",
            "30/30 [==============================] - 0s 6ms/step - loss: 1.3327e-04 - accuracy: 1.0000 - val_loss: 0.2797 - val_accuracy: 0.9458\n",
            "Epoch 37/70\n",
            "30/30 [==============================] - 0s 6ms/step - loss: 7.8692e-06 - accuracy: 1.0000 - val_loss: 0.2788 - val_accuracy: 0.9458\n",
            "Epoch 38/70\n",
            "30/30 [==============================] - 0s 6ms/step - loss: 4.0208e-06 - accuracy: 1.0000 - val_loss: 0.2740 - val_accuracy: 0.9500\n",
            "Epoch 39/70\n",
            "30/30 [==============================] - 0s 7ms/step - loss: 0.4753 - accuracy: 0.9698 - val_loss: 0.4001 - val_accuracy: 0.9625\n",
            "Epoch 40/70\n",
            "30/30 [==============================] - 0s 7ms/step - loss: 0.0235 - accuracy: 0.9969 - val_loss: 0.4627 - val_accuracy: 0.9542\n",
            "Epoch 41/70\n",
            "30/30 [==============================] - 0s 6ms/step - loss: 2.1908e-04 - accuracy: 1.0000 - val_loss: 0.4401 - val_accuracy: 0.9500\n",
            "Epoch 42/70\n",
            "30/30 [==============================] - 0s 6ms/step - loss: 3.5401e-05 - accuracy: 1.0000 - val_loss: 0.4682 - val_accuracy: 0.9458\n",
            "Epoch 43/70\n",
            "30/30 [==============================] - 0s 6ms/step - loss: 4.8949e-06 - accuracy: 1.0000 - val_loss: 0.4264 - val_accuracy: 0.9542\n",
            "Epoch 44/70\n",
            "30/30 [==============================] - 0s 7ms/step - loss: 1.1040e-06 - accuracy: 1.0000 - val_loss: 0.5202 - val_accuracy: 0.9458\n",
            "Epoch 45/70\n",
            "30/30 [==============================] - 0s 6ms/step - loss: 4.6354e-07 - accuracy: 1.0000 - val_loss: 0.4709 - val_accuracy: 0.9500\n",
            "Epoch 46/70\n",
            "30/30 [==============================] - 0s 6ms/step - loss: 0.1911 - accuracy: 0.9854 - val_loss: 0.2103 - val_accuracy: 0.9625\n",
            "Epoch 47/70\n",
            "30/30 [==============================] - 0s 6ms/step - loss: 3.1860e-04 - accuracy: 1.0000 - val_loss: 0.2389 - val_accuracy: 0.9708\n",
            "Epoch 48/70\n",
            "30/30 [==============================] - 0s 6ms/step - loss: 8.5859e-05 - accuracy: 1.0000 - val_loss: 0.2529 - val_accuracy: 0.9542\n",
            "Epoch 49/70\n",
            "30/30 [==============================] - 0s 6ms/step - loss: 7.5821e-06 - accuracy: 1.0000 - val_loss: 0.2828 - val_accuracy: 0.9542\n",
            "Epoch 50/70\n",
            "30/30 [==============================] - 0s 6ms/step - loss: 2.3494e-06 - accuracy: 1.0000 - val_loss: 0.2951 - val_accuracy: 0.9542\n",
            "Epoch 51/70\n",
            "30/30 [==============================] - 0s 6ms/step - loss: 8.4884e-07 - accuracy: 1.0000 - val_loss: 0.3263 - val_accuracy: 0.9542\n",
            "Epoch 52/70\n",
            "30/30 [==============================] - 0s 6ms/step - loss: 0.1187 - accuracy: 0.9854 - val_loss: 0.4927 - val_accuracy: 0.9375\n",
            "Epoch 53/70\n",
            "30/30 [==============================] - 0s 8ms/step - loss: 0.0137 - accuracy: 0.9969 - val_loss: 0.3616 - val_accuracy: 0.9625\n",
            "Epoch 54/70\n",
            "30/30 [==============================] - 0s 6ms/step - loss: 3.9534e-05 - accuracy: 1.0000 - val_loss: 0.4130 - val_accuracy: 0.9542\n",
            "Epoch 55/70\n",
            "30/30 [==============================] - 0s 6ms/step - loss: 9.4655e-06 - accuracy: 1.0000 - val_loss: 0.3737 - val_accuracy: 0.9500\n",
            "Epoch 56/70\n",
            "30/30 [==============================] - 0s 6ms/step - loss: 9.3612e-07 - accuracy: 1.0000 - val_loss: 0.3712 - val_accuracy: 0.9500\n",
            "Epoch 57/70\n",
            "30/30 [==============================] - 0s 6ms/step - loss: 4.5597e-07 - accuracy: 1.0000 - val_loss: 0.3998 - val_accuracy: 0.9500\n",
            "Epoch 58/70\n",
            "30/30 [==============================] - 0s 7ms/step - loss: 0.1953 - accuracy: 0.9854 - val_loss: 0.5390 - val_accuracy: 0.9417\n",
            "Epoch 59/70\n",
            "30/30 [==============================] - 0s 6ms/step - loss: 0.0126 - accuracy: 0.9958 - val_loss: 0.6761 - val_accuracy: 0.9292\n",
            "Epoch 60/70\n",
            "30/30 [==============================] - 0s 6ms/step - loss: 9.2686e-05 - accuracy: 1.0000 - val_loss: 0.6200 - val_accuracy: 0.9375\n",
            "Epoch 61/70\n",
            "30/30 [==============================] - 0s 6ms/step - loss: 7.9645e-06 - accuracy: 1.0000 - val_loss: 0.6097 - val_accuracy: 0.9458\n",
            "Epoch 62/70\n",
            "30/30 [==============================] - 0s 6ms/step - loss: 2.8993e-06 - accuracy: 1.0000 - val_loss: 0.6566 - val_accuracy: 0.9417\n",
            "Epoch 63/70\n",
            "30/30 [==============================] - 0s 7ms/step - loss: 0.1529 - accuracy: 0.9854 - val_loss: 0.4207 - val_accuracy: 0.9500\n",
            "Epoch 64/70\n",
            "30/30 [==============================] - 0s 6ms/step - loss: 2.8830e-05 - accuracy: 1.0000 - val_loss: 0.4494 - val_accuracy: 0.9500\n",
            "Epoch 65/70\n",
            "30/30 [==============================] - 0s 6ms/step - loss: 2.4877e-06 - accuracy: 1.0000 - val_loss: 0.4504 - val_accuracy: 0.9542\n",
            "Epoch 66/70\n",
            "30/30 [==============================] - 0s 6ms/step - loss: 1.4790e-06 - accuracy: 1.0000 - val_loss: 0.4473 - val_accuracy: 0.9542\n",
            "Epoch 67/70\n",
            "30/30 [==============================] - 0s 6ms/step - loss: 7.4963e-07 - accuracy: 1.0000 - val_loss: 0.4567 - val_accuracy: 0.9542\n",
            "Epoch 68/70\n",
            "30/30 [==============================] - 0s 6ms/step - loss: 3.3043e-07 - accuracy: 1.0000 - val_loss: 0.4428 - val_accuracy: 0.9542\n",
            "Epoch 69/70\n",
            "30/30 [==============================] - 0s 6ms/step - loss: 1.4988e-07 - accuracy: 1.0000 - val_loss: 0.4612 - val_accuracy: 0.9583\n",
            "Epoch 70/70\n",
            "30/30 [==============================] - 0s 6ms/step - loss: 0.4005 - accuracy: 0.9802 - val_loss: 0.4089 - val_accuracy: 0.9542\n"
          ]
        },
        {
          "output_type": "display_data",
          "data": {
            "text/plain": [
              "<Figure size 432x288 with 1 Axes>"
            ],
            "image/png": "[encoded data removed]"
          },
          "metadata": {
            "needs_background": "light"
          }
        }
      ]
    },
    {
      "cell_type": "markdown",
      "metadata": {
        "id": "9JFLu0CdXM6K"
      },
      "source": [
        "**What interesting observations** do you make from the graph? How many epochs should you train for?\n",
        "\n",
        "We can also print out the structure of our model. What do the parts of the summary mean?"
      ]
    },
    {
      "cell_type": "code",
      "metadata": {
        "id": "RGwXs3C8YZl-",
        "colab": {
          "base_uri": "https://localhost:8080/"
        },
        "outputId": "a99c82db-382a-47d9-d014-40682421240f"
      },
      "source": [
        "model.summary()"
      ],
      "execution_count": null,
      "outputs": [
        {
          "output_type": "stream",
          "name": "stdout",
          "text": [
            "Model: \"sequential_56\"\n",
            "_________________________________________________________________\n",
            " Layer (type)                Output Shape              Param #   \n",
            "=================================================================\n",
            " reshape_54 (Reshape)        (None, 32, 32, 3)         0         \n",
            "                                                                 \n",
            " conv2d_236 (Conv2D)         (None, 32, 32, 32)        896       \n",
            "                                                                 \n",
            " activation_346 (Activation)  (None, 32, 32, 32)       0         \n",
            "                                                                 \n",
            " max_pooling2d_107 (MaxPooli  (None, 16, 16, 32)       0         \n",
            " ng2D)                                                           \n",
            "                                                                 \n",
            " conv2d_237 (Conv2D)         (None, 16, 16, 64)        165952    \n",
            "                                                                 \n",
            " activation_347 (Activation)  (None, 16, 16, 64)       0         \n",
            "                                                                 \n",
            " max_pooling2d_108 (MaxPooli  (None, 8, 8, 64)         0         \n",
            " ng2D)                                                           \n",
            "                                                                 \n",
            " flatten_54 (Flatten)        (None, 4096)              0         \n",
            "                                                                 \n",
            " dense_117 (Dense)           (None, 512)               2097664   \n",
            "                                                                 \n",
            " activation_348 (Activation)  (None, 512)              0         \n",
            "                                                                 \n",
            " dense_118 (Dense)           (None, 2)                 1026      \n",
            "                                                                 \n",
            " activation_349 (Activation)  (None, 2)                0         \n",
            "                                                                 \n",
            "=================================================================\n",
            "Total params: 2,265,538\n",
            "Trainable params: 2,265,538\n",
            "Non-trainable params: 0\n",
            "_________________________________________________________________\n"
          ]
        }
      ]
    },
    {
      "cell_type": "markdown",
      "metadata": {
        "id": "YXINPAJvRr9W"
      },
      "source": [
        "#Advanced: Cats vs. Dogs With CNN\n",
        "\n",
        "So far, we've trained a CNN to distinguish between small images of cats and small images of dogs. It's more challenging and time-consuming to train CNNs for bigger images or harder tasks, like distinguishing dogs from cats (which look a lot more like dogs than roads do!)\n",
        "\n",
        "In this exercise, you'll adapt your previous model to classify large images of dogs vs. cats, and then try implementing a famous CNN architecture. Along the way, you'll deal with some of the debugging that machine learning engineers often have to handle."
      ]
    },
    {
      "cell_type": "code",
      "metadata": {
        "id": "6gU39z3jNMAt"
      },
      "source": [
        "#@title Run this to load cat and dog data. { display-mode: \"form\" }\n",
        "\n",
        "#Code here from https://colab.research.google.com/github/google/eng-edu/blob/master/ml/pc/exercises/image_classification_part1.ipynb#scrollTo=4PIP1rkmeAYS\n",
        "\n",
        "import tensorflow as tf\n",
        "import os \n",
        "from tensorflow.keras.preprocessing.image import ImageDataGenerator\n",
        "from google.colab.patches import cv2_imshow\n",
        "import cv2\n",
        "import matplotlib.pyplot as plt\n",
        "\n",
        "try:\n",
        "  road_model = model\n",
        "  road_saved = True\n",
        "except NameError:\n",
        "  road_saved = False\n",
        "\n",
        "IMG_SHAPE  = 150  # Our training data consists of images with width of 150 pixels and height of 150 pixels\n",
        "_URL = 'https://storage.googleapis.com/mledu-datasets/cats_and_dogs_filtered.zip'\n",
        "zip_dir = tf.keras.utils.get_file('cats_and_dogs_filterted.zip', origin=_URL, extract=True)\n",
        "base_dir = os.path.join(os.path.dirname(zip_dir), 'cats_and_dogs_filtered')\n",
        "train_dir = os.path.join(base_dir, 'train')\n",
        "validation_dir = os.path.join(base_dir, 'validation')\n",
        "\n",
        "train_cats_dir = os.path.join(train_dir, 'cats')  # directory with our training cat pictures\n",
        "train_dogs_dir = os.path.join(train_dir, 'dogs')  # directory with our training dog pictures\n",
        "validation_cats_dir = os.path.join(validation_dir, 'cats')  # directory with our validation cat pictures\n",
        "validation_dogs_dir = os.path.join(validation_dir, 'dogs')  # directory with our validation dog pictures\n",
        "train_image_generator      = ImageDataGenerator()  # Generator for our training data\n",
        "validation_image_generator = ImageDataGenerator()  # Generator for our validation data\n",
        "train_data = train_image_generator.flow_from_directory(batch_size=2000,\n",
        "                                                           directory=train_dir,\n",
        "                                                           shuffle=True,\n",
        "                                                           target_size=(IMG_SHAPE,IMG_SHAPE), #(150,150)\n",
        "                                                           class_mode='binary').next()\n",
        "val_data = validation_image_generator.flow_from_directory(batch_size=1000,\n",
        "                                                              directory=validation_dir,\n",
        "                                                              shuffle=False,\n",
        "                                                              target_size=(IMG_SHAPE,IMG_SHAPE), #(150,150)\n",
        "\n",
        "                                                              class_mode='binary').next()\n",
        "cd_train_inputs, cd_train_labels = train_data\n",
        "cd_test_inputs, cd_test_labels = val_data"
      ],
      "execution_count": null,
      "outputs": []
    },
    {
      "cell_type": "markdown",
      "metadata": {
        "id": "1y5etOJwScaG"
      },
      "source": [
        "**Run the code below to see the dimensions of our training and validation data. What does each number mean? What is different than our previous dataset?** "
      ]
    },
    {
      "cell_type": "code",
      "metadata": {
        "id": "kjdedJ0VNvWg"
      },
      "source": [
        "print (cd_train_inputs.shape) \n",
        "print (cd_train_labels.shape) \n",
        "print (cd_test_inputs.shape) \n",
        "print (cd_test_labels.shape) "
      ],
      "execution_count": null,
      "outputs": []
    },
    {
      "cell_type": "markdown",
      "metadata": {
        "id": "qIAkgOqWTAL7"
      },
      "source": [
        "**Run this code to see a random image from our training data (different each time).**"
      ]
    },
    {
      "cell_type": "code",
      "metadata": {
        "id": "HooiJ-RrQPcA"
      },
      "source": [
        "index = np.random.randint(len(cd_train_inputs))\n",
        "plt.imshow(cd_train_inputs[index]/255)\n",
        "plt.show()\n",
        "print(\"Label:\",cd_train_labels[index])"
      ],
      "execution_count": null,
      "outputs": []
    },
    {
      "cell_type": "markdown",
      "metadata": {
        "id": "HOwP9kX9UshH"
      },
      "source": [
        "**By adapting code from the previous exercise, build, train, and test a CNN to classify cats vs. dogs.**\n",
        "**Hints:**\n",
        "*   Use print(model.summary()) for a useful visualization of your model's architecture. Compare the summary of your cat/road and cat/dog classifiers.\n",
        "*  Substitute the names of the new datasets.\n",
        "*  Get a \"first try\" working by making small adjustments to a previous model before trying to optimize the accuracy. You can temporarily comment out layers as you figure things out.\n",
        "*  The outputs have different shapes betweeen the two datasets. What do you need to change? (You will get an ValueError that suggests how to transform the output to a one-hot encoding.) \n",
        "*  If you run out of memory, restart the notebook and/or use your knowledge of convolution arithmetic to reduce the size of an intermediate output (see [Keras documentation](https://www.tensorflow.org/api_docs/python/tf/keras/layers/Conv2D)).\n",
        "* Dropout layers help reduce overfitting.\n"
      ]
    },
    {
      "cell_type": "code",
      "metadata": {
        "id": "AeuqlzigZZ8I"
      },
      "source": [
        "model = Sequential()\n",
        "#TODO: Your code here to build, train, and test a cats vs. dogs CNN!\n",
        "#If you run into errors, see the hints above for help debugging! \n",
        "#\n",
        "#\n"
      ],
      "execution_count": null,
      "outputs": []
    },
    {
      "cell_type": "markdown",
      "metadata": {
        "id": "m6sFSGEqjPwe"
      },
      "source": [
        "#Advanced Challenge: Implementing a Famous Architecture for Cats vs. Dogs\n",
        "\n",
        "Having trouble designing an effective architecture? Try implementing a version of AlexNet, one of the most famous CNNs for image convolution ever. You can find this image and other useful information on this network [here](https://towardsdatascience.com/the-w3h-of-alexnet-vggnet-resnet-and-inception-7baaaecccc96).\n",
        "\n",
        "![](https://lh4.googleusercontent.com/gFAxn9Z-Y1lgkNy2GfsqjXy1DvSuYF8rvP3CslRvmuoP5SUaJMrEOr24YShU_LwalLpYNJFwpJgcDh9whk9XrMOGQ1ADQ9FY_0saicCVH0jsNPDKOYBcTG4YhbqpbPolW4hZSdUsDQ)\n",
        "\n",
        "How do we read this diagram?\n",
        "\n",
        "On the left side, we start with images of dimension 227x227x3 (RGB). We apply a filter composed of 96 kernels of size 11x11, with stride size 4. We end up with data of dimension 55x55x96. We pass through multiple layers of convolution and max pooling as shown, before ending with three dense (fully connected) layers.\n",
        "\n",
        "Not shown: each layer uses ReLU activation, and we include dropout before the first two dense layers. Make sure to include those!\n",
        "\n",
        "You'll want to adjust some of these dimensions, for a few reasons: we're starting with 150x150 rather than 227x227 images, ending with 2 labels rather than 1000, and have limited data and memory. Use your knowledge of convolution arithmetic (see CNN slides) and the [Keras documentation](https://www.tensorflow.org/api_docs/python/tf/keras/layers/Conv2D) to change the stride, kernel, and/or padding.\n",
        "\n",
        "Use model.summary() to understand the dimensions of your data at each step. To speed things up as you're building, you can set the number of epochs to 1."
      ]
    },
    {
      "cell_type": "code",
      "metadata": {
        "id": "8FHg8YTGtQ2t",
        "colab": {
          "base_uri": "https://localhost:8080/",
          "height": 381
        },
        "outputId": "bb08e222-12e9-4fb7-c865-aade39f1158b"
      },
      "source": [
        "model = Sequential()\n",
        "#TODO: Your code to run, train, and test AlexNet here:\n",
        "model.add(Conv2D(96, (11, 11), strides=4, padding='same'))\n",
        "model.add(Activation('relu'))\n",
        "model.add(MaxPooling2D(pool_size=(3, 3)))\n",
        "model.add(Activation('relu'))\n",
        "\n",
        "#model.add(Conv2D(256, (5, 5),padding='2'))\n",
        "model.add(Activation('relu'))\n",
        "model.add(MaxPooling2D(pool_size=(2, 2)))\n"
      ],
      "execution_count": null,
      "outputs": [
        {
          "output_type": "error",
          "ename": "ValueError",
          "evalue": "ignored",
          "traceback": [
            "\u001b[0;31m---------------------------------------------------------------------------\u001b[0m",
            "\u001b[0;31mValueError\u001b[0m                                Traceback (most recent call last)",
            "\u001b[0;32m<ipython-input-27-bb4186ac71ff>\u001b[0m in \u001b[0;36m<module>\u001b[0;34m()\u001b[0m\n\u001b[1;32m      6\u001b[0m \u001b[0mmodel\u001b[0m\u001b[0;34m.\u001b[0m\u001b[0madd\u001b[0m\u001b[0;34m(\u001b[0m\u001b[0mActivation\u001b[0m\u001b[0;34m(\u001b[0m\u001b[0;34m'relu'\u001b[0m\u001b[0;34m)\u001b[0m\u001b[0;34m)\u001b[0m\u001b[0;34m\u001b[0m\u001b[0;34m\u001b[0m\u001b[0m\n\u001b[1;32m      7\u001b[0m \u001b[0;34m\u001b[0m\u001b[0m\n\u001b[0;32m----> 8\u001b[0;31m \u001b[0mmodel\u001b[0m\u001b[0;34m.\u001b[0m\u001b[0madd\u001b[0m\u001b[0;34m(\u001b[0m\u001b[0mConv2D\u001b[0m\u001b[0;34m(\u001b[0m\u001b[0;36m256\u001b[0m\u001b[0;34m,\u001b[0m \u001b[0;34m(\u001b[0m\u001b[0;36m5\u001b[0m\u001b[0;34m,\u001b[0m \u001b[0;36m5\u001b[0m\u001b[0;34m)\u001b[0m\u001b[0;34m,\u001b[0m\u001b[0mpadding\u001b[0m\u001b[0;34m=\u001b[0m\u001b[0;34m'2'\u001b[0m\u001b[0;34m)\u001b[0m\u001b[0;34m)\u001b[0m\u001b[0;34m\u001b[0m\u001b[0;34m\u001b[0m\u001b[0m\n\u001b[0m\u001b[1;32m      9\u001b[0m \u001b[0mmodel\u001b[0m\u001b[0;34m.\u001b[0m\u001b[0madd\u001b[0m\u001b[0;34m(\u001b[0m\u001b[0mActivation\u001b[0m\u001b[0;34m(\u001b[0m\u001b[0;34m'relu'\u001b[0m\u001b[0;34m)\u001b[0m\u001b[0;34m)\u001b[0m\u001b[0;34m\u001b[0m\u001b[0;34m\u001b[0m\u001b[0m\n\u001b[1;32m     10\u001b[0m \u001b[0mmodel\u001b[0m\u001b[0;34m.\u001b[0m\u001b[0madd\u001b[0m\u001b[0;34m(\u001b[0m\u001b[0mMaxPooling2D\u001b[0m\u001b[0;34m(\u001b[0m\u001b[0mpool_size\u001b[0m\u001b[0;34m=\u001b[0m\u001b[0;34m(\u001b[0m\u001b[0;36m2\u001b[0m\u001b[0;34m,\u001b[0m \u001b[0;36m2\u001b[0m\u001b[0;34m)\u001b[0m\u001b[0;34m)\u001b[0m\u001b[0;34m)\u001b[0m\u001b[0;34m\u001b[0m\u001b[0;34m\u001b[0m\u001b[0m\n",
            "\u001b[0;32m/usr/local/lib/python3.7/dist-packages/keras/layers/convolutional.py\u001b[0m in \u001b[0;36m__init__\u001b[0;34m(self, filters, kernel_size, strides, padding, data_format, dilation_rate, groups, activation, use_bias, kernel_initializer, bias_initializer, kernel_regularizer, bias_regularizer, activity_regularizer, kernel_constraint, bias_constraint, **kwargs)\u001b[0m\n\u001b[1;32m    689\u001b[0m         \u001b[0mkernel_constraint\u001b[0m\u001b[0;34m=\u001b[0m\u001b[0mconstraints\u001b[0m\u001b[0;34m.\u001b[0m\u001b[0mget\u001b[0m\u001b[0;34m(\u001b[0m\u001b[0mkernel_constraint\u001b[0m\u001b[0;34m)\u001b[0m\u001b[0;34m,\u001b[0m\u001b[0;34m\u001b[0m\u001b[0;34m\u001b[0m\u001b[0m\n\u001b[1;32m    690\u001b[0m         \u001b[0mbias_constraint\u001b[0m\u001b[0;34m=\u001b[0m\u001b[0mconstraints\u001b[0m\u001b[0;34m.\u001b[0m\u001b[0mget\u001b[0m\u001b[0;34m(\u001b[0m\u001b[0mbias_constraint\u001b[0m\u001b[0;34m)\u001b[0m\u001b[0;34m,\u001b[0m\u001b[0;34m\u001b[0m\u001b[0;34m\u001b[0m\u001b[0m\n\u001b[0;32m--> 691\u001b[0;31m         **kwargs)\n\u001b[0m\u001b[1;32m    692\u001b[0m \u001b[0;34m\u001b[0m\u001b[0m\n\u001b[1;32m    693\u001b[0m \u001b[0;34m\u001b[0m\u001b[0m\n",
            "\u001b[0;32m/usr/local/lib/python3.7/dist-packages/keras/layers/convolutional.py\u001b[0m in \u001b[0;36m__init__\u001b[0;34m(self, rank, filters, kernel_size, strides, padding, data_format, dilation_rate, groups, activation, use_bias, kernel_initializer, bias_initializer, kernel_regularizer, bias_regularizer, activity_regularizer, kernel_constraint, bias_constraint, trainable, name, conv_op, **kwargs)\u001b[0m\n\u001b[1;32m    141\u001b[0m     self.strides = conv_utils.normalize_tuple(\n\u001b[1;32m    142\u001b[0m         strides, rank, 'strides', allow_zero=True)\n\u001b[0;32m--> 143\u001b[0;31m     \u001b[0mself\u001b[0m\u001b[0;34m.\u001b[0m\u001b[0mpadding\u001b[0m \u001b[0;34m=\u001b[0m \u001b[0mconv_utils\u001b[0m\u001b[0;34m.\u001b[0m\u001b[0mnormalize_padding\u001b[0m\u001b[0;34m(\u001b[0m\u001b[0mpadding\u001b[0m\u001b[0;34m)\u001b[0m\u001b[0;34m\u001b[0m\u001b[0;34m\u001b[0m\u001b[0m\n\u001b[0m\u001b[1;32m    144\u001b[0m     \u001b[0mself\u001b[0m\u001b[0;34m.\u001b[0m\u001b[0mdata_format\u001b[0m \u001b[0;34m=\u001b[0m \u001b[0mconv_utils\u001b[0m\u001b[0;34m.\u001b[0m\u001b[0mnormalize_data_format\u001b[0m\u001b[0;34m(\u001b[0m\u001b[0mdata_format\u001b[0m\u001b[0;34m)\u001b[0m\u001b[0;34m\u001b[0m\u001b[0;34m\u001b[0m\u001b[0m\n\u001b[1;32m    145\u001b[0m     self.dilation_rate = conv_utils.normalize_tuple(\n",
            "\u001b[0;32m/usr/local/lib/python3.7/dist-packages/keras/utils/conv_utils.py\u001b[0m in \u001b[0;36mnormalize_padding\u001b[0;34m(value)\u001b[0m\n\u001b[1;32m    219\u001b[0m   \u001b[0mpadding\u001b[0m \u001b[0;34m=\u001b[0m \u001b[0mvalue\u001b[0m\u001b[0;34m.\u001b[0m\u001b[0mlower\u001b[0m\u001b[0;34m(\u001b[0m\u001b[0;34m)\u001b[0m\u001b[0;34m\u001b[0m\u001b[0;34m\u001b[0m\u001b[0m\n\u001b[1;32m    220\u001b[0m   \u001b[0;32mif\u001b[0m \u001b[0mpadding\u001b[0m \u001b[0;32mnot\u001b[0m \u001b[0;32min\u001b[0m \u001b[0;34m{\u001b[0m\u001b[0;34m'valid'\u001b[0m\u001b[0;34m,\u001b[0m \u001b[0;34m'same'\u001b[0m\u001b[0;34m,\u001b[0m \u001b[0;34m'causal'\u001b[0m\u001b[0;34m}\u001b[0m\u001b[0;34m:\u001b[0m\u001b[0;34m\u001b[0m\u001b[0;34m\u001b[0m\u001b[0m\n\u001b[0;32m--> 221\u001b[0;31m     raise ValueError('The `padding` argument must be a list/tuple or one of '\n\u001b[0m\u001b[1;32m    222\u001b[0m                      \u001b[0;34m'\"valid\", \"same\" (or \"causal\", only for `Conv1D). '\u001b[0m\u001b[0;34m\u001b[0m\u001b[0;34m\u001b[0m\u001b[0m\n\u001b[1;32m    223\u001b[0m                      f'Received: {padding}')\n",
            "\u001b[0;31mValueError\u001b[0m: The `padding` argument must be a list/tuple or one of \"valid\", \"same\" (or \"causal\", only for `Conv1D). Received: 2"
          ]
        }
      ]
    },
    {
      "cell_type": "markdown",
      "metadata": {
        "id": "PlF308hDjwyC"
      },
      "source": [
        "You might find that even AlexNet isn't working that well for you!\n",
        "\n",
        "This is because having a good architecture is only half the battle: AlexNet is a complex model designed to learn from millions of images. We're using a small dataset of only 2000 training images, so it's not surprising that our results aren't great. Our model is overfitting: essentially memorizing the few training images, rather than really learning the difference between a cat and a dog. (The advantage is that our model trains quickly.)\n",
        "\n",
        "To get really good performance, we need more data. If we can't find more, we could use *data augmentation*: inventing new training data by transforming our existing images. You can read more about it at https://blog.keras.io/building-powerful-image-classification-models-using-very-little-data.html."
      ]
    },
    {
      "cell_type": "markdown",
      "metadata": {
        "id": "RVzEpI_xWpE5"
      },
      "source": [
        "![](https://images.pexels.com/photos/316/black-and-white-animal-dog-pet.jpg?auto=compress&cs=tinysrgb&dpr=2&h=650&w=940)"
      ]
    }
  ]
}