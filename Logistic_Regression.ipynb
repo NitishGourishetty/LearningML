{
  "nbformat": 4,
  "nbformat_minor": 0,
  "metadata": {
    "colab": {
      "provenance": [],
      "collapsed_sections": [
        "HP9U_AO8stAq",
        "CwIq3r8RENiw"
      ]
    },
    "kernelspec": {
      "display_name": "Python 3",
      "name": "python3"
    },
    "accelerator": "GPU"
  },
  "cells": [
    {
      "cell_type": "markdown",
      "metadata": {
        "id": "TiM6gYg0nhkY"
      },
      "source": [
        "<font color=\"#de3023\"><h1><b>Logistic Regression</b></h1></font>"
      ]
    },
    {
      "cell_type": "markdown",
      "metadata": {
        "id": "eN6PSgaoEPr9"
      },
      "source": [
        "## Instructor Led Discussion"
      ]
    },
    {
      "cell_type": "markdown",
      "metadata": {
        "id": "HP9U_AO8stAq"
      },
      "source": [
        "### Introduction to Breast Cancer Biopsy Classification\n",
        "\n",
        "In this project, imagine that your colleague, an oncologist (cancer doctor), is working in a major hospital that specializes in treating breast cancers. Breast cancer tumors are very complicated at the cellular level, and this makes determining whether a patient's tumor is malignant (dangerous) or benign (not dangerous) a challenge. Your task will be to build a classifier that can determine whether a sample is malignant or benign to help your colleague!\n",
        "\n",
        "Every patient that arrives at the hospital undergoes a biopsy of their tumor. This means that a small sample of the tumor is taken from the patient and various metrics are recorded about it, including: radius, texture, perimeter, area, smoothness, compactness, concavity, concave points, symmetry, and fractal dimension. \n",
        "\n",
        "Using a large dataset of labeled biopsy samples from breast cancer tumors, you will build your binary classification model to determine whether a tumor is malignant or benign based on these features. Then, this model can help you to better determine diagnoses for new patients who arrive at the hospital.\n"
      ]
    },
    {
      "cell_type": "markdown",
      "metadata": {
        "id": "CwIq3r8RENiw"
      },
      "source": [
        "## Today...\n",
        "We will explore together the steps that you could take to help your friend solve this problem!\n",
        "\n",
        "#### Background and data exploration\n",
        "\n",
        "- Exploring the data\n",
        "- Visualizing the data\n",
        "\n",
        "#### Predicting Diagnosis: Working up to Logistic Regression\n",
        "\n",
        "- Approach 1: Linear Regression classifier\n",
        "\n",
        "- Approach 2: Simple boundary classifier\n",
        "\n",
        "- Approach 3: Modifying with logistic regression\n",
        "\n",
        "- Approach 4: Multiple feature logistic regression\n",
        "\n",
        "#### Bonus Discussion: What makes a separation good?\n",
        "#### Optional: Decision trees walkthrough\n",
        "#### Advanced (Optional): Choosing a Classifier\n",
        "\n"
      ]
    },
    {
      "cell_type": "markdown",
      "metadata": {
        "id": "t5WlU9mlAtTt"
      },
      "source": [
        "# Background and data exploration"
      ]
    },
    {
      "cell_type": "markdown",
      "metadata": {
        "id": "gOTZCNwKs8Bc"
      },
      "source": [
        "## Diagnosing cancer with biopsies\n"
      ]
    },
    {
      "cell_type": "markdown",
      "metadata": {
        "id": "ei8za5s3tVw8"
      },
      "source": [
        "**Before** we dive into building a classifier for breast cancer tumors, we will first discuss how the data are generated and what the various features mean.\n",
        "\n",
        "![alt text](https://www.rxdatascience.com/hubfs/Raj%20Files/es1.jpg)\n",
        "\n",
        "The above image is an example of cancerous (malignant) breast cells next to benign cells. These cells are part of a tumor biopsy where the extracted tissue is sampled with a special needle. The cells are subsequently stained with different dyes to help visualize their shapes, quantity of DNA, etc. These properties provide clues and insight into the rate of cell division (Rapid cell division = Cancerous). \n",
        " ### Optional: Data Feature Descriptions\n",
        "\n",
        "Our dataset reports 10 different features of the biopsies. Here's what a few of them mean:\n",
        "\n",
        "1. $Perimeter$: Total distance between points defining the cell's nuclear perimeter.\n",
        "2. $Radius$: Average distance from the center of the cell's nucleus to its perimeter.\n",
        "3. $Texture$: The texture of the cell nucleus is measured by finding the variance of the gray scale intensities in the component pixels.\n",
        "4. $Area$: Nuclear area is measured by counting the number of pixels on the interior of the nucleus and adding one-half of the pixels in the perimeter.\n",
        "\n",
        "The following image should give a visual to what these cell nucleus features look like: \n",
        "\n",
        "![perimeter](https://drive.google.com/uc?export=view&id=1-U43OAojYbMY9gIlpvLHPNr3V2saqqHJ)\n",
        "\n",
        "5. $Smoothness$: Measures the smoothness of a nuclear contour by measuring the difference between the length of a radial line and the mean length of the lines surrounding it. The image below demonstrates this:\n",
        "\n",
        "![smoothness](https://drive.google.com/uc?export=view&id=10GokzG7KDKxClJwHPIuIcr3ivvWGRetY)\n",
        "\n",
        "6. $Concavity$: Measures the severity of concavities or indentations in a cell nucleus. Chords are drawn between non-adjacent snake points and measure the extent to which the actual boundary lies inside each chord. The line in bold in the image below is an example of a chord.\n",
        "\n",
        "![concavity](https://drive.google.com/uc?export=view&id=1EGdQLX0WAJkM8E598vnKvnMLY2ZVT6Le)\n",
        "\n",
        "7. $Symmetry$: The major axis (longest chord) through the center is found. Then, the difference between the distance on both sides of the lines that are perpendicular to the major axis is calculated. The image below shows an example of this:\n",
        "\n",
        "![symmetry](https://drive.google.com/uc?export=view&id=1EMzdkY5TVfA79xInjjeI6b_dYMpCmSSe)\n",
        "\n",
        "\n",
        "The paper that first detailed these measurements for this dataset can be found here for more information: https://pdfs.semanticscholar.org/1c4a/4db612212a9d3806a848854d20da9ddd0504.pdf \n"
      ]
    },
    {
      "cell_type": "markdown",
      "metadata": {
        "id": "dYeVd9eptE31"
      },
      "source": [
        "## Breast cancer diagnostic dataset\n",
        "\n",
        "The dataset we will use to train our model is called the Breast Cancer Wisconsin (Diagnostic) Data Set. It consists of 569 biopsy samples, just like the ones described above, from breast cancer tumors. \n",
        "\n",
        "Each biopsy sample in the dataset is labeled with an ID number and whether or not the tumor it came from is malignant (1) or benign (0). Each sample also has 10 different features associated with it, some of which are described above. Remember that each feature value for a given biopsy sample is a real-valued number.\n",
        "\n",
        "Think: what sorts of features would you expect to be different between a rapidly growing, malignant cancer cell and a healthy one? Why?"
      ]
    },
    {
      "cell_type": "code",
      "metadata": {
        "id": "zTLBQUJZJpEU",
        "outputId": "4b490c70-c72e-413b-8387-da70145e86a4",
        "colab": {
          "base_uri": "https://localhost:8080/"
        }
      },
      "source": [
        "#@title Run this to download your data! { display-mode: \"form\" }\n",
        "# Load the data!\n",
        "import gdown \n",
        "import pandas as pd\n",
        "from sklearn import metrics\n",
        "\n",
        "# gdown.download('https://drive.google.com/uc?id=1grV8hSxULsGvnbwEMPjPaknccfIOlcoB','cancer_data.csv',True);\n",
        "\n",
        "from google.cloud import storage\n",
        "def download_public_file(bucket_name, source_blob_name, destination_file_name):\n",
        "    storage_client = storage.Client.create_anonymous_client()\n",
        "\n",
        "    bucket = storage_client.bucket(bucket_name)\n",
        "    blob = bucket.blob(source_blob_name)\n",
        "    blob.download_to_filename(destination_file_name)\n",
        "\n",
        "    print(\n",
        "        \"Downloaded public blob {} from bucket {} to {}.\".format(\n",
        "            source_blob_name, bucket.name, destination_file_name\n",
        "        )\n",
        "    )\n",
        "\n",
        "download_public_file('inspirit-ai-data-bucket-1','Data/AI Scholars/Sessions 1 - 5/Session 2b - Logistic Regression/cancer.csv','cancer_data.csv')\n",
        "\n",
        "data = pd.read_csv('cancer_data.csv')\n",
        "data['diagnosis'].replace({'M':1, 'B':0}, inplace = True)\n",
        "data.to_csv('cancer_data.csv')\n",
        "del data"
      ],
      "execution_count": null,
      "outputs": [
        {
          "output_type": "stream",
          "name": "stdout",
          "text": [
            "Downloaded public blob Data/AI Scholars/Sessions 1 - 5/Session 2b - Logistic Regression/cancer.csv from bucket inspirit-ai-data-bucket-1 to cancer_data.csv.\n"
          ]
        }
      ]
    },
    {
      "cell_type": "markdown",
      "metadata": {
        "id": "LSpUGH4NvaUk"
      },
      "source": [
        "## Loading our annotated dataset\n",
        "\n",
        "The first step in building our breast cancer tumor classification model is to load in the dataset we'll use to \"teach\" (or \"train\") our model."
      ]
    },
    {
      "cell_type": "code",
      "metadata": {
        "id": "LmyUG5GrvdPf"
      },
      "source": [
        "# First, import helpful Python tools for loading/navigating data\n",
        "import os             # Good for navigating your computer's files \n",
        "import numpy as np    # Great for lists (arrays) of numbers\n",
        "import pandas as pd   # Great for tables (google spreadsheets, microsoft excel, csv)\n",
        "from sklearn.metrics import accuracy_score   # Great for creating quick ML models\n"
      ],
      "execution_count": null,
      "outputs": []
    },
    {
      "cell_type": "code",
      "metadata": {
        "id": "5Cu2tGYpv5AZ"
      },
      "source": [
        "data_path  = 'cancer_data.csv'\n",
        "\n",
        "# Use the 'pd.read_csv('file')' function to read in read our data and store it in a variable called 'dataframe'\n",
        "dataframe = pd.read_csv(data_path)\n",
        "\n",
        "dataframe = dataframe[['diagnosis', 'perimeter_mean', 'radius_mean', 'texture_mean', 'area_mean', 'smoothness_mean', 'concavity_mean', 'symmetry_mean']]\n",
        "dataframe['diagnosis_cat'] = dataframe['diagnosis'].astype('category').map({1: '1 (malignant)', 0: '0 (benign)'})"
      ],
      "execution_count": null,
      "outputs": []
    },
    {
      "cell_type": "markdown",
      "metadata": {
        "id": "twcYYuhGgLda"
      },
      "source": [
        "# Exploring our data\n"
      ]
    },
    {
      "cell_type": "markdown",
      "metadata": {
        "id": "YKx4euGqwHpS"
      },
      "source": [
        " ## Looking at our dataset\n",
        "  \n",
        " A key step in machine learning (and coding in general!) is to view the structure and dimensions of our new dataframe, which stores all our training data from the tumor biopsies. You can think of dataframes like Google or Microsoft Excel spreadsheets (large tables with row/column headers).\n",
        "\n",
        "We want to confirm that the size of our table is correct, check out the features present, and get a more visual sense of what it looks like overall."
      ]
    },
    {
      "cell_type": "markdown",
      "metadata": {
        "id": "44xNblKYVRHh"
      },
      "source": [
        "**Use the '.head()' method to show the first five rows of the table and their corresponding column headers (our biopsy features!)**"
      ]
    },
    {
      "cell_type": "code",
      "metadata": {
        "id": "sKRxaP1qweIz",
        "colab": {
          "base_uri": "https://localhost:8080/",
          "height": 206
        },
        "outputId": "dae2368e-d975-4ee5-892c-abe904685d88"
      },
      "source": [
        "# YOUR CODE HERE: \n",
        "dataframe.head()\n",
        "# END CODE"
      ],
      "execution_count": null,
      "outputs": [
        {
          "output_type": "execute_result",
          "data": {
            "text/plain": [
              "   diagnosis  perimeter_mean  radius_mean  texture_mean  area_mean  \\\n",
              "0          1          122.80        17.99         10.38     1001.0   \n",
              "1          1          132.90        20.57         17.77     1326.0   \n",
              "2          1          130.00        19.69         21.25     1203.0   \n",
              "3          1           77.58        11.42         20.38      386.1   \n",
              "4          1          135.10        20.29         14.34     1297.0   \n",
              "\n",
              "   smoothness_mean  concavity_mean  symmetry_mean  diagnosis_cat  \n",
              "0          0.11840          0.3001         0.2419  1 (malignant)  \n",
              "1          0.08474          0.0869         0.1812  1 (malignant)  \n",
              "2          0.10960          0.1974         0.2069  1 (malignant)  \n",
              "3          0.14250          0.2414         0.2597  1 (malignant)  \n",
              "4          0.10030          0.1980         0.1809  1 (malignant)  "
            ],
            "text/html": [
              "\n",
              "  <div id=\"df-fbca13f9-41ec-4595-896c-68a6fa451dcb\">\n",
              "    <div class=\"colab-df-container\">\n",
              "      <div>\n",
              "<style scoped>\n",
              "    .dataframe tbody tr th:only-of-type {\n",
              "        vertical-align: middle;\n",
              "    }\n",
              "\n",
              "    .dataframe tbody tr th {\n",
              "        vertical-align: top;\n",
              "    }\n",
              "\n",
              "    .dataframe thead th {\n",
              "        text-align: right;\n",
              "    }\n",
              "</style>\n",
              "<table border=\"1\" class=\"dataframe\">\n",
              "  <thead>\n",
              "    <tr style=\"text-align: right;\">\n",
              "      <th></th>\n",
              "      <th>diagnosis</th>\n",
              "      <th>perimeter_mean</th>\n",
              "      <th>radius_mean</th>\n",
              "      <th>texture_mean</th>\n",
              "      <th>area_mean</th>\n",
              "      <th>smoothness_mean</th>\n",
              "      <th>concavity_mean</th>\n",
              "      <th>symmetry_mean</th>\n",
              "      <th>diagnosis_cat</th>\n",
              "    </tr>\n",
              "  </thead>\n",
              "  <tbody>\n",
              "    <tr>\n",
              "      <th>0</th>\n",
              "      <td>1</td>\n",
              "      <td>122.80</td>\n",
              "      <td>17.99</td>\n",
              "      <td>10.38</td>\n",
              "      <td>1001.0</td>\n",
              "      <td>0.11840</td>\n",
              "      <td>0.3001</td>\n",
              "      <td>0.2419</td>\n",
              "      <td>1 (malignant)</td>\n",
              "    </tr>\n",
              "    <tr>\n",
              "      <th>1</th>\n",
              "      <td>1</td>\n",
              "      <td>132.90</td>\n",
              "      <td>20.57</td>\n",
              "      <td>17.77</td>\n",
              "      <td>1326.0</td>\n",
              "      <td>0.08474</td>\n",
              "      <td>0.0869</td>\n",
              "      <td>0.1812</td>\n",
              "      <td>1 (malignant)</td>\n",
              "    </tr>\n",
              "    <tr>\n",
              "      <th>2</th>\n",
              "      <td>1</td>\n",
              "      <td>130.00</td>\n",
              "      <td>19.69</td>\n",
              "      <td>21.25</td>\n",
              "      <td>1203.0</td>\n",
              "      <td>0.10960</td>\n",
              "      <td>0.1974</td>\n",
              "      <td>0.2069</td>\n",
              "      <td>1 (malignant)</td>\n",
              "    </tr>\n",
              "    <tr>\n",
              "      <th>3</th>\n",
              "      <td>1</td>\n",
              "      <td>77.58</td>\n",
              "      <td>11.42</td>\n",
              "      <td>20.38</td>\n",
              "      <td>386.1</td>\n",
              "      <td>0.14250</td>\n",
              "      <td>0.2414</td>\n",
              "      <td>0.2597</td>\n",
              "      <td>1 (malignant)</td>\n",
              "    </tr>\n",
              "    <tr>\n",
              "      <th>4</th>\n",
              "      <td>1</td>\n",
              "      <td>135.10</td>\n",
              "      <td>20.29</td>\n",
              "      <td>14.34</td>\n",
              "      <td>1297.0</td>\n",
              "      <td>0.10030</td>\n",
              "      <td>0.1980</td>\n",
              "      <td>0.1809</td>\n",
              "      <td>1 (malignant)</td>\n",
              "    </tr>\n",
              "  </tbody>\n",
              "</table>\n",
              "</div>\n",
              "      <button class=\"colab-df-convert\" onclick=\"convertToInteractive('df-fbca13f9-41ec-4595-896c-68a6fa451dcb')\"\n",
              "              title=\"Convert this dataframe to an interactive table.\"\n",
              "              style=\"display:none;\">\n",
              "        \n",
              "  <svg xmlns=\"http://www.w3.org/2000/svg\" height=\"24px\"viewBox=\"0 0 24 24\"\n",
              "       width=\"24px\">\n",
              "    <path d=\"M0 0h24v24H0V0z\" fill=\"none\"/>\n",
              "    <path d=\"M18.56 5.44l.94 2.06.94-2.06 2.06-.94-2.06-.94-.94-2.06-.94 2.06-2.06.94zm-11 1L8.5 8.5l.94-2.06 2.06-.94-2.06-.94L8.5 2.5l-.94 2.06-2.06.94zm10 10l.94 2.06.94-2.06 2.06-.94-2.06-.94-.94-2.06-.94 2.06-2.06.94z\"/><path d=\"M17.41 7.96l-1.37-1.37c-.4-.4-.92-.59-1.43-.59-.52 0-1.04.2-1.43.59L10.3 9.45l-7.72 7.72c-.78.78-.78 2.05 0 2.83L4 21.41c.39.39.9.59 1.41.59.51 0 1.02-.2 1.41-.59l7.78-7.78 2.81-2.81c.8-.78.8-2.07 0-2.86zM5.41 20L4 18.59l7.72-7.72 1.47 1.35L5.41 20z\"/>\n",
              "  </svg>\n",
              "      </button>\n",
              "      \n",
              "  <style>\n",
              "    .colab-df-container {\n",
              "      display:flex;\n",
              "      flex-wrap:wrap;\n",
              "      gap: 12px;\n",
              "    }\n",
              "\n",
              "    .colab-df-convert {\n",
              "      background-color: #E8F0FE;\n",
              "      border: none;\n",
              "      border-radius: 50%;\n",
              "      cursor: pointer;\n",
              "      display: none;\n",
              "      fill: #1967D2;\n",
              "      height: 32px;\n",
              "      padding: 0 0 0 0;\n",
              "      width: 32px;\n",
              "    }\n",
              "\n",
              "    .colab-df-convert:hover {\n",
              "      background-color: #E2EBFA;\n",
              "      box-shadow: 0px 1px 2px rgba(60, 64, 67, 0.3), 0px 1px 3px 1px rgba(60, 64, 67, 0.15);\n",
              "      fill: #174EA6;\n",
              "    }\n",
              "\n",
              "    [theme=dark] .colab-df-convert {\n",
              "      background-color: #3B4455;\n",
              "      fill: #D2E3FC;\n",
              "    }\n",
              "\n",
              "    [theme=dark] .colab-df-convert:hover {\n",
              "      background-color: #434B5C;\n",
              "      box-shadow: 0px 1px 3px 1px rgba(0, 0, 0, 0.15);\n",
              "      filter: drop-shadow(0px 1px 2px rgba(0, 0, 0, 0.3));\n",
              "      fill: #FFFFFF;\n",
              "    }\n",
              "  </style>\n",
              "\n",
              "      <script>\n",
              "        const buttonEl =\n",
              "          document.querySelector('#df-fbca13f9-41ec-4595-896c-68a6fa451dcb button.colab-df-convert');\n",
              "        buttonEl.style.display =\n",
              "          google.colab.kernel.accessAllowed ? 'block' : 'none';\n",
              "\n",
              "        async function convertToInteractive(key) {\n",
              "          const element = document.querySelector('#df-fbca13f9-41ec-4595-896c-68a6fa451dcb');\n",
              "          const dataTable =\n",
              "            await google.colab.kernel.invokeFunction('convertToInteractive',\n",
              "                                                     [key], {});\n",
              "          if (!dataTable) return;\n",
              "\n",
              "          const docLinkHtml = 'Like what you see? Visit the ' +\n",
              "            '<a target=\"_blank\" href=https://colab.research.google.com/notebooks/data_table.ipynb>data table notebook</a>'\n",
              "            + ' to learn more about interactive tables.';\n",
              "          element.innerHTML = '';\n",
              "          dataTable['output_type'] = 'display_data';\n",
              "          await google.colab.output.renderOutput(dataTable, element);\n",
              "          const docLink = document.createElement('div');\n",
              "          docLink.innerHTML = docLinkHtml;\n",
              "          element.appendChild(docLink);\n",
              "        }\n",
              "      </script>\n",
              "    </div>\n",
              "  </div>\n",
              "  "
            ]
          },
          "metadata": {},
          "execution_count": 5
        }
      ]
    },
    {
      "cell_type": "markdown",
      "metadata": {
        "id": "tilXEPhVwkjk"
      },
      "source": [
        "Our colleague has given us documentation on what each feature column means. Specifically:\n",
        "\n",
        "* $diagnosis$: Whether the tumor was diagnosed as malignant (1) or benign (0).\n",
        "* $perimeter$_$mean$: The average perimeter of cells in that particular biopsy\n",
        "* $radius$_$mean$: The average radius of cells in that particular biopsy\n",
        "* $texture$_$mean$: The average texture of cells in that particular biopsy\n",
        "* $area$_$mean$: The average area of cells in that particular biopsy\n",
        "* $smoothness$_$mean$: The average smoothness of cells in that particular biopsy\n",
        "* $concavity$_$mean$: The average concavity of cells in that particular biopsy\n",
        "* $symmetry$_$mean$: The average symmetry of cells in that particular biopsy\n",
        "\n",
        "Recall that the term mean refers to taking an average (summing the values for each cell and dividing by the total number of cells observed in that biopsy). "
      ]
    },
    {
      "cell_type": "code",
      "metadata": {
        "id": "0-SoD9EQw5Ie",
        "colab": {
          "base_uri": "https://localhost:8080/"
        },
        "outputId": "cb0fe659-a55c-4f88-bb58-e21ce5dfd43c"
      },
      "source": [
        "# Next, we'll use the 'info' method to see the data types of each column\n",
        "dataframe.info()"
      ],
      "execution_count": null,
      "outputs": [
        {
          "output_type": "stream",
          "name": "stdout",
          "text": [
            "<class 'pandas.core.frame.DataFrame'>\n",
            "RangeIndex: 569 entries, 0 to 568\n",
            "Data columns (total 9 columns):\n",
            " #   Column           Non-Null Count  Dtype   \n",
            "---  ------           --------------  -----   \n",
            " 0   diagnosis        569 non-null    int64   \n",
            " 1   perimeter_mean   569 non-null    float64 \n",
            " 2   radius_mean      569 non-null    float64 \n",
            " 3   texture_mean     569 non-null    float64 \n",
            " 4   area_mean        569 non-null    float64 \n",
            " 5   smoothness_mean  569 non-null    float64 \n",
            " 6   concavity_mean   569 non-null    float64 \n",
            " 7   symmetry_mean    569 non-null    float64 \n",
            " 8   diagnosis_cat    569 non-null    category\n",
            "dtypes: category(1), float64(7), int64(1)\n",
            "memory usage: 36.4 KB\n"
          ]
        }
      ]
    },
    {
      "cell_type": "markdown",
      "metadata": {
        "id": "FM41uioFw_Ow"
      },
      "source": [
        "**Discussion Question:** Which columns are numeric? Why?\n"
      ]
    },
    {
      "cell_type": "markdown",
      "metadata": {
        "id": "LMJy1OXUmqnO"
      },
      "source": [
        " ## Visualizing our dataset\n",
        "\n",
        "How can we determine the relationship between each of the \"features\" of these cells and the diagnosis?\n",
        "\n",
        "The best way is to graph certain features in our data and see how they vary between different diagnoses! We will use some Python libraries like Seaborn and Matplotlib to make this an easier task for us."
      ]
    },
    {
      "cell_type": "code",
      "metadata": {
        "id": "3Fg1ZzH8gZyA"
      },
      "source": [
        "# First, we'll import some handy data visualization tools\n",
        "import seaborn as sns\n",
        "import matplotlib.pyplot as plt "
      ],
      "execution_count": null,
      "outputs": []
    },
    {
      "cell_type": "markdown",
      "metadata": {
        "id": "jPUsnMfOyr-F"
      },
      "source": [
        "Let's focus on one feature for now: mean radius. How well does it predict diagnosis?"
      ]
    },
    {
      "cell_type": "code",
      "metadata": {
        "id": "eXefT2nZgdnE",
        "colab": {
          "base_uri": "https://localhost:8080/",
          "height": 558
        },
        "outputId": "77bd3d3a-ef2c-4b42-ddde-cd15468cc32d"
      },
      "source": [
        "sns.catplot(x = 'radius_mean', y = 'diagnosis_cat', data = dataframe, order=['1 (malignant)', '0 (benign)'])\n",
        "dataframe.head()"
      ],
      "execution_count": null,
      "outputs": [
        {
          "output_type": "execute_result",
          "data": {
            "text/plain": [
              "   diagnosis  perimeter_mean  radius_mean  texture_mean  area_mean  \\\n",
              "0          1          122.80        17.99         10.38     1001.0   \n",
              "1          1          132.90        20.57         17.77     1326.0   \n",
              "2          1          130.00        19.69         21.25     1203.0   \n",
              "3          1           77.58        11.42         20.38      386.1   \n",
              "4          1          135.10        20.29         14.34     1297.0   \n",
              "\n",
              "   smoothness_mean  concavity_mean  symmetry_mean  diagnosis_cat  \n",
              "0          0.11840          0.3001         0.2419  1 (malignant)  \n",
              "1          0.08474          0.0869         0.1812  1 (malignant)  \n",
              "2          0.10960          0.1974         0.2069  1 (malignant)  \n",
              "3          0.14250          0.2414         0.2597  1 (malignant)  \n",
              "4          0.10030          0.1980         0.1809  1 (malignant)  "
            ],
            "text/html": [
              "\n",
              "  <div id=\"df-48bbe053-27ac-46d1-83d7-08fe35f22024\">\n",
              "    <div class=\"colab-df-container\">\n",
              "      <div>\n",
              "<style scoped>\n",
              "    .dataframe tbody tr th:only-of-type {\n",
              "        vertical-align: middle;\n",
              "    }\n",
              "\n",
              "    .dataframe tbody tr th {\n",
              "        vertical-align: top;\n",
              "    }\n",
              "\n",
              "    .dataframe thead th {\n",
              "        text-align: right;\n",
              "    }\n",
              "</style>\n",
              "<table border=\"1\" class=\"dataframe\">\n",
              "  <thead>\n",
              "    <tr style=\"text-align: right;\">\n",
              "      <th></th>\n",
              "      <th>diagnosis</th>\n",
              "      <th>perimeter_mean</th>\n",
              "      <th>radius_mean</th>\n",
              "      <th>texture_mean</th>\n",
              "      <th>area_mean</th>\n",
              "      <th>smoothness_mean</th>\n",
              "      <th>concavity_mean</th>\n",
              "      <th>symmetry_mean</th>\n",
              "      <th>diagnosis_cat</th>\n",
              "    </tr>\n",
              "  </thead>\n",
              "  <tbody>\n",
              "    <tr>\n",
              "      <th>0</th>\n",
              "      <td>1</td>\n",
              "      <td>122.80</td>\n",
              "      <td>17.99</td>\n",
              "      <td>10.38</td>\n",
              "      <td>1001.0</td>\n",
              "      <td>0.11840</td>\n",
              "      <td>0.3001</td>\n",
              "      <td>0.2419</td>\n",
              "      <td>1 (malignant)</td>\n",
              "    </tr>\n",
              "    <tr>\n",
              "      <th>1</th>\n",
              "      <td>1</td>\n",
              "      <td>132.90</td>\n",
              "      <td>20.57</td>\n",
              "      <td>17.77</td>\n",
              "      <td>1326.0</td>\n",
              "      <td>0.08474</td>\n",
              "      <td>0.0869</td>\n",
              "      <td>0.1812</td>\n",
              "      <td>1 (malignant)</td>\n",
              "    </tr>\n",
              "    <tr>\n",
              "      <th>2</th>\n",
              "      <td>1</td>\n",
              "      <td>130.00</td>\n",
              "      <td>19.69</td>\n",
              "      <td>21.25</td>\n",
              "      <td>1203.0</td>\n",
              "      <td>0.10960</td>\n",
              "      <td>0.1974</td>\n",
              "      <td>0.2069</td>\n",
              "      <td>1 (malignant)</td>\n",
              "    </tr>\n",
              "    <tr>\n",
              "      <th>3</th>\n",
              "      <td>1</td>\n",
              "      <td>77.58</td>\n",
              "      <td>11.42</td>\n",
              "      <td>20.38</td>\n",
              "      <td>386.1</td>\n",
              "      <td>0.14250</td>\n",
              "      <td>0.2414</td>\n",
              "      <td>0.2597</td>\n",
              "      <td>1 (malignant)</td>\n",
              "    </tr>\n",
              "    <tr>\n",
              "      <th>4</th>\n",
              "      <td>1</td>\n",
              "      <td>135.10</td>\n",
              "      <td>20.29</td>\n",
              "      <td>14.34</td>\n",
              "      <td>1297.0</td>\n",
              "      <td>0.10030</td>\n",
              "      <td>0.1980</td>\n",
              "      <td>0.1809</td>\n",
              "      <td>1 (malignant)</td>\n",
              "    </tr>\n",
              "  </tbody>\n",
              "</table>\n",
              "</div>\n",
              "      <button class=\"colab-df-convert\" onclick=\"convertToInteractive('df-48bbe053-27ac-46d1-83d7-08fe35f22024')\"\n",
              "              title=\"Convert this dataframe to an interactive table.\"\n",
              "              style=\"display:none;\">\n",
              "        \n",
              "  <svg xmlns=\"http://www.w3.org/2000/svg\" height=\"24px\"viewBox=\"0 0 24 24\"\n",
              "       width=\"24px\">\n",
              "    <path d=\"M0 0h24v24H0V0z\" fill=\"none\"/>\n",
              "    <path d=\"M18.56 5.44l.94 2.06.94-2.06 2.06-.94-2.06-.94-.94-2.06-.94 2.06-2.06.94zm-11 1L8.5 8.5l.94-2.06 2.06-.94-2.06-.94L8.5 2.5l-.94 2.06-2.06.94zm10 10l.94 2.06.94-2.06 2.06-.94-2.06-.94-.94-2.06-.94 2.06-2.06.94z\"/><path d=\"M17.41 7.96l-1.37-1.37c-.4-.4-.92-.59-1.43-.59-.52 0-1.04.2-1.43.59L10.3 9.45l-7.72 7.72c-.78.78-.78 2.05 0 2.83L4 21.41c.39.39.9.59 1.41.59.51 0 1.02-.2 1.41-.59l7.78-7.78 2.81-2.81c.8-.78.8-2.07 0-2.86zM5.41 20L4 18.59l7.72-7.72 1.47 1.35L5.41 20z\"/>\n",
              "  </svg>\n",
              "      </button>\n",
              "      \n",
              "  <style>\n",
              "    .colab-df-container {\n",
              "      display:flex;\n",
              "      flex-wrap:wrap;\n",
              "      gap: 12px;\n",
              "    }\n",
              "\n",
              "    .colab-df-convert {\n",
              "      background-color: #E8F0FE;\n",
              "      border: none;\n",
              "      border-radius: 50%;\n",
              "      cursor: pointer;\n",
              "      display: none;\n",
              "      fill: #1967D2;\n",
              "      height: 32px;\n",
              "      padding: 0 0 0 0;\n",
              "      width: 32px;\n",
              "    }\n",
              "\n",
              "    .colab-df-convert:hover {\n",
              "      background-color: #E2EBFA;\n",
              "      box-shadow: 0px 1px 2px rgba(60, 64, 67, 0.3), 0px 1px 3px 1px rgba(60, 64, 67, 0.15);\n",
              "      fill: #174EA6;\n",
              "    }\n",
              "\n",
              "    [theme=dark] .colab-df-convert {\n",
              "      background-color: #3B4455;\n",
              "      fill: #D2E3FC;\n",
              "    }\n",
              "\n",
              "    [theme=dark] .colab-df-convert:hover {\n",
              "      background-color: #434B5C;\n",
              "      box-shadow: 0px 1px 3px 1px rgba(0, 0, 0, 0.15);\n",
              "      filter: drop-shadow(0px 1px 2px rgba(0, 0, 0, 0.3));\n",
              "      fill: #FFFFFF;\n",
              "    }\n",
              "  </style>\n",
              "\n",
              "      <script>\n",
              "        const buttonEl =\n",
              "          document.querySelector('#df-48bbe053-27ac-46d1-83d7-08fe35f22024 button.colab-df-convert');\n",
              "        buttonEl.style.display =\n",
              "          google.colab.kernel.accessAllowed ? 'block' : 'none';\n",
              "\n",
              "        async function convertToInteractive(key) {\n",
              "          const element = document.querySelector('#df-48bbe053-27ac-46d1-83d7-08fe35f22024');\n",
              "          const dataTable =\n",
              "            await google.colab.kernel.invokeFunction('convertToInteractive',\n",
              "                                                     [key], {});\n",
              "          if (!dataTable) return;\n",
              "\n",
              "          const docLinkHtml = 'Like what you see? Visit the ' +\n",
              "            '<a target=\"_blank\" href=https://colab.research.google.com/notebooks/data_table.ipynb>data table notebook</a>'\n",
              "            + ' to learn more about interactive tables.';\n",
              "          element.innerHTML = '';\n",
              "          dataTable['output_type'] = 'display_data';\n",
              "          await google.colab.output.renderOutput(dataTable, element);\n",
              "          const docLink = document.createElement('div');\n",
              "          docLink.innerHTML = docLinkHtml;\n",
              "          element.appendChild(docLink);\n",
              "        }\n",
              "      </script>\n",
              "    </div>\n",
              "  </div>\n",
              "  "
            ]
          },
          "metadata": {},
          "execution_count": 18
        },
        {
          "output_type": "display_data",
          "data": {
            "text/plain": [
              "<Figure size 360x360 with 1 Axes>"
            ],
            "image/png": "[encoded data removed]"
          },
          "metadata": {
            "needs_background": "light"
          }
        }
      ]
    },
    {
      "cell_type": "markdown",
      "metadata": {
        "id": "q_UCic0jgpWL"
      },
      "source": [
        "**Discussion Question:** How would you interpret what is going on in the chart above?"
      ]
    },
    {
      "cell_type": "markdown",
      "metadata": {
        "id": "8w8-pnAy2rH7"
      },
      "source": [
        "**Exercise**: Try out some other features (e.g. perimeter_mean, texture_mean, smoothness_mean) to see how they relate to the diagnosis. Which single feature seems like the best predictor?"
      ]
    },
    {
      "cell_type": "markdown",
      "metadata": {
        "id": "CG8x9O6Ohkri"
      },
      "source": [
        "# Predicting Diagnosis\n",
        "\n",
        "Let's start by predicting a diagnosis using a single feature: radius mean. \n"
      ]
    },
    {
      "cell_type": "markdown",
      "metadata": {
        "id": "MvPG8OMglv4U"
      },
      "source": [
        "## Approach 1: Can we use linear regression to classify these cells?\n",
        "\n",
        "Let's start by using an algorithm that we've seen before: linear regression!\n",
        "\n",
        "**Discussion Question: How might linear regression be useful to classify examples from this dataset?**\n"
      ]
    },
    {
      "cell_type": "code",
      "metadata": {
        "id": "LD0WAIB4l3p8",
        "colab": {
          "base_uri": "https://localhost:8080/",
          "height": 297
        },
        "outputId": "1fb160fc-1e17-49aa-cff6-dc82256b9085"
      },
      "source": [
        "#@title Run this to fit and visualize a linear regression (double-click to see code!)\n",
        "from sklearn import linear_model\n",
        "\n",
        "X,y = dataframe[['radius_mean']], dataframe[['diagnosis']]\n",
        "\n",
        "model = linear_model.LinearRegression()\n",
        "model.fit(X, y)\n",
        "preds = model.predict(X)\n",
        "\n",
        "sns.scatterplot(x='radius_mean', y='diagnosis', data=dataframe)\n",
        "plt.plot(X, preds, color='r')\n",
        "plt.legend(['Linear Regression Fit', 'Data'])"
      ],
      "execution_count": null,
      "outputs": [
        {
          "output_type": "execute_result",
          "data": {
            "text/plain": [
              "<matplotlib.legend.Legend at 0x7fab2f3f4390>"
            ]
          },
          "metadata": {},
          "execution_count": 19
        },
        {
          "output_type": "display_data",
          "data": {
            "text/plain": [
              "<Figure size 432x288 with 1 Axes>"
            ],
            "image/png": "[encoded data removed]"
          },
          "metadata": {
            "needs_background": "light"
          }
        }
      ]
    },
    {
      "cell_type": "code",
      "source": [
        "#@title Take a look at the linear regression model and answer the following questions:\n",
        "\n",
        "#@markdown What does a diagnosis of 0.0 mean?\n",
        "diagnosis_0 = \"Choose An Answer\" #@param [\"Malignant\", \"Benign\", \"Choose An Answer\"] \n",
        "\n",
        "#@markdown What does a diagnosis of 1.0 mean?\n",
        "diagnosis_1 = \"Choose An Answer\" #@param [\"Malignant\", \"Benign\", \"Choose An Answer\"] \n",
        "\n",
        "if diagnosis_0 == 'Benign' and diagnosis_1 == 'Malignant':\n",
        "  print(\"Correct! 0.0 is a benign prediction and 1.0 is malignant.\")\n",
        "else:\n",
        "  print(\"One or both of our diagnoses' interpretations is incorrect. Try again!\")"
      ],
      "metadata": {
        "cellView": "form",
        "id": "bLtjD5RxPY28"
      },
      "execution_count": null,
      "outputs": []
    },
    {
      "cell_type": "markdown",
      "metadata": {
        "id": "JQK_tn0xpJ7b"
      },
      "source": [
        "**Discuss: Did this linear regression model do well?** \n",
        "\n",
        "Hint: What would our linear regression model predict for a mean radius of 25? How about 30? Is this an appropriate output?"
      ]
    },
    {
      "cell_type": "markdown",
      "metadata": {
        "id": "85g7Jc9jh95i"
      },
      "source": [
        "##Approach 2: Classification -  Simple Boundary Classifier\n",
        "The variable we are trying to predict is categorical, not continuous! So we can't use a linear regression; we have to use a classifier.\n"
      ]
    },
    {
      "cell_type": "markdown",
      "metadata": {
        "id": "sFG1rBi8zq0n"
      },
      "source": [
        "### Classification is just drawing boundaries!\n",
        "\n",
        "The simplest approach to classification is just drawing a boundary. Let's pick a boundary value for the radius mean and see how well it separates the data."
      ]
    },
    {
      "cell_type": "code",
      "metadata": {
        "id": "1oYBTJsvyaC6",
        "colab": {
          "base_uri": "https://localhost:8080/",
          "height": 386
        },
        "outputId": "37588894-22ac-4a06-9678-1edec42004c6"
      },
      "source": [
        "boundary = 15 # change me!\n",
        "\n",
        "sns.catplot(x = 'radius_mean', y = 'diagnosis_cat', data = dataframe, order=['1 (malignant)', '0 (benign)'])\n",
        "plt.plot([boundary, boundary], [-.2, 1.2], 'g', linewidth = 2)"
      ],
      "execution_count": null,
      "outputs": [
        {
          "output_type": "execute_result",
          "data": {
            "text/plain": [
              "[<matplotlib.lines.Line2D at 0x7fab2f35a810>]"
            ]
          },
          "metadata": {},
          "execution_count": 20
        },
        {
          "output_type": "display_data",
          "data": {
            "text/plain": [
              "<Figure size 360x360 with 1 Axes>"
            ],
            "image/png": "[encoded data removed]"
          },
          "metadata": {
            "needs_background": "light"
          }
        }
      ]
    },
    {
      "cell_type": "markdown",
      "metadata": {
        "id": "hXww4S6cNeo7"
      },
      "source": [
        "**Question:** Does this boundary value separate the data well? What do the points in each part of the graph represent?\n"
      ]
    },
    {
      "cell_type": "markdown",
      "metadata": {
        "id": "6ZmcQ_vGWZnR"
      },
      "source": [
        "### Building the boundary classifier\n",
        "\n",
        "Here we build a boundary classifier function that takes in a **target boundary**: a particular value of radius mean. This function will take in a boundary value of our choosing and then classify the data points based on whether or not they are above or below the boundary.\n",
        "\n",
        "**Exercise: Write a function to implement a boundary classifier.** You'll take in a `target_boundary` (a `float` or `int` like 15) and a `radius_mean_series` (a list of values) and return a list of predictions! "
      ]
    },
    {
      "cell_type": "code",
      "metadata": {
        "id": "-Vc2zc5QTel4"
      },
      "source": [
        "def boundary_classifier(target_boundary, radius_mean_series):\n",
        "  result = [] #fill this in with predictions!\n",
        "  # YOUR CODE HERE\n",
        "  for i in radius_mean_series:\n",
        "    if i<target_boundary:\n",
        "      result.append(0)\n",
        "    else:\n",
        "      result.append(1)\n",
        "  return result"
      ],
      "execution_count": null,
      "outputs": []
    },
    {
      "cell_type": "markdown",
      "metadata": {
        "id": "kBttJRoNYYdJ"
      },
      "source": [
        "The code below chooses a boundary and runs your classifer."
      ]
    },
    {
      "cell_type": "code",
      "metadata": {
        "id": "0PiRMX-xKjiA",
        "colab": {
          "base_uri": "https://localhost:8080/",
          "height": 386
        },
        "outputId": "17b2292c-05ec-4789-814e-5be15f059a04"
      },
      "source": [
        "chosen_boundary = 15 #Try changing this!\n",
        "\n",
        "y_pred = boundary_classifier(chosen_boundary, dataframe['radius_mean'])\n",
        "dataframe['predicted'] = y_pred\n",
        "\n",
        "y_true = dataframe['diagnosis']\n",
        "\n",
        "sns.catplot(x = 'radius_mean', y = 'diagnosis_cat', hue = 'predicted', data = dataframe, order=['1 (malignant)', '0 (benign)'])\n",
        "plt.plot([chosen_boundary, chosen_boundary], [-.2, 1.2], 'g', linewidth = 2)"
      ],
      "execution_count": null,
      "outputs": [
        {
          "output_type": "execute_result",
          "data": {
            "text/plain": [
              "[<matplotlib.lines.Line2D at 0x7fab2f1955d0>]"
            ]
          },
          "metadata": {},
          "execution_count": 33
        },
        {
          "output_type": "display_data",
          "data": {
            "text/plain": [
              "<Figure size 415.375x360 with 1 Axes>"
            ],
            "image/png": "[encoded data removed]"
          },
          "metadata": {
            "needs_background": "light"
          }
        }
      ]
    },
    {
      "cell_type": "markdown",
      "metadata": {
        "id": "esZdsGm69ZSV"
      },
      "source": [
        "What do you think of the results based on the graph?\n",
        "\n",
        "We can take a look at `y_true` and `y_pred` - how similar do they look?"
      ]
    },
    {
      "cell_type": "code",
      "metadata": {
        "id": "2ZNaOVm-9cxb",
        "colab": {
          "base_uri": "https://localhost:8080/"
        },
        "outputId": "bcff6f79-3951-49cc-cd61-3659a4d5296a"
      },
      "source": [
        "print (list(y_true))\n",
        "print (y_pred)"
      ],
      "execution_count": null,
      "outputs": [
        {
          "output_type": "stream",
          "name": "stdout",
          "text": [
            "[1, 1, 1, 1, 1, 1, 1, 1, 1, 1, 1, 1, 1, 1, 1, 1, 1, 1, 1, 0, 0, 0, 1, 1, 1, 1, 1, 1, 1, 1, 1, 1, 1, 1, 1, 1, 1, 0, 1, 1, 1, 1, 1, 1, 1, 1, 0, 1, 0, 0, 0, 0, 0, 1, 1, 0, 1, 1, 0, 0, 0, 0, 1, 0, 1, 1, 0, 0, 0, 0, 1, 0, 1, 1, 0, 1, 0, 1, 1, 0, 0, 0, 1, 1, 0, 1, 1, 1, 0, 0, 0, 1, 0, 0, 1, 1, 0, 0, 0, 1, 1, 0, 0, 0, 0, 1, 0, 0, 1, 0, 0, 0, 0, 0, 0, 0, 0, 1, 1, 1, 0, 1, 1, 0, 0, 0, 1, 1, 0, 1, 0, 1, 1, 0, 1, 1, 0, 0, 1, 0, 0, 1, 0, 0, 0, 0, 1, 0, 0, 0, 0, 0, 0, 0, 0, 0, 1, 0, 0, 0, 0, 1, 1, 0, 1, 0, 0, 1, 1, 0, 0, 1, 1, 0, 0, 0, 0, 1, 0, 0, 1, 1, 1, 0, 1, 0, 1, 0, 0, 0, 1, 0, 0, 1, 1, 0, 1, 1, 1, 1, 0, 1, 1, 1, 0, 1, 0, 1, 0, 0, 1, 0, 1, 1, 1, 1, 0, 0, 1, 1, 0, 0, 0, 1, 0, 0, 0, 0, 0, 1, 1, 0, 0, 1, 0, 0, 1, 1, 0, 1, 0, 0, 0, 0, 1, 0, 0, 0, 0, 0, 1, 0, 1, 1, 1, 1, 1, 1, 1, 1, 1, 1, 1, 1, 1, 1, 0, 0, 0, 0, 0, 0, 1, 0, 1, 0, 0, 1, 0, 0, 1, 0, 1, 1, 0, 0, 0, 0, 0, 0, 0, 0, 0, 0, 0, 0, 0, 1, 0, 0, 1, 0, 1, 0, 0, 0, 0, 0, 0, 0, 0, 0, 0, 0, 0, 0, 0, 1, 0, 0, 0, 1, 0, 1, 0, 0, 0, 0, 1, 1, 1, 0, 0, 0, 0, 1, 0, 1, 0, 1, 0, 0, 0, 1, 0, 0, 0, 0, 0, 0, 0, 1, 1, 1, 0, 0, 0, 0, 0, 0, 0, 0, 0, 0, 0, 1, 1, 0, 1, 1, 1, 0, 1, 1, 0, 0, 0, 0, 0, 1, 0, 0, 0, 0, 0, 1, 0, 0, 0, 1, 0, 0, 1, 1, 0, 0, 0, 0, 0, 0, 1, 0, 0, 0, 0, 0, 0, 0, 1, 0, 0, 0, 0, 0, 1, 0, 0, 1, 0, 0, 0, 0, 0, 0, 0, 0, 0, 0, 0, 0, 1, 0, 1, 1, 0, 1, 0, 0, 0, 0, 0, 1, 0, 0, 1, 0, 1, 0, 0, 1, 0, 1, 0, 0, 0, 0, 0, 0, 0, 0, 1, 1, 0, 0, 0, 0, 0, 0, 1, 0, 0, 0, 0, 0, 0, 0, 0, 0, 0, 1, 0, 0, 0, 0, 0, 0, 0, 1, 0, 1, 0, 0, 1, 0, 0, 0, 0, 0, 1, 1, 0, 1, 0, 1, 0, 0, 0, 0, 0, 1, 0, 0, 1, 0, 1, 0, 1, 1, 0, 0, 0, 1, 0, 0, 0, 0, 0, 0, 0, 0, 0, 0, 0, 1, 0, 1, 1, 0, 0, 0, 0, 0, 0, 0, 0, 0, 0, 0, 0, 0, 0, 0, 0, 0, 0, 0, 0, 0, 0, 0, 0, 0, 1, 1, 1, 1, 1, 1, 0]\n",
            "[1, 1, 1, 0, 1, 0, 1, 0, 0, 0, 1, 1, 1, 1, 0, 0, 0, 1, 1, 0, 0, 0, 1, 1, 1, 1, 0, 1, 1, 1, 1, 0, 1, 1, 1, 1, 0, 0, 0, 0, 0, 0, 1, 0, 0, 1, 0, 0, 0, 0, 0, 0, 0, 1, 1, 0, 1, 0, 0, 0, 0, 0, 0, 0, 0, 0, 0, 0, 0, 0, 1, 0, 1, 0, 0, 1, 0, 1, 1, 0, 0, 0, 1, 1, 0, 1, 0, 1, 0, 0, 0, 1, 0, 0, 1, 1, 0, 0, 0, 0, 0, 0, 0, 0, 0, 0, 0, 0, 1, 0, 0, 0, 0, 0, 0, 0, 0, 0, 1, 1, 0, 1, 1, 0, 0, 0, 0, 1, 1, 1, 0, 1, 1, 1, 1, 0, 0, 0, 0, 0, 0, 1, 0, 0, 0, 0, 0, 0, 0, 0, 0, 0, 0, 0, 0, 0, 1, 1, 0, 0, 0, 1, 1, 0, 1, 0, 0, 1, 1, 0, 0, 0, 1, 0, 0, 0, 0, 1, 0, 0, 1, 1, 1, 0, 1, 0, 1, 0, 0, 0, 0, 0, 0, 0, 0, 0, 0, 1, 1, 0, 0, 1, 1, 0, 0, 1, 0, 1, 0, 1, 1, 0, 1, 1, 0, 0, 0, 0, 1, 1, 0, 0, 0, 1, 0, 0, 0, 1, 0, 0, 1, 0, 0, 1, 0, 0, 1, 1, 0, 1, 0, 0, 0, 0, 1, 0, 0, 0, 0, 0, 1, 0, 1, 1, 1, 0, 1, 1, 1, 1, 1, 1, 1, 1, 1, 1, 0, 0, 0, 0, 0, 0, 1, 0, 1, 0, 0, 1, 0, 0, 1, 0, 1, 1, 0, 0, 0, 0, 0, 0, 0, 0, 0, 0, 0, 0, 0, 0, 0, 0, 1, 0, 1, 0, 0, 0, 0, 0, 0, 0, 0, 0, 0, 0, 0, 0, 0, 1, 0, 0, 0, 1, 0, 1, 0, 0, 0, 0, 1, 1, 1, 0, 0, 0, 0, 1, 0, 1, 0, 1, 0, 0, 0, 1, 0, 0, 0, 0, 0, 0, 0, 1, 1, 1, 0, 0, 0, 0, 0, 0, 0, 0, 0, 1, 0, 1, 1, 0, 1, 1, 1, 1, 1, 1, 0, 1, 0, 0, 0, 0, 0, 0, 0, 0, 0, 0, 0, 0, 0, 1, 0, 0, 1, 1, 0, 0, 0, 0, 0, 0, 1, 0, 0, 0, 0, 0, 1, 0, 1, 0, 0, 0, 0, 0, 1, 0, 0, 1, 0, 0, 0, 0, 0, 0, 0, 0, 0, 0, 0, 0, 0, 0, 1, 1, 0, 0, 0, 0, 0, 0, 0, 1, 0, 0, 1, 0, 1, 0, 0, 1, 0, 1, 0, 0, 0, 0, 0, 0, 0, 0, 1, 1, 0, 0, 0, 0, 0, 0, 1, 0, 0, 0, 0, 0, 0, 0, 0, 0, 0, 1, 0, 0, 0, 0, 1, 0, 0, 1, 0, 1, 0, 1, 1, 0, 0, 0, 0, 0, 1, 1, 1, 0, 0, 1, 0, 0, 0, 0, 1, 1, 0, 0, 0, 0, 1, 0, 1, 1, 0, 0, 0, 1, 0, 0, 0, 0, 0, 0, 0, 0, 0, 0, 0, 1, 0, 1, 0, 0, 0, 0, 0, 0, 0, 0, 0, 0, 0, 0, 0, 0, 0, 0, 0, 0, 0, 0, 0, 0, 0, 0, 0, 0, 1, 1, 1, 1, 1, 1, 0]\n"
          ]
        }
      ]
    },
    {
      "cell_type": "markdown",
      "metadata": {
        "id": "y-038BKC9ntz"
      },
      "source": [
        "Let's calculate our accuracy!"
      ]
    },
    {
      "cell_type": "code",
      "metadata": {
        "id": "Ro6toAITfrp1",
        "colab": {
          "base_uri": "https://localhost:8080/"
        },
        "outputId": "fd226b3e-8fa9-461d-fcae-5f1d77248b82"
      },
      "source": [
        "accuracy = accuracy_score(y_true,y_pred)\n",
        "print(accuracy)"
      ],
      "execution_count": null,
      "outputs": [
        {
          "output_type": "stream",
          "name": "stdout",
          "text": [
            "0.8875219683655536\n"
          ]
        }
      ]
    },
    {
      "cell_type": "markdown",
      "metadata": {
        "id": "pkVDw3wHZMD_"
      },
      "source": [
        "**Now adjust the chosen boundary above to get the best possible 'separation'.** As you do that, think about what it means for a separation to be 'good' - is it just the highest accuracy? "
      ]
    },
    {
      "cell_type": "markdown",
      "metadata": {
        "id": "sHhZeAbdupMl"
      },
      "source": [
        "##Approach 3: Logistic Regression - using machine learning to determine the optimal boundary\n"
      ]
    },
    {
      "cell_type": "markdown",
      "metadata": {
        "id": "69c2JKp8Mxwi"
      },
      "source": [
        "\n",
        "Now, it's time to move away from our simple guess-and-check model and work towards implementing an approach that can automatically find a better separation. One of the most common methods for this is called 'Logistic Regression'. "
      ]
    },
    {
      "cell_type": "markdown",
      "metadata": {
        "id": "ZJfT1x60fZxd"
      },
      "source": [
        "### Training Data vs Test Data\n",
        "\n",
        "We'll split up our data set into groups called 'train' and 'test'. We teach our 'model' the patterns using the train data, but the whole point of machine learning is that our prediction should work on 'unseen' data or 'test' data. \n",
        "\n",
        "The function below does this for you. \n"
      ]
    },
    {
      "cell_type": "code",
      "metadata": {
        "id": "krQ6dJo-5yek"
      },
      "source": [
        "from sklearn.model_selection import train_test_split\n",
        "\n",
        "train_df, test_df = train_test_split(dataframe, test_size = 0.2, random_state = 1)"
      ],
      "execution_count": null,
      "outputs": []
    },
    {
      "cell_type": "markdown",
      "metadata": {
        "id": "OOECnkKBf_tD"
      },
      "source": [
        "Let's now take a look at the 'train' and 'test' groups:\n"
      ]
    },
    {
      "cell_type": "code",
      "metadata": {
        "id": "wDYAAl6xgPYO",
        "colab": {
          "base_uri": "https://localhost:8080/",
          "height": 224
        },
        "outputId": "3abcc250-9b77-4d70-bf67-df1e049af6b3"
      },
      "source": [
        "print('Number of rows in training dataframe:', train_df.shape[0])\n",
        "train_df.head()"
      ],
      "execution_count": null,
      "outputs": [
        {
          "output_type": "stream",
          "name": "stdout",
          "text": [
            "Number of rows in training dataframe: 455\n"
          ]
        },
        {
          "output_type": "execute_result",
          "data": {
            "text/plain": [
              "     diagnosis  perimeter_mean  radius_mean  texture_mean  area_mean  \\\n",
              "408          1          117.80        17.99         20.66      991.7   \n",
              "4            1          135.10        20.29         14.34     1297.0   \n",
              "307          0           56.36         9.00         14.40      246.3   \n",
              "386          0           78.78        12.21         14.09      462.0   \n",
              "404          0           78.29        12.34         14.95      469.1   \n",
              "\n",
              "     smoothness_mean  concavity_mean  symmetry_mean  diagnosis_cat  predicted  \n",
              "408          0.10360        0.120100         0.1992  1 (malignant)          1  \n",
              "4            0.10030        0.198000         0.1809  1 (malignant)          1  \n",
              "307          0.07005        0.003681         0.1788     0 (benign)          0  \n",
              "386          0.08108        0.068390         0.1646     0 (benign)          0  \n",
              "404          0.08682        0.021090         0.1571     0 (benign)          0  "
            ],
            "text/html": [
              "\n",
              "  <div id=\"df-328e2393-981a-44f0-a42a-beaa774be66a\">\n",
              "    <div class=\"colab-df-container\">\n",
              "      <div>\n",
              "<style scoped>\n",
              "    .dataframe tbody tr th:only-of-type {\n",
              "        vertical-align: middle;\n",
              "    }\n",
              "\n",
              "    .dataframe tbody tr th {\n",
              "        vertical-align: top;\n",
              "    }\n",
              "\n",
              "    .dataframe thead th {\n",
              "        text-align: right;\n",
              "    }\n",
              "</style>\n",
              "<table border=\"1\" class=\"dataframe\">\n",
              "  <thead>\n",
              "    <tr style=\"text-align: right;\">\n",
              "      <th></th>\n",
              "      <th>diagnosis</th>\n",
              "      <th>perimeter_mean</th>\n",
              "      <th>radius_mean</th>\n",
              "      <th>texture_mean</th>\n",
              "      <th>area_mean</th>\n",
              "      <th>smoothness_mean</th>\n",
              "      <th>concavity_mean</th>\n",
              "      <th>symmetry_mean</th>\n",
              "      <th>diagnosis_cat</th>\n",
              "      <th>predicted</th>\n",
              "    </tr>\n",
              "  </thead>\n",
              "  <tbody>\n",
              "    <tr>\n",
              "      <th>408</th>\n",
              "      <td>1</td>\n",
              "      <td>117.80</td>\n",
              "      <td>17.99</td>\n",
              "      <td>20.66</td>\n",
              "      <td>991.7</td>\n",
              "      <td>0.10360</td>\n",
              "      <td>0.120100</td>\n",
              "      <td>0.1992</td>\n",
              "      <td>1 (malignant)</td>\n",
              "      <td>1</td>\n",
              "    </tr>\n",
              "    <tr>\n",
              "      <th>4</th>\n",
              "      <td>1</td>\n",
              "      <td>135.10</td>\n",
              "      <td>20.29</td>\n",
              "      <td>14.34</td>\n",
              "      <td>1297.0</td>\n",
              "      <td>0.10030</td>\n",
              "      <td>0.198000</td>\n",
              "      <td>0.1809</td>\n",
              "      <td>1 (malignant)</td>\n",
              "      <td>1</td>\n",
              "    </tr>\n",
              "    <tr>\n",
              "      <th>307</th>\n",
              "      <td>0</td>\n",
              "      <td>56.36</td>\n",
              "      <td>9.00</td>\n",
              "      <td>14.40</td>\n",
              "      <td>246.3</td>\n",
              "      <td>0.07005</td>\n",
              "      <td>0.003681</td>\n",
              "      <td>0.1788</td>\n",
              "      <td>0 (benign)</td>\n",
              "      <td>0</td>\n",
              "    </tr>\n",
              "    <tr>\n",
              "      <th>386</th>\n",
              "      <td>0</td>\n",
              "      <td>78.78</td>\n",
              "      <td>12.21</td>\n",
              "      <td>14.09</td>\n",
              "      <td>462.0</td>\n",
              "      <td>0.08108</td>\n",
              "      <td>0.068390</td>\n",
              "      <td>0.1646</td>\n",
              "      <td>0 (benign)</td>\n",
              "      <td>0</td>\n",
              "    </tr>\n",
              "    <tr>\n",
              "      <th>404</th>\n",
              "      <td>0</td>\n",
              "      <td>78.29</td>\n",
              "      <td>12.34</td>\n",
              "      <td>14.95</td>\n",
              "      <td>469.1</td>\n",
              "      <td>0.08682</td>\n",
              "      <td>0.021090</td>\n",
              "      <td>0.1571</td>\n",
              "      <td>0 (benign)</td>\n",
              "      <td>0</td>\n",
              "    </tr>\n",
              "  </tbody>\n",
              "</table>\n",
              "</div>\n",
              "      <button class=\"colab-df-convert\" onclick=\"convertToInteractive('df-328e2393-981a-44f0-a42a-beaa774be66a')\"\n",
              "              title=\"Convert this dataframe to an interactive table.\"\n",
              "              style=\"display:none;\">\n",
              "        \n",
              "  <svg xmlns=\"http://www.w3.org/2000/svg\" height=\"24px\"viewBox=\"0 0 24 24\"\n",
              "       width=\"24px\">\n",
              "    <path d=\"M0 0h24v24H0V0z\" fill=\"none\"/>\n",
              "    <path d=\"M18.56 5.44l.94 2.06.94-2.06 2.06-.94-2.06-.94-.94-2.06-.94 2.06-2.06.94zm-11 1L8.5 8.5l.94-2.06 2.06-.94-2.06-.94L8.5 2.5l-.94 2.06-2.06.94zm10 10l.94 2.06.94-2.06 2.06-.94-2.06-.94-.94-2.06-.94 2.06-2.06.94z\"/><path d=\"M17.41 7.96l-1.37-1.37c-.4-.4-.92-.59-1.43-.59-.52 0-1.04.2-1.43.59L10.3 9.45l-7.72 7.72c-.78.78-.78 2.05 0 2.83L4 21.41c.39.39.9.59 1.41.59.51 0 1.02-.2 1.41-.59l7.78-7.78 2.81-2.81c.8-.78.8-2.07 0-2.86zM5.41 20L4 18.59l7.72-7.72 1.47 1.35L5.41 20z\"/>\n",
              "  </svg>\n",
              "      </button>\n",
              "      \n",
              "  <style>\n",
              "    .colab-df-container {\n",
              "      display:flex;\n",
              "      flex-wrap:wrap;\n",
              "      gap: 12px;\n",
              "    }\n",
              "\n",
              "    .colab-df-convert {\n",
              "      background-color: #E8F0FE;\n",
              "      border: none;\n",
              "      border-radius: 50%;\n",
              "      cursor: pointer;\n",
              "      display: none;\n",
              "      fill: #1967D2;\n",
              "      height: 32px;\n",
              "      padding: 0 0 0 0;\n",
              "      width: 32px;\n",
              "    }\n",
              "\n",
              "    .colab-df-convert:hover {\n",
              "      background-color: #E2EBFA;\n",
              "      box-shadow: 0px 1px 2px rgba(60, 64, 67, 0.3), 0px 1px 3px 1px rgba(60, 64, 67, 0.15);\n",
              "      fill: #174EA6;\n",
              "    }\n",
              "\n",
              "    [theme=dark] .colab-df-convert {\n",
              "      background-color: #3B4455;\n",
              "      fill: #D2E3FC;\n",
              "    }\n",
              "\n",
              "    [theme=dark] .colab-df-convert:hover {\n",
              "      background-color: #434B5C;\n",
              "      box-shadow: 0px 1px 3px 1px rgba(0, 0, 0, 0.15);\n",
              "      filter: drop-shadow(0px 1px 2px rgba(0, 0, 0, 0.3));\n",
              "      fill: #FFFFFF;\n",
              "    }\n",
              "  </style>\n",
              "\n",
              "      <script>\n",
              "        const buttonEl =\n",
              "          document.querySelector('#df-328e2393-981a-44f0-a42a-beaa774be66a button.colab-df-convert');\n",
              "        buttonEl.style.display =\n",
              "          google.colab.kernel.accessAllowed ? 'block' : 'none';\n",
              "\n",
              "        async function convertToInteractive(key) {\n",
              "          const element = document.querySelector('#df-328e2393-981a-44f0-a42a-beaa774be66a');\n",
              "          const dataTable =\n",
              "            await google.colab.kernel.invokeFunction('convertToInteractive',\n",
              "                                                     [key], {});\n",
              "          if (!dataTable) return;\n",
              "\n",
              "          const docLinkHtml = 'Like what you see? Visit the ' +\n",
              "            '<a target=\"_blank\" href=https://colab.research.google.com/notebooks/data_table.ipynb>data table notebook</a>'\n",
              "            + ' to learn more about interactive tables.';\n",
              "          element.innerHTML = '';\n",
              "          dataTable['output_type'] = 'display_data';\n",
              "          await google.colab.output.renderOutput(dataTable, element);\n",
              "          const docLink = document.createElement('div');\n",
              "          docLink.innerHTML = docLinkHtml;\n",
              "          element.appendChild(docLink);\n",
              "        }\n",
              "      </script>\n",
              "    </div>\n",
              "  </div>\n",
              "  "
            ]
          },
          "metadata": {},
          "execution_count": 37
        }
      ]
    },
    {
      "cell_type": "code",
      "metadata": {
        "id": "EMornfXPhzli",
        "colab": {
          "base_uri": "https://localhost:8080/",
          "height": 224
        },
        "outputId": "57310d33-658e-49ca-90a2-20d894a9512a"
      },
      "source": [
        "print('Number of rows in test dataframe:', test_df.shape[0])\n",
        "test_df.head()"
      ],
      "execution_count": null,
      "outputs": [
        {
          "output_type": "stream",
          "name": "stdout",
          "text": [
            "Number of rows in test dataframe: 114\n"
          ]
        },
        {
          "output_type": "execute_result",
          "data": {
            "text/plain": [
              "     diagnosis  perimeter_mean  radius_mean  texture_mean  area_mean  \\\n",
              "421          0           98.22        14.69         13.98      656.1   \n",
              "47           1           85.98        13.17         18.66      534.6   \n",
              "292          0           83.14        12.95         16.02      513.7   \n",
              "186          1          118.60        18.31         18.58     1041.0   \n",
              "414          1           96.71        15.13         29.81      719.5   \n",
              "\n",
              "     smoothness_mean  concavity_mean  symmetry_mean  diagnosis_cat  predicted  \n",
              "421          0.10310         0.14500         0.2086     0 (benign)          0  \n",
              "47           0.11580         0.12260         0.2128  1 (malignant)          0  \n",
              "292          0.10050         0.06155         0.1730     0 (benign)          0  \n",
              "186          0.08588         0.08169         0.1621  1 (malignant)          1  \n",
              "414          0.08320         0.04686         0.1852  1 (malignant)          1  "
            ],
            "text/html": [
              "\n",
              "  <div id=\"df-c8f6525f-9f85-4d88-b220-9073a80bd7cc\">\n",
              "    <div class=\"colab-df-container\">\n",
              "      <div>\n",
              "<style scoped>\n",
              "    .dataframe tbody tr th:only-of-type {\n",
              "        vertical-align: middle;\n",
              "    }\n",
              "\n",
              "    .dataframe tbody tr th {\n",
              "        vertical-align: top;\n",
              "    }\n",
              "\n",
              "    .dataframe thead th {\n",
              "        text-align: right;\n",
              "    }\n",
              "</style>\n",
              "<table border=\"1\" class=\"dataframe\">\n",
              "  <thead>\n",
              "    <tr style=\"text-align: right;\">\n",
              "      <th></th>\n",
              "      <th>diagnosis</th>\n",
              "      <th>perimeter_mean</th>\n",
              "      <th>radius_mean</th>\n",
              "      <th>texture_mean</th>\n",
              "      <th>area_mean</th>\n",
              "      <th>smoothness_mean</th>\n",
              "      <th>concavity_mean</th>\n",
              "      <th>symmetry_mean</th>\n",
              "      <th>diagnosis_cat</th>\n",
              "      <th>predicted</th>\n",
              "    </tr>\n",
              "  </thead>\n",
              "  <tbody>\n",
              "    <tr>\n",
              "      <th>421</th>\n",
              "      <td>0</td>\n",
              "      <td>98.22</td>\n",
              "      <td>14.69</td>\n",
              "      <td>13.98</td>\n",
              "      <td>656.1</td>\n",
              "      <td>0.10310</td>\n",
              "      <td>0.14500</td>\n",
              "      <td>0.2086</td>\n",
              "      <td>0 (benign)</td>\n",
              "      <td>0</td>\n",
              "    </tr>\n",
              "    <tr>\n",
              "      <th>47</th>\n",
              "      <td>1</td>\n",
              "      <td>85.98</td>\n",
              "      <td>13.17</td>\n",
              "      <td>18.66</td>\n",
              "      <td>534.6</td>\n",
              "      <td>0.11580</td>\n",
              "      <td>0.12260</td>\n",
              "      <td>0.2128</td>\n",
              "      <td>1 (malignant)</td>\n",
              "      <td>0</td>\n",
              "    </tr>\n",
              "    <tr>\n",
              "      <th>292</th>\n",
              "      <td>0</td>\n",
              "      <td>83.14</td>\n",
              "      <td>12.95</td>\n",
              "      <td>16.02</td>\n",
              "      <td>513.7</td>\n",
              "      <td>0.10050</td>\n",
              "      <td>0.06155</td>\n",
              "      <td>0.1730</td>\n",
              "      <td>0 (benign)</td>\n",
              "      <td>0</td>\n",
              "    </tr>\n",
              "    <tr>\n",
              "      <th>186</th>\n",
              "      <td>1</td>\n",
              "      <td>118.60</td>\n",
              "      <td>18.31</td>\n",
              "      <td>18.58</td>\n",
              "      <td>1041.0</td>\n",
              "      <td>0.08588</td>\n",
              "      <td>0.08169</td>\n",
              "      <td>0.1621</td>\n",
              "      <td>1 (malignant)</td>\n",
              "      <td>1</td>\n",
              "    </tr>\n",
              "    <tr>\n",
              "      <th>414</th>\n",
              "      <td>1</td>\n",
              "      <td>96.71</td>\n",
              "      <td>15.13</td>\n",
              "      <td>29.81</td>\n",
              "      <td>719.5</td>\n",
              "      <td>0.08320</td>\n",
              "      <td>0.04686</td>\n",
              "      <td>0.1852</td>\n",
              "      <td>1 (malignant)</td>\n",
              "      <td>1</td>\n",
              "    </tr>\n",
              "  </tbody>\n",
              "</table>\n",
              "</div>\n",
              "      <button class=\"colab-df-convert\" onclick=\"convertToInteractive('df-c8f6525f-9f85-4d88-b220-9073a80bd7cc')\"\n",
              "              title=\"Convert this dataframe to an interactive table.\"\n",
              "              style=\"display:none;\">\n",
              "        \n",
              "  <svg xmlns=\"http://www.w3.org/2000/svg\" height=\"24px\"viewBox=\"0 0 24 24\"\n",
              "       width=\"24px\">\n",
              "    <path d=\"M0 0h24v24H0V0z\" fill=\"none\"/>\n",
              "    <path d=\"M18.56 5.44l.94 2.06.94-2.06 2.06-.94-2.06-.94-.94-2.06-.94 2.06-2.06.94zm-11 1L8.5 8.5l.94-2.06 2.06-.94-2.06-.94L8.5 2.5l-.94 2.06-2.06.94zm10 10l.94 2.06.94-2.06 2.06-.94-2.06-.94-.94-2.06-.94 2.06-2.06.94z\"/><path d=\"M17.41 7.96l-1.37-1.37c-.4-.4-.92-.59-1.43-.59-.52 0-1.04.2-1.43.59L10.3 9.45l-7.72 7.72c-.78.78-.78 2.05 0 2.83L4 21.41c.39.39.9.59 1.41.59.51 0 1.02-.2 1.41-.59l7.78-7.78 2.81-2.81c.8-.78.8-2.07 0-2.86zM5.41 20L4 18.59l7.72-7.72 1.47 1.35L5.41 20z\"/>\n",
              "  </svg>\n",
              "      </button>\n",
              "      \n",
              "  <style>\n",
              "    .colab-df-container {\n",
              "      display:flex;\n",
              "      flex-wrap:wrap;\n",
              "      gap: 12px;\n",
              "    }\n",
              "\n",
              "    .colab-df-convert {\n",
              "      background-color: #E8F0FE;\n",
              "      border: none;\n",
              "      border-radius: 50%;\n",
              "      cursor: pointer;\n",
              "      display: none;\n",
              "      fill: #1967D2;\n",
              "      height: 32px;\n",
              "      padding: 0 0 0 0;\n",
              "      width: 32px;\n",
              "    }\n",
              "\n",
              "    .colab-df-convert:hover {\n",
              "      background-color: #E2EBFA;\n",
              "      box-shadow: 0px 1px 2px rgba(60, 64, 67, 0.3), 0px 1px 3px 1px rgba(60, 64, 67, 0.15);\n",
              "      fill: #174EA6;\n",
              "    }\n",
              "\n",
              "    [theme=dark] .colab-df-convert {\n",
              "      background-color: #3B4455;\n",
              "      fill: #D2E3FC;\n",
              "    }\n",
              "\n",
              "    [theme=dark] .colab-df-convert:hover {\n",
              "      background-color: #434B5C;\n",
              "      box-shadow: 0px 1px 3px 1px rgba(0, 0, 0, 0.15);\n",
              "      filter: drop-shadow(0px 1px 2px rgba(0, 0, 0, 0.3));\n",
              "      fill: #FFFFFF;\n",
              "    }\n",
              "  </style>\n",
              "\n",
              "      <script>\n",
              "        const buttonEl =\n",
              "          document.querySelector('#df-c8f6525f-9f85-4d88-b220-9073a80bd7cc button.colab-df-convert');\n",
              "        buttonEl.style.display =\n",
              "          google.colab.kernel.accessAllowed ? 'block' : 'none';\n",
              "\n",
              "        async function convertToInteractive(key) {\n",
              "          const element = document.querySelector('#df-c8f6525f-9f85-4d88-b220-9073a80bd7cc');\n",
              "          const dataTable =\n",
              "            await google.colab.kernel.invokeFunction('convertToInteractive',\n",
              "                                                     [key], {});\n",
              "          if (!dataTable) return;\n",
              "\n",
              "          const docLinkHtml = 'Like what you see? Visit the ' +\n",
              "            '<a target=\"_blank\" href=https://colab.research.google.com/notebooks/data_table.ipynb>data table notebook</a>'\n",
              "            + ' to learn more about interactive tables.';\n",
              "          element.innerHTML = '';\n",
              "          dataTable['output_type'] = 'display_data';\n",
              "          await google.colab.output.renderOutput(dataTable, element);\n",
              "          const docLink = document.createElement('div');\n",
              "          docLink.innerHTML = docLinkHtml;\n",
              "          element.appendChild(docLink);\n",
              "        }\n",
              "      </script>\n",
              "    </div>\n",
              "  </div>\n",
              "  "
            ]
          },
          "metadata": {},
          "execution_count": 38
        }
      ]
    },
    {
      "cell_type": "markdown",
      "metadata": {
        "id": "0WuOmB45g1-B"
      },
      "source": [
        "### Single Variable Logistic Regression\n",
        "To start with, let's set our input feature to be radius mean and our output variable to be the diagnosis. \n",
        "\n",
        "We will use this to build a logistic regression model to predict the diagnosis using radius mean."
      ]
    },
    {
      "cell_type": "code",
      "metadata": {
        "id": "chesGAaKNVON",
        "colab": {
          "base_uri": "https://localhost:8080/"
        },
        "outputId": "a4990df2-3fa5-4af0-b008-1d90b95cd2c7"
      },
      "source": [
        "X = ['radius_mean']\n",
        "y = 'diagnosis'\n",
        "\n",
        "X_train = train_df[X]\n",
        "print('X_train, our input variables:')\n",
        "print(X_train.head())\n",
        "print()\n",
        "\n",
        "y_train = train_df[y]\n",
        "print('y_train, our output variable:')\n",
        "print(y_train.head())"
      ],
      "execution_count": null,
      "outputs": [
        {
          "output_type": "stream",
          "name": "stdout",
          "text": [
            "X_train, our input variables:\n",
            "     radius_mean\n",
            "408        17.99\n",
            "4          20.29\n",
            "307         9.00\n",
            "386        12.21\n",
            "404        12.34\n",
            "\n",
            "y_train, our output variable:\n",
            "408    1\n",
            "4      1\n",
            "307    0\n",
            "386    0\n",
            "404    0\n",
            "Name: diagnosis, dtype: int64\n"
          ]
        }
      ]
    },
    {
      "cell_type": "markdown",
      "metadata": {
        "id": "_ChOPgKIi6pI"
      },
      "source": [
        "**Discuss:** What's the difference between X_train and y_train?\n",
        "\n",
        "Now, let's prepare our model (we haven't trained it yet):"
      ]
    },
    {
      "cell_type": "code",
      "metadata": {
        "id": "kj1LIpVT6SwY"
      },
      "source": [
        "# Here, we create a 'reg' object that handles the line fitting for us!\n",
        "logreg_model = linear_model.LogisticRegression()"
      ],
      "execution_count": null,
      "outputs": []
    },
    {
      "cell_type": "markdown",
      "metadata": {
        "id": "shsboaDEjSC_"
      },
      "source": [
        "###Making Predictions\n",
        "\n",
        "Next, we want to tell our 'logreg_model' object to take in our inputs (X) and our true labels (y) and fit a line that predicts y from X.\n",
        "\n",
        "**Exercise:** Can you place the arguments `X_train` and `y_train` correctly into this function to do this?\n",
        "\n",
        "`logreg_model.fit(FILL_ME_IN, FILL_ME_IN)`\n"
      ]
    },
    {
      "cell_type": "code",
      "metadata": {
        "id": "NfV0t3bqjtum",
        "colab": {
          "base_uri": "https://localhost:8080/"
        },
        "outputId": "dce4a9c4-80cf-4a0d-a685-2d046c491bd2"
      },
      "source": [
        "### YOUR CODE HERE\n",
        "logreg_model.fit(X_train, y_train)\n",
        "### END CODE"
      ],
      "execution_count": null,
      "outputs": [
        {
          "output_type": "execute_result",
          "data": {
            "text/plain": [
              "LogisticRegression()"
            ]
          },
          "metadata": {},
          "execution_count": 41
        }
      ]
    },
    {
      "cell_type": "markdown",
      "metadata": {
        "id": "M_keLGwQjzsu"
      },
      "source": [
        "### Testing our model \n",
        "\n",
        "How do we know if our 'model' is actually 'learning' anything? We need to test it on unseen data.\n",
        "\n",
        "Here we will be designating test inputs to check our model. Let's prepare the inputs and outputs from our testing dataset - try printing them out!"
      ]
    },
    {
      "cell_type": "code",
      "metadata": {
        "id": "WaBE6yg6kF2N"
      },
      "source": [
        "X_test = test_df[X]\n",
        "y_test = test_df[y]"
      ],
      "execution_count": null,
      "outputs": []
    },
    {
      "cell_type": "markdown",
      "metadata": {
        "id": "m7Ii-5ijkX8K"
      },
      "source": [
        "### Making predictions on our test set\n",
        "\n",
        "Next, we need to figure out what our line thinks the diagnosis is based on our data points\n",
        "\n",
        "**Exercise:** Fill in the appropriate input to this function and run the function below.\n",
        "\n",
        "`y_pred = logreg_model.predict(FILL_ME_IN)`"
      ]
    },
    {
      "cell_type": "code",
      "metadata": {
        "id": "_59Wk6q46XVq"
      },
      "source": [
        "## YOUR CODE HERE\n",
        "y_pred = logreg_model.predict(X_test) #not X_train because we are testing our model now\n",
        "## END CODE"
      ],
      "execution_count": null,
      "outputs": []
    },
    {
      "cell_type": "markdown",
      "metadata": {
        "id": "ensyfit5lP1U"
      },
      "source": [
        "Run the code below to visualize the results!"
      ]
    },
    {
      "cell_type": "code",
      "metadata": {
        "id": "GUSOLlz8lJu-",
        "colab": {
          "base_uri": "https://localhost:8080/",
          "height": 386
        },
        "outputId": "d645e2ea-88fd-44fa-cacf-54f1c2b47bbb"
      },
      "source": [
        "test_df['predicted'] = y_pred.squeeze()\n",
        "sns.catplot(x = X[0], y = 'diagnosis_cat', hue = 'predicted', data=test_df, order=['1 (malignant)', '0 (benign)'])"
      ],
      "execution_count": null,
      "outputs": [
        {
          "output_type": "execute_result",
          "data": {
            "text/plain": [
              "<seaborn.axisgrid.FacetGrid at 0x7fab2f0afb50>"
            ]
          },
          "metadata": {},
          "execution_count": 45
        },
        {
          "output_type": "display_data",
          "data": {
            "text/plain": [
              "<Figure size 415.375x360 with 1 Axes>"
            ],
            "image/png": "[encoded data removed]"
          },
          "metadata": {
            "needs_background": "light"
          }
        }
      ]
    },
    {
      "cell_type": "markdown",
      "metadata": {
        "id": "k2fjWtn2aAVp"
      },
      "source": [
        "How does it look compared to the predictions before?"
      ]
    },
    {
      "cell_type": "markdown",
      "metadata": {
        "id": "x_DJgPAHlaVQ"
      },
      "source": [
        "### Finally, let's evaluate the accuracy of our model."
      ]
    },
    {
      "cell_type": "code",
      "metadata": {
        "id": "BKz5TfiOTHDl",
        "colab": {
          "base_uri": "https://localhost:8080/"
        },
        "outputId": "34a49433-d90f-4c02-b3d5-dbeaf7626f81"
      },
      "source": [
        "accuracy = accuracy_score(y_test, y_pred)\n",
        "print(accuracy)"
      ],
      "execution_count": null,
      "outputs": [
        {
          "output_type": "stream",
          "name": "stdout",
          "text": [
            "0.868421052631579\n"
          ]
        }
      ]
    },
    {
      "cell_type": "markdown",
      "metadata": {
        "id": "eAi-LWA12aLh"
      },
      "source": [
        "## What is logistic regression doing? It's giving 'soft' predictions!\n"
      ]
    },
    {
      "cell_type": "code",
      "metadata": {
        "id": "V0tu5u7Y7CVL",
        "colab": {
          "base_uri": "https://localhost:8080/",
          "height": 297
        },
        "outputId": "7b3d4de3-0402-4d0a-b05d-08fb42cc095b"
      },
      "source": [
        "#@title Run this to plot logistic regression's soft probabilities { display-mode: \"form\" }\n",
        "\n",
        "# Let's visualize the probabilities for `X_test`\n",
        "y_prob = logreg_model.predict_proba(X_test)\n",
        "X_test_view = X_test[X].values.squeeze()\n",
        "plt.xlabel('radius_mean')\n",
        "plt.ylabel('Predicted Probability')\n",
        "sns.scatterplot(x = X_test_view, y = y_prob[:,1], hue = y_test, palette=['purple','green'])"
      ],
      "execution_count": null,
      "outputs": [
        {
          "output_type": "execute_result",
          "data": {
            "text/plain": [
              "<matplotlib.axes._subplots.AxesSubplot at 0x7fab2ee318d0>"
            ]
          },
          "metadata": {},
          "execution_count": 49
        },
        {
          "output_type": "display_data",
          "data": {
            "text/plain": [
              "<Figure size 432x288 with 1 Axes>"
            ],
            "image/png": "[encoded data removed]"
          },
          "metadata": {
            "needs_background": "light"
          }
        }
      ]
    },
    {
      "cell_type": "markdown",
      "metadata": {
        "id": "W2YecYWaN04j"
      },
      "source": [
        "The Y-axis is the  probability of being 'malignant' and the X-axis is the radius mean. The colors show the **true** diagnosis (this is different than previous graphs!)\n",
        "\n",
        "**Can you interpret or take a guess about what the graph above is saying?**"
      ]
    },
    {
      "cell_type": "markdown",
      "metadata": {
        "id": "PJ9Bn0ol9L-6"
      },
      "source": [
        "# Approach 4: Multiple Feature Logistic Regression \n",
        "\n",
        "Which features best predict the diagnosis?\n",
        "\n",
        "Now that we can use logistic regression to find the optimal classification boundary, let's try out other features to see how well they predict the diagnosis."
      ]
    },
    {
      "cell_type": "markdown",
      "metadata": {
        "id": "rdezGrsP9_YA"
      },
      "source": [
        "First let's print out one row of our table so we can see what other features we have available to us.\n"
      ]
    },
    {
      "cell_type": "code",
      "metadata": {
        "id": "SB0iDuJ79_JE",
        "colab": {
          "base_uri": "https://localhost:8080/",
          "height": 81
        },
        "outputId": "4608e1ae-d655-451f-a03b-300163cc170d"
      },
      "source": [
        "dataframe.head(1)"
      ],
      "execution_count": null,
      "outputs": [
        {
          "output_type": "execute_result",
          "data": {
            "text/plain": [
              "   diagnosis  perimeter_mean  radius_mean  texture_mean  area_mean  \\\n",
              "0          1           122.8        17.99         10.38     1001.0   \n",
              "\n",
              "   smoothness_mean  concavity_mean  symmetry_mean  diagnosis_cat  predicted  \n",
              "0           0.1184          0.3001         0.2419  1 (malignant)          1  "
            ],
            "text/html": [
              "\n",
              "  <div id=\"df-6c4ceacc-1103-4bcf-af99-895af104e7e7\">\n",
              "    <div class=\"colab-df-container\">\n",
              "      <div>\n",
              "<style scoped>\n",
              "    .dataframe tbody tr th:only-of-type {\n",
              "        vertical-align: middle;\n",
              "    }\n",
              "\n",
              "    .dataframe tbody tr th {\n",
              "        vertical-align: top;\n",
              "    }\n",
              "\n",
              "    .dataframe thead th {\n",
              "        text-align: right;\n",
              "    }\n",
              "</style>\n",
              "<table border=\"1\" class=\"dataframe\">\n",
              "  <thead>\n",
              "    <tr style=\"text-align: right;\">\n",
              "      <th></th>\n",
              "      <th>diagnosis</th>\n",
              "      <th>perimeter_mean</th>\n",
              "      <th>radius_mean</th>\n",
              "      <th>texture_mean</th>\n",
              "      <th>area_mean</th>\n",
              "      <th>smoothness_mean</th>\n",
              "      <th>concavity_mean</th>\n",
              "      <th>symmetry_mean</th>\n",
              "      <th>diagnosis_cat</th>\n",
              "      <th>predicted</th>\n",
              "    </tr>\n",
              "  </thead>\n",
              "  <tbody>\n",
              "    <tr>\n",
              "      <th>0</th>\n",
              "      <td>1</td>\n",
              "      <td>122.8</td>\n",
              "      <td>17.99</td>\n",
              "      <td>10.38</td>\n",
              "      <td>1001.0</td>\n",
              "      <td>0.1184</td>\n",
              "      <td>0.3001</td>\n",
              "      <td>0.2419</td>\n",
              "      <td>1 (malignant)</td>\n",
              "      <td>1</td>\n",
              "    </tr>\n",
              "  </tbody>\n",
              "</table>\n",
              "</div>\n",
              "      <button class=\"colab-df-convert\" onclick=\"convertToInteractive('df-6c4ceacc-1103-4bcf-af99-895af104e7e7')\"\n",
              "              title=\"Convert this dataframe to an interactive table.\"\n",
              "              style=\"display:none;\">\n",
              "        \n",
              "  <svg xmlns=\"http://www.w3.org/2000/svg\" height=\"24px\"viewBox=\"0 0 24 24\"\n",
              "       width=\"24px\">\n",
              "    <path d=\"M0 0h24v24H0V0z\" fill=\"none\"/>\n",
              "    <path d=\"M18.56 5.44l.94 2.06.94-2.06 2.06-.94-2.06-.94-.94-2.06-.94 2.06-2.06.94zm-11 1L8.5 8.5l.94-2.06 2.06-.94-2.06-.94L8.5 2.5l-.94 2.06-2.06.94zm10 10l.94 2.06.94-2.06 2.06-.94-2.06-.94-.94-2.06-.94 2.06-2.06.94z\"/><path d=\"M17.41 7.96l-1.37-1.37c-.4-.4-.92-.59-1.43-.59-.52 0-1.04.2-1.43.59L10.3 9.45l-7.72 7.72c-.78.78-.78 2.05 0 2.83L4 21.41c.39.39.9.59 1.41.59.51 0 1.02-.2 1.41-.59l7.78-7.78 2.81-2.81c.8-.78.8-2.07 0-2.86zM5.41 20L4 18.59l7.72-7.72 1.47 1.35L5.41 20z\"/>\n",
              "  </svg>\n",
              "      </button>\n",
              "      \n",
              "  <style>\n",
              "    .colab-df-container {\n",
              "      display:flex;\n",
              "      flex-wrap:wrap;\n",
              "      gap: 12px;\n",
              "    }\n",
              "\n",
              "    .colab-df-convert {\n",
              "      background-color: #E8F0FE;\n",
              "      border: none;\n",
              "      border-radius: 50%;\n",
              "      cursor: pointer;\n",
              "      display: none;\n",
              "      fill: #1967D2;\n",
              "      height: 32px;\n",
              "      padding: 0 0 0 0;\n",
              "      width: 32px;\n",
              "    }\n",
              "\n",
              "    .colab-df-convert:hover {\n",
              "      background-color: #E2EBFA;\n",
              "      box-shadow: 0px 1px 2px rgba(60, 64, 67, 0.3), 0px 1px 3px 1px rgba(60, 64, 67, 0.15);\n",
              "      fill: #174EA6;\n",
              "    }\n",
              "\n",
              "    [theme=dark] .colab-df-convert {\n",
              "      background-color: #3B4455;\n",
              "      fill: #D2E3FC;\n",
              "    }\n",
              "\n",
              "    [theme=dark] .colab-df-convert:hover {\n",
              "      background-color: #434B5C;\n",
              "      box-shadow: 0px 1px 3px 1px rgba(0, 0, 0, 0.15);\n",
              "      filter: drop-shadow(0px 1px 2px rgba(0, 0, 0, 0.3));\n",
              "      fill: #FFFFFF;\n",
              "    }\n",
              "  </style>\n",
              "\n",
              "      <script>\n",
              "        const buttonEl =\n",
              "          document.querySelector('#df-6c4ceacc-1103-4bcf-af99-895af104e7e7 button.colab-df-convert');\n",
              "        buttonEl.style.display =\n",
              "          google.colab.kernel.accessAllowed ? 'block' : 'none';\n",
              "\n",
              "        async function convertToInteractive(key) {\n",
              "          const element = document.querySelector('#df-6c4ceacc-1103-4bcf-af99-895af104e7e7');\n",
              "          const dataTable =\n",
              "            await google.colab.kernel.invokeFunction('convertToInteractive',\n",
              "                                                     [key], {});\n",
              "          if (!dataTable) return;\n",
              "\n",
              "          const docLinkHtml = 'Like what you see? Visit the ' +\n",
              "            '<a target=\"_blank\" href=https://colab.research.google.com/notebooks/data_table.ipynb>data table notebook</a>'\n",
              "            + ' to learn more about interactive tables.';\n",
              "          element.innerHTML = '';\n",
              "          dataTable['output_type'] = 'display_data';\n",
              "          await google.colab.output.renderOutput(dataTable, element);\n",
              "          const docLink = document.createElement('div');\n",
              "          docLink.innerHTML = docLinkHtml;\n",
              "          element.appendChild(docLink);\n",
              "        }\n",
              "      </script>\n",
              "    </div>\n",
              "  </div>\n",
              "  "
            ]
          },
          "metadata": {},
          "execution_count": 50
        }
      ]
    },
    {
      "cell_type": "markdown",
      "metadata": {
        "id": "0pTHDxLrEQZK"
      },
      "source": [
        "### Experimenting with Single-Variable Logistic Regression"
      ]
    },
    {
      "cell_type": "markdown",
      "metadata": {
        "id": "TNdHjSV5-E6J"
      },
      "source": [
        "First, let's practice what we've done already! Fill in the code below to prepare your X and y data, fit the model on the training data, and predict on the test data.\n",
        "\n",
        "**Exercise:** Once you have this code working, try replacing radius_mean with other features to see how well each feature predicts diagnosis!\n"
      ]
    },
    {
      "cell_type": "code",
      "metadata": {
        "id": "I-ccKkaw-ced",
        "colab": {
          "base_uri": "https://localhost:8080/"
        },
        "outputId": "e97e6fa0-00fc-49aa-986f-78d62eab3c3e"
      },
      "source": [
        "X = ['radius_mean'] #Try changing this later!\n",
        "y = 'diagnosis'\n",
        "\n",
        "# 1. Split data into train and test\n",
        "train_df, test_df = train_test_split(dataframe, test_size = 0.2, random_state = 1)\n",
        "\n",
        "# 2. Prepare your X_train, X_test, y_train, and y_test variables by extracting the appropriate columns:\n",
        "X_train = train_df[X]\n",
        "y_train = train_df[y]\n",
        "X_test = test_df[X]\n",
        "y_test = test_df[y]\n",
        "# 3. Initialize the model object\n",
        "logreg_model = linear_model.LogisticRegression()\n",
        "# 4. Fit the model to the training data\n",
        "logreg_model.fit(X_train, y_train)\n",
        "# 5. Use this trained model to predict on the test data\n",
        "y_pred = logreg_model.predict(X_test)\n",
        "# 6. Evaluate the accuracy by comparing to to the test labels and print out accuracy.\n",
        "accuracy = accuracy_score(y_test, y_pred)\n",
        "print(accuracy)"
      ],
      "execution_count": null,
      "outputs": [
        {
          "output_type": "stream",
          "name": "stdout",
          "text": [
            "0.868421052631579\n"
          ]
        }
      ]
    },
    {
      "cell_type": "markdown",
      "metadata": {
        "id": "RmmlzBQ0_BUU"
      },
      "source": [
        "**Discussion**: Which features best predicted diagnosis? What does this teach us about breast cancer?"
      ]
    },
    {
      "cell_type": "markdown",
      "metadata": {
        "id": "n7_d9NGB-WQm"
      },
      "source": [
        "## Can we use multiple features together to do even better?\n",
        "So far, we've just been using `radius_mean` to make predictions. But there's lots of other potentially important features that we could be using!\n",
        "\n",
        "Let's take a look again:"
      ]
    },
    {
      "cell_type": "code",
      "metadata": {
        "id": "PbPQuFWE_btz"
      },
      "source": [
        "dataframe.head(1)"
      ],
      "execution_count": null,
      "outputs": []
    },
    {
      "cell_type": "markdown",
      "metadata": {
        "id": "YsqeWkykEK01"
      },
      "source": [
        "### Logistic Regression with Multiple Features"
      ]
    },
    {
      "cell_type": "markdown",
      "metadata": {
        "id": "33PSuuffA-zI"
      },
      "source": [
        "Now, let's try re-fitting the model using **your choice of multiple features.**\n",
        "\n",
        "Just add more features to the list: for example, to use two features you could have\n",
        "\n",
        "`multi_X = ['radius_mean','area_mean']`"
      ]
    },
    {
      "cell_type": "code",
      "metadata": {
        "id": "gsM-CLG6A2l8",
        "colab": {
          "base_uri": "https://localhost:8080/"
        },
        "outputId": "8706fef2-1abb-4cd5-80ca-c4defbe1f9f7"
      },
      "source": [
        "multi_X = ['perimeter_mean'] #code wrong somewhere figure out later\n",
        "y = 'diagnosis'\n",
        "\n",
        "# 1. Split data into train and test\n",
        "multi_train_df, multi_test_df = train_test_split(dataframe, test_size = 0.2, random_state = 1)\n",
        "\n",
        "# 2. Prepare your X_train, X_test, y_train, and y_test variables by extracting the appropriate columns:\n",
        "multi_X_train = multi_train_df[multi_X]\n",
        "multi_y_train = multi_train_df[y]\n",
        "multi_X_test = multi_test_df[multi_X]\n",
        "multi_y_test = multi_test_df[y]\n",
        "# 3. Initialize the model object\n",
        "logreg_model = linear_model.LogisticRegression()\n",
        "# 4. Fit the model to the training data\n",
        "logreg_model.fit(multi_X_train, multi_y_train)\n",
        "# 5. Use this trained model to predict on the test data\n",
        "multi_y_pred = logreg_model.predict(multi_X_test)\n",
        "# 6. Evaluate the accuracy by comparing to to the test labels and print out accuracy.\n",
        "accuracy = accuracy_score(multi_y_test, multi_y_pred)\n",
        "print(accuracy)"
      ],
      "execution_count": null,
      "outputs": [
        {
          "output_type": "stream",
          "name": "stdout",
          "text": [
            "0.868421052631579\n"
          ]
        }
      ]
    },
    {
      "cell_type": "markdown",
      "metadata": {
        "id": "TUxvFalP_kcG"
      },
      "source": [
        "Logistic Regression can learn an optimal classification boundary by using multiple features together, which can improve its prediction accuracy even more!"
      ]
    },
    {
      "cell_type": "markdown",
      "metadata": {
        "id": "DJdMjjFHMA22"
      },
      "source": [
        "# Bonus Discussion: What makes a separation good?\n",
        "\n",
        "We know our overall accuracy, so we know how many errors we make overall.\n",
        "\n",
        "But errors come in two kinds:\n",
        "\n",
        "**False positives:** The model predicts that a sample is malignant (positive), but it's actually benign.\n",
        "\n",
        "**False negatives:** The model predicts that a sample is benign (negative), but it's actually malignant.\n",
        "\n",
        "**Discuss:** In medical diagnoses, what are the dangers of each kind of mistake? What kind is worse? Can you think of an application where the opposite is true?\n",
        "\n",
        "A key insight is that there's a trade-off between the two kinds of errors! For example, how could you make a classifier that's guaranteed to have no false negatives? Would that be a good classifier?\n",
        "\n",
        "We have to find an acceptable balance!"
      ]
    },
    {
      "cell_type": "markdown",
      "metadata": {
        "id": "s_cmSK_pbjvP"
      },
      "source": [
        "###Confusion Matrices\n",
        "Next, let's evaluate the performance of our model quantitatively. We can visualize statistics on the number of correct vs. incorrect predictions using a confusion matrix that shows the following: \n",
        "\n",
        "![Confusion Matrix](https://miro.medium.com/max/860/1*7EcPtd8DXu1ObPnZSukIdQ.png)\n",
        "\n",
        "where the terms mean:\n",
        "\n",
        "* **TP (True Positive)** = The model predicted positive (malignant in our case, since malignant has a label of 1) and it’s true.\n",
        "* **TN (True Negative)** = The model predicted negative (benign in our case, since benign has a label of 0) and it’s true. \n",
        "* **FP (False Positive)** = The model predicted positive and it’s false.\n",
        "* **FN (False Negative)** = The model predicted negative and it’s false."
      ]
    },
    {
      "cell_type": "code",
      "metadata": {
        "id": "EcfsPpup9ljK",
        "colab": {
          "base_uri": "https://localhost:8080/",
          "height": 342
        },
        "outputId": "b59f70bb-d3dc-4558-8234-b928d9168705"
      },
      "source": [
        "#@title Run this code to create a confusion matrix. { display-mode: \"form\" }\n",
        "#@markdown If you are curious how it works you may double-click to inspect the code.\n",
        "\n",
        "# Import the metrics class\n",
        "from sklearn import metrics\n",
        "\n",
        "# Create the Confusion Matrix\n",
        "# y_test = dataframe['diagnosis']\n",
        "cnf_matrix = metrics.confusion_matrix(y_test, y_pred)\n",
        "\n",
        "# Visualizing the Confusion Matrix\n",
        "class_names = [0,1] # Our diagnosis categories\n",
        "\n",
        "fig, ax = plt.subplots()\n",
        "# Setting up and visualizing the plot (do not worry about the code below!)\n",
        "tick_marks = np.arange(len(class_names)) \n",
        "plt.xticks(tick_marks, class_names)\n",
        "plt.yticks(tick_marks, class_names)\n",
        "sns.heatmap(pd.DataFrame(cnf_matrix), annot=True, cmap=\"YlGnBu\" ,fmt='g') # Creating heatmap\n",
        "ax.xaxis.set_label_position(\"top\")\n",
        "plt.tight_layout()\n",
        "plt.title('Confusion matrix', y = 1.1)\n",
        "plt.ylabel('Actual diagnosis')\n",
        "plt.xlabel('Predicted diagnosis')"
      ],
      "execution_count": null,
      "outputs": [
        {
          "output_type": "execute_result",
          "data": {
            "text/plain": [
              "Text(0.5, 257.44, 'Predicted diagnosis')"
            ]
          },
          "metadata": {},
          "execution_count": 59
        },
        {
          "output_type": "display_data",
          "data": {
            "text/plain": [
              "<Figure size 432x288 with 2 Axes>"
            ],
            "image/png": "[encoded data removed]"
          },
          "metadata": {
            "needs_background": "light"
          }
        }
      ]
    },
    {
      "cell_type": "code",
      "source": [
        "#@title Take a look at the confusion matrix and answer the following questions:\n",
        "\n",
        "#@markdown What are the values in the top left (0, 0)?\n",
        "top_left = \"Choose an Answer\" #@param [\"True Positives\", \"True Negatives\", \"False Positives\", \"False Negatives\", \"Choose an Answer\"] \n",
        "\n",
        "#@markdown What are the values in the bottom right (1, 1)?\n",
        "bottom_right = \"Choose an Answer\" #@param [\"True Positives\", \"True Negatives\", \"False Positives\", \"False Negatives\", \"Choose an Answer\"] \n",
        "\n",
        "#@markdown What are the values in the top right (0, 1)?\n",
        "top_right = \"Choose an Answer\" #@param [\"True Positives\", \"True Negatives\", \"False Positives\", \"False Negatives\", \"Choose an Answer\"] \n",
        "\n",
        "#@markdown What are the values in the bottom left (1, 0)?\n",
        "bottom_left = \"Choose an Answer\" #@param [\"True Positives\", \"True Negatives\", \"False Positives\", \"False Negatives\", \"Choose an Answer\"] \n",
        "\n",
        "if top_left == \"True Negatives\" and bottom_right == \"True Positives\":\n",
        "  print(\"Correct! Our results are True if our model is correct!\")\n",
        "else:\n",
        "  print(\"One or both of our (0, 0) and (1, 1) interpretations is incorrect. Try again!\")\n",
        "\n",
        "if top_right == \"False Positives\":\n",
        "  print(\"Correct! A false positive is when our model predicts that a sample is malignant when it's actually benign.\")\n",
        "else:\n",
        "  print(\"That's not quite what (0, 1) values are. Try again!\")\n",
        "\n",
        "if bottom_left == \"False Negatives\":\n",
        "  print(\"Correct! A false negative is when our model predicts that a sample is benign when it's actually malignant.\")\n",
        "else:\n",
        "  print(\"That's not quite what (1, 0) values are. Try again!\")"
      ],
      "metadata": {
        "cellView": "form",
        "id": "CIvF8LQklcGp"
      },
      "execution_count": null,
      "outputs": []
    },
    {
      "cell_type": "markdown",
      "metadata": {
        "id": "wzzrWDT_cxvF"
      },
      "source": [
        "**Discuss:**\n",
        "- How many `True` values did our model predict?\n",
        "- How many `False` values?\n",
        "- Is our model a good classifier? Why or why not?"
      ]
    },
    {
      "cell_type": "markdown",
      "metadata": {
        "id": "fu4_0P0BfjYF"
      },
      "source": [
        "###Optional Challenge Exercise: Choosing a Metric\n",
        "\n",
        "Depending on the situation, we might measure success in different ways. For example, we might use:\n",
        "\n",
        "**Accuracy:** What portion of our predictions are right?\n",
        "\n",
        "**Precision:** What portion of our positive predictions are actually positive?\n",
        "\n",
        "**Recall:** What portion of the actual positives did we identify?\n",
        "\n",
        "**Discuss: Which metric is most important for cancer diagnosis?**\n",
        "\n",
        "To calculate any of these, we can use the numbers from our confusion matrix:"
      ]
    },
    {
      "cell_type": "code",
      "metadata": {
        "id": "vVejXKvcfitm",
        "colab": {
          "base_uri": "https://localhost:8080/"
        },
        "outputId": "dc48e026-8ac6-4bcc-8b28-f323608a8d85"
      },
      "source": [
        "print (cnf_matrix)\n",
        "(tn, fp), (fn, tp) = cnf_matrix\n",
        "print (\"TN, FP, FN, TP:\", tn, fp, fn, tp)"
      ],
      "execution_count": null,
      "outputs": [
        {
          "output_type": "stream",
          "name": "stdout",
          "text": [
            "[[69  3]\n",
            " [12 30]]\n",
            "TN, FP, FN, TP: 69 3 12 30\n"
          ]
        }
      ]
    },
    {
      "cell_type": "markdown",
      "metadata": {
        "id": "p140EnBtxL1F"
      },
      "source": [
        "Now, calculate your model's performance by your chosen metric! You can use the [table on Wikipedia ](https://en.wikipedia.org/wiki/Confusion_matrix) to choose a metric and find a formula. How does it change your view of your model?\n"
      ]
    },
    {
      "cell_type": "code",
      "metadata": {
        "id": "LuZPSa-Jxgfs",
        "colab": {
          "base_uri": "https://localhost:8080/"
        },
        "outputId": "6d8b0b83-07a0-45ba-fd55-a5322ca8360d"
      },
      "source": [
        "#YOUR CODE HERE\n",
        "accuracy = (tp + tn)/(tn + fp + fn + tp)\n",
        "precision = tp/ (tp + fp)\n",
        "recall = tp / (tp + fn)\n",
        "print(accuracy, precision, recall)"
      ],
      "execution_count": null,
      "outputs": [
        {
          "output_type": "stream",
          "name": "stdout",
          "text": [
            "0.868421052631579 0.9090909090909091 0.7142857142857143\n"
          ]
        }
      ]
    },
    {
      "cell_type": "markdown",
      "metadata": {
        "id": "M1aukjaVKHxx"
      },
      "source": [
        "**Congratulations!** You've successfully trained and evaluated a logistic regression model for diagnosing cancer."
      ]
    },
    {
      "cell_type": "markdown",
      "metadata": {
        "id": "bCP5dB9dvJ1x"
      },
      "source": [
        "#Optional: Decision Trees Walkthrough\n",
        "\n",
        "Finally, let's try a different classification model: decision trees! Recall that with decision trees, we choose features that create the best splits of our dataset (separates it into classes as best it can at that time)."
      ]
    },
    {
      "cell_type": "code",
      "metadata": {
        "id": "VbpWRKvyTedY",
        "colab": {
          "base_uri": "https://localhost:8080/"
        },
        "outputId": "84ba2a8e-e3ae-45b9-c7c1-44a5d80480e1"
      },
      "source": [
        "#@title Create the model { display-mode: \"both\" }\n",
        "from sklearn import tree\n",
        "\n",
        "# We'll first specify what model we want, in this case a decision tree\n",
        "class_dt = tree.DecisionTreeClassifier(max_depth=3)\n",
        "\n",
        "# We use our previous `X_train` and `y_train` sets to build the model\n",
        "class_dt.fit(multi_X_train, y_train)"
      ],
      "execution_count": null,
      "outputs": [
        {
          "output_type": "execute_result",
          "data": {
            "text/plain": [
              "DecisionTreeClassifier(max_depth=3)"
            ]
          },
          "metadata": {},
          "execution_count": 69
        }
      ]
    },
    {
      "cell_type": "code",
      "metadata": {
        "id": "2PpoiLD77HkK",
        "colab": {
          "base_uri": "https://localhost:8080/",
          "height": 726
        },
        "outputId": "49f32e5a-83af-4a6e-f399-380a72ab7f3a"
      },
      "source": [
        "#@title Visualize and interpret the tree\n",
        "plt.figure(figsize=(13,8))  # set plot size\n",
        "tree.plot_tree(class_dt, fontsize=10) "
      ],
      "execution_count": null,
      "outputs": [
        {
          "output_type": "execute_result",
          "data": {
            "text/plain": [
              "[Text(0.5, 0.875, 'X[0] <= 98.755\\ngini = 0.468\\nsamples = 455\\nvalue = [285, 170]'),\n",
              " Text(0.25, 0.625, 'X[0] <= 89.995\\ngini = 0.213\\nsamples = 314\\nvalue = [276, 38]'),\n",
              " Text(0.125, 0.375, 'X[0] <= 85.25\\ngini = 0.108\\nsamples = 263\\nvalue = [248, 15]'),\n",
              " Text(0.0625, 0.125, 'gini = 0.046\\nsamples = 214\\nvalue = [209, 5]'),\n",
              " Text(0.1875, 0.125, 'gini = 0.325\\nsamples = 49\\nvalue = [39, 10]'),\n",
              " Text(0.375, 0.375, 'X[0] <= 95.66\\ngini = 0.495\\nsamples = 51\\nvalue = [28, 23]'),\n",
              " Text(0.3125, 0.125, 'gini = 0.498\\nsamples = 30\\nvalue = [14, 16]'),\n",
              " Text(0.4375, 0.125, 'gini = 0.444\\nsamples = 21\\nvalue = [14, 7]'),\n",
              " Text(0.75, 0.625, 'X[0] <= 108.85\\ngini = 0.12\\nsamples = 141\\nvalue = [9, 132]'),\n",
              " Text(0.625, 0.375, 'X[0] <= 108.35\\ngini = 0.339\\nsamples = 37\\nvalue = [8, 29]'),\n",
              " Text(0.5625, 0.125, 'gini = 0.313\\nsamples = 36\\nvalue = [7, 29]'),\n",
              " Text(0.6875, 0.125, 'gini = 0.0\\nsamples = 1\\nvalue = [1, 0]'),\n",
              " Text(0.875, 0.375, 'X[0] <= 114.85\\ngini = 0.019\\nsamples = 104\\nvalue = [1, 103]'),\n",
              " Text(0.8125, 0.125, 'gini = 0.111\\nsamples = 17\\nvalue = [1, 16]'),\n",
              " Text(0.9375, 0.125, 'gini = 0.0\\nsamples = 87\\nvalue = [0, 87]')]"
            ]
          },
          "metadata": {},
          "execution_count": 70
        },
        {
          "output_type": "display_data",
          "data": {
            "text/plain": [
              "<Figure size 936x576 with 1 Axes>"
            ],
            "image/png": "[encoded data removed]"
          },
          "metadata": {
            "needs_background": "light"
          }
        }
      ]
    },
    {
      "cell_type": "code",
      "metadata": {
        "id": "IKUiw9KdUQBs"
      },
      "source": [
        "#@title Find the predictions based on the model { display-mode: \"both\" }\n",
        "# now let's see how it performed!\n",
        "multi_y_pred = class_dt.predict(multi_X_test)"
      ],
      "execution_count": null,
      "outputs": []
    },
    {
      "cell_type": "code",
      "metadata": {
        "id": "FcJmeOmFUaHP",
        "colab": {
          "base_uri": "https://localhost:8080/"
        },
        "outputId": "6a5e0f62-beab-411a-ed36-af908136f5ac"
      },
      "source": [
        "#@title Calculate model performance { display-mode: \"both\" }\n",
        "print(\"Accuracy: \", metrics.accuracy_score(y_test, multi_y_pred))\n",
        "print(\"Precision: \", metrics.precision_score(y_test, multi_y_pred))\n",
        "print(\"Recall: \", metrics.recall_score(y_test, multi_y_pred))"
      ],
      "execution_count": null,
      "outputs": [
        {
          "output_type": "stream",
          "name": "stdout",
          "text": [
            "Accuracy:  0.8157894736842105\n",
            "Precision:  0.7692307692307693\n",
            "Recall:  0.7142857142857143\n"
          ]
        }
      ]
    },
    {
      "cell_type": "markdown",
      "metadata": {
        "id": "E73C1cXI7e_N"
      },
      "source": [
        "**Question: What features are included in this classifier? How might you interpret this tree? Did this do better than the logistic regression?**"
      ]
    },
    {
      "cell_type": "markdown",
      "metadata": {
        "id": "2_xQGU1B03sz"
      },
      "source": [
        "# Advanced (Optional): Choosing a Classifier\n",
        "We've studied two common classifiers, but many more are available. You can read about some of them [here](https://stackabuse.com/overview-of-classification-methods-in-python-with-scikit-learn/).\n",
        "\n",
        "Let's try to choose the overall best classifier for this dataset. Fill in the code below to:\n",
        "*   Use a for loop to train and evaluate each classifer in the list on our dataset.\n",
        "*   Calculate the precision, recall, and accuracy on the test set for each classifier, and store the results in a data frame so it's easy to analyze.\n",
        "*   Create plots to show the relationships between precision, accuracy, and recall and help you choose the \"best\" classifier.\n",
        "\n",
        "Then experiment with changing the hyperparameters (options) of each classifier - can you get even better results?"
      ]
    },
    {
      "cell_type": "code",
      "metadata": {
        "id": "hxYta-NO1-vV"
      },
      "source": [
        "#@title Run this to import classifiers\n",
        "import numpy as np\n",
        "import matplotlib.pyplot as plt\n",
        "from matplotlib.colors import ListedColormap\n",
        "from sklearn.model_selection import train_test_split\n",
        "from sklearn.preprocessing import StandardScaler\n",
        "from sklearn.datasets import make_moons, make_circles, make_classification\n",
        "from sklearn.neural_network import MLPClassifier\n",
        "from sklearn.neighbors import KNeighborsClassifier\n",
        "from sklearn.svm import SVC\n",
        "from sklearn.gaussian_process import GaussianProcessClassifier\n",
        "from sklearn.gaussian_process.kernels import RBF\n",
        "from sklearn.tree import DecisionTreeClassifier\n",
        "from sklearn.ensemble import RandomForestClassifier, AdaBoostClassifier\n",
        "from sklearn.naive_bayes import GaussianNB\n",
        "from sklearn.discriminant_analysis import QuadraticDiscriminantAnalysis\n"
      ],
      "execution_count": null,
      "outputs": []
    },
    {
      "cell_type": "code",
      "metadata": {
        "id": "oNnm1_--unHR",
        "colab": {
          "base_uri": "https://localhost:8080/"
        },
        "outputId": "b72436c3-b32f-453a-fc30-ee4bed521643"
      },
      "source": [
        "#Once you've got your code working, try changing the hyperparameters of the classifiers\n",
        "#to see if you can get even better results. \n",
        "#Can you find out what the hyperparameters mean?\n",
        "classifiers = [\n",
        "    KNeighborsClassifier(3),\n",
        "    SVC(kernel=\"linear\", C=0.025),\n",
        "    GaussianProcessClassifier(1.0 * RBF(1.0)),\n",
        "    DecisionTreeClassifier(max_depth=5),\n",
        "    RandomForestClassifier(max_depth=5, n_estimators=10, max_features=1),\n",
        "    MLPClassifier(alpha=1, max_iter=1000),\n",
        "    AdaBoostClassifier(),\n",
        "    GaussianNB(),\n",
        "    QuadraticDiscriminantAnalysis()] \n",
        "\n",
        "\n",
        "#Use a for loop to train and test each classifier, and print the results\n",
        "#You might find the code above useful, as well as https://towardsdatascience.com/a-python-beginners-look-at-loc-part-2-bddef7dfa7f2 .\n",
        "\n",
        "### YOUR CODE HERE ###\n",
        "for classifier in classifiers:\n",
        "  print(str(classifier) + '\\n')\n",
        "  classifier.fit(X_train, y_train)\n",
        "  y_pred = classifier.predict(X_test)\n",
        "  accuracy = metrics.accuracy_score(y_test, y_pred)\n",
        "  precision = metrics.precision_score(y_test, y_pred)\n",
        "  recall = metrics.recall_score(y_test, y_pred)\n",
        "  print(accuracy, precision, recall)\n",
        "\n",
        "\n",
        "\n",
        "### END CODE ###\n",
        "\n",
        "#TODO: Using pyplot, show the relationships between precision, recall, and/or accuracy.\n",
        "#Tutorial here: https://matplotlib.org/tutorials/introductory/pyplot.html\n"
      ],
      "execution_count": null,
      "outputs": [
        {
          "output_type": "stream",
          "name": "stdout",
          "text": [
            "KNeighborsClassifier(n_neighbors=3)\n",
            "\n",
            "0.8508771929824561 0.9310344827586207 0.6428571428571429\n",
            "SVC(C=0.025, kernel='linear')\n",
            "\n",
            "0.868421052631579 0.9090909090909091 0.7142857142857143\n",
            "GaussianProcessClassifier(kernel=1**2 * RBF(length_scale=1))\n",
            "\n",
            "0.868421052631579 0.9090909090909091 0.7142857142857143\n",
            "DecisionTreeClassifier(max_depth=5)\n",
            "\n",
            "0.8508771929824561 0.8378378378378378 0.7380952380952381\n",
            "RandomForestClassifier(max_depth=5, max_features=1, n_estimators=10)\n",
            "\n",
            "0.8771929824561403 0.9666666666666667 0.6904761904761905\n",
            "MLPClassifier(alpha=1, max_iter=1000)\n",
            "\n",
            "0.8508771929824561 0.9310344827586207 0.6428571428571429\n",
            "AdaBoostClassifier()\n",
            "\n",
            "0.8070175438596491 0.7777777777777778 0.6666666666666666\n",
            "GaussianNB()\n",
            "\n",
            "0.868421052631579 1.0 0.6428571428571429\n",
            "QuadraticDiscriminantAnalysis()\n",
            "\n",
            "0.868421052631579 1.0 0.6428571428571429\n"
          ]
        }
      ]
    },
    {
      "cell_type": "markdown",
      "metadata": {
        "id": "4Lr8SaCT2scN"
      },
      "source": [
        "**Think about:**\n",
        "*   Which classifier would you choose?\n",
        "*   What are the relationships among precision, recall, and accuracy? For this dataset, which is most important?\n",
        "*   Can you find more successful hyperparameters for each classifer?\n",
        "\n",
        "Your experiments will help you find a classifier that works very well on our test set. However, you're running a risk by doing so much manual fine-tuning: you might end up \"overfitting\" (on a more meta level) by choosing a classifier that works well on your test set, but might not work well on other data. \n",
        "\n",
        "That's why most machine learning projects actually use [*three* datasets](https://towardsdatascience.com/train-validation-and-test-sets-72cb40cba9e7): a training set that we use to train each candidate model; a validation set that we use to evaluate each candidate model and choose the best one; and finally, a test set which we use only once, to report the overall performance of our project. \n",
        "\n",
        "\n"
      ]
    }
  ]
}
